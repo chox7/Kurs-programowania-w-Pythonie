{
 "cells": [
  {
   "cell_type": "markdown",
   "id": "615a1bb013aedac3",
   "metadata": {},
   "source": [
    "# Materiały do kursu Pythona\n",
    "\n",
    "***Motto: Python jest inny***"
   ]
  },
  {
   "cell_type": "markdown",
   "id": "27e2e1bed8018058",
   "metadata": {},
   "source": [
    "## Komentarze\n",
    "\n",
    "W każdym (prawie?) języku programowania można wpisywać komentarze. W Pythonie oczywiście też można. Wpisuje się je, zaczynając znakiem \\#. Komentarzem są wszystkie znaki od \\# (włącznie) aż do końca wiersza.\n",
    "\n"
   ]
  },
  {
   "cell_type": "code",
   "execution_count": 1,
   "id": "64e017ccec5d4c85",
   "metadata": {},
   "outputs": [],
   "source": [
    "# To jest komentarz!\n",
    "# A to jest kolejny komentarz (kontynuacja poprzedniego)."
   ]
  },
  {
   "cell_type": "markdown",
   "id": "813348b5d59fbc35",
   "metadata": {},
   "source": [
    "Komentarz nie musi się zaczynać od początku wiersza. Może następować w wierszu po kodzie Pythonowym (bardzo często pisze się takie komentarze)."
   ]
  },
  {
   "cell_type": "code",
   "execution_count": 2,
   "id": "9690352a896f3de4",
   "metadata": {},
   "outputs": [
    {
     "data": {
      "text/plain": [
       "3"
      ]
     },
     "execution_count": 2,
     "metadata": {},
     "output_type": "execute_result"
    }
   ],
   "source": [
    "1+2    # To w zasadzie jasne, ale na wszelki wypadek: wartością tego wyrażenia jest 3. (To jest tylko przykład składni komentarzy w Pythonie ani kod w tym wierszu ani komentarz nie stanowią wzoru do naśladowania)."
   ]
  },
  {
   "cell_type": "markdown",
   "id": "44f397d233f7386f",
   "metadata": {},
   "source": [
    "## Technikalia\n",
    "* Znak \\# będący częścią literału tekstowego nie zaczyna komentarza.\n",
    "* Komentarz o specjalnej formie zapisany w pierwszym (lub w drugim, o ile pierwszy był komentarzem) wierszu pliku oznacza kodowanie w jakim zapisano plik. Nie warto z tego korzystać, bo (od Pythona 3) domyślnym kodowaniem jest UTF-8 (czyli *to* kodowanie). Python akceptuje także BOM na początku pliku z programem."
   ]
  },
  {
   "cell_type": "markdown",
   "id": "629504680451617c",
   "metadata": {},
   "source": [
    "# Literały\n",
    "Często opis języka programowania zaczyna się od literałów. W zasadzie robimy tu tak samo. (Mały komentarz: jednak zaczęliśmy od komentarzy).\n",
    "\n",
    "Co to są literały? Wartości zapisane bezpośrednio (literalnie) w kodzie programu. W Pythonie mamy literały tekstowe i liczbowe (liczne)[^1].\n",
    "\n",
    "Zwróćmy uwagę, że nie ma tu literałów znakowych. Ani logicznych, ani wartości None:\n",
    "* Typu znakowego nie ma w Pythonie (tak, to dziwne).\n",
    "* *True* i *False* (zwróćmy uwagę, że pisane z wielkiej litery) to słowa kluczowe, ich użycie daje wartości typu logicznego (prawda i fałsz).\n",
    "* *None* to słowo kluczowe dające wartość-zaślepkę (analogiczną do null w Javie).\n",
    "\n",
    "[^1]: Kwestia (nie)bycia literałem jest w Pythonie dość subtelna, wielu autorów za literały uznaje słowa kluczowe None, True i False (opisane w tym podrozdziale) oraz wyrażenia reprezentujące kolekcje (będą omawiane później).   "
   ]
  },
  {
   "cell_type": "code",
   "execution_count": 3,
   "id": "72c8a72ce21782f6",
   "metadata": {},
   "outputs": [
    {
     "data": {
      "text/plain": [
       "(True, False, None)"
      ]
     },
     "execution_count": 3,
     "metadata": {},
     "output_type": "execute_result"
    }
   ],
   "source": [
    "True, False, None"
   ]
  },
  {
   "cell_type": "markdown",
   "id": "ed777547e5b33e65",
   "metadata": {},
   "source": [
    "# Literały tekstowe\n",
    "Sprawdźmy jak je zapisywać: W cudzysłowach? A może w apostrofach? A może w parach cudzysłowów/apostrofów? Trójkach? Czwórkach? Spróbujmy tych ośmiu możliwości z tekstem *Python*."
   ]
  },
  {
   "cell_type": "code",
   "execution_count": 4,
   "id": "54887eb6ccba8a53",
   "metadata": {},
   "outputs": [
    {
     "data": {
      "text/plain": [
       "'Python'"
      ]
     },
     "execution_count": 4,
     "metadata": {},
     "output_type": "execute_result"
    }
   ],
   "source": [
    "'Python'\n",
    "\"Python\"\n",
    "#''Python''\n",
    "#\"\"Python\"\"\n",
    "'''Python'''\n",
    "\"\"\"Python\"\"\"\n",
    "# ''''Python''''\n",
    "#\"\"\"\"Python\"\"\"\""
   ]
  },
  {
   "cell_type": "markdown",
   "id": "43406ba0f7a05a8a",
   "metadata": {},
   "source": [
    "Skoro mamy różne notacje, to sprawdźmy, czy oznaczają one te same rzeczy. W Pythonie do testowania równości napisów służy operator porównywania, o znanej nam z C czy Javy postaci: ==. Jest to ogólny operator porównywania, nie tylko napisów (np. można nim porównywać liczby). Sprawdź, czy trzy odkryte przez Ciebie dozwolone formy zapisania napisu *Python* są sobie równe.\n",
    "\n",
    "Przypomnienie, na wszelki wypadek: \n",
    "* Czy w C operator == zastosowany do napisów char* da dobry wynik? Dlaczego?\n",
    "* Czy w Javie operator == zastosowany do napisów da dobry wynik? Dlaczego?"
   ]
  },
  {
   "cell_type": "code",
   "execution_count": 5,
   "id": "4357d830d71bd64d",
   "metadata": {},
   "outputs": [
    {
     "data": {
      "text/plain": [
       "True"
      ]
     },
     "execution_count": 5,
     "metadata": {},
     "output_type": "execute_result"
    }
   ],
   "source": [
    "'Python' == \"Python\""
   ]
  },
  {
   "cell_type": "code",
   "execution_count": 6,
   "id": "b8f81a96075c3126",
   "metadata": {},
   "outputs": [
    {
     "data": {
      "text/plain": [
       "True"
      ]
     },
     "execution_count": 6,
     "metadata": {},
     "output_type": "execute_result"
    }
   ],
   "source": [
    "\"Python\" == \"\"\"Python\"\"\""
   ]
  },
  {
   "cell_type": "code",
   "execution_count": 13,
   "id": "fb5a8dbc",
   "metadata": {},
   "outputs": [
    {
     "data": {
      "text/plain": [
       "True"
      ]
     },
     "execution_count": 13,
     "metadata": {},
     "output_type": "execute_result"
    }
   ],
   "source": [
    "a = 'Ala ma kota'\n",
    "b = 'Ala'\n",
    "b = b + ' ma kota'\n",
    "a == b"
   ]
  },
  {
   "cell_type": "markdown",
   "id": "bfce89634661fa53",
   "metadata": {},
   "source": [
    "To czemu są trzy postaci? Zapisz w Pythonie napisy o kolejno następującej treści (numery nie są częściami tych napisów):\n",
    "1) Moodle'a\n",
    "2) Powiedziała \"Natychmiast zacznij programować w Pythonie!\"\n",
    "3) To pierwszy wiersz \\\n",
    "   długiego napisu. "
   ]
  },
  {
   "cell_type": "code",
   "execution_count": 7,
   "id": "df071a18e622465c",
   "metadata": {},
   "outputs": [
    {
     "data": {
      "text/plain": [
       "\"Moodle'a\""
      ]
     },
     "execution_count": 7,
     "metadata": {},
     "output_type": "execute_result"
    }
   ],
   "source": [
    "\"Moodle'a\""
   ]
  },
  {
   "cell_type": "code",
   "execution_count": 8,
   "id": "84f52bb9b95c0728",
   "metadata": {},
   "outputs": [
    {
     "data": {
      "text/plain": [
       "'Powiedziała \"Natychmiast zacznij programować w Pythonie!\"'"
      ]
     },
     "execution_count": 8,
     "metadata": {},
     "output_type": "execute_result"
    }
   ],
   "source": [
    "'Powiedziała \"Natychmiast zacznij programować w Pythonie!\"'"
   ]
  },
  {
   "cell_type": "code",
   "execution_count": 9,
   "id": "407b2bdea8d7f4ed",
   "metadata": {},
   "outputs": [
    {
     "data": {
      "text/plain": [
       "'To pierwszy wiersz\\n   długiego napisu.'"
      ]
     },
     "execution_count": 9,
     "metadata": {},
     "output_type": "execute_result"
    }
   ],
   "source": [
    "\"\"\"To pierwszy wiersz\n",
    "   długiego napisu.\"\"\""
   ]
  },
  {
   "cell_type": "markdown",
   "id": "9adff6fba09766e4",
   "metadata": {},
   "source": [
    "Jak widać te cztery różne sposoby zapisu literałów tekstowych mają sens i są przydatne. Nie ma żadnej różnicy pomiędzy literałami ujętymi w apostrofy i ujętymi w cudzysłowy. Literały ujęte w trójki cudzysłowów lub trójki apostrofów mogą być wielowierszowe (w przeciwieństwie do zwykłych literałów). Poznamy jeszcze specjalne zastosowanie wielowierszowych literałów tekstowych.\n",
    "\n",
    "\n",
    "Uwaga: w Pythonie nie ma osobnych wartości typu znakowego. Znaki to napisy długości 1."
   ]
  },
  {
   "cell_type": "markdown",
   "id": "f7cd70dff48c22e3",
   "metadata": {},
   "source": [
    "Do liczenia długości napisów (i - co ważne i miłe - nie tylko) służy funkcja *len*. Policz za jej pomocą długość nazwy Twojego ulubionego języka programowania (na wszelki wypadek: powinno wyjść 6)."
   ]
  },
  {
   "cell_type": "code",
   "execution_count": 10,
   "id": "92b575e7951a1183",
   "metadata": {},
   "outputs": [
    {
     "data": {
      "text/plain": [
       "6"
      ]
     },
     "execution_count": 10,
     "metadata": {},
     "output_type": "execute_result"
    }
   ],
   "source": [
    "len('Python')"
   ]
  },
  {
   "cell_type": "markdown",
   "id": "e860312462e0999d",
   "metadata": {},
   "source": [
    "Tak jak w wielu innych językach w Pythonie są specjalne sekwencje znaków opisujące znaki, które inaczej byłyby trudne do zapisania. Wszystkich nie będziemy tu omawiać, ale niektóre są warte zapamiętania: \\n, \\\\\\\\\\\\, \\\\', \\\\\". Sprawdź długość napisów złożonych z tych sekwencji specjalnych. Dla upewnienia się, że ta notacja dobrze działa w przypadku apostrofów i cudzysłowów (' i \") użyj takiego samego ogranicznika literału tekstowego jak zamieszczony w literale znak.\n",
    "\n",
    "**Uwaga**: ponieważ domyślnie Jupyter wyświetla wartość tylko ostatniej instrukcji (u nas to na razie same wyrażenia) w komórce, warto zastosować składnię (omówimy jej znaczenie później), pozwalającą zapisać wiele wyrażeń, jedno po drugim, rozdzielając je przecinkami. "
   ]
  },
  {
   "cell_type": "code",
   "execution_count": 14,
   "id": "79af1c2242177c14",
   "metadata": {},
   "outputs": [
    {
     "data": {
      "text/plain": [
       "(1, 1, 1, 1)"
      ]
     },
     "execution_count": 14,
     "metadata": {},
     "output_type": "execute_result"
    }
   ],
   "source": [
    "len(\"\\\"\"), len('\\''), len('\\n'), len('\\\\')"
   ]
  },
  {
   "cell_type": "markdown",
   "id": "75c1689ff761039c",
   "metadata": {},
   "source": [
    "Napisy w Pythonie można dodawać (do napisów) i mnożyć (przez liczby całkowite). Sprawdź wartości podanych wyrażeń: 'Py' + \"ton\", 3 * '-', \"=\" * 5, 0 * \"+\", \"/\" * -126"
   ]
  },
  {
   "cell_type": "code",
   "execution_count": 15,
   "id": "e94bace306ddf27b",
   "metadata": {},
   "outputs": [
    {
     "data": {
      "text/plain": [
       "('Pyton', '---', '=====', '', '')"
      ]
     },
     "execution_count": 15,
     "metadata": {},
     "output_type": "execute_result"
    }
   ],
   "source": [
    "'Py' + \"ton\", 3 * '-', \"=\" * 5, 0 * \"+\", \"/\" * -126"
   ]
  },
  {
   "cell_type": "markdown",
   "id": "a3939f2d2294e4c9",
   "metadata": {},
   "source": [
    "# Literały liczbowe\n",
    "\n",
    "Kolejnymi wartościami dostępnymi w Pythonie są liczby całkowite. Policzmy ile sekund mamy co roku (nieprzestępnego) do dyspozycji."
   ]
  },
  {
   "cell_type": "code",
   "execution_count": 16,
   "id": "38bd460b48e54917",
   "metadata": {},
   "outputs": [
    {
     "data": {
      "text/plain": [
       "31536000"
      ]
     },
     "execution_count": 16,
     "metadata": {},
     "output_type": "execute_result"
    }
   ],
   "source": [
    "365*24*60*60"
   ]
  },
  {
   "cell_type": "markdown",
   "id": "a5801fd5de9490f7",
   "metadata": {},
   "source": [
    "Czyli liczby całkowite są tu takie same ja wszędzie (C, Java)? No, niezupełnie. Policzmy silnię (funkcja factorial) dla 5, 10, 20, ... do ilu się da.  \n",
    "**Uwaga**: żeby móc użyć tej funkcji musimy najpierw zaimportować moduł *math* pisząc `from math import *`. Dlaczego można i dlaczego nie należy tak pisać powiemy później."
   ]
  },
  {
   "cell_type": "code",
   "execution_count": 17,
   "id": "d9db43c9e8af480",
   "metadata": {},
   "outputs": [
    {
     "data": {
      "text/plain": [
       "(120,\n",
       " 3628800,\n",
       " 2432902008176640000,\n",
       " 93326215443944152681699238856266700490715968264381621468592963895217599993229915608941463976156518286253697920827223758251185210916864000000000000000000000000,\n",
       " 1220136825991110068701238785423046926253574342803192842192413588385845373153881997605496447502203281863013616477148203584163378722078177200480785205159329285477907571939330603772960859086270429174547882424912726344305670173270769461062802310452644218878789465754777149863494367781037644274033827365397471386477878495438489595537537990423241061271326984327745715546309977202781014561081188373709531016356324432987029563896628911658974769572087926928871281780070265174507768410719624390394322536422605234945850129918571501248706961568141625359056693423813008856249246891564126775654481886506593847951775360894005745238940335798476363944905313062323749066445048824665075946735862074637925184200459369692981022263971952597190945217823331756934581508552332820762820023402626907898342451712006207714640979456116127629145951237229913340169552363850942885592018727433795173014586357570828355780158735432768888680120399882384702151467605445407663535984174430480128938313896881639487469658817504506926365338175055478128640000000000000000000000000000000000000000000000000000000000000000000000000000000000000000000000000000000000000000000000000000,\n",
       " 402387260077093773543702433923003985719374864210714632543799910429938512398629020592044208486969404800479988610197196058631666872994808558901323829669944590997424504087073759918823627727188732519779505950995276120874975462497043601418278094646496291056393887437886487337119181045825783647849977012476632889835955735432513185323958463075557409114262417474349347553428646576611667797396668820291207379143853719588249808126867838374559731746136085379534524221586593201928090878297308431392844403281231558611036976801357304216168747609675871348312025478589320767169132448426236131412508780208000261683151027341827977704784635868170164365024153691398281264810213092761244896359928705114964975419909342221566832572080821333186116811553615836546984046708975602900950537616475847728421889679646244945160765353408198901385442487984959953319101723355556602139450399736280750137837615307127761926849034352625200015888535147331611702103968175921510907788019393178114194545257223865541461062892187960223838971476088506276862967146674697562911234082439208160153780889893964518263243671616762179168909779911903754031274622289988005195444414282012187361745992642956581746628302955570299024324153181617210465832036786906117260158783520751516284225540265170483304226143974286933061690897968482590125458327168226458066526769958652682272807075781391858178889652208164348344825993266043367660176999612831860788386150279465955131156552036093988180612138558600301435694527224206344631797460594682573103790084024432438465657245014402821885252470935190620929023136493273497565513958720559654228749774011413346962715422845862377387538230483865688976461927383814900140767310446640259899490222221765904339901886018566526485061799702356193897017860040811889729918311021171229845901641921068884387121855646124960798722908519296819372388642614839657382291123125024186649353143970137428531926649875337218940694281434118520158014123344828015051399694290153483077644569099073152433278288269864602789864321139083506217095002597389863554277196742822248757586765752344220207573630569498825087968928162753848863396909959826280956121450994871701244516461260379029309120889086942028510640182154399457156805941872748998094254742173582401063677404595741785160829230135358081840096996372524230560855903700624271243416909004153690105933983835777939410970027753472000000000000000000000000000000000000000000000000000000000000000000000000000000000000000000000000000000000000000000000000000000000000000000000000000000000000000000000000000000000000000000000000000000000000000000000000000000000000000000000000000000000,\n",
       " 48119977967797748601669900935813797818348080406726138081308559411630575189001095591292230585206733851868464009619343585194052091124618166270271481881393331431627962810299844149333789044689395510487167879769325303699470467829234399263326545652860748605075746366928323606645492277541120083438086727369377887676000211405318480244354207419604864176969950581435222198851194568984095705945549589054568321792338919149442985919957734792959402499096845643020401869381175603964424333222114125974374817804242633309769804293952870034619354125014210045647664063240162007560108665290568646128342557147350985358724154623253371867470765120422073867963935775258692109753041762094343569050497470353531764481503174750911858230906998361066084787758316110585736013365377431860738572261325738233656835271947352695180865573043834027955539012765489372645042504406597752357481931532872356635411224578334040522294746402829585458478708778346379431862368824819009177091444034885941394319343910223168655869761799669075059527608502465593181398566214786801211651657222004123456498258513120359126022843038535083709796101565934859483203933443308601475813108363074118562404412420191947127585482919172173045961122122701434297870691932154082986945954748251105782181586397275820342101470457300633590139512919549474113721711616912519714191760699935509810254849967087635936181176363954224186031346682928878492872249485456690138831610135377916327940503701400290125509132140782614640495733518048670983360134097860364762638658894873174499870133559364805443430831459505987809215393353387232078177562975021460595422358573128085417162336030235138652735438053034531962620811566019896879275257163988352090874930346115518331202927263708446729394381879888839549731876978682249320628599631628662375508826209854754631984276392670919216923002770077734756077549035942976209159416211581439461484509549370357486770276807687544580164314647595031368948490282897173328013518435758700056425922638411889496527975846052717958044813737086806600171993703579485864029383208714528950303253881360812631162134750100307772634337467012820470715650810714689905121432259528505483053930402217400686061612471659630192434864094539828085677465383026128353771071152304197549798870706139893609140045659756285435787771636258253666592102151236142132724425850991205720020493660580896600891888594659612927724357866265934517615841298789154462249169688860092640284756382431746120357767933119589280468687348061788072986362788582227019465263474828590646048451070702923434422714349595857654843699542321849363652767771978314681013589442955219879702008068934096624650625769705233333462826013860098698155180331145365652453482955497979915586438474687345677874451117702250441711504844638414485210092261397271970571029038581873069951161330495772310508760528249706514238384269808639507080418298318311361373628512041716415196868334254119137139589149597210032153545941114666530498906529240798164804007394775927836045668573993316428972539932745757171947402454257142633700815922407278403640595355142075599446056337986717212316223257763412164180899532722039383244462511410346646148863397237096276822656157561194665545757017429842404840309758925618650507921043007241637877939825811059339138925526124514467627126548126795078784022672860886251974581362141782786407402896309678008909663263987018538107050886193489012497405005820727271232733728141775132722013860591169620692789290456794698409808557447756701311883266010859016027592252397754508251628808293537776536569608111330584797160694847898923196743970244451842702266403326317319092117151143971679500042590269255093130215984418097418435474300467281949798227102529873732749027992079700287275900856241172902880909546551703263202853584498085358955307673717177961902081098618729046348849060249600000000000000000000000000000000000000000000000000000000000000000000000000000000000000000000000000000000000000000000000000000000000000000000000000000000000000000000000000000000000000000000000000000000000000000000000000000000000000000000000000000000000000000000000000000000000000000000000000000000000000000000000000000000000000000000000000000000000000000000000000000000000000)"
      ]
     },
     "execution_count": 17,
     "metadata": {},
     "output_type": "execute_result"
    }
   ],
   "source": [
    "from math import *\n",
    "factorial(5), factorial(10), factorial(20), factorial(100), factorial(500), factorial(1000), factorial(1500) #, factorial(1559)"
   ]
  },
  {
   "cell_type": "markdown",
   "id": "a62a0169dc99db9f",
   "metadata": {},
   "source": [
    "W Pythonie są też liczby rzeczywiste, tu bez zaskoczeń. Należy tylko pamiętać o zapisie liczb rzeczywistych w krajach anglojęzycznych (a w konsekwencji w językach programowania), czyli z kropką, a nie przecinkiem,\n",
    " jako separatorem części ułamkowej.\n",
    "\n",
    "Policzmy pole powierzchni Ziemi, wiedząc, że jej promień to około 6371 km. \n",
    "Możemy skorzystać z wartości `pi`, ponieważ zaimportowaliśmy wcześniej moduł `math`. Zamiast pisać `x*x` można napisać `x**2` \n",
    "(Python ma operator potęgowania zapisywany `**`). Działania są wykonywane od lewej do prawej (chyba że inaczej wskazują priorytety operatorów lub nawiasy). \n",
    "Na razie nie przejmujmy się formatem wypisywania. Sprawdźmy też przy okazji, który operator ma wyższy priorytet w Pythonie (`*` czy `**`), czyli czy potrzeba użyć nawiasów."
   ]
  },
  {
   "cell_type": "code",
   "execution_count": 18,
   "id": "c0065078dae5b4c7",
   "metadata": {},
   "outputs": [
    {
     "data": {
      "text/plain": [
       "510064471.90978825"
      ]
     },
     "execution_count": 18,
     "metadata": {},
     "output_type": "execute_result"
    }
   ],
   "source": [
    "4*pi*6371**2"
   ]
  },
  {
   "cell_type": "markdown",
   "id": "a6a9d58628888a37",
   "metadata": {},
   "source": [
    "Wiedząc teraz, że powierzchnia lądowa Polski to ok. 311 895 $km^2$, policz ile Polsk zmieściłoby się na powierzchni Ziemi (całej, łącznie z oceanami)."
   ]
  },
  {
   "cell_type": "code",
   "execution_count": 19,
   "id": "4c1e30d7dab8db4b",
   "metadata": {},
   "outputs": [
    {
     "data": {
      "text/plain": [
       "1635.3723910604153"
      ]
     },
     "execution_count": 19,
     "metadata": {},
     "output_type": "execute_result"
    }
   ],
   "source": [
    "4*pi*6371**2/311895"
   ]
  },
  {
   "cell_type": "markdown",
   "id": "3253a8ff34217396",
   "metadata": {},
   "source": [
    "Do zapisu liczb rzeczywistych możemy też stosować notację naukową (zwaną też inżynierską), np. 1e3. Sprawdźmy to na kilku przykładach."
   ]
  },
  {
   "cell_type": "code",
   "execution_count": 20,
   "id": "b620abc66f0b8a0b",
   "metadata": {},
   "outputs": [
    {
     "data": {
      "text/plain": [
       "(1000.0, 12000000000.0, 1.3e-22)"
      ]
     },
     "execution_count": 20,
     "metadata": {},
     "output_type": "execute_result"
    }
   ],
   "source": [
    "1e3, 1.2e10, 13e-23"
   ]
  },
  {
   "cell_type": "markdown",
   "id": "7d14f4c454d1d130",
   "metadata": {},
   "source": [
    "W przeciwieństwie do liczb całkowitych zakres liczb rzeczywistych podlega w Pythonie ścisłym ograniczeniom (tak samo, jak w Javie czy C). Sprawdźmy stałe 1e308 i 1e309 oraz 1e-323 i 1e-324. "
   ]
  },
  {
   "cell_type": "code",
   "execution_count": 21,
   "id": "5c84fb1e68b1e628",
   "metadata": {},
   "outputs": [
    {
     "data": {
      "text/plain": [
       "(1e+308, inf, 1e-323, 0.0)"
      ]
     },
     "execution_count": 21,
     "metadata": {},
     "output_type": "execute_result"
    }
   ],
   "source": [
    "1e308, 1e309, 1e-323, 1e-324"
   ]
  },
  {
   "cell_type": "markdown",
   "id": "f07a325426ad103e",
   "metadata": {},
   "source": [
    "Więcej informacji można znaleźć, wywołując funkcję sys.float_info."
   ]
  },
  {
   "cell_type": "markdown",
   "id": "3ebe6608643683d4",
   "metadata": {},
   "source": [
    "Python wspiera też liczby zespolone (raczej nie będziemy z nich korzystać). Do ich zapisu używa litery j (a nie i!) poprzedzonej liczba (*bez* znaku mnożenia). Policzmy, ile to jest $(1+3*i)*(1-3*i)$. Uwaga: tu użyto zapisu matematycznego, a nie zapisu z Pythona!"
   ]
  },
  {
   "cell_type": "code",
   "execution_count": 22,
   "id": "a88d3b713ed6721a",
   "metadata": {},
   "outputs": [
    {
     "data": {
      "text/plain": [
       "(10+0j)"
      ]
     },
     "execution_count": 22,
     "metadata": {},
     "output_type": "execute_result"
    }
   ],
   "source": [
    "(1+3j)*(1-3j)\n"
   ]
  },
  {
   "cell_type": "markdown",
   "id": "1b4894103cf52e41",
   "metadata": {},
   "source": [
    "W Pythonie jest też oczywiście typ wartości logicznych, z dwiema oczywistymi wartościami, oznaczonymi dość oczywistymi słowami kluczowymi, tyle że zapisywanymi z wielkiej litery. Upewnijmy się, że prawda nie jest fałszem używając stosownych literałów i operatora !=."
   ]
  },
  {
   "cell_type": "code",
   "execution_count": 23,
   "id": "6f704cb975a679e2",
   "metadata": {},
   "outputs": [
    {
     "data": {
      "text/plain": [
       "True"
      ]
     },
     "execution_count": 23,
     "metadata": {},
     "output_type": "execute_result"
    }
   ],
   "source": [
    "True != False"
   ]
  },
  {
   "cell_type": "markdown",
   "id": "d35fc17a79dd2ec5",
   "metadata": {},
   "source": [
    "Jak (prawie) każdy język Python daje możliwość stosowania operatorów porównań (z == i != już korzystaliśmy) dających wartości logiczne oraz z operatorów działających na wartościach logicznych. Te ostatnie zapisywane są słownie (a więc w czytelny dla humanoidalnych czytelników sposób). \n",
    "Sprawdźmy, czy (dowolnie wybrane) operatory porównań działają na liczbach całkowitych i rzeczywistych (to dość jasne, przynajmniej póki nie mieszamy typów), zaś wyniki połączmy w koniunkcje lub alternatywy, \n",
    "używając jeszcze po drodze negacji (chodzi o dowolny przykład)."
   ]
  },
  {
   "cell_type": "code",
   "execution_count": 24,
   "id": "6128c4f3739ed701",
   "metadata": {},
   "outputs": [
    {
     "data": {
      "text/plain": [
       "True"
      ]
     },
     "execution_count": 24,
     "metadata": {},
     "output_type": "execute_result"
    }
   ],
   "source": [
    "((1 <= 2) and (3.5 > pi)) or not (2 > 2.0) "
   ]
  },
  {
   "cell_type": "markdown",
   "id": "4020723b2702b325",
   "metadata": {},
   "source": [
    "To teraz sprawdźmy coś zupełnie nieoczywistego: czy możemy porównywać za sobą na większość (analogicznie: większość-równość, mniejszość, mniejszość-równość) wartości zespolone? A wartości zespolone z rzeczywistymi? Z całkowitymi? "
   ]
  },
  {
   "cell_type": "code",
   "execution_count": 25,
   "id": "eb531917b9d471e3",
   "metadata": {},
   "outputs": [
    {
     "ename": "TypeError",
     "evalue": "'<' not supported between instances of 'complex' and 'complex'",
     "output_type": "error",
     "traceback": [
      "\u001b[0;31m---------------------------------------------------------------------------\u001b[0m",
      "\u001b[0;31mTypeError\u001b[0m                                 Traceback (most recent call last)",
      "Cell \u001b[0;32mIn[25], line 1\u001b[0m\n\u001b[0;32m----> 1\u001b[0m \u001b[38;5;241;43m1\u001b[39;49m\u001b[43mj\u001b[49m\u001b[43m \u001b[49m\u001b[38;5;241;43m<\u001b[39;49m\u001b[43m \u001b[49m\u001b[38;5;241;43m2\u001b[39;49m\u001b[43mj\u001b[49m\n",
      "\u001b[0;31mTypeError\u001b[0m: '<' not supported between instances of 'complex' and 'complex'"
     ]
    }
   ],
   "source": [
    "1j < 2j"
   ]
  },
  {
   "cell_type": "code",
   "execution_count": 26,
   "id": "8d58c0f276e7d3bd",
   "metadata": {},
   "outputs": [
    {
     "ename": "TypeError",
     "evalue": "'<' not supported between instances of 'int' and 'complex'",
     "output_type": "error",
     "traceback": [
      "\u001b[0;31m---------------------------------------------------------------------------\u001b[0m",
      "\u001b[0;31mTypeError\u001b[0m                                 Traceback (most recent call last)",
      "Cell \u001b[0;32mIn[26], line 1\u001b[0m\n\u001b[0;32m----> 1\u001b[0m \u001b[38;5;241;43m1\u001b[39;49m\u001b[43m \u001b[49m\u001b[38;5;241;43m<\u001b[39;49m\u001b[43m \u001b[49m\u001b[38;5;241;43m1\u001b[39;49m\u001b[43mj\u001b[49m\n",
      "\u001b[0;31mTypeError\u001b[0m: '<' not supported between instances of 'int' and 'complex'"
     ]
    }
   ],
   "source": [
    "1 < 1j"
   ]
  },
  {
   "cell_type": "markdown",
   "id": "9eb8a177a62420fa",
   "metadata": {},
   "source": [
    "# Operatory porównań i operatory logiczne \n",
    "\n",
    "Uzbrojeni w pozytywne i negatywne doświadczenia sprawdźmy, czy można porównywać ze sobą na mniejszość/większość napisy? Gdyby się okazało, że tak, to jaki porządek opisuje ta relacja (np. czy dłuższe napisy są większe od krótszych)? Przy okazji upewnijmy się, czy na pewno wielkie A jest większe od małego a. Świat potrafi czasem zaskakiwać."
   ]
  },
  {
   "cell_type": "code",
   "execution_count": 27,
   "id": "52c8ba37c5a50c28",
   "metadata": {},
   "outputs": [
    {
     "data": {
      "text/plain": [
       "True"
      ]
     },
     "execution_count": 27,
     "metadata": {},
     "output_type": "execute_result"
    }
   ],
   "source": [
    "\"Ala\" < \"Alabama\" and \"a\" > \"A\""
   ]
  },
  {
   "cell_type": "markdown",
   "id": "97007a3fc41ca37b",
   "metadata": {},
   "source": [
    "To jeszcze dla kompletności rozważań sprawdźmy, co się stanie, gdy spróbujemy porównać napis z liczbą. Najpierw sprawdźmy, czy napis jednoznakowy (np. 'A') jest równy liczbie odpowiadającej kodowi ASCII tego znaku. A potem zbadajmy, czy może jest mniejszy lub równy? Czy wyniki są podobne? "
   ]
  },
  {
   "cell_type": "code",
   "execution_count": 28,
   "id": "40ad4e32bb3920e5",
   "metadata": {
    "ExecuteTime": {
     "end_time": "2024-10-07T08:37:54.163172Z",
     "start_time": "2024-10-07T08:37:54.159374Z"
    }
   },
   "outputs": [
    {
     "data": {
      "text/plain": [
       "False"
      ]
     },
     "execution_count": 28,
     "metadata": {},
     "output_type": "execute_result"
    }
   ],
   "source": [
    "\"A\" == 65 "
   ]
  },
  {
   "cell_type": "code",
   "execution_count": 29,
   "id": "a85054c08500c8d7",
   "metadata": {},
   "outputs": [
    {
     "ename": "TypeError",
     "evalue": "'<=' not supported between instances of 'str' and 'int'",
     "output_type": "error",
     "traceback": [
      "\u001b[0;31m---------------------------------------------------------------------------\u001b[0m",
      "\u001b[0;31mTypeError\u001b[0m                                 Traceback (most recent call last)",
      "Cell \u001b[0;32mIn[29], line 1\u001b[0m\n\u001b[0;32m----> 1\u001b[0m \u001b[38;5;124;43m\"\u001b[39;49m\u001b[38;5;124;43mA\u001b[39;49m\u001b[38;5;124;43m\"\u001b[39;49m\u001b[43m \u001b[49m\u001b[38;5;241;43m<\u001b[39;49m\u001b[38;5;241;43m=\u001b[39;49m\u001b[43m \u001b[49m\u001b[38;5;241;43m65\u001b[39;49m\n",
      "\u001b[0;31mTypeError\u001b[0m: '<=' not supported between instances of 'str' and 'int'"
     ]
    }
   ],
   "source": [
    "\"A\" <= 65"
   ]
  },
  {
   "cell_type": "markdown",
   "id": "8f58a9ee5b7130d8",
   "metadata": {},
   "source": [
    "Hm, od kilku przykładów widzimy w Pythonie wprawdzie nie dokładnie takie same, ale podobne rozwiązania[^*], jak w innych językach programowania, więc może Python nie jest aż tak bardzo inny? \n",
    "No to na zakończenie tej części sprawdźmy, czy np. q jest małą łacińską literą (zwykle taki kod zapisujemy z użycie zmiennych, ale formalnie jeszcze nie wiemy, czy one w ogóle są w Pythonie, więc zastosujemy same literały).\n",
    "\n",
    "[^*]: Porównywanie znaków z liczbami zachowuje się inaczej, ale już wiemy, że w Pythonie nie ma typu znakowego (a więc i znaków), więc ten przykład można uznać za niebyły."
   ]
  },
  {
   "cell_type": "code",
   "execution_count": 30,
   "id": "bd086efc2464aee4",
   "metadata": {},
   "outputs": [
    {
     "data": {
      "text/plain": [
       "True"
      ]
     },
     "execution_count": 30,
     "metadata": {},
     "output_type": "execute_result"
    }
   ],
   "source": [
    "'a' <= 'q' and 'q' <= 'z'"
   ]
  },
  {
   "cell_type": "markdown",
   "id": "6748c308367d8461",
   "metadata": {},
   "source": [
    "No ale tak, to byśmy zapisali to porównanie np. w C czy C++. W Pythonie też możemy tak (właśnie to zrobiliśmy), ale możemy też skorzystać z łączenia (ang. chaining) operatorów."
   ]
  },
  {
   "cell_type": "code",
   "execution_count": 31,
   "id": "3f44e521d5cbdd95",
   "metadata": {},
   "outputs": [
    {
     "data": {
      "text/plain": [
       "True"
      ]
     },
     "execution_count": 31,
     "metadata": {},
     "output_type": "execute_result"
    }
   ],
   "source": [
    "'a' <= 'q' <= 'z'"
   ]
  },
  {
   "cell_type": "markdown",
   "id": "32fc43f71226b18",
   "metadata": {},
   "source": [
    "Python *jest* jednak inny!  \n",
    "\n",
    "Operatory porównań (<, >, ==, >=, <=, !=, is \\[not\\], \\[not\\] in) można łączyć w dowolnie długie sekwencje. Semantyka takiego zapisu to krótko wyliczana koniunkcja poszczególnych warunków, każdy argument (składnik sekwencji) jest wyliczany co najwyżej raz. Warunki dotyczą tylko sąsiednich argumentów.\n",
    "\n",
    "Zapisz, że 7 jest większe-równe od zera, także większe od 5, które z kolei jest mniejsze-równe od 9 (w praktyce takie warunki oczywiście zapisujmy ze zmiennymi).  \n",
    "\n",
    "Uwaga: ujęcie kolejnego/kolejnych porównania w nawiasy zmieni znaczenie użytego zapisu (i zapewne spowoduje błąd)."
   ]
  },
  {
   "cell_type": "code",
   "execution_count": 32,
   "id": "eed420eda298e088",
   "metadata": {
    "ExecuteTime": {
     "end_time": "2024-10-07T08:46:55.891923Z",
     "start_time": "2024-10-07T08:46:55.887512Z"
    }
   },
   "outputs": [
    {
     "data": {
      "text/plain": [
       "True"
      ]
     },
     "execution_count": 32,
     "metadata": {},
     "output_type": "execute_result"
    }
   ],
   "source": [
    "0 <= 7 > 5 <= 9"
   ]
  },
  {
   "cell_type": "markdown",
   "id": "5debcdb491a7b584",
   "metadata": {},
   "source": [
    "Wróćmy na chwilę jeszcze do operatorów logicznych `and` i `or`. Są wyliczane leniwie (precyzyjniej: w sposób skrócony (ang. short-circuit)), co znamy z C i Javy. Ale Python nie wymaga (jeszcze bardziej niż C nie wymaga), by argumenty były wartościami logicznymi.  \n",
    "\n",
    "Następujące wartości są interpretowana jako wartość fałsz: False, None, zero (dowolnego typu liczbowego), puste napisy i pojemniki (w tym listy, krotki  zbiory, słowniki i wartości typów użytkownika z odpowiednio zdefiniowaną metodą `__bool__()`). Pozostałe wartości są traktowane jako prawda.  \n",
    "\n",
    "Wynikiem zastosowania operatorów `and` i `or` jest wartość jednego z argumentów (tego, który rozstrzygnął przy skróconym wyliczaniu o wartości całości).  \n",
    "\n",
    "Te same reguły dotyczą używania wyrażeń logicznych w instrukcjach sterujących.  \n",
    "\n",
    "Postaraj się sam policzyć, zanim sprawdzisz w Pythonie, jakie są wartości tych wyrażeń: `3 and 7`, `\"\" or 15`, `\"a\" or 15`, `\"a\" and \"b\"`"
   ]
  },
  {
   "cell_type": "code",
   "execution_count": 33,
   "id": "fcf036a46a1aed45",
   "metadata": {
    "ExecuteTime": {
     "end_time": "2024-10-07T08:48:13.490802Z",
     "start_time": "2024-10-07T08:48:13.487172Z"
    }
   },
   "outputs": [
    {
     "data": {
      "text/plain": [
       "(7, 15, 'a', 'b')"
      ]
     },
     "execution_count": 33,
     "metadata": {},
     "output_type": "execute_result"
    }
   ],
   "source": [
    "3 and 7, \"\" or 15, \"a\" or 15, \"a\" and \"b\""
   ]
  },
  {
   "cell_type": "markdown",
   "id": "439ce69a76b9fb2a",
   "metadata": {},
   "source": [
    "Pamiętajmy jednak, że wyrażenia logiczne korzystające wyłącznie ze starych, dobrych wartości False i True są najczytelniejsze!"
   ]
  },
  {
   "cell_type": "markdown",
   "id": "cd827ecfed6c6805",
   "metadata": {},
   "source": [
    "# Listy\n",
    "\n",
    "Omówiliśmy literały Pythona, teraz obejrzyjmy wyrażenia nieco literały przypominające, będące jednym z najistotniejszych udogodnień oferowanych przez Pythona: wyrażenia pozwalające budować wartości typów złożonych, takich jak krotki, listy, zbiory i słowniki.\n",
    "\n",
    "Zacznijmy od najpopularniejszego pojemnika w Pythonie: list. Wyrażenia listowe zapisuje się, wymieniając oddzielone przecinkami kolejne elementy i otaczając całość prostokątnymi nawiasami.\n",
    "\n",
    "Zapisz listy: pustą, zawierająca kilka liczb, zawierającą liczbę, napis i wartość logiczną, wreszcie listę z zagnieżdżonymi listami."
   ]
  },
  {
   "cell_type": "code",
   "execution_count": 34,
   "id": "587e4c49fe2dfe60",
   "metadata": {},
   "outputs": [
    {
     "data": {
      "text/plain": [
       "([], [3, -2, 9], [1, True, 'element'], [[1, 2, 3], [4, 5, [6, [7]]]])"
      ]
     },
     "execution_count": 34,
     "metadata": {},
     "output_type": "execute_result"
    }
   ],
   "source": [
    "[], [3, -2, 9], [1, True, \"element\"], [ [1,2,3], [4,5, [6, [7]]]]"
   ]
  },
  {
   "cell_type": "markdown",
   "id": "ffe0700aee1839a8",
   "metadata": {},
   "source": [
    "# Krotki\n",
    "\n",
    "W podobny sposób można zapisywać krotki, jedyna różnica polega na użyciu okrągłych nawiasów zamiast prostokątnych. \n",
    "Pewnym problemem są krotki jednoelementowe, ponieważ w okrągłe nawiasy można wziąć dowolne wyrażenie, nie zmieniając jego znaczenia. \n",
    "Jeśli chcemy, by była to krotka, trzeba dostawić na końcu przecinek. \n",
    "Zmień stosownie poprzedni przykład, poeksperymentuj z wyrażeniem (7) z/bez przecinka."
   ]
  },
  {
   "cell_type": "code",
   "execution_count": 35,
   "id": "e8930a3c77da0e04",
   "metadata": {
    "ExecuteTime": {
     "end_time": "2024-10-07T08:51:24.310477Z",
     "start_time": "2024-10-07T08:51:24.306839Z"
    }
   },
   "outputs": [
    {
     "data": {
      "text/plain": [
       "((), (3, -2, 9), (1, True, 'element'), ((1, 2, 3), (4, 5, (6, (7,)))), 7, (7,))"
      ]
     },
     "execution_count": 35,
     "metadata": {},
     "output_type": "execute_result"
    }
   ],
   "source": [
    "(), (3, -2, 9), (1, True, \"element\"), ( (1,2,3), (4, 5, (6, (7,)))), (7), (7,)"
   ]
  },
  {
   "cell_type": "markdown",
   "id": "db396423129ce5f0",
   "metadata": {},
   "source": [
    "Również tworzenie zbiorów jest podobnie proste, ale o tym powiemy przy innej okazji."
   ]
  },
  {
   "cell_type": "markdown",
   "id": "6ce974085e677302",
   "metadata": {},
   "source": [
    "# Instrukcja przypisania i zmienne\n",
    "\n",
    "Skoro zajmujemy się programowaniem imperatywnym (Python jest też językiem obiektowym, ale to temat na osobne spotkanie), to najwyższy czas wprowadzić zmienne i instrukcję przypisania.\n",
    "\n",
    "W najprostszej postaci instrukcja przypisania ma postać `zmienna = wyrażenie`. Niestety także w Pythonie użyto symbolu `=` dla oznaczenia przypisania (w Pythonie jest jeszcze inny, znacznie lepszy symbol, ale nie można go stosować zamiennie z `=` i opowiemy o nim przy innej okazji).\n",
    "\n",
    "Żeby wprowadzić do programu (zdefiniować) zmienną wystarczy na nią przypisać. Od tego momentu jest dostępna. Nazwa zmiennej to dowolny ciag liter i cyfr zaczynający się od litery (przez litery rozumiemy litery Unicode'u oraz znak `_`). Nazwy zaczynające się od `_` zwykle mają specjalne znaczenie, więc nie próbujmy ich samemu definiować (wyjątkiem jest nazwa `_`, jeszcze do niej wrócimy). Zwyczajowo nazwy zmiennych (funkcji, parametrów) zaczynamy od małej litery, a kolejne słowa oddzielamy znakiem `_`.\n",
    "\n",
    "Zdefiniuj zmienną `i` o wartości `13`, `r` o wartości `2,5` oraz `s` o wartości `'Python'`."
   ]
  },
  {
   "cell_type": "code",
   "execution_count": 36,
   "id": "29d4220808b690a",
   "metadata": {},
   "outputs": [],
   "source": [
    "i = 13\n",
    "r = 2.5\n",
    "s = 'Python'"
   ]
  },
  {
   "cell_type": "markdown",
   "id": "d5464a943fef40dc",
   "metadata": {},
   "source": [
    "Sprawdźmy, że te zmienne istnieją i można je modyfikować: zwiększmy ich wartości o (odpowiednio) 1, 2,25 i \"!\" i sprawdźmy efekt."
   ]
  },
  {
   "cell_type": "code",
   "execution_count": 37,
   "id": "e153abf49cf969c1",
   "metadata": {},
   "outputs": [
    {
     "data": {
      "text/plain": [
       "(14, 4.75, 'Python!')"
      ]
     },
     "execution_count": 37,
     "metadata": {},
     "output_type": "execute_result"
    }
   ],
   "source": [
    "i = i + 1\n",
    "r = r + 2.25\n",
    "s = s + '!'\n",
    "i, r, s"
   ]
  },
  {
   "cell_type": "markdown",
   "id": "f26c3ede5227e979",
   "metadata": {},
   "source": [
    "Oczywiście powyższe można zapisać krócej, analogicznie do C i Javy:"
   ]
  },
  {
   "cell_type": "code",
   "execution_count": 38,
   "id": "80b4c9768422df5b",
   "metadata": {},
   "outputs": [
    {
     "data": {
      "text/plain": [
       "(15, 7.0, 'Python!!')"
      ]
     },
     "execution_count": 38,
     "metadata": {},
     "output_type": "execute_result"
    }
   ],
   "source": [
    "i += 1\n",
    "r += 2.25\n",
    "s += '!'\n",
    "i, r, s"
   ]
  },
  {
   "cell_type": "markdown",
   "id": "b11434be4996412d",
   "metadata": {},
   "source": [
    "Operację przypisania można łączyć z operatorami  arytmetycznymi +, -,  *, /, //, % , ** oraz bitowymi >>, <<, &, ^, | (i zarezerwowanym @).\n",
    "\n",
    "Uwaga: wyrażenia i += 1 nie można skrócić do i++ (analogicznie nie można skrócić zapisu odejmowania wartości 1)."
   ]
  },
  {
   "cell_type": "markdown",
   "id": "2b6e45d51311bf27",
   "metadata": {},
   "source": [
    "# Python a sprawa typów\n",
    "\n",
    "Definiowanie zmiennych oczywiście budzi pytania o ich typy. I ogólne pytanie - czy w Pythonie są typy? Podamy kilka odpowiedzi na to pytanie.\n",
    "\n",
    "Odpowiedź 1: Nie ma. W poniższym zapisie nawet najbystrzejsze oko nie dostrzeże choćby śladu typu. (Na wszelki wypadek: nazwa zmiennej `i` niczego tu nie zmienia, można ją zmienić na dowolną inną, w Pythonie nie ma reguł domyślnego wnioskowania typu z nazwy zmiennej."
   ]
  },
  {
   "cell_type": "code",
   "execution_count": 39,
   "id": "c2fb3329fc002a8d",
   "metadata": {},
   "outputs": [],
   "source": [
    "i = 1"
   ]
  },
  {
   "cell_type": "markdown",
   "id": "1e471d4fa5fbe59f",
   "metadata": {},
   "source": [
    "Odpowiedź 2: Oczywiście są, trzeba je po prostu dopisać."
   ]
  },
  {
   "cell_type": "code",
   "execution_count": 40,
   "id": "25191aa7c4092037",
   "metadata": {},
   "outputs": [],
   "source": [
    "i: int = 1"
   ]
  },
  {
   "cell_type": "markdown",
   "id": "c27896aa3a3d5d2b",
   "metadata": {},
   "source": [
    "Odpowiedź 3: Jednak nie ma."
   ]
  },
  {
   "cell_type": "code",
   "execution_count": 41,
   "id": "7c2f94fb30ed0e79",
   "metadata": {},
   "outputs": [
    {
     "data": {
      "text/plain": [
       "['i', 'tu', 'też', 'ich', 'nie', 'ma']"
      ]
     },
     "execution_count": 41,
     "metadata": {},
     "output_type": "execute_result"
    }
   ],
   "source": [
    "i: int = 1\n",
    "i = \"Nie ma typów\"\n",
    "i = [ \"i\", \"tu\", \"też\", \"ich\", \"nie\", \"ma\"]\n",
    "i"
   ]
  },
  {
   "cell_type": "markdown",
   "id": "4556998fb9b36733",
   "metadata": {},
   "source": [
    "Odpowiedź 4: Jednak są (a przynajmniej błędy typów, to już zawsze coś)."
   ]
  },
  {
   "cell_type": "code",
   "execution_count": 42,
   "id": "ae16198dd15c394a",
   "metadata": {},
   "outputs": [
    {
     "ename": "TypeError",
     "evalue": "unsupported operand type(s) for +: 'int' and 'str'",
     "output_type": "error",
     "traceback": [
      "\u001b[0;31m---------------------------------------------------------------------------\u001b[0m",
      "\u001b[0;31mTypeError\u001b[0m                                 Traceback (most recent call last)",
      "Cell \u001b[0;32mIn[42], line 1\u001b[0m\n\u001b[0;32m----> 1\u001b[0m \u001b[38;5;241;43m1\u001b[39;49m\u001b[43m \u001b[49m\u001b[38;5;241;43m+\u001b[39;49m\u001b[43m \u001b[49m\u001b[38;5;124;43m\"\u001b[39;49m\u001b[38;5;124;43ma\u001b[39;49m\u001b[38;5;124;43m\"\u001b[39;49m\n",
      "\u001b[0;31mTypeError\u001b[0m: unsupported operand type(s) for +: 'int' and 'str'"
     ]
    }
   ],
   "source": [
    "1 + \"a\""
   ]
  },
  {
   "cell_type": "markdown",
   "id": "a14d460a2fca50fe",
   "metadata": {},
   "source": [
    "Podsumowując: W Pythonie nie ma statycznej kontroli typów (choć są wskazówki dotyczące typów (ang. type hints) zmiennych. parametrów czy funkcji, ignorowane przez interpreter Pythona). Natomiast wartości mają typy i te typy są sprawdzane podczas wykonywania programu. Co oczywiście zużywa pamięć i czas. Ale nie za oszczędność pamięci i cykli procesora kochamy Pythona!"
   ]
  },
  {
   "cell_type": "markdown",
   "id": "cdaf069d20006789",
   "metadata": {},
   "source": [
    "Możemy badać typ wartości wyrażeń funkcją `type`. Wypisz jej wartości dla liczby całkowitej, napisu i listy."
   ]
  },
  {
   "cell_type": "code",
   "execution_count": 43,
   "id": "5e370683d6f17ec0",
   "metadata": {},
   "outputs": [
    {
     "data": {
      "text/plain": [
       "(int, str, list)"
      ]
     },
     "execution_count": 43,
     "metadata": {},
     "output_type": "execute_result"
    }
   ],
   "source": [
    "type(3), type(\"Python\"), type([])"
   ]
  },
  {
   "cell_type": "markdown",
   "id": "aa32776d6bdca1",
   "metadata": {},
   "source": [
    "W Pythonie mamy szereg instrukcji, omówimy teraz kilka z nich. Jedną już znamy (przypisanie). Niestety to na razie bardzo powierzchowna znajomość.\n",
    "\n",
    "Napisz program przypisujący do zmiennych `i`, `j`, `k` wartość `13`."
   ]
  },
  {
   "cell_type": "code",
   "execution_count": 44,
   "id": "3e5e1d1f23052cb8",
   "metadata": {},
   "outputs": [
    {
     "data": {
      "text/plain": [
       "(0, 0, 0)"
      ]
     },
     "execution_count": 44,
     "metadata": {},
     "output_type": "execute_result"
    }
   ],
   "source": [
    "i = 0\n",
    "j = 0\n",
    "k = 0\n",
    "i, j, k"
   ]
  },
  {
   "cell_type": "markdown",
   "id": "cf3e8b13d3c44239",
   "metadata": {},
   "source": [
    "Niby działa, ale nikt by tego tak w Pythonie nie zapisał (poza nami powyżej). Mamy wielokrotne przypisanie (jak w C i Javie)."
   ]
  },
  {
   "cell_type": "code",
   "execution_count": 45,
   "id": "3c26839d8da1919f",
   "metadata": {},
   "outputs": [
    {
     "data": {
      "text/plain": [
       "(0, 0, 0)"
      ]
     },
     "execution_count": 45,
     "metadata": {},
     "output_type": "execute_result"
    }
   ],
   "source": [
    "i = j = k = 0\n",
    "i, j, k "
   ]
  },
  {
   "cell_type": "markdown",
   "id": "22d2feeb57f22709",
   "metadata": {},
   "source": [
    "Krócej ale przede wszystkim dużo czytelniej.\n",
    "\n",
    "To teraz przypiszmy na `i` wartość `13` zaś na `j` `42`."
   ]
  },
  {
   "cell_type": "code",
   "execution_count": 46,
   "id": "c2c54e6676674c26",
   "metadata": {},
   "outputs": [
    {
     "data": {
      "text/plain": [
       "(13, 42)"
      ]
     },
     "execution_count": 46,
     "metadata": {},
     "output_type": "execute_result"
    }
   ],
   "source": [
    "i = 13\n",
    "j = 42\n",
    "i, j"
   ]
  },
  {
   "cell_type": "markdown",
   "id": "5f1ca1e5b2b09e19",
   "metadata": {},
   "source": [
    "Działa, ale znów nikt (poza nami) tak tego nie zapisze. W Pythonie jest jednoczesne przypisanie. Po lewej stronie (niefortunnego) symbolu `=` podaje się listę celów (na razie przyjmijmy, że to zmienne), po prawej tej samej długości listę wyrażeń. Semantyka jest taka, że najpierw wylicza się od lewej do prawej wyrażenia, a potem wykonuje się od lewej do prawej przypisania (wyliczając cele)."
   ]
  },
  {
   "cell_type": "code",
   "execution_count": 47,
   "id": "cf2a75ec4117ee",
   "metadata": {},
   "outputs": [
    {
     "data": {
      "text/plain": [
       "(13, 42)"
      ]
     },
     "execution_count": 47,
     "metadata": {},
     "output_type": "execute_result"
    }
   ],
   "source": [
    "i, j = 13, 42\n",
    "i, j"
   ]
  },
  {
   "cell_type": "markdown",
   "id": "7ac8ee9503ed9b6f",
   "metadata": {},
   "source": [
    "Zapiszmy teraz kod zamieniający wartość `i` z `j` w stylu C lub Javy."
   ]
  },
  {
   "cell_type": "code",
   "execution_count": 48,
   "id": "fdb56aec270ca1f8",
   "metadata": {},
   "outputs": [
    {
     "data": {
      "text/plain": [
       "(42, 13, 13)"
      ]
     },
     "execution_count": 48,
     "metadata": {},
     "output_type": "execute_result"
    }
   ],
   "source": [
    "pom = i\n",
    "i = j\n",
    "j = pom\n",
    "i, j, pom"
   ]
  },
  {
   "cell_type": "markdown",
   "id": "4e5d2aa3b33f7fa2",
   "metadata": {},
   "source": [
    "A teraz zapiszmy to rzeczywiście w Pythonie."
   ]
  },
  {
   "cell_type": "code",
   "execution_count": 49,
   "id": "f2df26428f0a5a",
   "metadata": {},
   "outputs": [
    {
     "data": {
      "text/plain": [
       "(13, 42)"
      ]
     },
     "execution_count": 49,
     "metadata": {},
     "output_type": "execute_result"
    }
   ],
   "source": [
    "i, j = j, i\n",
    "i, j"
   ]
  },
  {
   "cell_type": "markdown",
   "id": "88a340910b1013ca",
   "metadata": {},
   "source": [
    "Czyż można nie lubić Pythona?"
   ]
  },
  {
   "cell_type": "markdown",
   "id": "a8b929d73b368327",
   "metadata": {},
   "source": [
    "# Instrukcja pusta\n",
    "\n",
    "Kolejna instrukcja to instrukcja pusta `pass'."
   ]
  },
  {
   "cell_type": "code",
   "execution_count": 50,
   "id": "b3430e02838c1102",
   "metadata": {},
   "outputs": [],
   "source": [
    "pass"
   ]
  },
  {
   "cell_type": "markdown",
   "id": "e047c005cf35f4be",
   "metadata": {},
   "source": [
    "# Instrukcja warunkowa\n",
    "\n",
    "Absolutny klasyk, czyli instrukcja `if`. No trochę ulepszony `if` w stosunku do klasyki. Oprócz `if` i `else` (opcjonalne) można używać `elif` (dowolnie wiele razy, po `if` a przed `else`). \n",
    "\n",
    "**Uwaga**: instrukcje zagnieżdżone muszą być wcięte! Wcięcia w Pythonie określają strukturę programu. Nigdy nie mieszajmy w kodzie programu spacji i tabulacji! Natomiast środowiska (IDE) zwykle same zamieniają tabulacje na spacje, więc pisząc program można naciskać klawisz tabulacji wiedząc, że i tak w kodzie będą spacje.\n",
    "\n",
    "**Uwaga**: wcięcia nie wprowadzają lokalnej widoczności. Robią to definicje funkcji.\n",
    "\n",
    "Wcięcia w różnych gałęziach `if` mogą być różne, ale po co by miały być?\n",
    "\n",
    "Napisz program wypisujący w zależności od parzystości zmiennej `i` P lub N. Do wypisywania w Pythonie służy instrukcja 'print'. Wypisywanie umieść za `if`, zaś wynik przypisz na zmienną wewnątrz `if`. Czy zdefiniowanie wewnątrz `if` w czymś przeszkodziło? Co by było w C/Javie?"
   ]
  },
  {
   "cell_type": "code",
   "execution_count": 51,
   "id": "7f942078c0ce36bd",
   "metadata": {},
   "outputs": [
    {
     "name": "stdout",
     "output_type": "stream",
     "text": [
      "N\n"
     ]
    }
   ],
   "source": [
    "i = 17\n",
    "\n",
    "if i % 2 == 0:\n",
    "    wyn = 'P'\n",
    "else:\n",
    "    wyn = 'N' \n",
    "    \n",
    "print(wyn)"
   ]
  },
  {
   "cell_type": "markdown",
   "id": "f9c108e5011b59a2",
   "metadata": {},
   "source": [
    "Napisz program oceniający na podstawie wartości zmiennej temp (stopnie Celsjusza) temperaturę powietrza i wypisujący ten komentarz na ekran. Przyjmij, że są co najmniej cztery kategorie temperatur. Jeśli chcesz, możesz wczytać temperaturę instrukcją `int(input())`"
   ]
  },
  {
   "cell_type": "code",
   "execution_count": 52,
   "id": "1f928e63d6106a89",
   "metadata": {},
   "outputs": [
    {
     "ename": "ValueError",
     "evalue": "invalid literal for int() with base 10: ''",
     "output_type": "error",
     "traceback": [
      "\u001b[0;31m---------------------------------------------------------------------------\u001b[0m",
      "\u001b[0;31mValueError\u001b[0m                                Traceback (most recent call last)",
      "Cell \u001b[0;32mIn[52], line 1\u001b[0m\n\u001b[0;32m----> 1\u001b[0m temp \u001b[38;5;241m=\u001b[39m \u001b[38;5;28;43mint\u001b[39;49m\u001b[43m(\u001b[49m\u001b[38;5;28;43minput\u001b[39;49m\u001b[43m(\u001b[49m\u001b[43m)\u001b[49m\u001b[43m)\u001b[49m\n\u001b[1;32m      2\u001b[0m \u001b[38;5;28;01mif\u001b[39;00m temp \u001b[38;5;241m<\u001b[39m \u001b[38;5;241m0\u001b[39m:\n\u001b[1;32m      3\u001b[0m     \u001b[38;5;28mprint\u001b[39m(\u001b[38;5;124m\"\u001b[39m\u001b[38;5;124mBrrr!\u001b[39m\u001b[38;5;124m\"\u001b[39m)\n",
      "\u001b[0;31mValueError\u001b[0m: invalid literal for int() with base 10: ''"
     ]
    }
   ],
   "source": [
    "temp = int(input())\n",
    "if temp < 0:\n",
    "    print(\"Brrr!\")\n",
    "elif temp < 10:\n",
    "    print(\"Zimno!\")\n",
    "elif temp < 20:\n",
    "    print(\"Chłodno\")\n",
    "elif temp < 30:\n",
    "    print(\"Znośnie\")\n",
    "else:\n",
    "    print(\"Cool!\")\n",
    "    "
   ]
  },
  {
   "cell_type": "markdown",
   "id": "3d6dd12167eb542a",
   "metadata": {},
   "source": [
    "# Pętle\n",
    "\n",
    "Oczywiście mamy pętle. Stopniowo będziemy je poznawać coraz lepiej, na razie zacznijmy od pętli 'dla każdego': \n",
    "`for elt in pojemnik:\n",
    "   instrukcja`\n",
    "\n",
    "Napisz program zliczający, ile jest ujemnych liczb w zadanej liście liczb całkowitych. \n",
    "\n",
    "**Uwaga**: nie używaj dla zmiennych z listami nazwy `list`."
   ]
  },
  {
   "cell_type": "code",
   "execution_count": 53,
   "id": "965ab17340c03982",
   "metadata": {},
   "outputs": [
    {
     "data": {
      "text/plain": [
       "2"
      ]
     },
     "execution_count": 53,
     "metadata": {},
     "output_type": "execute_result"
    }
   ],
   "source": [
    "ile, lst = 0, [3, 5, -2, 4, -7, 19]\n",
    "for elt in lst:\n",
    "    if elt < 0:\n",
    "        ile+=1\n",
    "ile        "
   ]
  },
  {
   "cell_type": "markdown",
   "id": "50ca0468a05b7292",
   "metadata": {},
   "source": [
    "# Indeksowanie i funkcja range\n",
    "\n",
    "Często sami chcemy sięgnąć do elementów listy czy napisu. Robimy to oczywiście za pomocą operatora indeksowania `lista[indeks]`. W Pythonie praktycznie wszystko jest indeksowane od 0. Listy i napisy też.\n",
    "\n",
    "Napisz fragment kodu, który z listy napisów wybierze te, których indeksy są w liście liczb i da jako wynik konkatenację wybranych napisów. Załóż, że indeksy są poprawne."
   ]
  },
  {
   "cell_type": "code",
   "execution_count": 54,
   "id": "da0aaf924dd06358",
   "metadata": {},
   "outputs": [
    {
     "data": {
      "text/plain": [
       "'Python jest dobry Python jest świetny '"
      ]
     },
     "execution_count": 54,
     "metadata": {},
     "output_type": "execute_result"
    }
   ],
   "source": [
    "napisy = [\"jest \", \"C \", 'dobry ', \"Rust \", 'szybki ', \"świetny \", 'Python ']\n",
    "indeksy = [6, 0, 2, 6, 0, 5]          \n",
    "wyn = \"\"          \n",
    "for ind in indeksy: \n",
    "    wyn += napisy[ind]\n",
    "wyn"
   ]
  },
  {
   "cell_type": "markdown",
   "id": "6c76a6abc2c4a3cc",
   "metadata": {},
   "source": [
    " Zakres `n` wartości od 0 z krokiem 1 daje wyrażenie `range(n)`.\n",
    " \n",
    " Napisz fragment kodu, który sumuje wartości z parzystych pozycji z zadanej tablicy liczb."
   ]
  },
  {
   "cell_type": "code",
   "execution_count": 55,
   "id": "d00ecf8f99e717a3",
   "metadata": {},
   "outputs": [
    {
     "data": {
      "text/plain": [
       "5"
      ]
     },
     "execution_count": 55,
     "metadata": {},
     "output_type": "execute_result"
    }
   ],
   "source": [
    "liczby = [2, -7, 0, 3, 2, 8, 1]\n",
    "\n",
    "wyn = 0\n",
    "for i in range(len(liczby)):\n",
    "    if i%2 == 0:\n",
    "        wyn += liczby[i]\n",
    "wyn               "
   ]
  },
  {
   "cell_type": "markdown",
   "id": "b03ab1225d0af26",
   "metadata": {},
   "source": [
    "# Funkcje\n",
    "Oczywiście możemy definiować funkcje. (No może to nie do końca oczywiste, w Javie nie ma funkcji). Używamy składni:\n",
    "\n",
    "`def nazwa(parametry):`  \n",
    "`  treść`  \n",
    "    \n",
    "Parametry oddzielamy przecinkami. instrukcje treść (musi być co najmniej jedna) muszą być tak samo wcięte. \n",
    "\n",
    "Wynik funkcji podajemy za pomocą instrukcji `return wyrażenie`. Jeśli taka nie zostanie wykonana, a funkcja się skończy, wynikiem będzie `None`. W Pythonie nie ma osobnej składni dla procedur.\n",
    "\n"
   ]
  },
  {
   "cell_type": "markdown",
   "id": "bf6660ed92198dc2",
   "metadata": {},
   "source": [
    "# Zadania (być może) do domu:\n",
    "\n",
    "Napisz funkcję sumującą te elementy zadanej listy, które są liczbami całkowitymi. Wywołaj ją dla przykładowych danych."
   ]
  },
  {
   "cell_type": "code",
   "execution_count": 56,
   "id": "c18b2602e0f4ee52",
   "metadata": {},
   "outputs": [
    {
     "data": {
      "text/plain": [
       "12"
      ]
     },
     "execution_count": 56,
     "metadata": {},
     "output_type": "execute_result"
    }
   ],
   "source": [
    "def suma(lst):\n",
    "    wyn = 0\n",
    "    for elt in lst:\n",
    "        if type(elt) == int:\n",
    "            wyn += elt\n",
    "    return wyn\n",
    "\n",
    "dane = [1, \"to\", 23, \"nie\", [12, [], [[2]]], \"było\", -12, \"trudne\", False, [1, 2, [3]]]\n",
    "suma(dane)"
   ]
  },
  {
   "cell_type": "markdown",
   "id": "1afa7c5c3b915fd4",
   "metadata": {},
   "source": [
    "Jak poprzednio, ale sumuj także liczby znajdujące się na drugim poziomie."
   ]
  },
  {
   "cell_type": "code",
   "execution_count": 57,
   "id": "3c2a0c54e906db78",
   "metadata": {},
   "outputs": [
    {
     "data": {
      "text/plain": [
       "27"
      ]
     },
     "execution_count": 57,
     "metadata": {},
     "output_type": "execute_result"
    }
   ],
   "source": [
    "def suma2(lst):\n",
    "    wyn = 0\n",
    "    for elt in lst:\n",
    "        if type(elt) == int:\n",
    "            wyn += elt\n",
    "        elif type(elt) == list:\n",
    "            wyn += suma(elt)    \n",
    "    return wyn\n",
    "\n",
    "suma2(dane)"
   ]
  },
  {
   "cell_type": "markdown",
   "id": "ac16cb9f0f612519",
   "metadata": {},
   "source": [
    "Jak poprzednio, ale na wszystkich poziomach."
   ]
  },
  {
   "cell_type": "code",
   "execution_count": 58,
   "id": "178769690a863d38",
   "metadata": {},
   "outputs": [
    {
     "data": {
      "text/plain": [
       "32"
      ]
     },
     "execution_count": 58,
     "metadata": {},
     "output_type": "execute_result"
    }
   ],
   "source": [
    "def suma3(lst):\n",
    "    wyn = 0\n",
    "    for elt in lst:\n",
    "        if type(elt) == int:\n",
    "            wyn += elt\n",
    "        elif type(elt) == list:\n",
    "            wyn += suma3(elt)    \n",
    "    return wyn\n",
    "\n",
    "suma3(dane)"
   ]
  }
 ],
 "metadata": {
  "kernelspec": {
   "display_name": "Python 3 (ipykernel)",
   "language": "python",
   "name": "python3"
  },
  "language_info": {
   "codemirror_mode": {
    "name": "ipython",
    "version": 3
   },
   "file_extension": ".py",
   "mimetype": "text/x-python",
   "name": "python",
   "nbconvert_exporter": "python",
   "pygments_lexer": "ipython3",
   "version": "3.12.7"
  }
 },
 "nbformat": 4,
 "nbformat_minor": 5
}
