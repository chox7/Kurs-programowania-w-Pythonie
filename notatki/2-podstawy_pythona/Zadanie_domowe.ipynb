{
 "cells": [
  {
   "cell_type": "markdown",
   "metadata": {},
   "source": [
    "### Kilka uwag do zadania"
   ]
  },
  {
   "cell_type": "markdown",
   "metadata": {},
   "source": [
    "Wskazówka 1 - sortowanie"
   ]
  },
  {
   "cell_type": "code",
   "execution_count": 1,
   "metadata": {},
   "outputs": [
    {
     "data": {
      "text/plain": [
       "[1, 2, 3, 5, 7]"
      ]
     },
     "execution_count": 1,
     "metadata": {},
     "output_type": "execute_result"
    }
   ],
   "source": [
    "l = [2,3,7,5,1]\n",
    "sorted(l)"
   ]
  },
  {
   "cell_type": "markdown",
   "metadata": {},
   "source": [
    "Wskazówka 2 - wczytywanie"
   ]
  },
  {
   "cell_type": "code",
   "execution_count": 2,
   "metadata": {},
   "outputs": [
    {
     "name": "stdout",
     "output_type": "stream",
     "text": [
      "Podaj napis: Ala\n",
      "Twój napis to `Ala`\n"
     ]
    }
   ],
   "source": [
    "x = input(\"Podaj napis: \")\n",
    "print(\"Twój napis to `\" + x + \"`\")"
   ]
  },
  {
   "cell_type": "markdown",
   "metadata": {},
   "source": [
    "# Zadanie domowe:\n",
    "Zadanie: Śledzenie Spędzonego Czasu\n",
    "\n",
    "Stwórz program, który pozwala śledzić czas spędzony na różnych aktywnościach. Użyj słownika do przechowywania danych o aktywnościach oraz listy do śledzenia czasu spędzonego na każdej z nich. Program powinien mieć trzy główne funkcje:\n",
    "* Dodaj Aktywność: Użytkownik może dodać nową aktywność do śledzenia. Jeśli aktywność już istnieje, program powinien tylko zaktualizować ją o nowy czas. Struktura danych może wyglądać tak:\n",
    "    {\n",
    "    'Aktywność 1': [czas1, czas2, czas3, ...],\n",
    "    'Aktywność 2': [czas1, czas2, czas3, ...],\n",
    "    ...\n",
    "}\n",
    "* Pokaż Czas: Użytkownik może wybrać aktywność i zobaczyć, ile łącznie czasu spędził na niej.\n",
    "* Pokaż Top Aktywności: Program powinien pokazać top 3 aktywności, na których użytkownik spędził najwięcej czasu."
   ]
  },
  {
   "cell_type": "code",
   "execution_count": 79,
   "metadata": {},
   "outputs": [],
   "source": [
    "# Slownik do przechowywania danych o aktywnosciach i czasie\n",
    "aktywnosci = {}\n",
    "\n",
    "def dodaj_aktywnosc(nazwa_aktywnosci, czas):\n",
    "    \"\"\"\n",
    "    Funkcja dodaje czas do istniejącej aktywności lub tworzy nową.\n",
    "    Argumenty:\n",
    "    nazwa_aktywnosci - nazwa aktywności do dodania/aktualizacji\n",
    "    czas - czas spędzony na aktywności (w minutach)\n",
    "    \"\"\"\n",
    "    if nazwa_aktywnosci in aktywnosci.keys():\n",
    "        aktywnosci[nazwa_aktywnosci].append(czas)\n",
    "    else:\n",
    "        aktywnosci[nazwa_aktywnosci] = [czas]\n",
    "    \n",
    "    print(f\"Dodano {czas} minut do aktywności '{nazwa_aktywnosci}'.\")\n",
    "\n",
    "def pokaz_czas(nazwa_aktywnosci): \n",
    "    \"\"\"\n",
    "    Wyświetla całkowity czas spędzony na wybranej aktywności.\n",
    "    Argument:\n",
    "    nazwa_aktywnosci - nazwa aktywności do sprawdzenia\n",
    "    \"\"\"\n",
    "    if nazwa_aktywnosci in aktywnosci:\n",
    "        laczny_czas = sum(aktywnosci[nazwa_aktywnosci])\n",
    "        print(f\"Całkowity czas spędzony na '{nazwa_aktywnosci}': {laczny_czas} minut.\")\n",
    "    else:\n",
    "        print(f\"Aktywność '{nazwa_aktywnosci}' nie została jeszcze dodana.\")\n",
    "\n",
    "def pokaz_top_aktywnosci():\n",
    "    \"\"\"\n",
    "    Wyświetla top 3 aktywności, na które użytkownik spędził najwięcej czasu.\n",
    "    \"\"\"\n",
    "    if len(aktywnosci) == 0:\n",
    "        print(\"Nie dodano żadnych aktywności.\")\n",
    "        return\n",
    "    sumy_czasu = {nazwa: sum(czasy) for nazwa, czasy in aktywnosci.items()}    \n",
    "    top_3 = sorted(sumy_czasu.items(), key=lambda item: item[1], reverse=True)[:3]\n",
    "    print(\"Top 3 aktywnosci, na ktorych uzytkownik spedzil najwiecej czasu:\")\n",
    "    for i, (nazwa, czas) in enumerate(top_3):\n",
    "        print(f\"{i}. Aktywnosc: {nazwa}, Czas: {czas} minut\")"
   ]
  },
  {
   "cell_type": "code",
   "execution_count": 80,
   "metadata": {},
   "outputs": [
    {
     "name": "stdout",
     "output_type": "stream",
     "text": [
      "Dodano 1 minut do aktywności hera1.\n",
      "Dodano 10 minut do aktywności hera3.\n",
      "Dodano 1000 minut do aktywności hera2.\n",
      "Dodano 1 minut do aktywności herax.\n",
      "Dodano 1 minut do aktywności heraxx.\n"
     ]
    }
   ],
   "source": [
    "dodaj_aktywnosc('hera1', 1)\n",
    "dodaj_aktywnosc('hera3', 10)\n",
    "dodaj_aktywnosc('hera2', 1000)\n",
    "dodaj_aktywnosc('herax', 1)\n",
    "dodaj_aktywnosc('heraxx', 1)"
   ]
  },
  {
   "cell_type": "code",
   "execution_count": 81,
   "metadata": {},
   "outputs": [
    {
     "name": "stdout",
     "output_type": "stream",
     "text": [
      "Całkowity czas spędzony na 'hera1': 1 minut.\n"
     ]
    }
   ],
   "source": [
    "pokaz_czas('hera1')"
   ]
  },
  {
   "cell_type": "code",
   "execution_count": 75,
   "metadata": {},
   "outputs": [
    {
     "name": "stdout",
     "output_type": "stream",
     "text": [
      "Top 3 aktywnosci: 1. hera2 2. hera3 3. heraxx\n"
     ]
    }
   ],
   "source": [
    "pokaz_top_aktywnosci()"
   ]
  },
  {
   "cell_type": "code",
   "execution_count": 64,
   "metadata": {},
   "outputs": [
    {
     "ename": "NameError",
     "evalue": "name 'top_3' is not defined",
     "output_type": "error",
     "traceback": [
      "\u001b[0;31m---------------------------------------------------------------------------\u001b[0m",
      "\u001b[0;31mNameError\u001b[0m                                 Traceback (most recent call last)",
      "Cell \u001b[0;32mIn[64], line 1\u001b[0m\n\u001b[0;32m----> 1\u001b[0m \u001b[43mtop_3\u001b[49m\n",
      "\u001b[0;31mNameError\u001b[0m: name 'top_3' is not defined"
     ]
    }
   ],
   "source": [
    "top_3"
   ]
  },
  {
   "cell_type": "code",
   "execution_count": null,
   "metadata": {},
   "outputs": [],
   "source": []
  },
  {
   "cell_type": "code",
   "execution_count": null,
   "metadata": {},
   "outputs": [],
   "source": []
  },
  {
   "cell_type": "code",
   "execution_count": null,
   "metadata": {},
   "outputs": [],
   "source": []
  }
 ],
 "metadata": {
  "kernelspec": {
   "display_name": "Python 3",
   "language": "python",
   "name": "python3"
  },
  "language_info": {
   "codemirror_mode": {
    "name": "ipython",
    "version": 3
   },
   "file_extension": ".py",
   "mimetype": "text/x-python",
   "name": "python",
   "nbconvert_exporter": "python",
   "pygments_lexer": "ipython3",
   "version": "3.12.7"
  }
 },
 "nbformat": 4,
 "nbformat_minor": 2
}
