{
 "cells": [
  {
   "cell_type": "markdown",
   "metadata": {},
   "source": [
    "# Zadanie domowe: wizualizacja poziomu zanieczyszczeń\n",
    "\n",
    "Główny Inspektorat Ochrony Środowiska udostępnia dane o jakości powietrza w Polsce na stronie [https://powietrze.gios.gov.pl/pjp/archives](https://powietrze.gios.gov.pl/pjp/archives), w tym stężenia pyłów PM2,5, PM10, SO2 i innych zanieczyszczeń. Dane te są szczególnie przydatne w analizach środowiskowych i zdrowotnych. W tym zadaniu interesują nas dane dotyczące zanieczyszczenia pyłami drobnymi PM2,5 (o średnicy poniżej 2,5 mikrometra) ze zbioru danych \"Statystyki z lat 2000-2023\", ale ograniczonego do lat od 2010 do 2023 oraz pomiarów 24-godzinnych (kolumna 'Czas uśredniania' == '24g'). Resztę danych pomijamy. Zadanie polega na przygotowaniu notatnika z wykresami, które będą przedstawiać wizualizacje danych o 24-godzinnych średnich stężeniach PM2,5 na przestrzeni lat w różnych województwach. Do każdego wykresu należy obowiązkowo dodać 1-2 zdania podsumowujące przedstawione wyniki. Każda analiza powinna zawierać przynajmniej 3 rysunki:\n",
    "\n",
    "- Wykres liniowy przedstawiający zmianę średniego stężenia PM2,5 w czasie dla dwóch wybranych stacji pomiarowych. Proszę dobrać stacje w taki sposób aby zakres pomiarów pokrywał pełen okres 2010-2023.\n",
    "- Wykres pudełkowy przedstawiający rozkład średnich stężeń PM2,5 dla wszystkich stacji pomiarowych w Polsce (oś y) z podziałem na poszczególne lata (oś x).\n",
    "- Wykres słupkowy porównujący między województwami liczbę przekroczeń normy stężenia PM2,5 (np. 25 µg/m³ według WHO) w latach 2010-2023. Należy wykonać i porównać dwa wykresy: jeden podający sumaryczną liczbę przekroczeń na wszystkich stacjach pomiarowych (łącznie) w poszczególnych województwach a drugi podający procent pomiarów z przekroczoną normą (t.j. liczba przekroczeń znormalizowana liczbą pomiarów). \n",
    "\n",
    "Można wykorzystać dowolne poznane biblioteki do wizualizacji danych w Pythonie.\n"
   ]
  }
 ],
 "metadata": {
  "kernelspec": {
   "display_name": ".venv",
   "language": "python",
   "name": "python3"
  },
  "language_info": {
   "codemirror_mode": {
    "name": "ipython",
    "version": 3
   },
   "file_extension": ".py",
   "mimetype": "text/x-python",
   "name": "python",
   "nbconvert_exporter": "python",
   "pygments_lexer": "ipython3",
   "version": "3.13.0"
  }
 },
 "nbformat": 4,
 "nbformat_minor": 2
}
