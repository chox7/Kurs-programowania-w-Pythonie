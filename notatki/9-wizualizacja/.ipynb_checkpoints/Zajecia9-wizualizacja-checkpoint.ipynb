{
 "cells": [
  {
   "cell_type": "markdown",
   "metadata": {},
   "source": [
    "# Wizualizacja danych w Pythonie\n",
    "\n",
    "Graficzne przedstawianie danych i wyników analiz odgrywa kluczową rolę w takich dziedzinach jak statystyka, analiza danych, biznes czy nauki przyrodnicze i inżynierskie. Jest istotne zarówno na etapie eksploracji danych, jak i w procesie komunikowania odkrytych zależności innym odbiorcom. W tym opracowaniu zaprezentujemy różne rodzaje wykresów używanych do wizualizacji danych, ich implementację w wybranych bibliotekach języka Python, oraz praktyczne przykłady ich zastosowania. Wybrane biblioteki to:\n",
    "\n",
    "- **matplotlib** - najpularniejsza biblioteka do wizualizacji danych z wykorzystaniem różnego rodzaju wykresów (liniowe, słuplowe, kołowe, histogramy, itd.).\n",
    "- **plotly** - biblioteka do tworzenia interaktywnych wizualizacji w notatnikach Jupytera lub w aplikacjach internetowych opartych na Pythonie z użyciem Dasha. Pozwala na bezpośrednią eksplorację danych.\n",
    "- **seaborn** - biblioteka, która sprawdza się przy tworzeniu wykresów statystycznych i dodaje estetyczną warstwę na bazie matplotlib. Jest zintegrowana z biblioteką pandas.\n",
    "\n",
    "## 1. Matplotlib - podstawy wizualizacji z wykorzystaniem interfejsu pyplot\n",
    "\n",
    "Matplotlib to kompleksowa biblioteka do tworzenia statycznych, interaktywnych i animowanych wizualizacji w Pythonie.  Jest niezwykle wszechstronna i może być używana zarówno do prostych wykresów, jak i skomplikowanych figur z wieloma podwykresami. W tej części omówimy podstawy wizualizacji z wykorzystaniem interfejsu matplotlib.pyplot. Zapewnia on domniemany (*implicit*) sposób tworzenia wykresów, podobny do tego znanego z MATLAB-a, gdzie operujemy na ostatnio utworzonym rysunku czy panelu. Każda funkcja pyplot zmienia rysunek, np. tworzy nowy rysunek, tworzy obszar rysowania, rysuje na nim linie i punkty, dodaje etykiety, itd. Jest on głównie przeznaczony do prostych przypadków generowania wykresów programistycznie.\n",
    "\n",
    "W tym rozdziale przedstawimy podstawowe rodzaje wykresów dostępnych poprzez interfejs matplotlib.pyplot, ale osoby zainteresowane innymi rodzajmi wykresów oraz sposobami dodawania różnych elementów do generowanych rysunków odsyłamy do [dokumentacji](https://matplotlib.org/stable/api/pyplot_summary.html#module-matplotlib.pyplot).\n",
    "\n",
    "Generalnie, funkcje graficzne matplotlib oczekują danych w postaci tablicy numpy.array lub obiektów, które można na nią przekształcić. Ramki danych pandas, czy nawet macierze numpy.matrix, mogą nie zawsze zadziałać w taki sposób jakiego oczekujemy, więc warto wcześniej przekształcić je na tablice numpy."
   ]
  },
  {
   "cell_type": "markdown",
   "metadata": {},
   "source": [
    "Aby zacząć, musisz zainstalować Matplotlib. Możesz to zrobić za pomocą pip:"
   ]
  },
  {
   "cell_type": "code",
   "metadata": {
    "ExecuteTime": {
     "end_time": "2024-12-02T15:23:26.756124Z",
     "start_time": "2024-12-02T15:23:21.243730Z"
    }
   },
   "source": [
    "!pip install matplotlib"
   ],
   "outputs": [
    {
     "name": "stdout",
     "output_type": "stream",
     "text": [
      "Collecting matplotlib\r\n",
      "  Downloading matplotlib-3.9.3-cp311-cp311-macosx_11_0_arm64.whl.metadata (11 kB)\r\n",
      "Collecting contourpy>=1.0.1 (from matplotlib)\r\n",
      "  Using cached contourpy-1.3.1-cp311-cp311-macosx_11_0_arm64.whl.metadata (5.4 kB)\r\n",
      "Collecting cycler>=0.10 (from matplotlib)\r\n",
      "  Using cached cycler-0.12.1-py3-none-any.whl.metadata (3.8 kB)\r\n",
      "Collecting fonttools>=4.22.0 (from matplotlib)\r\n",
      "  Using cached fonttools-4.55.0-cp311-cp311-macosx_10_9_universal2.whl.metadata (164 kB)\r\n",
      "Collecting kiwisolver>=1.3.1 (from matplotlib)\r\n",
      "  Using cached kiwisolver-1.4.7-cp311-cp311-macosx_11_0_arm64.whl.metadata (6.3 kB)\r\n",
      "Requirement already satisfied: numpy>=1.23 in /opt/anaconda3/envs/Kurs-programowania-w-Pythonie/lib/python3.11/site-packages (from matplotlib) (2.1.3)\r\n",
      "Requirement already satisfied: packaging>=20.0 in /opt/anaconda3/envs/Kurs-programowania-w-Pythonie/lib/python3.11/site-packages (from matplotlib) (24.1)\r\n",
      "Collecting pillow>=8 (from matplotlib)\r\n",
      "  Using cached pillow-11.0.0-cp311-cp311-macosx_11_0_arm64.whl.metadata (9.1 kB)\r\n",
      "Collecting pyparsing>=2.3.1 (from matplotlib)\r\n",
      "  Using cached pyparsing-3.2.0-py3-none-any.whl.metadata (5.0 kB)\r\n",
      "Requirement already satisfied: python-dateutil>=2.7 in /opt/anaconda3/envs/Kurs-programowania-w-Pythonie/lib/python3.11/site-packages (from matplotlib) (2.9.0.post0)\r\n",
      "Requirement already satisfied: six>=1.5 in /opt/anaconda3/envs/Kurs-programowania-w-Pythonie/lib/python3.11/site-packages (from python-dateutil>=2.7->matplotlib) (1.16.0)\r\n",
      "Downloading matplotlib-3.9.3-cp311-cp311-macosx_11_0_arm64.whl (7.8 MB)\r\n",
      "\u001B[2K   \u001B[90m━━━━━━━━━━━━━━━━━━━━━━━━━━━━━━━━━━━━━━━━\u001B[0m \u001B[32m7.8/7.8 MB\u001B[0m \u001B[31m12.8 MB/s\u001B[0m eta \u001B[36m0:00:00\u001B[0ma \u001B[36m0:00:01\u001B[0m\r\n",
      "\u001B[?25hUsing cached contourpy-1.3.1-cp311-cp311-macosx_11_0_arm64.whl (254 kB)\r\n",
      "Using cached cycler-0.12.1-py3-none-any.whl (8.3 kB)\r\n",
      "Using cached fonttools-4.55.0-cp311-cp311-macosx_10_9_universal2.whl (2.8 MB)\r\n",
      "Using cached kiwisolver-1.4.7-cp311-cp311-macosx_11_0_arm64.whl (64 kB)\r\n",
      "Using cached pillow-11.0.0-cp311-cp311-macosx_11_0_arm64.whl (3.0 MB)\r\n",
      "Using cached pyparsing-3.2.0-py3-none-any.whl (106 kB)\r\n",
      "Installing collected packages: pyparsing, pillow, kiwisolver, fonttools, cycler, contourpy, matplotlib\r\n",
      "Successfully installed contourpy-1.3.1 cycler-0.12.1 fonttools-4.55.0 kiwisolver-1.4.7 matplotlib-3.9.3 pillow-11.0.0 pyparsing-3.2.0\r\n"
     ]
    }
   ],
   "execution_count": 1
  },
  {
   "cell_type": "markdown",
   "metadata": {},
   "source": [
    "Rozpocznijmy od wyświetlenia prostego **wykresu linowego**."
   ]
  },
  {
   "cell_type": "code",
   "metadata": {
    "jupyter": {
     "is_executing": true
    },
    "ExecuteTime": {
     "start_time": "2024-12-02T15:23:26.761337Z"
    }
   },
   "source": [
    "# Zaimportuj bibliotekę, a dokładje jej główny moduł pyplot\n",
    "import matplotlib.pyplot as plt\n",
    "\n",
    "# Przygotuj dane wejściowe\n",
    "x = [1, 2, 3, 4]\n",
    "y = [10, 20, 25, 20]\n",
    "\n",
    "# Narysuj wykres liniowy\n",
    "plt.plot(x, y) \n",
    "# Wyświetl wykres\n",
    "plt.show() \n",
    "# Jupyter domyślnie woła show() na końcu każdej komórki, ale warto wywołać show() wprost"
   ],
   "outputs": [],
   "execution_count": null
  },
  {
   "cell_type": "markdown",
   "metadata": {},
   "source": [
    "Tak jak oczekiwaliśmy został wyświetly wykres linowy przedstawiający nasze dane, ale brak na nim jakichkolwiek opisów osi czy tytułu. Uzupełnijmy zatem wykres o te elementy, a dodatkowo zmieńmy kolor, styl i grubość lini, a także dodajmy obserwacje."
   ]
  },
  {
   "cell_type": "code",
   "execution_count": null,
   "metadata": {},
   "outputs": [],
   "source": [
    "plt.plot(x, y, color='red', linestyle='dashed', linewidth=2, marker='o')\n",
    "plt.xlabel('Oś X')\n",
    "plt.ylabel('Oś Y')\n",
    "plt.title('Przykładowy wykres liniowy')\n",
    "plt.show()"
   ]
  },
  {
   "cell_type": "markdown",
   "metadata": {},
   "source": [
    "W dalszej części przedstawimy inne rodzaje wykresów. Podzielimy jednak każdy rysunek (Figure) na panele lub osie (Axes), gdzie pokażemy podstawowe sposoby zmiany właściwości wykresu. \n",
    "\n",
    "Inne popularne rodzaje wykresów to:\n",
    "- **wykres punktowy** (scatter plot)"
   ]
  },
  {
   "cell_type": "code",
   "execution_count": null,
   "metadata": {},
   "outputs": [],
   "source": [
    "# Stwórz nowy wykres o określonym rozmiarze w calach\n",
    "plt.figure(figsize=(8,3))\n",
    "\n",
    "# Dodaj lewą oś (panel) przy podziale rysunku 1x2\n",
    "plt.subplot(1, 2, 1) #nrows, ncols, index\n",
    "# Narysuj wykres punktowy\n",
    "plt.scatter(x, y)\n",
    "\n",
    "\n",
    "# Dodaj prawą oś (panel) przy tym samym podziale rysunku 1x2\n",
    "plt.subplot(1, 2, 2)\n",
    "# Narysuj ten sam wykres w kolorze zielonym i punktami kwadratowymi  \n",
    "plt.scatter(x, y, c='green', marker='s')\n",
    "\n",
    "# Wyświetl wykres\n",
    "plt.show()"
   ]
  },
  {
   "cell_type": "markdown",
   "metadata": {},
   "source": [
    "- **wykres kołowy** (pie plot)"
   ]
  },
  {
   "cell_type": "code",
   "execution_count": null,
   "metadata": {},
   "outputs": [],
   "source": [
    "plt.figure(figsize=(8,3))\n",
    "\n",
    "# Panel lewy\n",
    "plt.subplot(1, 2, 1)\n",
    "# Narysuj wykres kołowy\n",
    "plt.pie(y)\n",
    "\n",
    "# Panel prawy\n",
    "plt.subplot(1, 2, 2)\n",
    "# Narusyje ten sam wykres z etykietami i udziałem oraz zmianą kierunku i lokalizacji elementów wykresu\n",
    "labels = ['A','B','C','D']\n",
    "plt.pie(y, labels=labels, autopct='%.1f%%', startangle=90, counterclock=False)\n",
    "\n",
    "plt.show()"
   ]
  },
  {
   "cell_type": "markdown",
   "metadata": {},
   "source": [
    "- **wykres słupkowy** (bar plot)"
   ]
  },
  {
   "cell_type": "code",
   "execution_count": null,
   "metadata": {},
   "outputs": [],
   "source": [
    "plt.figure(figsize=(8,3))\n",
    "\n",
    "# Panel lewy\n",
    "plt.subplot(1, 2, 1)\n",
    "# Narysuj wykres słupkowy\n",
    "plt.bar(x, y)\n",
    "\n",
    "# Panel prawy\n",
    "plt.subplot(1, 2, 2)\n",
    "# Narysuj ten sam wykres dodając etykiety, zmieniając kolory i dodając grube krawędzie\n",
    "plt.bar(x, y, tick_label=labels, color=['red','green'], edgecolor='black', alpha=0.5, linewidth=2)\n",
    "\n",
    "plt.show()"
   ]
  },
  {
   "cell_type": "markdown",
   "metadata": {},
   "source": [
    "- **histogram** (wykorzystywany do wizualizacji częstotliwości występowania wartości)"
   ]
  },
  {
   "cell_type": "code",
   "execution_count": null,
   "metadata": {},
   "outputs": [],
   "source": [
    "import numpy as np\n",
    "np.random.seed(1024)\n",
    "\n",
    "plt.figure(figsize=(5,4))\n",
    "\n",
    "# Wygeneruj losowe dane z rozkładu normalnego\n",
    "temp = np.random.normal(12, 10, 365)\n",
    "\n",
    "plt.hist(temp, bins=20, color='gray')\n",
    "plt.xlabel(r'Temperatura [$^\\circ C$]')\n",
    "plt.ylabel('Częstotliwość')\n",
    "plt.title('Rozkład temperatury powietrza w roku')\n",
    "plt.show()"
   ]
  },
  {
   "cell_type": "markdown",
   "metadata": {},
   "source": [
    "Znając podstawowe rodzaje wykresów narysujmy teraz bardziej złożone wykresy.\n",
    "\n",
    "**Przykład 1.1**: Grupowany wykres słupkowy"
   ]
  },
  {
   "cell_type": "code",
   "execution_count": null,
   "metadata": {},
   "outputs": [],
   "source": [
    "# Przykładowe dane\n",
    "kategorie = ['Kategoria A', 'Kategoria B', 'Kategoria C']\n",
    "grupa1 = [23, 35, 47]\n",
    "grupa2 = [17, 28, 40]\n",
    "\n",
    "# Zdefiniuj szerokość słupka\n",
    "szerokoscSłupka = 0.3\n",
    "\n",
    "# Ustaw pozycję słupka na osi X\n",
    "r1 = np.arange(len(grupa1))\n",
    "r2 = [x + szerokoscSłupka for x in r1]\n",
    "\n",
    "# Narysuj słupki dla obu grup\n",
    "plt.bar(r1, grupa1, color='blue', width=szerokoscSłupka, edgecolor='grey', label='Grupa 1')\n",
    "plt.bar(r2, grupa2, color='red', width=szerokoscSłupka, edgecolor='grey', label='Grupa 2')\n",
    "\n",
    "# Dodaj etykiety, tytuł i legendę\n",
    "plt.xlabel('Kategorie', fontweight='bold')\n",
    "plt.xticks([r + 0.5*szerokoscSłupka for r in range(len(grupa1))], kategorie)\n",
    "plt.ylabel('Wartości')\n",
    "plt.title('Grupowany wykres słupkowy w wielu kolorach')\n",
    "plt.legend()\n",
    "\n",
    "plt.show()"
   ]
  },
  {
   "cell_type": "markdown",
   "metadata": {},
   "source": [
    "**Przykład 1.2**: Wykres punktowy wraz regresją liniową oraz przekazywanie argumentów przez nazwę"
   ]
  },
  {
   "cell_type": "code",
   "execution_count": null,
   "metadata": {},
   "outputs": [],
   "source": [
    "# Przykładowe dane\n",
    "np.random.seed(1024)\n",
    "dane = {'wiek': np.random.randint(0,18,100),\n",
    "        'col': np.random.choice(['r','b'], size=100)}\n",
    "dane['wzrost'] = np.random.normal(10,8,100) + dane['wiek'] * 6 + 50\n",
    "# Narysuj wykres punktowy\n",
    "plt.scatter('wiek', 'wzrost', color='col', marker='o', alpha=0.5, data=dane)\n",
    "plt.xlabel('Wiek')\n",
    "plt.ylabel('Wzrost [cm]')\n",
    "plt.title('Związek między wiekiem a wzrostem dzieci')\n",
    "# Dopasowanie funkcji wielomianowej (liniowej) metodą najmniejszych kwadratów (regresja liniowa)\n",
    "m, b = np.polyfit(dane['wiek'], dane['wzrost'], 1)\n",
    "plt.plot('wiek', m * dane['wiek'] + b, color='black', linestyle='-.', linewidth=2, data=dane)\n",
    "plt.show()"
   ]
  },
  {
   "cell_type": "markdown",
   "metadata": {},
   "source": [
    "## 2. Matplotlib - obiektowy interfejs \"Axes\"\n",
    "\n",
    "Poza podstawowym stylem używania biblioteki matplotlib przedstawionym wyżej, istnieje też styl obiektowy służący do tworzenia bardziej rozbudowanych wykresów oraz bezpośredniego operowania na poszczególnych elementach wykresu. Tu może warto wyjaśnić podstawowe pojęcia Figure i Axes. Figure to obiekt reprezentujący całkowitą powierzchnięc rysowania (może mieć wiele wykresów) oraz pojemnik zawierający wszystkie elementy rysunku. W jego obrębie są umieszczane właściwe wykresy reprezentowane przez obiekty klasy Axes (osie, panele). Każdy taki obiekt posiada informacje o pojedynczym wykresie: system współrzędnych, osie, etykiety, tytuł, jak i inne elementy wykresu. Poniżej przedstawiamy elementy rysunku w matplotlib (źródło: [https://matplotlib.org/](https://matplotlib.org/)), gdzie do każdego elementu rysunku odwołujemy się bezpośrednio:\n",
    "\n",
    "<center>\n",
    "<div>\n",
    "<img src=\"img/figure_anatomy.png\" width=\"500\">\n",
    "</div>\n",
    "</center>\n"
   ]
  },
  {
   "cell_type": "markdown",
   "metadata": {},
   "source": [
    "Pyplot jest bardziej zwięzły, ale mniej elastyczny niż Axes. Jednak większośc funkcji pyplot ma swoje odpowiedniki w [matplotlib.axes.Axes](https://matplotlib.org/stable/api/_as_gen/matplotlib.axes.Axes.html), gdyż zwykle są one jedynie funkcjami opakowującymi. Przykładowo, odpowiednikiem pierwszego wykresu w tym notatniku używającym bezpośredniego odwołania do obiektu klasy Axes jest:"
   ]
  },
  {
   "cell_type": "code",
   "execution_count": null,
   "metadata": {},
   "outputs": [],
   "source": [
    "# Dodaj obiekt klasy Axes (właściwy wykres) do aktualnego rysunku\n",
    "fig, ax = plt.subplots()\n",
    "# Narysuje wykres liniowy na osi ax\n",
    "ax.plot(x, y)\n",
    "# Wyświetl wykres\n",
    "plt.show()"
   ]
  },
  {
   "cell_type": "markdown",
   "metadata": {},
   "source": [
    "Teraz możemy jednak tworzyć również bardziej zaawansowane wykresy. Poniżej przedstawiamy twójwymiarowy **wykres powierzchniowy** dla funkcji dwóch zmiennych (funkcja sinusoidalna). Tworzymy tu obiekt odpowiedniej podklasy klasy Axes (*projection*), która jest odpowiedzialna za realizację wykresów 3D, t.j. klasy mpl_toolkits.mplot3d.axes3d.Axes3D. Więcej rodzajów wykresów 3D można znaleźć w [dokumentacji](https://matplotlib.org/stable/api/toolkits/mplot3d/axes3d.html)."
   ]
  },
  {
   "cell_type": "code",
   "execution_count": null,
   "metadata": {},
   "outputs": [],
   "source": [
    "# Stwórz rysunek (Figure) i oś (obiekt podklasy klasy Axes) - właściwy wykres 3D\n",
    "fig = plt.figure()\n",
    "ax = fig.add_subplot(projection='3d')\n",
    "\n",
    "# Przygotuj dane wejściowe\n",
    "x_3d = np.linspace(-5, 5, 100)\n",
    "y_3d = np.linspace(-5, 5, 100)\n",
    "x_3d, y_3d = np.meshgrid(x_3d, y_3d)\n",
    "z_3d = np.sin(np.sqrt(x_3d**2 + y_3d**2))\n",
    "\n",
    "# Narysuj wykres powierzchniowy (używając mapy kolorów: viridis)\n",
    "surf = ax.plot_surface(x_3d, y_3d, z_3d, cmap='viridis')\n",
    "\n",
    "# Dodaj etykiety i tytuł\n",
    "ax.set_xlabel('Oś X')\n",
    "ax.set_ylabel('Oś Y')\n",
    "ax.set_title('Przykładowy wykres Powierzchniowy 3D')\n",
    "\n",
    "# Dodaj legendę (pasek kolorów), zmnijesz dwukrotnie, \n",
    "fig.colorbar(surf, shrink=0.5, aspect=10)\n",
    "\n",
    "plt.show()\n"
   ]
  },
  {
   "cell_type": "markdown",
   "metadata": {},
   "source": [
    "Biblioteka matplotlib umożliwia również na tworzenie wykresów w innych układach współrzędnych poprzez odpowiednie rzutowania (projection) zdefiniowane jako podklasy klasy Axes."
   ]
  },
  {
   "cell_type": "markdown",
   "metadata": {},
   "source": [
    "## 3. Plotly - wykresy interaktywne\n",
    "\n",
    "[Plotly](https://plotly.com/) jest biblioteką do tworzenia interaktywnych wykresów i map dostępną dla różnych języków programowania (Python, R, Julia, Javascript, ggplo2, F#, MATLAB i Dash). Plotly można zainstalować za pomocą pip:"
   ]
  },
  {
   "cell_type": "code",
   "execution_count": null,
   "metadata": {},
   "outputs": [],
   "source": [
    "!pip install plotly\n",
    "#pip install --upgrade nbformat # czasami może też być wymagana instlacja lub uaktualnienie biblioteki nbformat"
   ]
  },
  {
   "cell_type": "markdown",
   "metadata": {},
   "source": [
    "W plotly można tworzyć zarówno proste wykresy takie jak wykres liniowym, punktowy, słupkowy, itd, jaki i wykresy 3D, mapy i diagram, czy wykresy finansowe, bioinformatyczne, itd. Plotly posiada moduł [plotly.express](https://plotly.com/python/plotly-express/), który służy do tworzenia powszechnie używanych rodzajów wykresów w łatwy sposób. Domyśle wspiera on dane wejściowe w postacji pndas.DataFrame, ale inne typy danych takie jak tablice NumPy lub listy również są dopuszczalne. Nie będziemy tu omawiać dokładnie poszczególnych typów wykresów, ale podamy parę użytecznych przykładów.\n",
    "\n",
    "**Przykład 3.1**: Wykres liniowy"
   ]
  },
  {
   "cell_type": "code",
   "execution_count": null,
   "metadata": {},
   "outputs": [],
   "source": [
    "import plotly.express as px\n",
    "# Wczytaj dane gapminder\n",
    "df = px.data.gapminder().query(\"continent == 'Europe'\")\n",
    "# Narysuj wykres liniowy, gdzie poszczególne kraje są oznaczone różnymi kolorami i znacznikami\n",
    "fig = px.line(df, x='year', y='gdpPercap', color='country', symbol=\"country\")\n",
    "fig.show()"
   ]
  },
  {
   "cell_type": "markdown",
   "metadata": {},
   "source": [
    "**Przykład 3.2**: Rozmiar populacji na mapie świata"
   ]
  },
  {
   "cell_type": "code",
   "execution_count": null,
   "metadata": {},
   "outputs": [],
   "source": [
    "df = px.data.gapminder().query(\"year == 2007\")\n",
    "fig = px.scatter_geo(df, locations=\"iso_alpha\",\n",
    "                     color=\"continent\", # which column to use to set the color of markers\n",
    "                     hover_name=\"country\", # column added to hover information\n",
    "                     size=\"pop\", # size of markers\n",
    "                     projection=\"natural earth\")\n",
    "fig.show()"
   ]
  },
  {
   "cell_type": "markdown",
   "metadata": {},
   "source": [
    "**Przykład 3.3**: Wykres punktowy (bąbelkowy) z podziałem na kontynenty oraz animacja"
   ]
  },
  {
   "cell_type": "code",
   "execution_count": null,
   "metadata": {},
   "outputs": [],
   "source": [
    "import plotly.express as px\n",
    "df = px.data.gapminder()\n",
    "fig = px.scatter(df, x=\"gdpPercap\", y=\"lifeExp\", animation_frame=\"year\", animation_group=\"country\",\n",
    "           size=\"pop\", color=\"continent\", hover_name=\"country\", facet_col=\"continent\",\n",
    "           log_x=True, size_max=45, range_x=[100,100000], range_y=[25,90])\n",
    "fig.show()"
   ]
  },
  {
   "cell_type": "markdown",
   "metadata": {},
   "source": [
    "Czasami plotly.express nie jest w stanie wygenerować wykresu, który chcemy ze względu na drobne szczegóły lub brak odpowiedniej funkcji. Wtedy możemy przejść do modułu *plotly.graph_objects* dostarczającego więcej rodzajów wykresów i sposobów ich dostosowania.\n",
    "\n",
    "**Przykład 3.4**: Wykres liniowy w *plotly.graph_objects*"
   ]
  },
  {
   "cell_type": "code",
   "execution_count": null,
   "metadata": {},
   "outputs": [],
   "source": [
    "import plotly.graph_objects as go\n",
    "import plotly.express as px\n",
    "\n",
    "# Przykładowe dane\n",
    "import numpy as np\n",
    "np.random.seed(1)\n",
    "random_x = np.linspace(0, 1, 100)\n",
    "random_y = np.random.randn(100)\n",
    "\n",
    "# Stwórz rysunek i kolejne jego elementy (wykresy liniowe przy użyciu go.Scatter) używając różnych stylów\n",
    "fig = go.Figure()\n",
    "fig.add_trace(go.Scatter(x=random_x, y=random_y-5, mode='lines', name='lines'))\n",
    "fig.add_trace(go.Scatter(x=random_x, y=random_y  , mode='lines+markers', name='lines+markers'))\n",
    "fig.add_trace(go.Scatter(x=random_x, y=random_y+5, mode='markers', name='markers'))\n",
    "fig.show()"
   ]
  },
  {
   "cell_type": "markdown",
   "metadata": {},
   "source": [
    "**Przykład 3.5**: Wykres powierzchniowy 3D w *plotly.graph_objects*"
   ]
  },
  {
   "cell_type": "code",
   "execution_count": null,
   "metadata": {},
   "outputs": [],
   "source": [
    "# Tworzenie wykresu powierzchniowego z wykorzystaniem poprzednich danych z wykresu 3d\n",
    "fig = go.Figure(data=[go.Surface(z=z_3d, x=x_3d, y=y_3d)])\n",
    "# Dostosowanie wyglądu\n",
    "fig.update_layout(title='Wykres powierzchniowy', autosize=False,\n",
    "                  width=600, height=500,\n",
    "                  margin=dict(l=65, r=50, b=65, t=90))\n",
    "# Wyświetlanie wykresu\n",
    "fig.show()\n"
   ]
  },
  {
   "cell_type": "markdown",
   "metadata": {},
   "source": [
    "## 4. Seaborn\n",
    "\n",
    "[Seaborn](https://seaborn.pydata.org/) to biblioteka w Pythonie służąca do tworzenia estetycznych i informacyjnych wizualizacji danych w Pythonie. Jest zbudowana na podstawie matplotlib, co oznacza, że oferuje bardziej zaawansowane możliwości wizualizacji przy jednoczesnym uproszczeniu kodu potrzebnego do tworzenia wykresów. Seaborn jest zintegrowane z pandas.DataFrame, co pozwala na łatwe używanie danych z kolumn jako wejścia do wykresów. Wiele typów wykresów jest zoptymalizowanych pod kątem analizy statystycznej, takich jak regresje, rozkłady czy zależności między zmiennymi.\n",
    "\n",
    "Seaborn można zainstalować za pomocą pip:"
   ]
  },
  {
   "cell_type": "code",
   "execution_count": null,
   "metadata": {},
   "outputs": [],
   "source": [
    "!pip install seaborn"
   ]
  },
  {
   "cell_type": "markdown",
   "metadata": {},
   "source": [
    "Ponownie, nie będziemy tu omawiać dokładnie poszczególnych typów wykresów, ale podamy parę użytecznych przykładów przedstawiających możliwości biblioteki.\n",
    "\n",
    "**Przykład 4.1**: Wykres przedstawiający relacyjne zależności między zmiennymi"
   ]
  },
  {
   "cell_type": "code",
   "execution_count": null,
   "metadata": {},
   "outputs": [],
   "source": [
    "# Załaduj bibliotekę seaborn\n",
    "import seaborn as sns\n",
    "# Wczytaj zbiór danych tips\n",
    "tips = sns.load_dataset(\"tips\")\n",
    "\n",
    "# Stwórz wykres relacyjny\n",
    "sns.relplot(data=tips, x=\"total_bill\", y=\"tip\", col=\"time\", hue=\"smoker\", style=\"smoker\", size=\"size\")\n",
    "plt.show()"
   ]
  },
  {
   "cell_type": "markdown",
   "metadata": {},
   "source": [
    "**Przykład 4.2**: Wykres przedstawiający zależności między danymi liczbowymi a danymi kategorycznymi\n",
    "\n",
    "Parametr `kind` odpowiada za tym wykresu; możwliwe wartości to: “strip”, “swarm”, “box”, “violin”, “boxen”, “point”, “bar”, lub “count”. Warto poeksperymentować i sprawdzić zachowanie funkcji catplot dla różnych wartości parametru kind."
   ]
  },
  {
   "cell_type": "code",
   "execution_count": null,
   "metadata": {},
   "outputs": [],
   "source": [
    "\n",
    "sns.catplot(data=tips, kind=\"swarm\", x=\"day\", y=\"total_bill\", hue=\"smoker\")\n",
    "plt.show()"
   ]
  }
 ],
 "metadata": {
  "kernelspec": {
   "display_name": ".venv",
   "language": "python",
   "name": "python3"
  },
  "language_info": {
   "codemirror_mode": {
    "name": "ipython",
    "version": 3
   },
   "file_extension": ".py",
   "mimetype": "text/x-python",
   "name": "python",
   "nbconvert_exporter": "python",
   "pygments_lexer": "ipython3",
   "version": "3.13.0"
  }
 },
 "nbformat": 4,
 "nbformat_minor": 2
}
