{
 "cells": [
  {
   "cell_type": "markdown",
   "id": "48fbdc37-3156-49c3-8912-c3ecdd3cfde1",
   "metadata": {},
   "source": [
    "### Zadanie\n",
    "\n",
    "Zrób dwie wersje programu:\n",
    "\n",
    "**Wersja 1**:\n",
    "- stwórz skrypt, który wczyta dwie wartości - n i k \n",
    "- wykorzysta klasę Ułamek (z poprzednich zajęć)\n",
    "- stworzy n ułamków (dużą liczbę, n > milion, co najmniej)  \n",
    "- wykona k operacji na nich (dowolną metodą np.\n",
    "-- możemy trzymać Ułamki w tablicy\n",
    "-- traktować ją jako cykliczną dla poniższych działań\n",
    "-- a[i] += a[i+1])\n",
    "\n",
    "**Wersja 2**:\n",
    "- j.w., ale dodajemy do klasy Ułamek `__slots__` = ('licznik', 'mianownik') \n",
    "\n",
    "\n",
    "**Porównaj wykorzystanie pamięci i czas wykonania programów. \n",
    "Jak wypada porównanie dla różnych n i k.**\n",
    "\n"
   ]
  },
  {
   "cell_type": "markdown",
   "id": "7f4769e8-1e65-4f51-81e1-4bed1f3dc48b",
   "metadata": {},
   "source": [
    " "
   ]
  },
  {
   "cell_type": "markdown",
   "id": "5489593d-2655-4d0d-8a67-f508aa9ca298",
   "metadata": {},
   "source": [
    "**Uwaga**\n",
    "\n",
    "Badanie można wykonać taką komendą:\n",
    "`/usr/bin/time -v python program.py 2>&1 1>/dev/null | grep  -E \"wall|Max\"`\n",
    "\n",
    "Komenda `/usr/bin/time`, dla odróżnienia od wbudowanego time, bada dużo różnych rzeczy na temat uruchomionego procesu. Fragment z dużą liczbą znaków `>` powoduje skierowanie `stdout` do `/dev/null` (ewentualne wyjście programu w pythonie), `stderr` do `stdout` (wydruk komendy time) - w tej kolejności - a następnie przekierowanie `stdout` do polecenia `grep`, które wybierze interesujące nas dwie linijki.\n",
    "\n",
    "Miło by było, żeby Wersja 1 zamieniana była w Wersję 2 jakoś automatycznie, np. z użyciem\n",
    "`perl -p -e \"s/# Wersja2 //\" wersja1.py > wersja2.py`\n",
    "Powyższa linijka usunie z każdej linijki maksymalnie jedno wystąpienie ciągu `'# Wersja2 '` czyli w szczególności zamieni takie coś:\n",
    "`# Wersja2 __slots__ = (blu,bla)`\n",
    "na takie coś:\n",
    "`__slots__ = (blu,bla)`\n",
    "Pozostałych linijek nie zmienia. \n",
    "\n",
    "BTW: nie zaszkodzi zapamiętać sobie tą instrukcję perl-a. Jest jeszcze wersja `perl -pi -e \"s/co/naco/\"` plik która zmienia plik w miejscu (opcje -pi -e łatwo zapamiętają zwłaszcza łakomczuchy ;)"
   ]
  },
  {
   "cell_type": "code",
   "execution_count": null,
   "id": "53e99110-590c-418d-a144-0e74adf0fbfc",
   "metadata": {},
   "outputs": [],
   "source": []
  }
 ],
 "metadata": {
  "kernelspec": {
   "display_name": "Python 3 (ipykernel)",
   "language": "python",
   "name": "python3"
  },
  "language_info": {
   "codemirror_mode": {
    "name": "ipython",
    "version": 3
   },
   "file_extension": ".py",
   "mimetype": "text/x-python",
   "name": "python",
   "nbconvert_exporter": "python",
   "pygments_lexer": "ipython3",
   "version": "3.12.3"
  }
 },
 "nbformat": 4,
 "nbformat_minor": 5
}
