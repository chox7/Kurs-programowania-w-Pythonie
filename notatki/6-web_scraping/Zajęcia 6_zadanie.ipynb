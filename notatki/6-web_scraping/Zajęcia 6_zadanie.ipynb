{
 "cells": [
  {
   "cell_type": "markdown",
   "id": "e6c1b4d6",
   "metadata": {},
   "source": [
    "# Zadanie dnia"
   ]
  },
  {
   "cell_type": "markdown",
   "id": "421c5c1b",
   "metadata": {},
   "source": [
    "# Zadanie 1"
   ]
  },
  {
   "cell_type": "markdown",
   "id": "dd186b27",
   "metadata": {},
   "source": [
    "* Należy pobrać z wykorzystaniem pakietów requests, Beautiful Soup wszystkie wydarzenia zamieszczone w harmonogramie na stronie https://www.mimuw.edu.pl/. \n",
    "* Proszę napisać scraper w taki sposób, aby w efekcie działania zapisywał informacje jako lista słowników, których kluczami są tytuł, url do wydarzenia oraz jego data i godzina.\n",
    "* Otrzymane dane proszę zapisać w formacie csv/xlsx - pomocne może być wykorzystanie ramki danych (pakiet pandas) i metody from_dict.\n",
    "* Na koniec - prosze o wyświetlenie pięciu losowych wydarzeń z listy pobranych (tytuł, url, data)."
   ]
  },
  {
   "cell_type": "markdown",
   "id": "7fe6b588",
   "metadata": {},
   "source": [
    "# Zadanie 2"
   ]
  },
  {
   "cell_type": "markdown",
   "id": "ad7bd102",
   "metadata": {},
   "source": [
    "Należy wybrać dowolną stronę internetową (zgodnie z zainteresowaniami), która zezwala na pobieranie danych. Następnie proszę dokonać pobierania wybranych przez Państwa treści. Można spróbować wykorzystac Selenium, chociaż requests + Beautiful Soup są wystarczające. Uzasadnić do czego takie dane mogą się Państwu przydać.  "
   ]
  },
  {
   "metadata": {
    "ExecuteTime": {
     "end_time": "2024-11-23T13:40:48.446956Z",
     "start_time": "2024-11-23T13:40:47.749652Z"
    }
   },
   "cell_type": "code",
   "source": [
    "import requests\n",
    "from bs4 import BeautifulSoup\n",
    "def get_stock_data(ticker_symbol):\n",
    "    url = f'https://finance.yahoo.com/quote/{ticker_symbol}'\n",
    "    r = requests.get(url)\n",
    "    soup = BeautifulSoup(r.text, 'html.parser')\n",
    "    div = soup.find('div', {'class': 'container yf-1tejb6'})\n",
    "    price = div.find_all('fin-streamer', {'class' : 'livePrice yf-1tejb6'})[0].get('data-value')\n",
    "    price_change = div.find_all('fin-streamer', {'class' : 'priceChange yf-1tejb6'})[0].get('data-value')\n",
    "    price_change_percent = div.find_all('fin-streamer', {'class' : 'priceChange yf-1tejb6'})[1].get('data-value')\n",
    "    \n",
    "    stock = {\n",
    "    'name' : ticker_symbol,\n",
    "    'price' : price,\n",
    "    'change' : price_change,\n",
    "    'change_percent' : price_change_percent\n",
    "    }\n",
    "    \n",
    "    return stock\n",
    "\n",
    "stock_symbols = [\"AMZN\", \"TSLA\", \"BTC-USD\", \"META\", \"AAPL\", \"NFLX\", \"UEC\"]\n",
    "stock_data = []\n",
    "for stock in stock_symbols:\n",
    "    stock_data.append(get_stock_data(stock))\n",
    "\n",
    "print(stock_data)"
   ],
   "id": "f6b0b84e986f670f",
   "outputs": [
    {
     "name": "stdout",
     "output_type": "stream",
     "text": [
      "{'name': 'TSLA', 'price': '12.919983', 'change': '12.919983', 'change_percent': '3.8040226'}\n"
     ]
    }
   ],
   "execution_count": 34
  },
  {
   "metadata": {
    "ExecuteTime": {
     "end_time": "2024-11-23T14:25:21.232877Z",
     "start_time": "2024-11-23T14:25:13.659273Z"
    }
   },
   "cell_type": "code",
   "source": [
    "from selenium import webdriver\n",
    "from selenium.webdriver.chrome.service import  Service as ChromeService\n",
    "from selenium.webdriver.chrome.options import Options\n",
    "from selenium.webdriver.support.ui import WebDriverWait\n",
    "from selenium.webdriver.support import expected_conditions as EC\n",
    "from selenium.webdriver.common.by import By\n",
    "from selenium.common import TimeoutException\n",
    "\n",
    "from webdriver_manager.chrome  import ChromeDriverManager # webdriver-manager is not required, but it makes managing web drivers way easier\n",
    "\n",
    "ticker_symbol = 'AMZN'\n",
    "url = f'https://finance.yahoo.com/quote/{ticker_symbol}'\n",
    "\n",
    "# initialize a web driver instance\n",
    "options = Options()\n",
    "options.add_argument('--headless=new')\n",
    "driver = webdriver.Chrome(\n",
    "    service=ChromeService(ChromeDriverManager().install()),\n",
    "    options=options\n",
    ")\n",
    "# set up the window size of the browser\n",
    "driver.set_window_size(1920, 1080)\n",
    "# visit the target page\n",
    "driver.get(url)\n",
    "\n",
    "try:\n",
    "    # wait up to 3 seconds for the consent modal to show up\n",
    "    consent_overlay = WebDriverWait(driver, 3).until(\n",
    "        EC.presence_of_element_located((By.CSS_SELECTOR, '.consent-overlay')))\n",
    "\n",
    "    # click the \"Accept all\" button\n",
    "    accept_all_button = consent_overlay.find_element(By.CSS_SELECTOR, '.accept-all')\n",
    "    accept_all_button.click()\n",
    "except TimeoutException:\n",
    "    print('Cookie consent overlay missing')\n",
    "    \n",
    "\n",
    "regular_market_price = driver.find_element(\n",
    "\tBy.CSS_SELECTOR,\n",
    "\tf'[data-symbol=\"{ticker_symbol}\"][data-field=\"regularMarketPrice\"]'\n",
    ").text\n",
    "regular_market_change = driver\\\n",
    "    .find_element(By.CSS_SELECTOR, f'[data-symbol=\"{ticker_symbol}\"][data-field=\"regularMarketChange\"]')\\\n",
    "    .text\n",
    "regular_market_change_percent = driver\\\n",
    "    .find_element(By.CSS_SELECTOR, f'[data-symbol=\"{ticker_symbol}\"][data-field=\"regularMarketChangePercent\"]')\\\n",
    "    .text\\\n",
    "    .replace('(', '').replace(')', '')\n",
    "\n",
    "post_market_price = driver\\\n",
    "    .find_element(By.CSS_SELECTOR, f'[data-symbol=\"{ticker_symbol}\"][data-field=\"postMarketPrice\"]')\\\n",
    "    .text\n",
    "post_market_change = driver\\\n",
    "    .find_element(By.CSS_SELECTOR, f'[data-symbol=\"{ticker_symbol}\"][data-field=\"postMarketChange\"]')\\\n",
    "    .text\n",
    "post_market_change_percent = driver\\\n",
    "    .find_element(By.CSS_SELECTOR, f'[data-symbol=\"{ticker_symbol}\"][data-field=\"postMarketChangePercent\"]')\\\n",
    "    .text\\\n",
    "    .replace('(', '').replace(')', '')\n",
    "\n",
    "# initialize the dictionary\n",
    "stock = {}\n",
    "\n",
    "# stock price scraping logic omitted for brevity...\n",
    "\n",
    "# add the scraped data to the dictionary\n",
    "stock['regular_market_price'] = regular_market_price\n",
    "stock['regular_market_change'] = regular_market_change\n",
    "stock['regular_market_change_percent'] = regular_market_change_percent\n",
    "stock['post_market_price'] = post_market_price\n",
    "stock['post_market_change'] = post_market_change\n",
    "stock['post_market_change_percent'] = post_market_change_percent\n",
    "\n",
    "print(stock)\n",
    "\n",
    "# close the browser and free up the resources\n",
    "driver.quit()"
   ],
   "id": "bd67d34089dbe62f",
   "outputs": [
    {
     "name": "stdout",
     "output_type": "stream",
     "text": [
      "{'regular_market_price': '197.12', 'regular_market_change': '-1.26', 'regular_market_change_percent': '-0.64%', 'post_market_price': '197.05', 'post_market_change': '-0.07', 'post_market_change_percent': '-0.04%'}\n"
     ]
    }
   ],
   "execution_count": 43
  },
  {
   "metadata": {},
   "cell_type": "code",
   "outputs": [],
   "execution_count": null,
   "source": "",
   "id": "996ed7d9c154720"
  }
 ],
 "metadata": {
  "kernelspec": {
   "display_name": "Python 3 (ipykernel)",
   "language": "python",
   "name": "python3"
  },
  "language_info": {
   "codemirror_mode": {
    "name": "ipython",
    "version": 3
   },
   "file_extension": ".py",
   "mimetype": "text/x-python",
   "name": "python",
   "nbconvert_exporter": "python",
   "pygments_lexer": "ipython3",
   "version": "3.10.12"
  }
 },
 "nbformat": 4,
 "nbformat_minor": 5
}
