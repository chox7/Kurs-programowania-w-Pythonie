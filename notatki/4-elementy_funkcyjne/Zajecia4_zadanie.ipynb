{
 "cells": [
  {
   "metadata": {},
   "cell_type": "markdown",
   "source": [
    "# Konwersja pliku jupyter notebook do pythona. \n",
    "Napisz program wczytujący plik `.ipynb` (tak naprawdę w formacie json), którego nazwa zostanie podana jako argument wywołania programu. Po wczytaniu należy przerobić listę komórek na listę napisów w następujący sposób: każdy wiersz tekstu z komórki typu \"markdown\" należy poprzedzić znakiem komentarza `# `, a z kolei z komórek typu \"code\" należy pozostawić tylko linie z kodem źródłowym, a pominąć całą resztę (w szczególności ewentualne wyjście). Tłumaczenia należy dokonać z użyciem funkcji `map` (zawartość jednej komórki tłumaczymy na jeden napis - zapewne wielolinijkowy). Do łączenia listy linii tekstu można użyć konstrukcji `\"oddzielacz\".join(lista)`. Warto dołożyć od siebie jeszcze tu i ówdzie dodatkowy znak końca wiersza `\"\\n\"`. Można też na początku tekstu pochodzącego z każdego markdowna (albo kodu) dodać specjalny komentarz `\"#%%\\n\"` - popularne IDE traktują plik pythonowski z takimi komentarzami, jakby składał się z komórek do kolejnego uruchamiania. Uzyskane napisy należy zapisać do pliku wyjściowego o takiej samej nazwie, jak plik wejściowy, ale z rozszerzeniem `.py` zamiast `.ipynb`. Do zapisania można użyć konstrukcji `print(*lista, file=plik)`, być może dodatkowo z odpowiednim `sep=` i/lub `end=`. Powstały plik powinien być poprawnym plikiem w Pythonie.\n",
    "\n",
    "Oprócz powyższego należy wypisać liczbę ćwiczeń, które są w treści notebooka. Ćwiczenia są w komórkach markdown, które w pierwszej linii zawierają ciąg `# Ćwiczenie`. Tę część należy wykonać za pomocą `filter` lub `reduce`. Jeśli użyjesz `filter`, to pamiętaj, że zamiast tworzyć listę tylko po to, by policzyć jej długość, można użyć triku podobnego do liczenia samogłosek w przykładzie z `sorted(..., key=...)` w scenariuszu. Jeśli chcesz skorzystać z reduce, to należy do licznika dodawać 1 lub 0, w zależności od wyniku testu \"na ćwiczenie\" (albo wynik samego testu - używając podobnego triku).\n",
    "\n",
    "Dla przykładowego pliku wejściowego `plik.ipynb` (zawartość poglądowa):\n",
    "```\n",
    "<komórka markdown>\n",
    "   Ten program wypisuje \"A kuku\".\n",
    "<komórka code>\n",
    "   <kod> \n",
    "      print(\"A kuku\")\n",
    "   <wyjście>\n",
    "      A kuku\n",
    "<komórka markdown>\n",
    "   ### Ćwiczenie 1\n",
    "   Napisz program wypisujący dwukrotnie \"Ala ma kota\" w osobnych wierszach.\n",
    "<komórka code>\n",
    "   <kod> \n",
    "     print(\"Ala ma kota\")\n",
    "     print(\"Ala ma kota\")\n",
    "   <wyjście>\n",
    "     Ala ma kota\n",
    "     Ala ma kota\n",
    "```\n",
    "należy utworzyć plik wyjściowy `plik.py`, o następującej treści:\n",
    "```\n",
    "# Ten program wypisuje \"A kuku\".\n",
    "\n",
    "print(\"A kuku\")\n",
    "\n",
    "# ### Ćwiczenie 1\n",
    "# Napisz program wypisujący dwukrotnie \"Ala ma kota\" w osobnych wierszach.\n",
    "\n",
    "print(\"Ala ma kota\")\n",
    "print(\"Ala ma kota\")\n",
    "\n",
    "```\n",
    "Program powinien też wypisać:\n",
    "```\n",
    "Liczba ćwiczeń: 1\n",
    "```\n",
    "Szczegóły specyfikacji zadania należy sobie dopracować samemu na przykład poprzez inspekcję pliku notebooka z dzisiejszych zajęć."
   ],
   "id": "82aad2f944b3f0ea"
  },
  {
   "metadata": {},
   "cell_type": "code",
   "outputs": [],
   "execution_count": null,
   "source": "",
   "id": "afc2807b941ba339"
  }
 ],
 "metadata": {
  "kernelspec": {
   "display_name": "Python 3 (ipykernel)",
   "language": "python",
   "name": "python3"
  },
  "language_info": {
   "codemirror_mode": {
    "name": "ipython",
    "version": 3
   },
   "file_extension": ".py",
   "mimetype": "text/x-python",
   "name": "python",
   "nbconvert_exporter": "python",
   "pygments_lexer": "ipython3",
   "version": "3.11.6"
  }
 },
 "nbformat": 4,
 "nbformat_minor": 5
}
