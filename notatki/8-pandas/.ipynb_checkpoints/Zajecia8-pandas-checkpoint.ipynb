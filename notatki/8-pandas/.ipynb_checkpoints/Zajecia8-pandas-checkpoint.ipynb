{
 "cells": [
  {
   "cell_type": "markdown",
   "id": "39b3c57c",
   "metadata": {},
   "source": [
    "# Biblioteka pandas w Pythonie\n",
    "\n",
    "[Pandas](https://pandas.pydata.org/) to rozbudowana biblioteka do manipulowania danymi, tj. procesu pobierania danych i zmieniania ich formatu celem  łatwiejszego odczytu lub lepszego uporządkowania, oraz do analizy danych w Pythonie. \n",
    "\n",
    "Nazwa pochodzi od \"**pan**el **da**ta\", terminu powszechnie używanego w odniesieniu do wielowymiarowych zbiorów danych spotykanych w statystyce i ekonometrii."
   ]
  },
  {
   "cell_type": "markdown",
   "id": "d0c55567-2287-4565-87dd-69adf83d3f9d",
   "metadata": {},
   "source": [
    "**Uwaga**: Biblioteka pandas jest doskonałym narzędziem do pracy z małymi i średnimi zbiorami danych. Jednak zdolność pandas do przetwarzania dużych zbiorów danych jest ograniczona. Dzieje się tak, ponieważ pandas ładuje cały zbiór danych do pamięci RAM przed przetwarzaniem, co może być problematyczne, jeśli rozmiar zbioru danych przekracza dostępną pamięć."
   ]
  },
  {
   "cell_type": "markdown",
   "id": "bd8a5466",
   "metadata": {},
   "source": [
    "## 0. Instalacja oraz import biblioteki pandas\n",
    "\n",
    "Instalujemy za pomocą komendy pip:"
   ]
  },
  {
   "cell_type": "code",
   "id": "23ef48d5",
   "metadata": {
    "ExecuteTime": {
     "end_time": "2024-12-02T15:22:29.959898Z",
     "start_time": "2024-12-02T15:22:28.093475Z"
    }
   },
   "source": [
    "!pip install pandas"
   ],
   "outputs": [
    {
     "name": "stdout",
     "output_type": "stream",
     "text": [
      "Requirement already satisfied: pandas in /opt/anaconda3/envs/Kurs-programowania-w-Pythonie/lib/python3.11/site-packages (2.2.3)\r\n",
      "Requirement already satisfied: numpy>=1.23.2 in /opt/anaconda3/envs/Kurs-programowania-w-Pythonie/lib/python3.11/site-packages (from pandas) (2.1.3)\r\n",
      "Requirement already satisfied: python-dateutil>=2.8.2 in /opt/anaconda3/envs/Kurs-programowania-w-Pythonie/lib/python3.11/site-packages (from pandas) (2.9.0.post0)\r\n",
      "Requirement already satisfied: pytz>=2020.1 in /opt/anaconda3/envs/Kurs-programowania-w-Pythonie/lib/python3.11/site-packages (from pandas) (2024.1)\r\n",
      "Requirement already satisfied: tzdata>=2022.7 in /opt/anaconda3/envs/Kurs-programowania-w-Pythonie/lib/python3.11/site-packages (from pandas) (2024.2)\r\n",
      "Requirement already satisfied: six>=1.5 in /opt/anaconda3/envs/Kurs-programowania-w-Pythonie/lib/python3.11/site-packages (from python-dateutil>=2.8.2->pandas) (1.16.0)\r\n"
     ]
    }
   ],
   "execution_count": 1
  },
  {
   "cell_type": "markdown",
   "id": "5dc8f580",
   "metadata": {},
   "source": [
    "oraz importujemy za pomocą instrukcji"
   ]
  },
  {
   "cell_type": "code",
   "id": "47c5abe2",
   "metadata": {
    "ExecuteTime": {
     "end_time": "2024-12-02T15:22:31.319202Z",
     "start_time": "2024-12-02T15:22:29.973127Z"
    }
   },
   "source": [
    "import pandas as pd\n",
    "\n",
    "# Przyda się nam też NumPy, więc od razu i tę biblotekę zaimportujemy\n",
    "import numpy as np"
   ],
   "outputs": [],
   "execution_count": 2
  },
  {
   "cell_type": "markdown",
   "id": "c93398b8",
   "metadata": {},
   "source": [
    "## 1. Podstawowe struktury danych w pandas\n",
    "\n",
    "Serie danych (klasa [pandas.Series](https://pandas.pydata.org/docs/reference/api/pandas.Series.html)) – to jednowymiarowa tablica z etykietami, która może przechowywać dowolny typ danych.\n",
    "\n",
    "Ramka danych (klasa [pandas.DataFrame](https://pandas.pydata.org/docs/reference/api/pandas.DataFrame.html)) – dwuwymiarowa struktura z etykietami, mogąca przechowywać kolumny z różnymi typami danych.\n",
    "\n",
    "Indeks (klasa [pandas.Index](https://pandas.pydata.org/docs/reference/api/pandas.Index.html#pandas.Index)) - niezmienialny ciąg obiektów używany do indeksowania serii i ramek danych. "
   ]
  },
  {
   "cell_type": "markdown",
   "id": "b5d962e7",
   "metadata": {},
   "source": [
    "### Seria i indeks w pandas"
   ]
  },
  {
   "cell_type": "markdown",
   "id": "04f86591",
   "metadata": {},
   "source": [
    "Serię danych możemy utworzyć w następujący sposób:"
   ]
  },
  {
   "cell_type": "code",
   "id": "d767614e",
   "metadata": {
    "ExecuteTime": {
     "end_time": "2024-11-25T15:38:37.278977Z",
     "start_time": "2024-11-25T15:38:37.271837Z"
    }
   },
   "source": [
    "s = pd.Series([1, 3, 5, np.nan, 6, 8])\n",
    "s"
   ],
   "outputs": [
    {
     "data": {
      "text/plain": [
       "0    1.0\n",
       "1    3.0\n",
       "2    5.0\n",
       "3    NaN\n",
       "4    6.0\n",
       "5    8.0\n",
       "dtype: float64"
      ]
     },
     "execution_count": 6,
     "metadata": {},
     "output_type": "execute_result"
    }
   ],
   "execution_count": 6
  },
  {
   "cell_type": "markdown",
   "id": "67338094",
   "metadata": {},
   "source": [
    "W powyższym przykładzie kolejne wartości są indeksowane automatycznie:"
   ]
  },
  {
   "cell_type": "code",
   "id": "208e10d7",
   "metadata": {
    "ExecuteTime": {
     "end_time": "2024-11-25T15:38:37.441615Z",
     "start_time": "2024-11-25T15:38:37.437547Z"
    }
   },
   "source": [
    "list(s.index)"
   ],
   "outputs": [
    {
     "data": {
      "text/plain": [
       "[0, 1, 2, 3, 4, 5]"
      ]
     },
     "execution_count": 7,
     "metadata": {},
     "output_type": "execute_result"
    }
   ],
   "execution_count": 7
  },
  {
   "cell_type": "markdown",
   "id": "dd4e989e",
   "metadata": {},
   "source": [
    "Oczywiście możemy określić swój własny sposób indeksowania wartości: "
   ]
  },
  {
   "cell_type": "code",
   "id": "6552fe92",
   "metadata": {
    "ExecuteTime": {
     "end_time": "2024-11-25T15:38:37.815471Z",
     "start_time": "2024-11-25T15:38:37.809287Z"
    }
   },
   "source": [
    "s = pd.Series([12, 23, 19, 20], index=['Ala', 'Ola', 'Marek', 'Tomek'], dtype='int32')\n",
    "s"
   ],
   "outputs": [
    {
     "data": {
      "text/plain": [
       "Ala      12\n",
       "Ola      23\n",
       "Marek    19\n",
       "Tomek    20\n",
       "dtype: int32"
      ]
     },
     "execution_count": 8,
     "metadata": {},
     "output_type": "execute_result"
    }
   ],
   "execution_count": 8
  },
  {
   "cell_type": "markdown",
   "id": "b088307d",
   "metadata": {},
   "source": [
    "Indeks pozwala nam odczytywać poszczególne elementy serii danych.\n",
    "\n",
    "Na przykład tak:"
   ]
  },
  {
   "cell_type": "code",
   "id": "50387829",
   "metadata": {
    "ExecuteTime": {
     "end_time": "2024-11-25T15:38:37.958880Z",
     "start_time": "2024-11-25T15:38:37.954608Z"
    }
   },
   "source": [
    "s['Marek']"
   ],
   "outputs": [
    {
     "data": {
      "text/plain": [
       "np.int32(19)"
      ]
     },
     "execution_count": 9,
     "metadata": {},
     "output_type": "execute_result"
    }
   ],
   "execution_count": 9
  },
  {
   "cell_type": "markdown",
   "id": "f613538c",
   "metadata": {},
   "source": [
    "Ale można i tak, korzystając z odpowiedniego atrybutu:"
   ]
  },
  {
   "cell_type": "code",
   "id": "4731da44",
   "metadata": {
    "ExecuteTime": {
     "end_time": "2024-11-25T15:38:38.244088Z",
     "start_time": "2024-11-25T15:38:38.240718Z"
    }
   },
   "source": [
    "s.Marek"
   ],
   "outputs": [
    {
     "data": {
      "text/plain": [
       "np.int32(19)"
      ]
     },
     "execution_count": 10,
     "metadata": {},
     "output_type": "execute_result"
    }
   ],
   "execution_count": 10
  },
  {
   "cell_type": "markdown",
   "id": "504a9a0d",
   "metadata": {},
   "source": [
    "Możemy też odczytywać dane z serii danych w \"tradycyjny\" sposób, tj. tak jak w przypadku standardowych list w Pythonie czy tabel w NumPy:"
   ]
  },
  {
   "cell_type": "code",
   "id": "f1ab9585",
   "metadata": {
    "ExecuteTime": {
     "end_time": "2024-11-25T15:38:38.490619Z",
     "start_time": "2024-11-25T15:38:38.484674Z"
    }
   },
   "source": [
    "s[0]"
   ],
   "outputs": [
    {
     "name": "stderr",
     "output_type": "stream",
     "text": [
      "/var/folders/kb/3jqrfg_91312qsz97b4mj_p40000gn/T/ipykernel_83009/2186746824.py:1: FutureWarning: Series.__getitem__ treating keys as positions is deprecated. In a future version, integer keys will always be treated as labels (consistent with DataFrame behavior). To access a value by position, use `ser.iloc[pos]`\n",
      "  s[0]\n"
     ]
    },
    {
     "data": {
      "text/plain": [
       "np.int32(12)"
      ]
     },
     "execution_count": 11,
     "metadata": {},
     "output_type": "execute_result"
    }
   ],
   "execution_count": 11
  },
  {
   "cell_type": "markdown",
   "id": "cafe7686-dba1-4c17-a874-10827cea3bfb",
   "metadata": {},
   "source": [
    "choć w przyszłości najprawdopodobniej zostanie to zmienione (w wersji 2.2.3 pojawia się odpowiednie ostrzeżenie)."
   ]
  },
  {
   "cell_type": "code",
   "id": "36899f11",
   "metadata": {
    "ExecuteTime": {
     "end_time": "2024-11-25T15:38:38.682068Z",
     "start_time": "2024-11-25T15:38:38.675285Z"
    }
   },
   "source": [
    "s[1:3]"
   ],
   "outputs": [
    {
     "data": {
      "text/plain": [
       "Ola      23\n",
       "Marek    19\n",
       "dtype: int32"
      ]
     },
     "execution_count": 12,
     "metadata": {},
     "output_type": "execute_result"
    }
   ],
   "execution_count": 12
  },
  {
   "cell_type": "markdown",
   "id": "bf018ccc",
   "metadata": {},
   "source": [
    "W prosty sposób możemy stworzyć serię danych dla odczytów w określonych datach, punktach czasowych, itp. Tworzymy indeks dla poszczególnych odczytów, np. dla pierwszego dnia każdego miesiąca w 2020r.: "
   ]
  },
  {
   "cell_type": "code",
   "id": "74f5d81e",
   "metadata": {
    "ExecuteTime": {
     "end_time": "2024-11-25T15:38:38.870623Z",
     "start_time": "2024-11-25T15:38:38.861985Z"
    }
   },
   "source": [
    "daty = pd.date_range('20200101', periods=12, freq='MS')\n",
    "print(daty)"
   ],
   "outputs": [
    {
     "name": "stdout",
     "output_type": "stream",
     "text": [
      "DatetimeIndex(['2020-01-01', '2020-02-01', '2020-03-01', '2020-04-01',\n",
      "               '2020-05-01', '2020-06-01', '2020-07-01', '2020-08-01',\n",
      "               '2020-09-01', '2020-10-01', '2020-11-01', '2020-12-01'],\n",
      "              dtype='datetime64[ns]', freq='MS')\n"
     ]
    }
   ],
   "execution_count": 13
  },
  {
   "cell_type": "markdown",
   "id": "fccd22dc",
   "metadata": {},
   "source": [
    "'MS' jest napisem określającym częstotliwość z jaką mają być generowane kolejne elementy zakresu. Możliwe inne wartości tego parametru są dostępne [tutaj](https://pandas.pydata.org/docs/user_guide/timeseries.html#timeseries-offset-aliases).\n",
    "\n",
    "Utworzymy teraz serię danych zawierającą średnie wartości temperatury powietrza w Warszawie w poszczególnych miesiącach 2020r. zmierzone przez stację meteorologiczną Warszawa-Filtry (dla zainteresowanych: dane są dostępne [tutaj](https://meteomodel.pl/dane/srednie-miesieczne/?imgwid=252200230&par=tm&max_empty=2)):"
   ]
  },
  {
   "cell_type": "code",
   "id": "afebef79",
   "metadata": {
    "ExecuteTime": {
     "end_time": "2024-11-25T15:38:39.301498Z",
     "start_time": "2024-11-25T15:38:39.295788Z"
    }
   },
   "source": [
    "temp = pd.Series([2.7, 4.2, 5.4, 10.0, 12.8, 20.0, 20.3, 21.3, 16.0, 10.8, 6.0, 2.1], index=daty)\n",
    "temp"
   ],
   "outputs": [
    {
     "data": {
      "text/plain": [
       "2020-01-01     2.7\n",
       "2020-02-01     4.2\n",
       "2020-03-01     5.4\n",
       "2020-04-01    10.0\n",
       "2020-05-01    12.8\n",
       "2020-06-01    20.0\n",
       "2020-07-01    20.3\n",
       "2020-08-01    21.3\n",
       "2020-09-01    16.0\n",
       "2020-10-01    10.8\n",
       "2020-11-01     6.0\n",
       "2020-12-01     2.1\n",
       "Freq: MS, dtype: float64"
      ]
     },
     "execution_count": 14,
     "metadata": {},
     "output_type": "execute_result"
    }
   ],
   "execution_count": 14
  },
  {
   "cell_type": "markdown",
   "id": "bad8410b",
   "metadata": {},
   "source": [
    "Poszczególne wartości możemy odczytwać z serii danych na różne sposoby.\n",
    "\n",
    "Pojedynczy element:"
   ]
  },
  {
   "cell_type": "code",
   "id": "d59f4c61",
   "metadata": {
    "ExecuteTime": {
     "end_time": "2024-11-25T15:38:39.867834Z",
     "start_time": "2024-11-25T15:38:39.861980Z"
    }
   },
   "source": [
    "temp[0]"
   ],
   "outputs": [
    {
     "name": "stderr",
     "output_type": "stream",
     "text": [
      "/var/folders/kb/3jqrfg_91312qsz97b4mj_p40000gn/T/ipykernel_83009/1695165492.py:1: FutureWarning: Series.__getitem__ treating keys as positions is deprecated. In a future version, integer keys will always be treated as labels (consistent with DataFrame behavior). To access a value by position, use `ser.iloc[pos]`\n",
      "  temp[0]\n"
     ]
    },
    {
     "data": {
      "text/plain": [
       "np.float64(2.7)"
      ]
     },
     "execution_count": 15,
     "metadata": {},
     "output_type": "execute_result"
    }
   ],
   "execution_count": 15
  },
  {
   "cell_type": "code",
   "id": "a30be1bb",
   "metadata": {
    "ExecuteTime": {
     "end_time": "2024-11-25T15:38:40.393996Z",
     "start_time": "2024-11-25T15:38:40.386289Z"
    }
   },
   "source": [
    "temp['2020-01-01']"
   ],
   "outputs": [
    {
     "data": {
      "text/plain": [
       "np.float64(2.7)"
      ]
     },
     "execution_count": 16,
     "metadata": {},
     "output_type": "execute_result"
    }
   ],
   "execution_count": 16
  },
  {
   "cell_type": "code",
   "id": "9089ab2b",
   "metadata": {
    "ExecuteTime": {
     "end_time": "2024-11-25T15:38:40.610414Z",
     "start_time": "2024-11-25T15:38:40.607261Z"
    }
   },
   "source": [
    "temp['2020/5/1']"
   ],
   "outputs": [
    {
     "data": {
      "text/plain": [
       "np.float64(12.8)"
      ]
     },
     "execution_count": 17,
     "metadata": {},
     "output_type": "execute_result"
    }
   ],
   "execution_count": 17
  },
  {
   "cell_type": "code",
   "id": "01173ff2",
   "metadata": {
    "ExecuteTime": {
     "end_time": "2024-11-25T15:38:40.864669Z",
     "start_time": "2024-11-25T15:38:40.857343Z"
    }
   },
   "source": [
    "temp['2020-01']"
   ],
   "outputs": [
    {
     "data": {
      "text/plain": [
       "2020-01-01    2.7\n",
       "Freq: MS, dtype: float64"
      ]
     },
     "execution_count": 18,
     "metadata": {},
     "output_type": "execute_result"
    }
   ],
   "execution_count": 18
  },
  {
   "cell_type": "markdown",
   "id": "07968f92",
   "metadata": {},
   "source": [
    "Ale to już nie zadziała:"
   ]
  },
  {
   "cell_type": "code",
   "id": "acba63c2",
   "metadata": {
    "ExecuteTime": {
     "end_time": "2024-11-25T15:38:41.048644Z",
     "start_time": "2024-11-25T15:38:41.045259Z"
    }
   },
   "source": [
    "temp.2020-01-01"
   ],
   "outputs": [
    {
     "ename": "SyntaxError",
     "evalue": "leading zeros in decimal integer literals are not permitted; use an 0o prefix for octal integers (3395180251.py, line 1)",
     "output_type": "error",
     "traceback": [
      "\u001B[0;36m  Cell \u001B[0;32mIn[19], line 1\u001B[0;36m\u001B[0m\n\u001B[0;31m    temp.2020-01-01\u001B[0m\n\u001B[0m              ^\u001B[0m\n\u001B[0;31mSyntaxError\u001B[0m\u001B[0;31m:\u001B[0m leading zeros in decimal integer literals are not permitted; use an 0o prefix for octal integers\n"
     ]
    }
   ],
   "execution_count": 19
  },
  {
   "cell_type": "markdown",
   "id": "9e5ead53",
   "metadata": {},
   "source": [
    "ani to:"
   ]
  },
  {
   "cell_type": "code",
   "id": "e32b7e53",
   "metadata": {
    "ExecuteTime": {
     "end_time": "2024-11-25T15:38:41.401698Z",
     "start_time": "2024-11-25T15:38:41.398095Z"
    }
   },
   "source": [
    "temp.'2020-01-01'"
   ],
   "outputs": [
    {
     "ename": "SyntaxError",
     "evalue": "invalid syntax (201227571.py, line 1)",
     "output_type": "error",
     "traceback": [
      "\u001B[0;36m  Cell \u001B[0;32mIn[20], line 1\u001B[0;36m\u001B[0m\n\u001B[0;31m    temp.'2020-01-01'\u001B[0m\n\u001B[0m         ^\u001B[0m\n\u001B[0;31mSyntaxError\u001B[0m\u001B[0;31m:\u001B[0m invalid syntax\n"
     ]
    }
   ],
   "execution_count": 20
  },
  {
   "cell_type": "markdown",
   "id": "2934a683",
   "metadata": {},
   "source": [
    "Ale możemy tak:"
   ]
  },
  {
   "cell_type": "code",
   "id": "d5d10fc1",
   "metadata": {
    "ExecuteTime": {
     "end_time": "2024-11-25T15:38:41.896734Z",
     "start_time": "2024-11-25T15:38:41.889428Z"
    }
   },
   "source": [
    "ts = pd.to_datetime('2020-01-01')\n",
    "ts"
   ],
   "outputs": [
    {
     "data": {
      "text/plain": [
       "Timestamp('2020-01-01 00:00:00')"
      ]
     },
     "execution_count": 21,
     "metadata": {},
     "output_type": "execute_result"
    }
   ],
   "execution_count": 21
  },
  {
   "cell_type": "markdown",
   "id": "6b900026",
   "metadata": {},
   "source": [
    "i jeszcze na kilka różnych sposobów:"
   ]
  },
  {
   "cell_type": "code",
   "id": "3281fe78",
   "metadata": {
    "ExecuteTime": {
     "end_time": "2024-11-25T15:38:42.433790Z",
     "start_time": "2024-11-25T15:38:42.429310Z"
    }
   },
   "source": [
    "ts = pd.to_datetime('2020-01')\n",
    "ts"
   ],
   "outputs": [
    {
     "data": {
      "text/plain": [
       "Timestamp('2020-01-01 00:00:00')"
      ]
     },
     "execution_count": 22,
     "metadata": {},
     "output_type": "execute_result"
    }
   ],
   "execution_count": 22
  },
  {
   "cell_type": "code",
   "id": "0c93c2e2",
   "metadata": {
    "ExecuteTime": {
     "end_time": "2024-11-25T15:38:43.846549Z",
     "start_time": "2024-11-25T15:38:43.839934Z"
    }
   },
   "source": [
    "pd.to_datetime('2020')"
   ],
   "outputs": [
    {
     "data": {
      "text/plain": [
       "Timestamp('2020-01-01 00:00:00')"
      ]
     },
     "execution_count": 23,
     "metadata": {},
     "output_type": "execute_result"
    }
   ],
   "execution_count": 23
  },
  {
   "cell_type": "code",
   "id": "76902163",
   "metadata": {
    "ExecuteTime": {
     "end_time": "2024-11-25T15:38:44.866248Z",
     "start_time": "2024-11-25T15:38:44.861729Z"
    }
   },
   "source": [
    "temp[ts]"
   ],
   "outputs": [
    {
     "data": {
      "text/plain": [
       "np.float64(2.7)"
      ]
     },
     "execution_count": 24,
     "metadata": {},
     "output_type": "execute_result"
    }
   ],
   "execution_count": 24
  },
  {
   "cell_type": "code",
   "id": "c8db51bd",
   "metadata": {
    "ExecuteTime": {
     "end_time": "2024-11-25T15:38:45.333517Z",
     "start_time": "2024-11-25T15:38:45.326088Z"
    }
   },
   "source": [
    "temp['2020']"
   ],
   "outputs": [
    {
     "data": {
      "text/plain": [
       "2020-01-01     2.7\n",
       "2020-02-01     4.2\n",
       "2020-03-01     5.4\n",
       "2020-04-01    10.0\n",
       "2020-05-01    12.8\n",
       "2020-06-01    20.0\n",
       "2020-07-01    20.3\n",
       "2020-08-01    21.3\n",
       "2020-09-01    16.0\n",
       "2020-10-01    10.8\n",
       "2020-11-01     6.0\n",
       "2020-12-01     2.1\n",
       "Freq: MS, dtype: float64"
      ]
     },
     "execution_count": 25,
     "metadata": {},
     "output_type": "execute_result"
    }
   ],
   "execution_count": 25
  },
  {
   "cell_type": "code",
   "id": "909aaf58",
   "metadata": {
    "ExecuteTime": {
     "end_time": "2024-11-25T15:38:45.685556Z",
     "start_time": "2024-11-25T15:38:45.678233Z"
    }
   },
   "source": [
    "temp['2020-05-01':'2020-08-01']"
   ],
   "outputs": [
    {
     "data": {
      "text/plain": [
       "2020-05-01    12.8\n",
       "2020-06-01    20.0\n",
       "2020-07-01    20.3\n",
       "2020-08-01    21.3\n",
       "Freq: MS, dtype: float64"
      ]
     },
     "execution_count": 26,
     "metadata": {},
     "output_type": "execute_result"
    }
   ],
   "execution_count": 26
  },
  {
   "cell_type": "markdown",
   "id": "af824e86",
   "metadata": {},
   "source": [
    "Co ciekawe, można i tak:"
   ]
  },
  {
   "cell_type": "code",
   "id": "3484d923",
   "metadata": {
    "ExecuteTime": {
     "end_time": "2024-11-25T15:38:46.734907Z",
     "start_time": "2024-11-25T15:38:46.726607Z"
    }
   },
   "source": [
    "temp['2020-05-01':'2020-08-12']"
   ],
   "outputs": [
    {
     "data": {
      "text/plain": [
       "2020-05-01    12.8\n",
       "2020-06-01    20.0\n",
       "2020-07-01    20.3\n",
       "2020-08-01    21.3\n",
       "Freq: MS, dtype: float64"
      ]
     },
     "execution_count": 27,
     "metadata": {},
     "output_type": "execute_result"
    }
   ],
   "execution_count": 27
  },
  {
   "cell_type": "markdown",
   "id": "837cbf13",
   "metadata": {},
   "source": [
    "W naszym przykładzie serii danych zawierających średnie wartości temperatur dla poszczególnych miesięcy, etykiety indeksu są jednak mylące, gdyż zawierają informację o dniu - sugerują jakby pomiary były dokonywane w pierwszym dniu każdego miesiąca, co nie jest zgodne ze stanem faktycznym. Dlatego spróbujemy poprawić nasz indeks. Możemy zrobić to używająć funkcji [period_range](https://pandas.pydata.org/docs/reference/api/pandas.period_range.html). Najpierw utworzymy nowy indeks:"
   ]
  },
  {
   "cell_type": "code",
   "id": "084a66fe",
   "metadata": {
    "ExecuteTime": {
     "end_time": "2024-11-25T15:38:47.639529Z",
     "start_time": "2024-11-25T15:38:47.635102Z"
    }
   },
   "source": [
    "nowy_indeks = pd.period_range(\"2020/01/01\", freq=\"M\", periods=12)\n",
    "nowy_indeks"
   ],
   "outputs": [
    {
     "data": {
      "text/plain": [
       "PeriodIndex(['2020-01', '2020-02', '2020-03', '2020-04', '2020-05', '2020-06',\n",
       "             '2020-07', '2020-08', '2020-09', '2020-10', '2020-11', '2020-12'],\n",
       "            dtype='period[M]')"
      ]
     },
     "execution_count": 28,
     "metadata": {},
     "output_type": "execute_result"
    }
   ],
   "execution_count": 28
  },
  {
   "cell_type": "markdown",
   "id": "c351894d",
   "metadata": {},
   "source": [
    "Zauważmy, że przy okazji zmienimy klasę indeksu z [DatetimeIndex](https://pandas.pydata.org/docs/reference/api/pandas.DatetimeIndex.html) na [PeriodIndex](https://pandas.pydata.org/docs/reference/api/pandas.PeriodIndex.html).\n",
    "Teraz dokonamy podmiany:"
   ]
  },
  {
   "cell_type": "code",
   "id": "63d5a1c0",
   "metadata": {
    "ExecuteTime": {
     "end_time": "2024-11-25T15:38:48.458646Z",
     "start_time": "2024-11-25T15:38:48.453267Z"
    }
   },
   "source": [
    "temp.index = nowy_indeks\n",
    "temp"
   ],
   "outputs": [
    {
     "data": {
      "text/plain": [
       "2020-01     2.7\n",
       "2020-02     4.2\n",
       "2020-03     5.4\n",
       "2020-04    10.0\n",
       "2020-05    12.8\n",
       "2020-06    20.0\n",
       "2020-07    20.3\n",
       "2020-08    21.3\n",
       "2020-09    16.0\n",
       "2020-10    10.8\n",
       "2020-11     6.0\n",
       "2020-12     2.1\n",
       "Freq: M, dtype: float64"
      ]
     },
     "execution_count": 29,
     "metadata": {},
     "output_type": "execute_result"
    }
   ],
   "execution_count": 29
  },
  {
   "cell_type": "markdown",
   "id": "6774151e",
   "metadata": {},
   "source": [
    "Przy okazji nie tylko mamy bardziej poprawny indeks, ale też zredukowaliśmy zużycie pamięci:"
   ]
  },
  {
   "cell_type": "code",
   "id": "ab191fe0",
   "metadata": {
    "ExecuteTime": {
     "end_time": "2024-11-25T15:38:48.930715Z",
     "start_time": "2024-11-25T15:38:48.927422Z"
    }
   },
   "source": [
    "print(f\"Niepoprawny indeks zajmował {daty.memory_usage()} bajtów.\")\n",
    "print(f\"Poprawny indeks zajmuje {nowy_indeks.memory_usage()} bajtów.\")"
   ],
   "outputs": [
    {
     "name": "stdout",
     "output_type": "stream",
     "text": [
      "Niepoprawny indeks zajmował 396 bajtów.\n",
      "Poprawny indeks zajmuje 96 bajtów.\n"
     ]
    }
   ],
   "execution_count": 30
  },
  {
   "cell_type": "code",
   "id": "5918c001",
   "metadata": {
    "ExecuteTime": {
     "end_time": "2024-11-25T15:38:49.279593Z",
     "start_time": "2024-11-25T15:38:49.276906Z"
    }
   },
   "source": [
    "daty.dtype"
   ],
   "outputs": [
    {
     "data": {
      "text/plain": [
       "dtype('<M8[ns]')"
      ]
     },
     "execution_count": 31,
     "metadata": {},
     "output_type": "execute_result"
    }
   ],
   "execution_count": 31
  },
  {
   "cell_type": "code",
   "id": "6d0bcd96",
   "metadata": {
    "ExecuteTime": {
     "end_time": "2024-11-25T15:38:49.698542Z",
     "start_time": "2024-11-25T15:38:49.695082Z"
    }
   },
   "source": [
    "nowy_indeks.dtype"
   ],
   "outputs": [
    {
     "data": {
      "text/plain": [
       "period[M]"
      ]
     },
     "execution_count": 32,
     "metadata": {},
     "output_type": "execute_result"
    }
   ],
   "execution_count": 32
  },
  {
   "cell_type": "markdown",
   "id": "f7fec4bc",
   "metadata": {},
   "source": [
    "Do zagadnień związanych z czasem i manipulowaniem nim w pandas jeszcze wrócimy na końcu dzisiejszych zajęć."
   ]
  },
  {
   "cell_type": "markdown",
   "id": "c15b36e1",
   "metadata": {},
   "source": [
    "Omówimy jeszcze metodę [pandas.Series.map](https://pandas.pydata.org/docs/reference/api/pandas.Series.map.html) dla serii danych. Pozwala ona na zastępowanie wartości serii danych innymi wartościami zadanymi przez funkcję, słownik lub inną serię danych:"
   ]
  },
  {
   "cell_type": "code",
   "id": "cbde4e30",
   "metadata": {
    "ExecuteTime": {
     "end_time": "2024-11-25T15:38:50.439971Z",
     "start_time": "2024-11-25T15:38:50.435720Z"
    }
   },
   "source": [
    "s = pd.Series(['cat', 'dog', np.nan, 'rabbit'])\n",
    "s"
   ],
   "outputs": [
    {
     "data": {
      "text/plain": [
       "0       cat\n",
       "1       dog\n",
       "2       NaN\n",
       "3    rabbit\n",
       "dtype: object"
      ]
     },
     "execution_count": 33,
     "metadata": {},
     "output_type": "execute_result"
    }
   ],
   "execution_count": 33
  },
  {
   "cell_type": "markdown",
   "id": "99762627",
   "metadata": {},
   "source": [
    "Najpierw nowe wartości zadamy za pomocą słownika. Jeżeli w słowniku brakuje odpowiedniego klucza, to nową wartością jest NaN, chyba że słownik określa wartość domyślną:"
   ]
  },
  {
   "cell_type": "code",
   "id": "f3c3e328",
   "metadata": {
    "ExecuteTime": {
     "end_time": "2024-11-25T15:38:50.919814Z",
     "start_time": "2024-11-25T15:38:50.913626Z"
    }
   },
   "source": [
    "s.map({'cat': 'kitten', 'dog': 'puppy'})"
   ],
   "outputs": [
    {
     "data": {
      "text/plain": [
       "0    kitten\n",
       "1     puppy\n",
       "2       NaN\n",
       "3       NaN\n",
       "dtype: object"
      ]
     },
     "execution_count": 34,
     "metadata": {},
     "output_type": "execute_result"
    }
   ],
   "execution_count": 34
  },
  {
   "cell_type": "markdown",
   "id": "6445bc57",
   "metadata": {},
   "source": [
    "Teraz nowe wartości zostaną zadane za pomocą funkcji. Na przykład tak:"
   ]
  },
  {
   "cell_type": "code",
   "id": "ef75c404",
   "metadata": {
    "ExecuteTime": {
     "end_time": "2024-11-25T15:38:51.375292Z",
     "start_time": "2024-11-25T15:38:51.368771Z"
    }
   },
   "source": [
    "s.map('I am a {}'.format, na_action='ignore')"
   ],
   "outputs": [
    {
     "data": {
      "text/plain": [
       "0       I am a cat\n",
       "1       I am a dog\n",
       "2              NaN\n",
       "3    I am a rabbit\n",
       "dtype: object"
      ]
     },
     "execution_count": 35,
     "metadata": {},
     "output_type": "execute_result"
    }
   ],
   "execution_count": 35
  },
  {
   "cell_type": "markdown",
   "id": "2a5bbaa1-669f-46e2-ab93-170a9a82b1ee",
   "metadata": {},
   "source": [
    "albo tak, używając wyrażenia lambda:"
   ]
  },
  {
   "cell_type": "code",
   "id": "433a0542",
   "metadata": {
    "ExecuteTime": {
     "end_time": "2024-11-25T15:38:51.974150Z",
     "start_time": "2024-11-25T15:38:51.969256Z"
    }
   },
   "source": [
    "pd.Series([1,2,3,4,5]).map(lambda x: x+2)"
   ],
   "outputs": [
    {
     "data": {
      "text/plain": [
       "0    3\n",
       "1    4\n",
       "2    5\n",
       "3    6\n",
       "4    7\n",
       "dtype: int64"
      ]
     },
     "execution_count": 36,
     "metadata": {},
     "output_type": "execute_result"
    }
   ],
   "execution_count": 36
  },
  {
   "cell_type": "markdown",
   "id": "3375b11f",
   "metadata": {},
   "source": [
    "No i jeszcze zadamy nowe wartości za pomocą innej serii:"
   ]
  },
  {
   "cell_type": "code",
   "id": "1e2772f9",
   "metadata": {
    "ExecuteTime": {
     "end_time": "2024-11-25T15:38:52.982290Z",
     "start_time": "2024-11-25T15:38:52.975055Z"
    }
   },
   "source": [
    "s = pd.Series(['A','B','C','D'])\n",
    "other_series = pd.Series(range(len(s)), index = ['C', 'D', 'B', 'A'])\n",
    "s.map(other_series)"
   ],
   "outputs": [
    {
     "data": {
      "text/plain": [
       "0    3\n",
       "1    2\n",
       "2    0\n",
       "3    1\n",
       "dtype: int64"
      ]
     },
     "execution_count": 37,
     "metadata": {},
     "output_type": "execute_result"
    }
   ],
   "execution_count": 37
  },
  {
   "cell_type": "markdown",
   "id": "5eb0a3d5",
   "metadata": {},
   "source": [
    "### Ćwiczenie 1\n",
    "\n",
    "Utworzyć serię danych ciśnienia atmosferycznego w hPa w pierwszych siedmiu dniach roku 2024 w Warszawie. Wartości liczbowe można pobrać [stąd](https://www.ekologia.pl/pogoda/polska/mazowieckie/warszawa/archiwum,zakres,01-01-2024_07-01-2024)."
   ]
  },
  {
   "cell_type": "code",
   "id": "991ba98e",
   "metadata": {
    "ExecuteTime": {
     "end_time": "2024-11-25T15:45:34.491099Z",
     "start_time": "2024-11-25T15:45:34.477634Z"
    }
   },
   "source": [
    "daty = pd.date_range('20240101', periods=7, freq='D')\n",
    "cisnienie = pd.Series([1015]*7, index=daty)\n",
    "cisnienie"
   ],
   "outputs": [
    {
     "data": {
      "text/plain": [
       "2024-01-01    1015\n",
       "2024-01-02    1015\n",
       "2024-01-03    1015\n",
       "2024-01-04    1015\n",
       "2024-01-05    1015\n",
       "2024-01-06    1015\n",
       "2024-01-07    1015\n",
       "Freq: D, dtype: int64"
      ]
     },
     "execution_count": 40,
     "metadata": {},
     "output_type": "execute_result"
    }
   ],
   "execution_count": 40
  },
  {
   "cell_type": "markdown",
   "id": "9d6a1eaf",
   "metadata": {},
   "source": [
    "---\n",
    "\n",
    "### Ramka danych w pandas\n",
    "\n",
    "Teraz przejdziemy do omówienia klasy [pandas.DataFrame](https://pandas.pydata.org/docs/reference/api/pandas.DataFrame.html). Obiekty tej klasy to dwuwymiarowe tablice danych z indeksami kolumn i wierszy, gdzie poszczególne kolumny to serie danych, tj. obiekty klasy [pandas.Series](https://pandas.pydata.org/docs/reference/api/pandas.Series.html).\n",
    "\n",
    "Na początek utworzymy obiekt DataFrame na podstawie słownika:"
   ]
  },
  {
   "cell_type": "code",
   "id": "ce296582",
   "metadata": {
    "ExecuteTime": {
     "end_time": "2024-11-25T15:47:06.003147Z",
     "start_time": "2024-11-25T15:47:05.990759Z"
    }
   },
   "source": [
    "data = {'Kraj': ['Belgia', 'Indie', 'Brazylia'],\n",
    "        'Stolica': ['Bruksela', 'New Delhi', 'Brasilia'],\n",
    "        'Populacja': [11190846, 1303171035, 207847528]}\n",
    "df = pd.DataFrame(data,columns=['Kraj', 'Stolica', 'Populacja'])\n",
    "df"
   ],
   "outputs": [
    {
     "data": {
      "text/plain": [
       "       Kraj    Stolica   Populacja\n",
       "0    Belgia   Bruksela    11190846\n",
       "1     Indie  New Delhi  1303171035\n",
       "2  Brazylia   Brasilia   207847528"
      ],
      "text/html": [
       "<div>\n",
       "<style scoped>\n",
       "    .dataframe tbody tr th:only-of-type {\n",
       "        vertical-align: middle;\n",
       "    }\n",
       "\n",
       "    .dataframe tbody tr th {\n",
       "        vertical-align: top;\n",
       "    }\n",
       "\n",
       "    .dataframe thead th {\n",
       "        text-align: right;\n",
       "    }\n",
       "</style>\n",
       "<table border=\"1\" class=\"dataframe\">\n",
       "  <thead>\n",
       "    <tr style=\"text-align: right;\">\n",
       "      <th></th>\n",
       "      <th>Kraj</th>\n",
       "      <th>Stolica</th>\n",
       "      <th>Populacja</th>\n",
       "    </tr>\n",
       "  </thead>\n",
       "  <tbody>\n",
       "    <tr>\n",
       "      <th>0</th>\n",
       "      <td>Belgia</td>\n",
       "      <td>Bruksela</td>\n",
       "      <td>11190846</td>\n",
       "    </tr>\n",
       "    <tr>\n",
       "      <th>1</th>\n",
       "      <td>Indie</td>\n",
       "      <td>New Delhi</td>\n",
       "      <td>1303171035</td>\n",
       "    </tr>\n",
       "    <tr>\n",
       "      <th>2</th>\n",
       "      <td>Brazylia</td>\n",
       "      <td>Brasilia</td>\n",
       "      <td>207847528</td>\n",
       "    </tr>\n",
       "  </tbody>\n",
       "</table>\n",
       "</div>"
      ]
     },
     "execution_count": 44,
     "metadata": {},
     "output_type": "execute_result"
    }
   ],
   "execution_count": 44
  },
  {
   "cell_type": "markdown",
   "id": "fa4c6f23",
   "metadata": {},
   "source": [
    "Sprawdźmy indkes kolumn tego obiektu:"
   ]
  },
  {
   "cell_type": "code",
   "id": "6ef55569",
   "metadata": {
    "ExecuteTime": {
     "end_time": "2024-11-25T15:47:27.584495Z",
     "start_time": "2024-11-25T15:47:27.580197Z"
    }
   },
   "source": [
    "df.columns"
   ],
   "outputs": [
    {
     "data": {
      "text/plain": [
       "Index(['Kraj', 'Stolica', 'Populacja'], dtype='object')"
      ]
     },
     "execution_count": 45,
     "metadata": {},
     "output_type": "execute_result"
    }
   ],
   "execution_count": 45
  },
  {
   "cell_type": "markdown",
   "id": "2c8a9108",
   "metadata": {},
   "source": [
    "Listę zawierającą nazwy kolumn możemy uzyskać w ten sposób:"
   ]
  },
  {
   "cell_type": "code",
   "id": "0db50f53",
   "metadata": {
    "ExecuteTime": {
     "end_time": "2024-11-25T15:47:33.474780Z",
     "start_time": "2024-11-25T15:47:33.468936Z"
    }
   },
   "source": [
    "df.columns.tolist()"
   ],
   "outputs": [
    {
     "data": {
      "text/plain": [
       "['Kraj', 'Stolica', 'Populacja']"
      ]
     },
     "execution_count": 46,
     "metadata": {},
     "output_type": "execute_result"
    }
   ],
   "execution_count": 46
  },
  {
   "cell_type": "markdown",
   "id": "15b0b499",
   "metadata": {},
   "source": [
    "A teraz zobaczmy czym jest indeks wierszy:"
   ]
  },
  {
   "cell_type": "code",
   "id": "8f2161c1",
   "metadata": {
    "ExecuteTime": {
     "end_time": "2024-11-25T15:47:43.885705Z",
     "start_time": "2024-11-25T15:47:43.882109Z"
    }
   },
   "source": [
    "df.index"
   ],
   "outputs": [
    {
     "data": {
      "text/plain": [
       "RangeIndex(start=0, stop=3, step=1)"
      ]
     },
     "execution_count": 47,
     "metadata": {},
     "output_type": "execute_result"
    }
   ],
   "execution_count": 47
  },
  {
   "cell_type": "markdown",
   "id": "437cd064",
   "metadata": {},
   "source": [
    "Sprawdźmy jeszcze obiektem jakiej klasy jest jedna z kolumn:"
   ]
  },
  {
   "cell_type": "code",
   "id": "3312c40d",
   "metadata": {
    "ExecuteTime": {
     "end_time": "2024-11-25T15:48:00.981376Z",
     "start_time": "2024-11-25T15:48:00.971259Z"
    }
   },
   "source": [
    "type(df['Kraj'])"
   ],
   "outputs": [
    {
     "data": {
      "text/plain": [
       "pandas.core.series.Series"
      ]
     },
     "execution_count": 48,
     "metadata": {},
     "output_type": "execute_result"
    }
   ],
   "execution_count": 48
  },
  {
   "cell_type": "markdown",
   "id": "23d1d97a",
   "metadata": {},
   "source": [
    "Kolumny są obiektami klasy [pandas.Series](https://pandas.pydata.org/docs/reference/api/pandas.Series.html). Ale elementy poszczególnych kolumn już mogą być różnych typów. Dlatego też dla każdej kolumny DataFrame przechowywany jest jej typ danych. Informacje o tym typie możemy uzyskać za pomocą atrybutu dtypes:"
   ]
  },
  {
   "cell_type": "code",
   "id": "8b642990",
   "metadata": {
    "ExecuteTime": {
     "end_time": "2024-11-25T15:49:42.387145Z",
     "start_time": "2024-11-25T15:49:42.358938Z"
    }
   },
   "source": [
    "print(df.dtypes)"
   ],
   "outputs": [
    {
     "name": "stdout",
     "output_type": "stream",
     "text": [
      "Kraj         object\n",
      "Stolica      object\n",
      "Populacja     int64\n",
      "dtype: object\n"
     ]
    }
   ],
   "execution_count": 49
  },
  {
   "cell_type": "markdown",
   "id": "25eac20b",
   "metadata": {},
   "source": [
    "Możemy też utworzyć obiekt klasy DataFrame łącząc serie danych:"
   ]
  },
  {
   "cell_type": "markdown",
   "id": "1c0224bb",
   "metadata": {},
   "source": [
    "Przykład 1:"
   ]
  },
  {
   "cell_type": "code",
   "id": "fa2bea14",
   "metadata": {
    "ExecuteTime": {
     "end_time": "2024-11-25T15:50:23.745752Z",
     "start_time": "2024-11-25T15:50:23.737799Z"
    }
   },
   "source": [
    "s1 = pd.Series(range(6))\n",
    "s2 = pd.Series(range(6,12))\n",
    "df = pd.concat([s1, s2], axis=1)\n",
    "df"
   ],
   "outputs": [
    {
     "data": {
      "text/plain": [
       "   0   1\n",
       "0  0   6\n",
       "1  1   7\n",
       "2  2   8\n",
       "3  3   9\n",
       "4  4  10\n",
       "5  5  11"
      ],
      "text/html": [
       "<div>\n",
       "<style scoped>\n",
       "    .dataframe tbody tr th:only-of-type {\n",
       "        vertical-align: middle;\n",
       "    }\n",
       "\n",
       "    .dataframe tbody tr th {\n",
       "        vertical-align: top;\n",
       "    }\n",
       "\n",
       "    .dataframe thead th {\n",
       "        text-align: right;\n",
       "    }\n",
       "</style>\n",
       "<table border=\"1\" class=\"dataframe\">\n",
       "  <thead>\n",
       "    <tr style=\"text-align: right;\">\n",
       "      <th></th>\n",
       "      <th>0</th>\n",
       "      <th>1</th>\n",
       "    </tr>\n",
       "  </thead>\n",
       "  <tbody>\n",
       "    <tr>\n",
       "      <th>0</th>\n",
       "      <td>0</td>\n",
       "      <td>6</td>\n",
       "    </tr>\n",
       "    <tr>\n",
       "      <th>1</th>\n",
       "      <td>1</td>\n",
       "      <td>7</td>\n",
       "    </tr>\n",
       "    <tr>\n",
       "      <th>2</th>\n",
       "      <td>2</td>\n",
       "      <td>8</td>\n",
       "    </tr>\n",
       "    <tr>\n",
       "      <th>3</th>\n",
       "      <td>3</td>\n",
       "      <td>9</td>\n",
       "    </tr>\n",
       "    <tr>\n",
       "      <th>4</th>\n",
       "      <td>4</td>\n",
       "      <td>10</td>\n",
       "    </tr>\n",
       "    <tr>\n",
       "      <th>5</th>\n",
       "      <td>5</td>\n",
       "      <td>11</td>\n",
       "    </tr>\n",
       "  </tbody>\n",
       "</table>\n",
       "</div>"
      ]
     },
     "execution_count": 54,
     "metadata": {},
     "output_type": "execute_result"
    }
   ],
   "execution_count": 54
  },
  {
   "cell_type": "markdown",
   "id": "1bb3792f",
   "metadata": {},
   "source": [
    "Przykład 2: Różne indeksy dla poszczególnych serii danych"
   ]
  },
  {
   "cell_type": "code",
   "id": "d17eb9bc",
   "metadata": {
    "ExecuteTime": {
     "end_time": "2024-11-25T15:50:29.410897Z",
     "start_time": "2024-11-25T15:50:29.403462Z"
    }
   },
   "source": [
    "s1 = pd.Series(range(6))\n",
    "s2 = s1 ** s1\n",
    "# Zmieniamy indeks s2\n",
    "s2.index = s2.index + 3\n",
    "df = pd.concat([s1, s2], axis=1)\n",
    "df"
   ],
   "outputs": [
    {
     "data": {
      "text/plain": [
       "     0       1\n",
       "0  0.0     NaN\n",
       "1  1.0     NaN\n",
       "2  2.0     NaN\n",
       "3  3.0     1.0\n",
       "4  4.0     1.0\n",
       "5  5.0     4.0\n",
       "6  NaN    27.0\n",
       "7  NaN   256.0\n",
       "8  NaN  3125.0"
      ],
      "text/html": [
       "<div>\n",
       "<style scoped>\n",
       "    .dataframe tbody tr th:only-of-type {\n",
       "        vertical-align: middle;\n",
       "    }\n",
       "\n",
       "    .dataframe tbody tr th {\n",
       "        vertical-align: top;\n",
       "    }\n",
       "\n",
       "    .dataframe thead th {\n",
       "        text-align: right;\n",
       "    }\n",
       "</style>\n",
       "<table border=\"1\" class=\"dataframe\">\n",
       "  <thead>\n",
       "    <tr style=\"text-align: right;\">\n",
       "      <th></th>\n",
       "      <th>0</th>\n",
       "      <th>1</th>\n",
       "    </tr>\n",
       "  </thead>\n",
       "  <tbody>\n",
       "    <tr>\n",
       "      <th>0</th>\n",
       "      <td>0.0</td>\n",
       "      <td>NaN</td>\n",
       "    </tr>\n",
       "    <tr>\n",
       "      <th>1</th>\n",
       "      <td>1.0</td>\n",
       "      <td>NaN</td>\n",
       "    </tr>\n",
       "    <tr>\n",
       "      <th>2</th>\n",
       "      <td>2.0</td>\n",
       "      <td>NaN</td>\n",
       "    </tr>\n",
       "    <tr>\n",
       "      <th>3</th>\n",
       "      <td>3.0</td>\n",
       "      <td>1.0</td>\n",
       "    </tr>\n",
       "    <tr>\n",
       "      <th>4</th>\n",
       "      <td>4.0</td>\n",
       "      <td>1.0</td>\n",
       "    </tr>\n",
       "    <tr>\n",
       "      <th>5</th>\n",
       "      <td>5.0</td>\n",
       "      <td>4.0</td>\n",
       "    </tr>\n",
       "    <tr>\n",
       "      <th>6</th>\n",
       "      <td>NaN</td>\n",
       "      <td>27.0</td>\n",
       "    </tr>\n",
       "    <tr>\n",
       "      <th>7</th>\n",
       "      <td>NaN</td>\n",
       "      <td>256.0</td>\n",
       "    </tr>\n",
       "    <tr>\n",
       "      <th>8</th>\n",
       "      <td>NaN</td>\n",
       "      <td>3125.0</td>\n",
       "    </tr>\n",
       "  </tbody>\n",
       "</table>\n",
       "</div>"
      ]
     },
     "execution_count": 55,
     "metadata": {},
     "output_type": "execute_result"
    }
   ],
   "execution_count": 55
  },
  {
   "cell_type": "markdown",
   "id": "bb6138a0",
   "metadata": {},
   "source": [
    "Przykład 3:"
   ]
  },
  {
   "cell_type": "code",
   "id": "962e941e",
   "metadata": {
    "ExecuteTime": {
     "end_time": "2024-11-25T15:55:42.905039Z",
     "start_time": "2024-11-25T15:55:42.869094Z"
    }
   },
   "source": [
    "s3 = pd.Series({'Tomek':1, 'Ala':4, 'Ola':9})\n",
    "s4 = pd.Series({'Kasia':3, 'Ala':2, 'Tomek':5})\n",
    "df = pd.concat({'A':s3, 'B':s4}, axis=1)\n",
    "df"
   ],
   "outputs": [
    {
     "data": {
      "text/plain": [
       "         A    B\n",
       "Tomek  1.0  5.0\n",
       "Ala    4.0  2.0\n",
       "Ola    9.0  NaN\n",
       "Kasia  NaN  3.0"
      ],
      "text/html": [
       "<div>\n",
       "<style scoped>\n",
       "    .dataframe tbody tr th:only-of-type {\n",
       "        vertical-align: middle;\n",
       "    }\n",
       "\n",
       "    .dataframe tbody tr th {\n",
       "        vertical-align: top;\n",
       "    }\n",
       "\n",
       "    .dataframe thead th {\n",
       "        text-align: right;\n",
       "    }\n",
       "</style>\n",
       "<table border=\"1\" class=\"dataframe\">\n",
       "  <thead>\n",
       "    <tr style=\"text-align: right;\">\n",
       "      <th></th>\n",
       "      <th>A</th>\n",
       "      <th>B</th>\n",
       "    </tr>\n",
       "  </thead>\n",
       "  <tbody>\n",
       "    <tr>\n",
       "      <th>Tomek</th>\n",
       "      <td>1.0</td>\n",
       "      <td>5.0</td>\n",
       "    </tr>\n",
       "    <tr>\n",
       "      <th>Ala</th>\n",
       "      <td>4.0</td>\n",
       "      <td>2.0</td>\n",
       "    </tr>\n",
       "    <tr>\n",
       "      <th>Ola</th>\n",
       "      <td>9.0</td>\n",
       "      <td>NaN</td>\n",
       "    </tr>\n",
       "    <tr>\n",
       "      <th>Kasia</th>\n",
       "      <td>NaN</td>\n",
       "      <td>3.0</td>\n",
       "    </tr>\n",
       "  </tbody>\n",
       "</table>\n",
       "</div>"
      ]
     },
     "execution_count": 56,
     "metadata": {},
     "output_type": "execute_result"
    }
   ],
   "execution_count": 56
  },
  {
   "cell_type": "markdown",
   "id": "ea18f278",
   "metadata": {},
   "source": [
    "Co mogliśmy zaobserwować?\n",
    "\n",
    "- Indeksy poszczególnych serii danych były uzgadniane a brakujące wartości dla poszczególnych elementów indeksu uzupełniane NaN.\n",
    "- Kolejność elementów w wynikowym obiekcie klasy DataFrame mogła ulec zmianie w stosunku do kolejności w wejściowych seriach danych."
   ]
  },
  {
   "cell_type": "markdown",
   "id": "55917858",
   "metadata": {},
   "source": [
    "Obiekt klasy DataFrame możemy też utworzyć wczytując dane z pliku, np. w formacie CSV:"
   ]
  },
  {
   "cell_type": "code",
   "id": "4a2502b0",
   "metadata": {
    "ExecuteTime": {
     "end_time": "2024-11-25T15:55:45.228017Z",
     "start_time": "2024-11-25T15:55:45.220764Z"
    }
   },
   "source": [
    "import csv\n",
    "\n",
    "with open('kraje_dane.csv', 'w', newline='') as file:\n",
    "    writer = csv.writer(file)\n",
    "    field = [\"Kraj\", \"Stolica\", \"Populacja\"]\n",
    "    writer.writerow(field)\n",
    "    writer.writerow(['Belgia', 'Bruksela', 11190846])\n",
    "    writer.writerow(['Indie', 'New Delhi', 1303171035])\n",
    "    writer.writerow(['Brazylia', 'Brasilia', 207847528])"
   ],
   "outputs": [],
   "execution_count": 57
  },
  {
   "cell_type": "code",
   "id": "1b7d9627",
   "metadata": {
    "ExecuteTime": {
     "end_time": "2024-11-25T15:55:45.880592Z",
     "start_time": "2024-11-25T15:55:45.871434Z"
    }
   },
   "source": [
    "df = pd.read_csv('kraje_dane.csv', header=0)\n",
    "df"
   ],
   "outputs": [
    {
     "data": {
      "text/plain": [
       "       Kraj    Stolica   Populacja\n",
       "0    Belgia   Bruksela    11190846\n",
       "1     Indie  New Delhi  1303171035\n",
       "2  Brazylia   Brasilia   207847528"
      ],
      "text/html": [
       "<div>\n",
       "<style scoped>\n",
       "    .dataframe tbody tr th:only-of-type {\n",
       "        vertical-align: middle;\n",
       "    }\n",
       "\n",
       "    .dataframe tbody tr th {\n",
       "        vertical-align: top;\n",
       "    }\n",
       "\n",
       "    .dataframe thead th {\n",
       "        text-align: right;\n",
       "    }\n",
       "</style>\n",
       "<table border=\"1\" class=\"dataframe\">\n",
       "  <thead>\n",
       "    <tr style=\"text-align: right;\">\n",
       "      <th></th>\n",
       "      <th>Kraj</th>\n",
       "      <th>Stolica</th>\n",
       "      <th>Populacja</th>\n",
       "    </tr>\n",
       "  </thead>\n",
       "  <tbody>\n",
       "    <tr>\n",
       "      <th>0</th>\n",
       "      <td>Belgia</td>\n",
       "      <td>Bruksela</td>\n",
       "      <td>11190846</td>\n",
       "    </tr>\n",
       "    <tr>\n",
       "      <th>1</th>\n",
       "      <td>Indie</td>\n",
       "      <td>New Delhi</td>\n",
       "      <td>1303171035</td>\n",
       "    </tr>\n",
       "    <tr>\n",
       "      <th>2</th>\n",
       "      <td>Brazylia</td>\n",
       "      <td>Brasilia</td>\n",
       "      <td>207847528</td>\n",
       "    </tr>\n",
       "  </tbody>\n",
       "</table>\n",
       "</div>"
      ]
     },
     "execution_count": 58,
     "metadata": {},
     "output_type": "execute_result"
    }
   ],
   "execution_count": 58
  },
  {
   "cell_type": "markdown",
   "id": "6d8e56eb",
   "metadata": {},
   "source": [
    "Obiekt klasy DataFrame możemy skonwertować to tablicy NumPy za pomocą metody pandas.DataFrame.to_numpy():"
   ]
  },
  {
   "cell_type": "code",
   "id": "3cc9b466",
   "metadata": {
    "ExecuteTime": {
     "end_time": "2024-11-25T15:55:48.149405Z",
     "start_time": "2024-11-25T15:55:48.146598Z"
    }
   },
   "source": [
    "df_np = df.to_numpy()\n",
    "df_np"
   ],
   "outputs": [
    {
     "data": {
      "text/plain": [
       "array([['Belgia', 'Bruksela', 11190846],\n",
       "       ['Indie', 'New Delhi', 1303171035],\n",
       "       ['Brazylia', 'Brasilia', 207847528]], dtype=object)"
      ]
     },
     "execution_count": 59,
     "metadata": {},
     "output_type": "execute_result"
    }
   ],
   "execution_count": 59
  },
  {
   "cell_type": "markdown",
   "id": "5533f32e",
   "metadata": {},
   "source": [
    "lub za pomocą atrybutu [pandas.DataFrame.values](https://pandas.pydata.org/docs/reference/api/pandas.DataFrame.values.html):"
   ]
  },
  {
   "cell_type": "code",
   "id": "e5fcf43b",
   "metadata": {
    "ExecuteTime": {
     "end_time": "2024-11-25T15:55:52.329110Z",
     "start_time": "2024-11-25T15:55:52.326016Z"
    }
   },
   "source": [
    "df.values"
   ],
   "outputs": [
    {
     "data": {
      "text/plain": [
       "array([['Belgia', 'Bruksela', 11190846],\n",
       "       ['Indie', 'New Delhi', 1303171035],\n",
       "       ['Brazylia', 'Brasilia', 207847528]], dtype=object)"
      ]
     },
     "execution_count": 60,
     "metadata": {},
     "output_type": "execute_result"
    }
   ],
   "execution_count": 60
  },
  {
   "cell_type": "markdown",
   "id": "d42edefb",
   "metadata": {},
   "source": [
    "W łatwy sposób możemy podmienić zawartość kolumn w obiekcie DataFrame:"
   ]
  },
  {
   "cell_type": "code",
   "id": "8bae2261",
   "metadata": {
    "ExecuteTime": {
     "end_time": "2024-11-25T16:01:30.418083Z",
     "start_time": "2024-11-25T16:01:30.385107Z"
    }
   },
   "source": [
    "df[['Stolica', 'Populacja']] = df[['Populacja', 'Stolica']]\n",
    "df"
   ],
   "outputs": [
    {
     "data": {
      "text/plain": [
       "       Kraj     Stolica  Populacja\n",
       "0    Belgia    11190846   Bruksela\n",
       "1     Indie  1303171035  New Delhi\n",
       "2  Brazylia   207847528   Brasilia"
      ],
      "text/html": [
       "<div>\n",
       "<style scoped>\n",
       "    .dataframe tbody tr th:only-of-type {\n",
       "        vertical-align: middle;\n",
       "    }\n",
       "\n",
       "    .dataframe tbody tr th {\n",
       "        vertical-align: top;\n",
       "    }\n",
       "\n",
       "    .dataframe thead th {\n",
       "        text-align: right;\n",
       "    }\n",
       "</style>\n",
       "<table border=\"1\" class=\"dataframe\">\n",
       "  <thead>\n",
       "    <tr style=\"text-align: right;\">\n",
       "      <th></th>\n",
       "      <th>Kraj</th>\n",
       "      <th>Stolica</th>\n",
       "      <th>Populacja</th>\n",
       "    </tr>\n",
       "  </thead>\n",
       "  <tbody>\n",
       "    <tr>\n",
       "      <th>0</th>\n",
       "      <td>Belgia</td>\n",
       "      <td>11190846</td>\n",
       "      <td>Bruksela</td>\n",
       "    </tr>\n",
       "    <tr>\n",
       "      <th>1</th>\n",
       "      <td>Indie</td>\n",
       "      <td>1303171035</td>\n",
       "      <td>New Delhi</td>\n",
       "    </tr>\n",
       "    <tr>\n",
       "      <th>2</th>\n",
       "      <td>Brazylia</td>\n",
       "      <td>207847528</td>\n",
       "      <td>Brasilia</td>\n",
       "    </tr>\n",
       "  </tbody>\n",
       "</table>\n",
       "</div>"
      ]
     },
     "execution_count": 65,
     "metadata": {},
     "output_type": "execute_result"
    }
   ],
   "execution_count": 65
  },
  {
   "cell_type": "markdown",
   "id": "1ca1063e",
   "metadata": {},
   "source": [
    "Tylko, że w tym przypadku nie ma to sensu. Dlatego przywracamy pierwotną postać:"
   ]
  },
  {
   "cell_type": "code",
   "id": "c608a5af",
   "metadata": {
    "ExecuteTime": {
     "end_time": "2024-11-25T16:01:32.108142Z",
     "start_time": "2024-11-25T16:01:32.101185Z"
    }
   },
   "source": [
    "df[['Stolica', 'Populacja']] = df[['Populacja', 'Stolica']]\n",
    "df"
   ],
   "outputs": [
    {
     "data": {
      "text/plain": [
       "       Kraj    Stolica   Populacja\n",
       "0    Belgia   Bruksela    11190846\n",
       "1     Indie  New Delhi  1303171035\n",
       "2  Brazylia   Brasilia   207847528"
      ],
      "text/html": [
       "<div>\n",
       "<style scoped>\n",
       "    .dataframe tbody tr th:only-of-type {\n",
       "        vertical-align: middle;\n",
       "    }\n",
       "\n",
       "    .dataframe tbody tr th {\n",
       "        vertical-align: top;\n",
       "    }\n",
       "\n",
       "    .dataframe thead th {\n",
       "        text-align: right;\n",
       "    }\n",
       "</style>\n",
       "<table border=\"1\" class=\"dataframe\">\n",
       "  <thead>\n",
       "    <tr style=\"text-align: right;\">\n",
       "      <th></th>\n",
       "      <th>Kraj</th>\n",
       "      <th>Stolica</th>\n",
       "      <th>Populacja</th>\n",
       "    </tr>\n",
       "  </thead>\n",
       "  <tbody>\n",
       "    <tr>\n",
       "      <th>0</th>\n",
       "      <td>Belgia</td>\n",
       "      <td>Bruksela</td>\n",
       "      <td>11190846</td>\n",
       "    </tr>\n",
       "    <tr>\n",
       "      <th>1</th>\n",
       "      <td>Indie</td>\n",
       "      <td>New Delhi</td>\n",
       "      <td>1303171035</td>\n",
       "    </tr>\n",
       "    <tr>\n",
       "      <th>2</th>\n",
       "      <td>Brazylia</td>\n",
       "      <td>Brasilia</td>\n",
       "      <td>207847528</td>\n",
       "    </tr>\n",
       "  </tbody>\n",
       "</table>\n",
       "</div>"
      ]
     },
     "execution_count": 66,
     "metadata": {},
     "output_type": "execute_result"
    }
   ],
   "execution_count": 66
  },
  {
   "cell_type": "markdown",
   "id": "44ed6b9c",
   "metadata": {},
   "source": [
    "---\n",
    "Wczytamy teraz słynny zbiór danych z pomiarami kwiatów irysa, udostępniony po raz pierwszy przez Ronalda Fishera w roku 1936. Jest to jeden z najbardziej znanych zbiorów w analizie danych, stosowany do konstruowania modeli do rozwiązywania zadania klasyfikacji. Zbiór jest udostępniony m. in. w repozytorium [UC Irvine Machine Learning Repository](https://archive.ics.uci.edu/dataset/53/iris).\n",
    "\n",
    "Zbiór składa się ze 150 obserwacji, po 50 dla każdego z trzech gatunków kwiatów irysa: irys (kosaciec) szczecinkowaty (ang. *setosa*), irys wirginijski (ang. *virginica*) i irys różnobarwny (ang. *versicolor*). Mierzone były\n",
    "4 cechy (w centymetrach): długości i szerokości działki kielicha (ang. *sepal*) oraz płatka (ang. *petal*).\n",
    "\n",
    "<center>\n",
    "<div>\n",
    "<img src=\"img/iris1.png\" width=\"400\"><img src=\"img/iris2.jpg\" width=\"150\">\n",
    "</div>\n",
    "</center>"
   ]
  },
  {
   "cell_type": "code",
   "id": "99eed66c",
   "metadata": {
    "ExecuteTime": {
     "end_time": "2024-11-25T16:01:34.739607Z",
     "start_time": "2024-11-25T16:01:33.112514Z"
    }
   },
   "source": [
    "url = 'https://archive.ics.uci.edu/ml/machine-learning-databases/iris/iris.data'\n",
    "df = pd.read_csv(url, header=None)\n",
    "df.columns = ['sepal length','sepal width','petal length','petal width','class']"
   ],
   "outputs": [],
   "execution_count": 67
  },
  {
   "cell_type": "markdown",
   "id": "67a04484",
   "metadata": {},
   "source": [
    "Wypiszmy informacje o utworzonej ramce danych. "
   ]
  },
  {
   "cell_type": "code",
   "id": "4b836b6c",
   "metadata": {
    "ExecuteTime": {
     "end_time": "2024-11-25T16:03:25.023731Z",
     "start_time": "2024-11-25T16:03:25.009278Z"
    }
   },
   "source": [
    "df.info()"
   ],
   "outputs": [
    {
     "name": "stdout",
     "output_type": "stream",
     "text": [
      "<class 'pandas.core.frame.DataFrame'>\n",
      "RangeIndex: 150 entries, 0 to 149\n",
      "Data columns (total 5 columns):\n",
      " #   Column        Non-Null Count  Dtype  \n",
      "---  ------        --------------  -----  \n",
      " 0   sepal length  150 non-null    float64\n",
      " 1   sepal width   150 non-null    float64\n",
      " 2   petal length  150 non-null    float64\n",
      " 3   petal width   150 non-null    float64\n",
      " 4   class         150 non-null    object \n",
      "dtypes: float64(4), object(1)\n",
      "memory usage: 6.0+ KB\n"
     ]
    }
   ],
   "execution_count": 76
  },
  {
   "cell_type": "markdown",
   "id": "49826cd7",
   "metadata": {},
   "source": [
    "W szczególności widzimy, że nasz zbiór danych nie zawiera brakujących danych.\n",
    "\n",
    "Wypiszmy pierwszych kilka wierszy:"
   ]
  },
  {
   "cell_type": "code",
   "id": "dfe83574",
   "metadata": {
    "ExecuteTime": {
     "end_time": "2024-11-25T16:11:12.367721Z",
     "start_time": "2024-11-25T16:11:12.354652Z"
    }
   },
   "source": [
    "df.head()"
   ],
   "outputs": [
    {
     "data": {
      "text/plain": [
       "   sepal length  sepal width  petal length  petal width        class\n",
       "0           5.1          3.5           1.4          0.2  Iris-setosa\n",
       "1           4.9          3.0           1.4          0.2  Iris-setosa\n",
       "2           4.7          3.2           1.3          0.2  Iris-setosa\n",
       "3           4.6          3.1           1.5          0.2  Iris-setosa\n",
       "4           5.0          3.6           1.4          0.2  Iris-setosa"
      ],
      "text/html": [
       "<div>\n",
       "<style scoped>\n",
       "    .dataframe tbody tr th:only-of-type {\n",
       "        vertical-align: middle;\n",
       "    }\n",
       "\n",
       "    .dataframe tbody tr th {\n",
       "        vertical-align: top;\n",
       "    }\n",
       "\n",
       "    .dataframe thead th {\n",
       "        text-align: right;\n",
       "    }\n",
       "</style>\n",
       "<table border=\"1\" class=\"dataframe\">\n",
       "  <thead>\n",
       "    <tr style=\"text-align: right;\">\n",
       "      <th></th>\n",
       "      <th>sepal length</th>\n",
       "      <th>sepal width</th>\n",
       "      <th>petal length</th>\n",
       "      <th>petal width</th>\n",
       "      <th>class</th>\n",
       "    </tr>\n",
       "  </thead>\n",
       "  <tbody>\n",
       "    <tr>\n",
       "      <th>0</th>\n",
       "      <td>5.1</td>\n",
       "      <td>3.5</td>\n",
       "      <td>1.4</td>\n",
       "      <td>0.2</td>\n",
       "      <td>Iris-setosa</td>\n",
       "    </tr>\n",
       "    <tr>\n",
       "      <th>1</th>\n",
       "      <td>4.9</td>\n",
       "      <td>3.0</td>\n",
       "      <td>1.4</td>\n",
       "      <td>0.2</td>\n",
       "      <td>Iris-setosa</td>\n",
       "    </tr>\n",
       "    <tr>\n",
       "      <th>2</th>\n",
       "      <td>4.7</td>\n",
       "      <td>3.2</td>\n",
       "      <td>1.3</td>\n",
       "      <td>0.2</td>\n",
       "      <td>Iris-setosa</td>\n",
       "    </tr>\n",
       "    <tr>\n",
       "      <th>3</th>\n",
       "      <td>4.6</td>\n",
       "      <td>3.1</td>\n",
       "      <td>1.5</td>\n",
       "      <td>0.2</td>\n",
       "      <td>Iris-setosa</td>\n",
       "    </tr>\n",
       "    <tr>\n",
       "      <th>4</th>\n",
       "      <td>5.0</td>\n",
       "      <td>3.6</td>\n",
       "      <td>1.4</td>\n",
       "      <td>0.2</td>\n",
       "      <td>Iris-setosa</td>\n",
       "    </tr>\n",
       "  </tbody>\n",
       "</table>\n",
       "</div>"
      ]
     },
     "execution_count": 77,
     "metadata": {},
     "output_type": "execute_result"
    }
   ],
   "execution_count": 77
  },
  {
   "cell_type": "markdown",
   "id": "a5864296",
   "metadata": {},
   "source": [
    "i kilka ostatnich wierszy: "
   ]
  },
  {
   "cell_type": "code",
   "id": "38ab9528",
   "metadata": {
    "ExecuteTime": {
     "end_time": "2024-11-25T16:11:13.667850Z",
     "start_time": "2024-11-25T16:11:13.659161Z"
    }
   },
   "source": [
    "df.tail()"
   ],
   "outputs": [
    {
     "data": {
      "text/plain": [
       "     sepal length  sepal width  petal length  petal width           class\n",
       "145           6.7          3.0           5.2          2.3  Iris-virginica\n",
       "146           6.3          2.5           5.0          1.9  Iris-virginica\n",
       "147           6.5          3.0           5.2          2.0  Iris-virginica\n",
       "148           6.2          3.4           5.4          2.3  Iris-virginica\n",
       "149           5.9          3.0           5.1          1.8  Iris-virginica"
      ],
      "text/html": [
       "<div>\n",
       "<style scoped>\n",
       "    .dataframe tbody tr th:only-of-type {\n",
       "        vertical-align: middle;\n",
       "    }\n",
       "\n",
       "    .dataframe tbody tr th {\n",
       "        vertical-align: top;\n",
       "    }\n",
       "\n",
       "    .dataframe thead th {\n",
       "        text-align: right;\n",
       "    }\n",
       "</style>\n",
       "<table border=\"1\" class=\"dataframe\">\n",
       "  <thead>\n",
       "    <tr style=\"text-align: right;\">\n",
       "      <th></th>\n",
       "      <th>sepal length</th>\n",
       "      <th>sepal width</th>\n",
       "      <th>petal length</th>\n",
       "      <th>petal width</th>\n",
       "      <th>class</th>\n",
       "    </tr>\n",
       "  </thead>\n",
       "  <tbody>\n",
       "    <tr>\n",
       "      <th>145</th>\n",
       "      <td>6.7</td>\n",
       "      <td>3.0</td>\n",
       "      <td>5.2</td>\n",
       "      <td>2.3</td>\n",
       "      <td>Iris-virginica</td>\n",
       "    </tr>\n",
       "    <tr>\n",
       "      <th>146</th>\n",
       "      <td>6.3</td>\n",
       "      <td>2.5</td>\n",
       "      <td>5.0</td>\n",
       "      <td>1.9</td>\n",
       "      <td>Iris-virginica</td>\n",
       "    </tr>\n",
       "    <tr>\n",
       "      <th>147</th>\n",
       "      <td>6.5</td>\n",
       "      <td>3.0</td>\n",
       "      <td>5.2</td>\n",
       "      <td>2.0</td>\n",
       "      <td>Iris-virginica</td>\n",
       "    </tr>\n",
       "    <tr>\n",
       "      <th>148</th>\n",
       "      <td>6.2</td>\n",
       "      <td>3.4</td>\n",
       "      <td>5.4</td>\n",
       "      <td>2.3</td>\n",
       "      <td>Iris-virginica</td>\n",
       "    </tr>\n",
       "    <tr>\n",
       "      <th>149</th>\n",
       "      <td>5.9</td>\n",
       "      <td>3.0</td>\n",
       "      <td>5.1</td>\n",
       "      <td>1.8</td>\n",
       "      <td>Iris-virginica</td>\n",
       "    </tr>\n",
       "  </tbody>\n",
       "</table>\n",
       "</div>"
      ]
     },
     "execution_count": 78,
     "metadata": {},
     "output_type": "execute_result"
    }
   ],
   "execution_count": 78
  },
  {
   "cell_type": "markdown",
   "id": "7117cf69",
   "metadata": {},
   "source": [
    "W łatwy sposób możemy też policzyć podstawowe statystyki dla poszczególnych kolumn zawierających dane liczbowe:"
   ]
  },
  {
   "cell_type": "code",
   "id": "ac17c673",
   "metadata": {
    "ExecuteTime": {
     "end_time": "2024-11-25T16:11:14.912119Z",
     "start_time": "2024-11-25T16:11:14.899072Z"
    }
   },
   "source": [
    "df.describe()"
   ],
   "outputs": [
    {
     "data": {
      "text/plain": [
       "       sepal length  sepal width  petal length  petal width\n",
       "count    150.000000   150.000000    150.000000   150.000000\n",
       "mean       5.843333     3.054000      3.758667     1.198667\n",
       "std        0.828066     0.433594      1.764420     0.763161\n",
       "min        4.300000     2.000000      1.000000     0.100000\n",
       "25%        5.100000     2.800000      1.600000     0.300000\n",
       "50%        5.800000     3.000000      4.350000     1.300000\n",
       "75%        6.400000     3.300000      5.100000     1.800000\n",
       "max        7.900000     4.400000      6.900000     2.500000"
      ],
      "text/html": [
       "<div>\n",
       "<style scoped>\n",
       "    .dataframe tbody tr th:only-of-type {\n",
       "        vertical-align: middle;\n",
       "    }\n",
       "\n",
       "    .dataframe tbody tr th {\n",
       "        vertical-align: top;\n",
       "    }\n",
       "\n",
       "    .dataframe thead th {\n",
       "        text-align: right;\n",
       "    }\n",
       "</style>\n",
       "<table border=\"1\" class=\"dataframe\">\n",
       "  <thead>\n",
       "    <tr style=\"text-align: right;\">\n",
       "      <th></th>\n",
       "      <th>sepal length</th>\n",
       "      <th>sepal width</th>\n",
       "      <th>petal length</th>\n",
       "      <th>petal width</th>\n",
       "    </tr>\n",
       "  </thead>\n",
       "  <tbody>\n",
       "    <tr>\n",
       "      <th>count</th>\n",
       "      <td>150.000000</td>\n",
       "      <td>150.000000</td>\n",
       "      <td>150.000000</td>\n",
       "      <td>150.000000</td>\n",
       "    </tr>\n",
       "    <tr>\n",
       "      <th>mean</th>\n",
       "      <td>5.843333</td>\n",
       "      <td>3.054000</td>\n",
       "      <td>3.758667</td>\n",
       "      <td>1.198667</td>\n",
       "    </tr>\n",
       "    <tr>\n",
       "      <th>std</th>\n",
       "      <td>0.828066</td>\n",
       "      <td>0.433594</td>\n",
       "      <td>1.764420</td>\n",
       "      <td>0.763161</td>\n",
       "    </tr>\n",
       "    <tr>\n",
       "      <th>min</th>\n",
       "      <td>4.300000</td>\n",
       "      <td>2.000000</td>\n",
       "      <td>1.000000</td>\n",
       "      <td>0.100000</td>\n",
       "    </tr>\n",
       "    <tr>\n",
       "      <th>25%</th>\n",
       "      <td>5.100000</td>\n",
       "      <td>2.800000</td>\n",
       "      <td>1.600000</td>\n",
       "      <td>0.300000</td>\n",
       "    </tr>\n",
       "    <tr>\n",
       "      <th>50%</th>\n",
       "      <td>5.800000</td>\n",
       "      <td>3.000000</td>\n",
       "      <td>4.350000</td>\n",
       "      <td>1.300000</td>\n",
       "    </tr>\n",
       "    <tr>\n",
       "      <th>75%</th>\n",
       "      <td>6.400000</td>\n",
       "      <td>3.300000</td>\n",
       "      <td>5.100000</td>\n",
       "      <td>1.800000</td>\n",
       "    </tr>\n",
       "    <tr>\n",
       "      <th>max</th>\n",
       "      <td>7.900000</td>\n",
       "      <td>4.400000</td>\n",
       "      <td>6.900000</td>\n",
       "      <td>2.500000</td>\n",
       "    </tr>\n",
       "  </tbody>\n",
       "</table>\n",
       "</div>"
      ]
     },
     "execution_count": 79,
     "metadata": {},
     "output_type": "execute_result"
    }
   ],
   "execution_count": 79
  },
  {
   "cell_type": "markdown",
   "id": "570c5336",
   "metadata": {},
   "source": [
    "Mamy możliwość wybrania pojedynczej kolumny\n",
    "\n",
    "- do serii danych:"
   ]
  },
  {
   "cell_type": "code",
   "id": "50448acb",
   "metadata": {
    "ExecuteTime": {
     "end_time": "2024-11-25T16:11:16.367269Z",
     "start_time": "2024-11-25T16:11:16.363510Z"
    }
   },
   "source": [
    "df['sepal length']"
   ],
   "outputs": [
    {
     "data": {
      "text/plain": [
       "0      5.1\n",
       "1      4.9\n",
       "2      4.7\n",
       "3      4.6\n",
       "4      5.0\n",
       "      ... \n",
       "145    6.7\n",
       "146    6.3\n",
       "147    6.5\n",
       "148    6.2\n",
       "149    5.9\n",
       "Name: sepal length, Length: 150, dtype: float64"
      ]
     },
     "execution_count": 80,
     "metadata": {},
     "output_type": "execute_result"
    }
   ],
   "execution_count": 80
  },
  {
   "cell_type": "markdown",
   "id": "883ab686",
   "metadata": {},
   "source": [
    "- do ramki danych (zwróćmy uwagę na użycie podwójnego nawiasowania):"
   ]
  },
  {
   "cell_type": "code",
   "id": "51c55272",
   "metadata": {
    "ExecuteTime": {
     "end_time": "2024-11-25T16:11:17.441324Z",
     "start_time": "2024-11-25T16:11:17.429765Z"
    }
   },
   "source": [
    "df[['sepal length']]"
   ],
   "outputs": [
    {
     "data": {
      "text/plain": [
       "     sepal length\n",
       "0             5.1\n",
       "1             4.9\n",
       "2             4.7\n",
       "3             4.6\n",
       "4             5.0\n",
       "..            ...\n",
       "145           6.7\n",
       "146           6.3\n",
       "147           6.5\n",
       "148           6.2\n",
       "149           5.9\n",
       "\n",
       "[150 rows x 1 columns]"
      ],
      "text/html": [
       "<div>\n",
       "<style scoped>\n",
       "    .dataframe tbody tr th:only-of-type {\n",
       "        vertical-align: middle;\n",
       "    }\n",
       "\n",
       "    .dataframe tbody tr th {\n",
       "        vertical-align: top;\n",
       "    }\n",
       "\n",
       "    .dataframe thead th {\n",
       "        text-align: right;\n",
       "    }\n",
       "</style>\n",
       "<table border=\"1\" class=\"dataframe\">\n",
       "  <thead>\n",
       "    <tr style=\"text-align: right;\">\n",
       "      <th></th>\n",
       "      <th>sepal length</th>\n",
       "    </tr>\n",
       "  </thead>\n",
       "  <tbody>\n",
       "    <tr>\n",
       "      <th>0</th>\n",
       "      <td>5.1</td>\n",
       "    </tr>\n",
       "    <tr>\n",
       "      <th>1</th>\n",
       "      <td>4.9</td>\n",
       "    </tr>\n",
       "    <tr>\n",
       "      <th>2</th>\n",
       "      <td>4.7</td>\n",
       "    </tr>\n",
       "    <tr>\n",
       "      <th>3</th>\n",
       "      <td>4.6</td>\n",
       "    </tr>\n",
       "    <tr>\n",
       "      <th>4</th>\n",
       "      <td>5.0</td>\n",
       "    </tr>\n",
       "    <tr>\n",
       "      <th>...</th>\n",
       "      <td>...</td>\n",
       "    </tr>\n",
       "    <tr>\n",
       "      <th>145</th>\n",
       "      <td>6.7</td>\n",
       "    </tr>\n",
       "    <tr>\n",
       "      <th>146</th>\n",
       "      <td>6.3</td>\n",
       "    </tr>\n",
       "    <tr>\n",
       "      <th>147</th>\n",
       "      <td>6.5</td>\n",
       "    </tr>\n",
       "    <tr>\n",
       "      <th>148</th>\n",
       "      <td>6.2</td>\n",
       "    </tr>\n",
       "    <tr>\n",
       "      <th>149</th>\n",
       "      <td>5.9</td>\n",
       "    </tr>\n",
       "  </tbody>\n",
       "</table>\n",
       "<p>150 rows × 1 columns</p>\n",
       "</div>"
      ]
     },
     "execution_count": 81,
     "metadata": {},
     "output_type": "execute_result"
    }
   ],
   "execution_count": 81
  },
  {
   "cell_type": "markdown",
   "id": "d4d94bfc",
   "metadata": {},
   "source": [
    "W przypadku wyboru więcej niż jednej kolumny, musimy użyć podwójnego nawiasowania: "
   ]
  },
  {
   "cell_type": "code",
   "id": "03acb2f6",
   "metadata": {
    "ExecuteTime": {
     "end_time": "2024-11-25T16:11:18.194967Z",
     "start_time": "2024-11-25T16:11:18.189284Z"
    }
   },
   "source": [
    "df[['sepal length', 'petal width']]"
   ],
   "outputs": [
    {
     "data": {
      "text/plain": [
       "     sepal length  petal width\n",
       "0             5.1          0.2\n",
       "1             4.9          0.2\n",
       "2             4.7          0.2\n",
       "3             4.6          0.2\n",
       "4             5.0          0.2\n",
       "..            ...          ...\n",
       "145           6.7          2.3\n",
       "146           6.3          1.9\n",
       "147           6.5          2.0\n",
       "148           6.2          2.3\n",
       "149           5.9          1.8\n",
       "\n",
       "[150 rows x 2 columns]"
      ],
      "text/html": [
       "<div>\n",
       "<style scoped>\n",
       "    .dataframe tbody tr th:only-of-type {\n",
       "        vertical-align: middle;\n",
       "    }\n",
       "\n",
       "    .dataframe tbody tr th {\n",
       "        vertical-align: top;\n",
       "    }\n",
       "\n",
       "    .dataframe thead th {\n",
       "        text-align: right;\n",
       "    }\n",
       "</style>\n",
       "<table border=\"1\" class=\"dataframe\">\n",
       "  <thead>\n",
       "    <tr style=\"text-align: right;\">\n",
       "      <th></th>\n",
       "      <th>sepal length</th>\n",
       "      <th>petal width</th>\n",
       "    </tr>\n",
       "  </thead>\n",
       "  <tbody>\n",
       "    <tr>\n",
       "      <th>0</th>\n",
       "      <td>5.1</td>\n",
       "      <td>0.2</td>\n",
       "    </tr>\n",
       "    <tr>\n",
       "      <th>1</th>\n",
       "      <td>4.9</td>\n",
       "      <td>0.2</td>\n",
       "    </tr>\n",
       "    <tr>\n",
       "      <th>2</th>\n",
       "      <td>4.7</td>\n",
       "      <td>0.2</td>\n",
       "    </tr>\n",
       "    <tr>\n",
       "      <th>3</th>\n",
       "      <td>4.6</td>\n",
       "      <td>0.2</td>\n",
       "    </tr>\n",
       "    <tr>\n",
       "      <th>4</th>\n",
       "      <td>5.0</td>\n",
       "      <td>0.2</td>\n",
       "    </tr>\n",
       "    <tr>\n",
       "      <th>...</th>\n",
       "      <td>...</td>\n",
       "      <td>...</td>\n",
       "    </tr>\n",
       "    <tr>\n",
       "      <th>145</th>\n",
       "      <td>6.7</td>\n",
       "      <td>2.3</td>\n",
       "    </tr>\n",
       "    <tr>\n",
       "      <th>146</th>\n",
       "      <td>6.3</td>\n",
       "      <td>1.9</td>\n",
       "    </tr>\n",
       "    <tr>\n",
       "      <th>147</th>\n",
       "      <td>6.5</td>\n",
       "      <td>2.0</td>\n",
       "    </tr>\n",
       "    <tr>\n",
       "      <th>148</th>\n",
       "      <td>6.2</td>\n",
       "      <td>2.3</td>\n",
       "    </tr>\n",
       "    <tr>\n",
       "      <th>149</th>\n",
       "      <td>5.9</td>\n",
       "      <td>1.8</td>\n",
       "    </tr>\n",
       "  </tbody>\n",
       "</table>\n",
       "<p>150 rows × 2 columns</p>\n",
       "</div>"
      ]
     },
     "execution_count": 82,
     "metadata": {},
     "output_type": "execute_result"
    }
   ],
   "execution_count": 82
  },
  {
   "cell_type": "markdown",
   "id": "eba91645",
   "metadata": {},
   "source": [
    "To już nie zadziała:"
   ]
  },
  {
   "cell_type": "code",
   "id": "bd6c1219",
   "metadata": {
    "ExecuteTime": {
     "end_time": "2024-11-25T16:11:19.392741Z",
     "start_time": "2024-11-25T16:11:19.348373Z"
    }
   },
   "source": [
    "df['sepal length', 'petal width']"
   ],
   "outputs": [
    {
     "ename": "KeyError",
     "evalue": "('sepal length', 'petal width')",
     "output_type": "error",
     "traceback": [
      "\u001B[0;31m---------------------------------------------------------------------------\u001B[0m",
      "\u001B[0;31mKeyError\u001B[0m                                  Traceback (most recent call last)",
      "File \u001B[0;32m/opt/anaconda3/envs/Kurs-programowania-w-Pythonie/lib/python3.11/site-packages/pandas/core/indexes/base.py:3805\u001B[0m, in \u001B[0;36mIndex.get_loc\u001B[0;34m(self, key)\u001B[0m\n\u001B[1;32m   3804\u001B[0m \u001B[38;5;28;01mtry\u001B[39;00m:\n\u001B[0;32m-> 3805\u001B[0m     \u001B[38;5;28;01mreturn\u001B[39;00m \u001B[38;5;28mself\u001B[39m\u001B[38;5;241m.\u001B[39m_engine\u001B[38;5;241m.\u001B[39mget_loc(casted_key)\n\u001B[1;32m   3806\u001B[0m \u001B[38;5;28;01mexcept\u001B[39;00m \u001B[38;5;167;01mKeyError\u001B[39;00m \u001B[38;5;28;01mas\u001B[39;00m err:\n",
      "File \u001B[0;32mindex.pyx:167\u001B[0m, in \u001B[0;36mpandas._libs.index.IndexEngine.get_loc\u001B[0;34m()\u001B[0m\n",
      "File \u001B[0;32mindex.pyx:196\u001B[0m, in \u001B[0;36mpandas._libs.index.IndexEngine.get_loc\u001B[0;34m()\u001B[0m\n",
      "File \u001B[0;32mpandas/_libs/hashtable_class_helper.pxi:7081\u001B[0m, in \u001B[0;36mpandas._libs.hashtable.PyObjectHashTable.get_item\u001B[0;34m()\u001B[0m\n",
      "File \u001B[0;32mpandas/_libs/hashtable_class_helper.pxi:7089\u001B[0m, in \u001B[0;36mpandas._libs.hashtable.PyObjectHashTable.get_item\u001B[0;34m()\u001B[0m\n",
      "\u001B[0;31mKeyError\u001B[0m: ('sepal length', 'petal width')",
      "\nThe above exception was the direct cause of the following exception:\n",
      "\u001B[0;31mKeyError\u001B[0m                                  Traceback (most recent call last)",
      "Cell \u001B[0;32mIn[83], line 1\u001B[0m\n\u001B[0;32m----> 1\u001B[0m df[\u001B[38;5;124m'\u001B[39m\u001B[38;5;124msepal length\u001B[39m\u001B[38;5;124m'\u001B[39m, \u001B[38;5;124m'\u001B[39m\u001B[38;5;124mpetal width\u001B[39m\u001B[38;5;124m'\u001B[39m]\n",
      "File \u001B[0;32m/opt/anaconda3/envs/Kurs-programowania-w-Pythonie/lib/python3.11/site-packages/pandas/core/frame.py:4102\u001B[0m, in \u001B[0;36mDataFrame.__getitem__\u001B[0;34m(self, key)\u001B[0m\n\u001B[1;32m   4100\u001B[0m \u001B[38;5;28;01mif\u001B[39;00m \u001B[38;5;28mself\u001B[39m\u001B[38;5;241m.\u001B[39mcolumns\u001B[38;5;241m.\u001B[39mnlevels \u001B[38;5;241m>\u001B[39m \u001B[38;5;241m1\u001B[39m:\n\u001B[1;32m   4101\u001B[0m     \u001B[38;5;28;01mreturn\u001B[39;00m \u001B[38;5;28mself\u001B[39m\u001B[38;5;241m.\u001B[39m_getitem_multilevel(key)\n\u001B[0;32m-> 4102\u001B[0m indexer \u001B[38;5;241m=\u001B[39m \u001B[38;5;28mself\u001B[39m\u001B[38;5;241m.\u001B[39mcolumns\u001B[38;5;241m.\u001B[39mget_loc(key)\n\u001B[1;32m   4103\u001B[0m \u001B[38;5;28;01mif\u001B[39;00m is_integer(indexer):\n\u001B[1;32m   4104\u001B[0m     indexer \u001B[38;5;241m=\u001B[39m [indexer]\n",
      "File \u001B[0;32m/opt/anaconda3/envs/Kurs-programowania-w-Pythonie/lib/python3.11/site-packages/pandas/core/indexes/base.py:3812\u001B[0m, in \u001B[0;36mIndex.get_loc\u001B[0;34m(self, key)\u001B[0m\n\u001B[1;32m   3807\u001B[0m     \u001B[38;5;28;01mif\u001B[39;00m \u001B[38;5;28misinstance\u001B[39m(casted_key, \u001B[38;5;28mslice\u001B[39m) \u001B[38;5;129;01mor\u001B[39;00m (\n\u001B[1;32m   3808\u001B[0m         \u001B[38;5;28misinstance\u001B[39m(casted_key, abc\u001B[38;5;241m.\u001B[39mIterable)\n\u001B[1;32m   3809\u001B[0m         \u001B[38;5;129;01mand\u001B[39;00m \u001B[38;5;28many\u001B[39m(\u001B[38;5;28misinstance\u001B[39m(x, \u001B[38;5;28mslice\u001B[39m) \u001B[38;5;28;01mfor\u001B[39;00m x \u001B[38;5;129;01min\u001B[39;00m casted_key)\n\u001B[1;32m   3810\u001B[0m     ):\n\u001B[1;32m   3811\u001B[0m         \u001B[38;5;28;01mraise\u001B[39;00m InvalidIndexError(key)\n\u001B[0;32m-> 3812\u001B[0m     \u001B[38;5;28;01mraise\u001B[39;00m \u001B[38;5;167;01mKeyError\u001B[39;00m(key) \u001B[38;5;28;01mfrom\u001B[39;00m \u001B[38;5;21;01merr\u001B[39;00m\n\u001B[1;32m   3813\u001B[0m \u001B[38;5;28;01mexcept\u001B[39;00m \u001B[38;5;167;01mTypeError\u001B[39;00m:\n\u001B[1;32m   3814\u001B[0m     \u001B[38;5;66;03m# If we have a listlike key, _check_indexing_error will raise\u001B[39;00m\n\u001B[1;32m   3815\u001B[0m     \u001B[38;5;66;03m#  InvalidIndexError. Otherwise we fall through and re-raise\u001B[39;00m\n\u001B[1;32m   3816\u001B[0m     \u001B[38;5;66;03m#  the TypeError.\u001B[39;00m\n\u001B[1;32m   3817\u001B[0m     \u001B[38;5;28mself\u001B[39m\u001B[38;5;241m.\u001B[39m_check_indexing_error(key)\n",
      "\u001B[0;31mKeyError\u001B[0m: ('sepal length', 'petal width')"
     ]
    }
   ],
   "execution_count": 83
  },
  {
   "cell_type": "markdown",
   "id": "56a310f8",
   "metadata": {},
   "source": [
    "Możemy dokonywać wyboru kolumn za pomocą zakresu etykiet lub wartości boolowskich:"
   ]
  },
  {
   "cell_type": "code",
   "id": "145e700a",
   "metadata": {
    "ExecuteTime": {
     "end_time": "2024-11-25T16:11:20.433239Z",
     "start_time": "2024-11-25T16:11:20.426601Z"
    }
   },
   "source": [
    "df.loc[:, 'sepal length':'petal length']"
   ],
   "outputs": [
    {
     "data": {
      "text/plain": [
       "     sepal length  sepal width  petal length\n",
       "0             5.1          3.5           1.4\n",
       "1             4.9          3.0           1.4\n",
       "2             4.7          3.2           1.3\n",
       "3             4.6          3.1           1.5\n",
       "4             5.0          3.6           1.4\n",
       "..            ...          ...           ...\n",
       "145           6.7          3.0           5.2\n",
       "146           6.3          2.5           5.0\n",
       "147           6.5          3.0           5.2\n",
       "148           6.2          3.4           5.4\n",
       "149           5.9          3.0           5.1\n",
       "\n",
       "[150 rows x 3 columns]"
      ],
      "text/html": [
       "<div>\n",
       "<style scoped>\n",
       "    .dataframe tbody tr th:only-of-type {\n",
       "        vertical-align: middle;\n",
       "    }\n",
       "\n",
       "    .dataframe tbody tr th {\n",
       "        vertical-align: top;\n",
       "    }\n",
       "\n",
       "    .dataframe thead th {\n",
       "        text-align: right;\n",
       "    }\n",
       "</style>\n",
       "<table border=\"1\" class=\"dataframe\">\n",
       "  <thead>\n",
       "    <tr style=\"text-align: right;\">\n",
       "      <th></th>\n",
       "      <th>sepal length</th>\n",
       "      <th>sepal width</th>\n",
       "      <th>petal length</th>\n",
       "    </tr>\n",
       "  </thead>\n",
       "  <tbody>\n",
       "    <tr>\n",
       "      <th>0</th>\n",
       "      <td>5.1</td>\n",
       "      <td>3.5</td>\n",
       "      <td>1.4</td>\n",
       "    </tr>\n",
       "    <tr>\n",
       "      <th>1</th>\n",
       "      <td>4.9</td>\n",
       "      <td>3.0</td>\n",
       "      <td>1.4</td>\n",
       "    </tr>\n",
       "    <tr>\n",
       "      <th>2</th>\n",
       "      <td>4.7</td>\n",
       "      <td>3.2</td>\n",
       "      <td>1.3</td>\n",
       "    </tr>\n",
       "    <tr>\n",
       "      <th>3</th>\n",
       "      <td>4.6</td>\n",
       "      <td>3.1</td>\n",
       "      <td>1.5</td>\n",
       "    </tr>\n",
       "    <tr>\n",
       "      <th>4</th>\n",
       "      <td>5.0</td>\n",
       "      <td>3.6</td>\n",
       "      <td>1.4</td>\n",
       "    </tr>\n",
       "    <tr>\n",
       "      <th>...</th>\n",
       "      <td>...</td>\n",
       "      <td>...</td>\n",
       "      <td>...</td>\n",
       "    </tr>\n",
       "    <tr>\n",
       "      <th>145</th>\n",
       "      <td>6.7</td>\n",
       "      <td>3.0</td>\n",
       "      <td>5.2</td>\n",
       "    </tr>\n",
       "    <tr>\n",
       "      <th>146</th>\n",
       "      <td>6.3</td>\n",
       "      <td>2.5</td>\n",
       "      <td>5.0</td>\n",
       "    </tr>\n",
       "    <tr>\n",
       "      <th>147</th>\n",
       "      <td>6.5</td>\n",
       "      <td>3.0</td>\n",
       "      <td>5.2</td>\n",
       "    </tr>\n",
       "    <tr>\n",
       "      <th>148</th>\n",
       "      <td>6.2</td>\n",
       "      <td>3.4</td>\n",
       "      <td>5.4</td>\n",
       "    </tr>\n",
       "    <tr>\n",
       "      <th>149</th>\n",
       "      <td>5.9</td>\n",
       "      <td>3.0</td>\n",
       "      <td>5.1</td>\n",
       "    </tr>\n",
       "  </tbody>\n",
       "</table>\n",
       "<p>150 rows × 3 columns</p>\n",
       "</div>"
      ]
     },
     "execution_count": 84,
     "metadata": {},
     "output_type": "execute_result"
    }
   ],
   "execution_count": 84
  },
  {
   "cell_type": "code",
   "id": "448b8138",
   "metadata": {
    "ExecuteTime": {
     "end_time": "2024-11-25T16:11:21.252922Z",
     "start_time": "2024-11-25T16:11:21.247097Z"
    }
   },
   "source": [
    "df.loc[:, [False, False, True, False, True]]"
   ],
   "outputs": [
    {
     "data": {
      "text/plain": [
       "     petal length           class\n",
       "0             1.4     Iris-setosa\n",
       "1             1.4     Iris-setosa\n",
       "2             1.3     Iris-setosa\n",
       "3             1.5     Iris-setosa\n",
       "4             1.4     Iris-setosa\n",
       "..            ...             ...\n",
       "145           5.2  Iris-virginica\n",
       "146           5.0  Iris-virginica\n",
       "147           5.2  Iris-virginica\n",
       "148           5.4  Iris-virginica\n",
       "149           5.1  Iris-virginica\n",
       "\n",
       "[150 rows x 2 columns]"
      ],
      "text/html": [
       "<div>\n",
       "<style scoped>\n",
       "    .dataframe tbody tr th:only-of-type {\n",
       "        vertical-align: middle;\n",
       "    }\n",
       "\n",
       "    .dataframe tbody tr th {\n",
       "        vertical-align: top;\n",
       "    }\n",
       "\n",
       "    .dataframe thead th {\n",
       "        text-align: right;\n",
       "    }\n",
       "</style>\n",
       "<table border=\"1\" class=\"dataframe\">\n",
       "  <thead>\n",
       "    <tr style=\"text-align: right;\">\n",
       "      <th></th>\n",
       "      <th>petal length</th>\n",
       "      <th>class</th>\n",
       "    </tr>\n",
       "  </thead>\n",
       "  <tbody>\n",
       "    <tr>\n",
       "      <th>0</th>\n",
       "      <td>1.4</td>\n",
       "      <td>Iris-setosa</td>\n",
       "    </tr>\n",
       "    <tr>\n",
       "      <th>1</th>\n",
       "      <td>1.4</td>\n",
       "      <td>Iris-setosa</td>\n",
       "    </tr>\n",
       "    <tr>\n",
       "      <th>2</th>\n",
       "      <td>1.3</td>\n",
       "      <td>Iris-setosa</td>\n",
       "    </tr>\n",
       "    <tr>\n",
       "      <th>3</th>\n",
       "      <td>1.5</td>\n",
       "      <td>Iris-setosa</td>\n",
       "    </tr>\n",
       "    <tr>\n",
       "      <th>4</th>\n",
       "      <td>1.4</td>\n",
       "      <td>Iris-setosa</td>\n",
       "    </tr>\n",
       "    <tr>\n",
       "      <th>...</th>\n",
       "      <td>...</td>\n",
       "      <td>...</td>\n",
       "    </tr>\n",
       "    <tr>\n",
       "      <th>145</th>\n",
       "      <td>5.2</td>\n",
       "      <td>Iris-virginica</td>\n",
       "    </tr>\n",
       "    <tr>\n",
       "      <th>146</th>\n",
       "      <td>5.0</td>\n",
       "      <td>Iris-virginica</td>\n",
       "    </tr>\n",
       "    <tr>\n",
       "      <th>147</th>\n",
       "      <td>5.2</td>\n",
       "      <td>Iris-virginica</td>\n",
       "    </tr>\n",
       "    <tr>\n",
       "      <th>148</th>\n",
       "      <td>5.4</td>\n",
       "      <td>Iris-virginica</td>\n",
       "    </tr>\n",
       "    <tr>\n",
       "      <th>149</th>\n",
       "      <td>5.1</td>\n",
       "      <td>Iris-virginica</td>\n",
       "    </tr>\n",
       "  </tbody>\n",
       "</table>\n",
       "<p>150 rows × 2 columns</p>\n",
       "</div>"
      ]
     },
     "execution_count": 85,
     "metadata": {},
     "output_type": "execute_result"
    }
   ],
   "execution_count": 85
  },
  {
   "cell_type": "markdown",
   "id": "da1a1ddc",
   "metadata": {},
   "source": [
    "Wiersze mogą być wybierane za pomocą wartości indeksu:"
   ]
  },
  {
   "cell_type": "code",
   "id": "9f5092b5",
   "metadata": {
    "ExecuteTime": {
     "end_time": "2024-11-25T16:11:23.435340Z",
     "start_time": "2024-11-25T16:11:23.426641Z"
    }
   },
   "source": [
    "idx = df[df['petal length'] <= 2].index\n",
    "print(df.loc[idx])"
   ],
   "outputs": [
    {
     "name": "stdout",
     "output_type": "stream",
     "text": [
      "    sepal length  sepal width  petal length  petal width        class\n",
      "0            5.1          3.5           1.4          0.2  Iris-setosa\n",
      "1            4.9          3.0           1.4          0.2  Iris-setosa\n",
      "2            4.7          3.2           1.3          0.2  Iris-setosa\n",
      "3            4.6          3.1           1.5          0.2  Iris-setosa\n",
      "4            5.0          3.6           1.4          0.2  Iris-setosa\n",
      "5            5.4          3.9           1.7          0.4  Iris-setosa\n",
      "6            4.6          3.4           1.4          0.3  Iris-setosa\n",
      "7            5.0          3.4           1.5          0.2  Iris-setosa\n",
      "8            4.4          2.9           1.4          0.2  Iris-setosa\n",
      "9            4.9          3.1           1.5          0.1  Iris-setosa\n",
      "10           5.4          3.7           1.5          0.2  Iris-setosa\n",
      "11           4.8          3.4           1.6          0.2  Iris-setosa\n",
      "12           4.8          3.0           1.4          0.1  Iris-setosa\n",
      "13           4.3          3.0           1.1          0.1  Iris-setosa\n",
      "14           5.8          4.0           1.2          0.2  Iris-setosa\n",
      "15           5.7          4.4           1.5          0.4  Iris-setosa\n",
      "16           5.4          3.9           1.3          0.4  Iris-setosa\n",
      "17           5.1          3.5           1.4          0.3  Iris-setosa\n",
      "18           5.7          3.8           1.7          0.3  Iris-setosa\n",
      "19           5.1          3.8           1.5          0.3  Iris-setosa\n",
      "20           5.4          3.4           1.7          0.2  Iris-setosa\n",
      "21           5.1          3.7           1.5          0.4  Iris-setosa\n",
      "22           4.6          3.6           1.0          0.2  Iris-setosa\n",
      "23           5.1          3.3           1.7          0.5  Iris-setosa\n",
      "24           4.8          3.4           1.9          0.2  Iris-setosa\n",
      "25           5.0          3.0           1.6          0.2  Iris-setosa\n",
      "26           5.0          3.4           1.6          0.4  Iris-setosa\n",
      "27           5.2          3.5           1.5          0.2  Iris-setosa\n",
      "28           5.2          3.4           1.4          0.2  Iris-setosa\n",
      "29           4.7          3.2           1.6          0.2  Iris-setosa\n",
      "30           4.8          3.1           1.6          0.2  Iris-setosa\n",
      "31           5.4          3.4           1.5          0.4  Iris-setosa\n",
      "32           5.2          4.1           1.5          0.1  Iris-setosa\n",
      "33           5.5          4.2           1.4          0.2  Iris-setosa\n",
      "34           4.9          3.1           1.5          0.1  Iris-setosa\n",
      "35           5.0          3.2           1.2          0.2  Iris-setosa\n",
      "36           5.5          3.5           1.3          0.2  Iris-setosa\n",
      "37           4.9          3.1           1.5          0.1  Iris-setosa\n",
      "38           4.4          3.0           1.3          0.2  Iris-setosa\n",
      "39           5.1          3.4           1.5          0.2  Iris-setosa\n",
      "40           5.0          3.5           1.3          0.3  Iris-setosa\n",
      "41           4.5          2.3           1.3          0.3  Iris-setosa\n",
      "42           4.4          3.2           1.3          0.2  Iris-setosa\n",
      "43           5.0          3.5           1.6          0.6  Iris-setosa\n",
      "44           5.1          3.8           1.9          0.4  Iris-setosa\n",
      "45           4.8          3.0           1.4          0.3  Iris-setosa\n",
      "46           5.1          3.8           1.6          0.2  Iris-setosa\n",
      "47           4.6          3.2           1.4          0.2  Iris-setosa\n",
      "48           5.3          3.7           1.5          0.2  Iris-setosa\n",
      "49           5.0          3.3           1.4          0.2  Iris-setosa\n"
     ]
    }
   ],
   "execution_count": 86
  },
  {
   "cell_type": "code",
   "id": "b75201f7",
   "metadata": {
    "ExecuteTime": {
     "end_time": "2024-11-25T16:11:24.267581Z",
     "start_time": "2024-11-25T16:11:24.263255Z"
    }
   },
   "source": [
    "df['petal length'] <= 2"
   ],
   "outputs": [
    {
     "data": {
      "text/plain": [
       "0       True\n",
       "1       True\n",
       "2       True\n",
       "3       True\n",
       "4       True\n",
       "       ...  \n",
       "145    False\n",
       "146    False\n",
       "147    False\n",
       "148    False\n",
       "149    False\n",
       "Name: petal length, Length: 150, dtype: bool"
      ]
     },
     "execution_count": 87,
     "metadata": {},
     "output_type": "execute_result"
    }
   ],
   "execution_count": 87
  },
  {
   "cell_type": "markdown",
   "id": "ea6ab03d",
   "metadata": {},
   "source": [
    "Możemy dostawać się do konkretnych elementów ramki danych za pomocą standardowych indeksów całkowitoliczbowych korzystając z metody [pandas.DataFrame.iloc](https://pandas.pydata.org/docs/reference/api/pandas.DataFrame.iloc.html):"
   ]
  },
  {
   "cell_type": "code",
   "id": "3f907b42",
   "metadata": {
    "ExecuteTime": {
     "end_time": "2024-11-25T16:11:26.173211Z",
     "start_time": "2024-11-25T16:11:26.167739Z"
    }
   },
   "source": [
    "sub_df = df.iloc[:5,:5]\n",
    "sub_df"
   ],
   "outputs": [
    {
     "data": {
      "text/plain": [
       "   sepal length  sepal width  petal length  petal width        class\n",
       "0           5.1          3.5           1.4          0.2  Iris-setosa\n",
       "1           4.9          3.0           1.4          0.2  Iris-setosa\n",
       "2           4.7          3.2           1.3          0.2  Iris-setosa\n",
       "3           4.6          3.1           1.5          0.2  Iris-setosa\n",
       "4           5.0          3.6           1.4          0.2  Iris-setosa"
      ],
      "text/html": [
       "<div>\n",
       "<style scoped>\n",
       "    .dataframe tbody tr th:only-of-type {\n",
       "        vertical-align: middle;\n",
       "    }\n",
       "\n",
       "    .dataframe tbody tr th {\n",
       "        vertical-align: top;\n",
       "    }\n",
       "\n",
       "    .dataframe thead th {\n",
       "        text-align: right;\n",
       "    }\n",
       "</style>\n",
       "<table border=\"1\" class=\"dataframe\">\n",
       "  <thead>\n",
       "    <tr style=\"text-align: right;\">\n",
       "      <th></th>\n",
       "      <th>sepal length</th>\n",
       "      <th>sepal width</th>\n",
       "      <th>petal length</th>\n",
       "      <th>petal width</th>\n",
       "      <th>class</th>\n",
       "    </tr>\n",
       "  </thead>\n",
       "  <tbody>\n",
       "    <tr>\n",
       "      <th>0</th>\n",
       "      <td>5.1</td>\n",
       "      <td>3.5</td>\n",
       "      <td>1.4</td>\n",
       "      <td>0.2</td>\n",
       "      <td>Iris-setosa</td>\n",
       "    </tr>\n",
       "    <tr>\n",
       "      <th>1</th>\n",
       "      <td>4.9</td>\n",
       "      <td>3.0</td>\n",
       "      <td>1.4</td>\n",
       "      <td>0.2</td>\n",
       "      <td>Iris-setosa</td>\n",
       "    </tr>\n",
       "    <tr>\n",
       "      <th>2</th>\n",
       "      <td>4.7</td>\n",
       "      <td>3.2</td>\n",
       "      <td>1.3</td>\n",
       "      <td>0.2</td>\n",
       "      <td>Iris-setosa</td>\n",
       "    </tr>\n",
       "    <tr>\n",
       "      <th>3</th>\n",
       "      <td>4.6</td>\n",
       "      <td>3.1</td>\n",
       "      <td>1.5</td>\n",
       "      <td>0.2</td>\n",
       "      <td>Iris-setosa</td>\n",
       "    </tr>\n",
       "    <tr>\n",
       "      <th>4</th>\n",
       "      <td>5.0</td>\n",
       "      <td>3.6</td>\n",
       "      <td>1.4</td>\n",
       "      <td>0.2</td>\n",
       "      <td>Iris-setosa</td>\n",
       "    </tr>\n",
       "  </tbody>\n",
       "</table>\n",
       "</div>"
      ]
     },
     "execution_count": 88,
     "metadata": {},
     "output_type": "execute_result"
    }
   ],
   "execution_count": 88
  },
  {
   "cell_type": "markdown",
   "id": "ac2d56d2",
   "metadata": {},
   "source": [
    "Możemy też zmienić wartość konkretnego elementu: "
   ]
  },
  {
   "cell_type": "code",
   "id": "6606e655",
   "metadata": {
    "ExecuteTime": {
     "end_time": "2024-11-25T16:11:29.095212Z",
     "start_time": "2024-11-25T16:11:29.089588Z"
    }
   },
   "source": [
    "sub_df.iloc[2,1] = -3.2\n",
    "sub_df"
   ],
   "outputs": [
    {
     "data": {
      "text/plain": [
       "   sepal length  sepal width  petal length  petal width        class\n",
       "0           5.1          3.5           1.4          0.2  Iris-setosa\n",
       "1           4.9          3.0           1.4          0.2  Iris-setosa\n",
       "2           4.7         -3.2           1.3          0.2  Iris-setosa\n",
       "3           4.6          3.1           1.5          0.2  Iris-setosa\n",
       "4           5.0          3.6           1.4          0.2  Iris-setosa"
      ],
      "text/html": [
       "<div>\n",
       "<style scoped>\n",
       "    .dataframe tbody tr th:only-of-type {\n",
       "        vertical-align: middle;\n",
       "    }\n",
       "\n",
       "    .dataframe tbody tr th {\n",
       "        vertical-align: top;\n",
       "    }\n",
       "\n",
       "    .dataframe thead th {\n",
       "        text-align: right;\n",
       "    }\n",
       "</style>\n",
       "<table border=\"1\" class=\"dataframe\">\n",
       "  <thead>\n",
       "    <tr style=\"text-align: right;\">\n",
       "      <th></th>\n",
       "      <th>sepal length</th>\n",
       "      <th>sepal width</th>\n",
       "      <th>petal length</th>\n",
       "      <th>petal width</th>\n",
       "      <th>class</th>\n",
       "    </tr>\n",
       "  </thead>\n",
       "  <tbody>\n",
       "    <tr>\n",
       "      <th>0</th>\n",
       "      <td>5.1</td>\n",
       "      <td>3.5</td>\n",
       "      <td>1.4</td>\n",
       "      <td>0.2</td>\n",
       "      <td>Iris-setosa</td>\n",
       "    </tr>\n",
       "    <tr>\n",
       "      <th>1</th>\n",
       "      <td>4.9</td>\n",
       "      <td>3.0</td>\n",
       "      <td>1.4</td>\n",
       "      <td>0.2</td>\n",
       "      <td>Iris-setosa</td>\n",
       "    </tr>\n",
       "    <tr>\n",
       "      <th>2</th>\n",
       "      <td>4.7</td>\n",
       "      <td>-3.2</td>\n",
       "      <td>1.3</td>\n",
       "      <td>0.2</td>\n",
       "      <td>Iris-setosa</td>\n",
       "    </tr>\n",
       "    <tr>\n",
       "      <th>3</th>\n",
       "      <td>4.6</td>\n",
       "      <td>3.1</td>\n",
       "      <td>1.5</td>\n",
       "      <td>0.2</td>\n",
       "      <td>Iris-setosa</td>\n",
       "    </tr>\n",
       "    <tr>\n",
       "      <th>4</th>\n",
       "      <td>5.0</td>\n",
       "      <td>3.6</td>\n",
       "      <td>1.4</td>\n",
       "      <td>0.2</td>\n",
       "      <td>Iris-setosa</td>\n",
       "    </tr>\n",
       "  </tbody>\n",
       "</table>\n",
       "</div>"
      ]
     },
     "execution_count": 89,
     "metadata": {},
     "output_type": "execute_result"
    }
   ],
   "execution_count": 89
  },
  {
   "cell_type": "markdown",
   "id": "a9bde876",
   "metadata": {},
   "source": [
    "Zobaczmy czy nasze przypisanie spowodowało zmiany w df:"
   ]
  },
  {
   "cell_type": "code",
   "id": "0df1fc07",
   "metadata": {
    "ExecuteTime": {
     "end_time": "2024-11-25T16:11:31.676887Z",
     "start_time": "2024-11-25T16:11:31.670674Z"
    }
   },
   "source": [
    "df.head()"
   ],
   "outputs": [
    {
     "data": {
      "text/plain": [
       "   sepal length  sepal width  petal length  petal width        class\n",
       "0           5.1          3.5           1.4          0.2  Iris-setosa\n",
       "1           4.9          3.0           1.4          0.2  Iris-setosa\n",
       "2           4.7          3.2           1.3          0.2  Iris-setosa\n",
       "3           4.6          3.1           1.5          0.2  Iris-setosa\n",
       "4           5.0          3.6           1.4          0.2  Iris-setosa"
      ],
      "text/html": [
       "<div>\n",
       "<style scoped>\n",
       "    .dataframe tbody tr th:only-of-type {\n",
       "        vertical-align: middle;\n",
       "    }\n",
       "\n",
       "    .dataframe tbody tr th {\n",
       "        vertical-align: top;\n",
       "    }\n",
       "\n",
       "    .dataframe thead th {\n",
       "        text-align: right;\n",
       "    }\n",
       "</style>\n",
       "<table border=\"1\" class=\"dataframe\">\n",
       "  <thead>\n",
       "    <tr style=\"text-align: right;\">\n",
       "      <th></th>\n",
       "      <th>sepal length</th>\n",
       "      <th>sepal width</th>\n",
       "      <th>petal length</th>\n",
       "      <th>petal width</th>\n",
       "      <th>class</th>\n",
       "    </tr>\n",
       "  </thead>\n",
       "  <tbody>\n",
       "    <tr>\n",
       "      <th>0</th>\n",
       "      <td>5.1</td>\n",
       "      <td>3.5</td>\n",
       "      <td>1.4</td>\n",
       "      <td>0.2</td>\n",
       "      <td>Iris-setosa</td>\n",
       "    </tr>\n",
       "    <tr>\n",
       "      <th>1</th>\n",
       "      <td>4.9</td>\n",
       "      <td>3.0</td>\n",
       "      <td>1.4</td>\n",
       "      <td>0.2</td>\n",
       "      <td>Iris-setosa</td>\n",
       "    </tr>\n",
       "    <tr>\n",
       "      <th>2</th>\n",
       "      <td>4.7</td>\n",
       "      <td>3.2</td>\n",
       "      <td>1.3</td>\n",
       "      <td>0.2</td>\n",
       "      <td>Iris-setosa</td>\n",
       "    </tr>\n",
       "    <tr>\n",
       "      <th>3</th>\n",
       "      <td>4.6</td>\n",
       "      <td>3.1</td>\n",
       "      <td>1.5</td>\n",
       "      <td>0.2</td>\n",
       "      <td>Iris-setosa</td>\n",
       "    </tr>\n",
       "    <tr>\n",
       "      <th>4</th>\n",
       "      <td>5.0</td>\n",
       "      <td>3.6</td>\n",
       "      <td>1.4</td>\n",
       "      <td>0.2</td>\n",
       "      <td>Iris-setosa</td>\n",
       "    </tr>\n",
       "  </tbody>\n",
       "</table>\n",
       "</div>"
      ]
     },
     "execution_count": 90,
     "metadata": {},
     "output_type": "execute_result"
    }
   ],
   "execution_count": 90
  },
  {
   "cell_type": "markdown",
   "id": "8235efff",
   "metadata": {},
   "source": [
    "Nie, a więc df.iloc utworzyło kopię zadanego fragmentu ramki danych!"
   ]
  },
  {
   "cell_type": "markdown",
   "id": "cff5b282",
   "metadata": {},
   "source": [
    "Możemy usunąć kolumnę z ramki danych w następujący sposób:"
   ]
  },
  {
   "cell_type": "code",
   "id": "2f12d21b",
   "metadata": {
    "ExecuteTime": {
     "end_time": "2024-11-25T16:11:33.221063Z",
     "start_time": "2024-11-25T16:11:33.213464Z"
    }
   },
   "source": [
    "removed_col = sub_df.pop('sepal width')\n",
    "removed_col"
   ],
   "outputs": [
    {
     "data": {
      "text/plain": [
       "0    3.5\n",
       "1    3.0\n",
       "2   -3.2\n",
       "3    3.1\n",
       "4    3.6\n",
       "Name: sepal width, dtype: float64"
      ]
     },
     "execution_count": 91,
     "metadata": {},
     "output_type": "execute_result"
    }
   ],
   "execution_count": 91
  },
  {
   "cell_type": "code",
   "id": "aad4a850",
   "metadata": {
    "ExecuteTime": {
     "end_time": "2024-11-25T16:11:43.773675Z",
     "start_time": "2024-11-25T16:11:43.757788Z"
    }
   },
   "source": [
    "sub_df"
   ],
   "outputs": [
    {
     "data": {
      "text/plain": [
       "   sepal length  petal length  petal width        class\n",
       "0           5.1           1.4          0.2  Iris-setosa\n",
       "1           4.9           1.4          0.2  Iris-setosa\n",
       "2           4.7           1.3          0.2  Iris-setosa\n",
       "3           4.6           1.5          0.2  Iris-setosa\n",
       "4           5.0           1.4          0.2  Iris-setosa"
      ],
      "text/html": [
       "<div>\n",
       "<style scoped>\n",
       "    .dataframe tbody tr th:only-of-type {\n",
       "        vertical-align: middle;\n",
       "    }\n",
       "\n",
       "    .dataframe tbody tr th {\n",
       "        vertical-align: top;\n",
       "    }\n",
       "\n",
       "    .dataframe thead th {\n",
       "        text-align: right;\n",
       "    }\n",
       "</style>\n",
       "<table border=\"1\" class=\"dataframe\">\n",
       "  <thead>\n",
       "    <tr style=\"text-align: right;\">\n",
       "      <th></th>\n",
       "      <th>sepal length</th>\n",
       "      <th>petal length</th>\n",
       "      <th>petal width</th>\n",
       "      <th>class</th>\n",
       "    </tr>\n",
       "  </thead>\n",
       "  <tbody>\n",
       "    <tr>\n",
       "      <th>0</th>\n",
       "      <td>5.1</td>\n",
       "      <td>1.4</td>\n",
       "      <td>0.2</td>\n",
       "      <td>Iris-setosa</td>\n",
       "    </tr>\n",
       "    <tr>\n",
       "      <th>1</th>\n",
       "      <td>4.9</td>\n",
       "      <td>1.4</td>\n",
       "      <td>0.2</td>\n",
       "      <td>Iris-setosa</td>\n",
       "    </tr>\n",
       "    <tr>\n",
       "      <th>2</th>\n",
       "      <td>4.7</td>\n",
       "      <td>1.3</td>\n",
       "      <td>0.2</td>\n",
       "      <td>Iris-setosa</td>\n",
       "    </tr>\n",
       "    <tr>\n",
       "      <th>3</th>\n",
       "      <td>4.6</td>\n",
       "      <td>1.5</td>\n",
       "      <td>0.2</td>\n",
       "      <td>Iris-setosa</td>\n",
       "    </tr>\n",
       "    <tr>\n",
       "      <th>4</th>\n",
       "      <td>5.0</td>\n",
       "      <td>1.4</td>\n",
       "      <td>0.2</td>\n",
       "      <td>Iris-setosa</td>\n",
       "    </tr>\n",
       "  </tbody>\n",
       "</table>\n",
       "</div>"
      ]
     },
     "execution_count": 92,
     "metadata": {},
     "output_type": "execute_result"
    }
   ],
   "execution_count": 92
  },
  {
   "cell_type": "markdown",
   "id": "bc9e9ee8",
   "metadata": {},
   "source": [
    "Możemy iterować po kolumnach ramki danych:"
   ]
  },
  {
   "cell_type": "code",
   "id": "6d63013e",
   "metadata": {
    "ExecuteTime": {
     "end_time": "2024-11-25T16:11:45.959790Z",
     "start_time": "2024-11-25T16:11:45.953363Z"
    }
   },
   "source": [
    "for (name, series) in df.items():\n",
    "    print('Nazwa kolumny: ' + str(name))\n",
    "    print('Trzecia wartość w kolumnie: ' + str(series.iat[2]) + '\\n')"
   ],
   "outputs": [
    {
     "name": "stdout",
     "output_type": "stream",
     "text": [
      "Nazwa kolumny: sepal length\n",
      "Trzecia wartość w kolumnie: 4.7\n",
      "\n",
      "Nazwa kolumny: sepal width\n",
      "Trzecia wartość w kolumnie: 3.2\n",
      "\n",
      "Nazwa kolumny: petal length\n",
      "Trzecia wartość w kolumnie: 1.3\n",
      "\n",
      "Nazwa kolumny: petal width\n",
      "Trzecia wartość w kolumnie: 0.2\n",
      "\n",
      "Nazwa kolumny: class\n",
      "Trzecia wartość w kolumnie: Iris-setosa\n",
      "\n"
     ]
    }
   ],
   "execution_count": 93
  },
  {
   "cell_type": "markdown",
   "id": "b6500358",
   "metadata": {},
   "source": [
    "lub po wierszach:"
   ]
  },
  {
   "cell_type": "code",
   "id": "135507d2",
   "metadata": {
    "ExecuteTime": {
     "end_time": "2024-11-25T16:11:47.471338Z",
     "start_time": "2024-11-25T16:11:47.468141Z"
    }
   },
   "source": [
    "for (row_index, series) in df.iloc[:5,:].iterrows():\n",
    "    print(f\"Indeks wiersza: {row_index}\")\n",
    "    print(f\"Pierwszy element w wierszu: {series.iat[0]}\")"
   ],
   "outputs": [
    {
     "name": "stdout",
     "output_type": "stream",
     "text": [
      "Indeks wiersza: 0\n",
      "Pierwszy element w wierszu: 5.1\n",
      "Indeks wiersza: 1\n",
      "Pierwszy element w wierszu: 4.9\n",
      "Indeks wiersza: 2\n",
      "Pierwszy element w wierszu: 4.7\n",
      "Indeks wiersza: 3\n",
      "Pierwszy element w wierszu: 4.6\n",
      "Indeks wiersza: 4\n",
      "Pierwszy element w wierszu: 5.0\n"
     ]
    }
   ],
   "execution_count": 94
  },
  {
   "cell_type": "markdown",
   "id": "36abcfbe",
   "metadata": {},
   "source": [
    "---\n",
    "\n",
    "## 2. Przykłady operacji matematycznych na kolumnach ramki danych w pandas"
   ]
  },
  {
   "cell_type": "markdown",
   "id": "beede48b",
   "metadata": {},
   "source": [
    "Suma elementów w kolumnie"
   ]
  },
  {
   "cell_type": "code",
   "id": "3aedf3a3",
   "metadata": {
    "ExecuteTime": {
     "end_time": "2024-11-25T16:11:48.699360Z",
     "start_time": "2024-11-25T16:11:48.694368Z"
    }
   },
   "source": [
    "df['petal length'].sum()"
   ],
   "outputs": [
    {
     "data": {
      "text/plain": [
       "np.float64(563.8)"
      ]
     },
     "execution_count": 95,
     "metadata": {},
     "output_type": "execute_result"
    }
   ],
   "execution_count": 95
  },
  {
   "cell_type": "markdown",
   "id": "503a1fd8",
   "metadata": {},
   "source": [
    "Iloczyn elementów w kolumnie"
   ]
  },
  {
   "cell_type": "code",
   "id": "43a8d013",
   "metadata": {
    "ExecuteTime": {
     "end_time": "2024-11-25T16:11:49.818087Z",
     "start_time": "2024-11-25T16:11:49.814261Z"
    }
   },
   "source": [
    "df['petal length'].prod()"
   ],
   "outputs": [
    {
     "data": {
      "text/plain": [
       "np.float64(3.774489440906495e+76)"
      ]
     },
     "execution_count": 96,
     "metadata": {},
     "output_type": "execute_result"
    }
   ],
   "execution_count": 96
  },
  {
   "cell_type": "markdown",
   "id": "90301f7e",
   "metadata": {},
   "source": [
    "Najmniejsza wartość w kolumnie"
   ]
  },
  {
   "cell_type": "code",
   "id": "19df1564",
   "metadata": {
    "ExecuteTime": {
     "end_time": "2024-11-25T16:11:50.125379Z",
     "start_time": "2024-11-25T16:11:50.122100Z"
    }
   },
   "source": [
    "df['petal length'].min()"
   ],
   "outputs": [
    {
     "data": {
      "text/plain": [
       "np.float64(1.0)"
      ]
     },
     "execution_count": 97,
     "metadata": {},
     "output_type": "execute_result"
    }
   ],
   "execution_count": 97
  },
  {
   "cell_type": "markdown",
   "id": "a87fd3db",
   "metadata": {},
   "source": [
    "Wartość średnia wartości w kolumnie"
   ]
  },
  {
   "cell_type": "code",
   "id": "380efc90",
   "metadata": {
    "ExecuteTime": {
     "end_time": "2024-11-25T16:11:50.518704Z",
     "start_time": "2024-11-25T16:11:50.514507Z"
    }
   },
   "source": [
    "df['petal length'].mean()"
   ],
   "outputs": [
    {
     "data": {
      "text/plain": [
       "np.float64(3.758666666666666)"
      ]
     },
     "execution_count": 98,
     "metadata": {},
     "output_type": "execute_result"
    }
   ],
   "execution_count": 98
  },
  {
   "cell_type": "markdown",
   "id": "88132e9d",
   "metadata": {},
   "source": [
    "Mediana wartości w kolumnie"
   ]
  },
  {
   "cell_type": "code",
   "id": "400d2a89",
   "metadata": {
    "ExecuteTime": {
     "end_time": "2024-11-25T16:11:51.191908Z",
     "start_time": "2024-11-25T16:11:51.187253Z"
    }
   },
   "source": [
    "df['petal length'].median()"
   ],
   "outputs": [
    {
     "data": {
      "text/plain": [
       "np.float64(4.35)"
      ]
     },
     "execution_count": 99,
     "metadata": {},
     "output_type": "execute_result"
    }
   ],
   "execution_count": 99
  },
  {
   "cell_type": "markdown",
   "id": "cc2450dd",
   "metadata": {},
   "source": [
    "Podstawowe statystyki dla wartości w kolumnie"
   ]
  },
  {
   "cell_type": "code",
   "id": "016031bb",
   "metadata": {
    "ExecuteTime": {
     "end_time": "2024-11-25T16:11:51.707585Z",
     "start_time": "2024-11-25T16:11:51.702059Z"
    }
   },
   "source": [
    "df['petal length'].describe()"
   ],
   "outputs": [
    {
     "data": {
      "text/plain": [
       "count    150.000000\n",
       "mean       3.758667\n",
       "std        1.764420\n",
       "min        1.000000\n",
       "25%        1.600000\n",
       "50%        4.350000\n",
       "75%        5.100000\n",
       "max        6.900000\n",
       "Name: petal length, dtype: float64"
      ]
     },
     "execution_count": 100,
     "metadata": {},
     "output_type": "execute_result"
    }
   ],
   "execution_count": 100
  },
  {
   "cell_type": "markdown",
   "id": "f074faa5",
   "metadata": {},
   "source": [
    "Indeks wierszowy dla wartości minimalnej w kolumnie"
   ]
  },
  {
   "cell_type": "code",
   "id": "770be19d",
   "metadata": {
    "ExecuteTime": {
     "end_time": "2024-11-25T16:11:52.391909Z",
     "start_time": "2024-11-25T16:11:52.388170Z"
    }
   },
   "source": [
    "df['petal length'].idxmin()"
   ],
   "outputs": [
    {
     "data": {
      "text/plain": [
       "22"
      ]
     },
     "execution_count": 101,
     "metadata": {},
     "output_type": "execute_result"
    }
   ],
   "execution_count": 101
  },
  {
   "cell_type": "markdown",
   "id": "5f15d643",
   "metadata": {},
   "source": [
    "i dla wartości maksymalnej"
   ]
  },
  {
   "cell_type": "code",
   "id": "0b7456a1",
   "metadata": {
    "ExecuteTime": {
     "end_time": "2024-11-25T16:11:53.980514Z",
     "start_time": "2024-11-25T16:11:53.975316Z"
    }
   },
   "source": [
    "df['petal length'].idxmax()"
   ],
   "outputs": [
    {
     "data": {
      "text/plain": [
       "118"
      ]
     },
     "execution_count": 102,
     "metadata": {},
     "output_type": "execute_result"
    }
   ],
   "execution_count": 102
  },
  {
   "cell_type": "markdown",
   "id": "9b5858b8",
   "metadata": {},
   "source": [
    "---\n",
    "## 3. Przykłady sortowania ramki danych w pandas"
   ]
  },
  {
   "cell_type": "code",
   "id": "fba11560",
   "metadata": {
    "ExecuteTime": {
     "end_time": "2024-11-25T16:13:27.276557Z",
     "start_time": "2024-11-25T16:13:27.262271Z"
    }
   },
   "source": [
    "df = pd.DataFrame({'col1': ['A', 'A', 'B', np.nan, 'D', 'C'],\n",
    "                   'col2': [2, 1, 9, 8, 7, 4],\n",
    "                   'col3': [0, 1, 9, 4, 2, 3],\n",
    "                   #'col4': ['a', 'B', 'c', 'D', 'e', 'F']\n",
    "                   'col4': ['b', 'a', 'c', 'D', 'e', 'F']\n",
    "})\n",
    "df"
   ],
   "outputs": [
    {
     "data": {
      "text/plain": [
       "  col1  col2  col3 col4\n",
       "0    A     2     0    b\n",
       "1    A     1     1    a\n",
       "2    B     9     9    c\n",
       "3  NaN     8     4    D\n",
       "4    D     7     2    e\n",
       "5    C     4     3    F"
      ],
      "text/html": [
       "<div>\n",
       "<style scoped>\n",
       "    .dataframe tbody tr th:only-of-type {\n",
       "        vertical-align: middle;\n",
       "    }\n",
       "\n",
       "    .dataframe tbody tr th {\n",
       "        vertical-align: top;\n",
       "    }\n",
       "\n",
       "    .dataframe thead th {\n",
       "        text-align: right;\n",
       "    }\n",
       "</style>\n",
       "<table border=\"1\" class=\"dataframe\">\n",
       "  <thead>\n",
       "    <tr style=\"text-align: right;\">\n",
       "      <th></th>\n",
       "      <th>col1</th>\n",
       "      <th>col2</th>\n",
       "      <th>col3</th>\n",
       "      <th>col4</th>\n",
       "    </tr>\n",
       "  </thead>\n",
       "  <tbody>\n",
       "    <tr>\n",
       "      <th>0</th>\n",
       "      <td>A</td>\n",
       "      <td>2</td>\n",
       "      <td>0</td>\n",
       "      <td>b</td>\n",
       "    </tr>\n",
       "    <tr>\n",
       "      <th>1</th>\n",
       "      <td>A</td>\n",
       "      <td>1</td>\n",
       "      <td>1</td>\n",
       "      <td>a</td>\n",
       "    </tr>\n",
       "    <tr>\n",
       "      <th>2</th>\n",
       "      <td>B</td>\n",
       "      <td>9</td>\n",
       "      <td>9</td>\n",
       "      <td>c</td>\n",
       "    </tr>\n",
       "    <tr>\n",
       "      <th>3</th>\n",
       "      <td>NaN</td>\n",
       "      <td>8</td>\n",
       "      <td>4</td>\n",
       "      <td>D</td>\n",
       "    </tr>\n",
       "    <tr>\n",
       "      <th>4</th>\n",
       "      <td>D</td>\n",
       "      <td>7</td>\n",
       "      <td>2</td>\n",
       "      <td>e</td>\n",
       "    </tr>\n",
       "    <tr>\n",
       "      <th>5</th>\n",
       "      <td>C</td>\n",
       "      <td>4</td>\n",
       "      <td>3</td>\n",
       "      <td>F</td>\n",
       "    </tr>\n",
       "  </tbody>\n",
       "</table>\n",
       "</div>"
      ]
     },
     "execution_count": 104,
     "metadata": {},
     "output_type": "execute_result"
    }
   ],
   "execution_count": 104
  },
  {
   "cell_type": "markdown",
   "id": "7ed8f5f3",
   "metadata": {},
   "source": [
    "Sortowanie ramki danych według wybranej kolumny"
   ]
  },
  {
   "cell_type": "code",
   "id": "86bd9af8",
   "metadata": {
    "ExecuteTime": {
     "end_time": "2024-11-25T16:13:29.978832Z",
     "start_time": "2024-11-25T16:13:29.973978Z"
    }
   },
   "source": [
    "df.sort_values(by=['col4'])"
   ],
   "outputs": [
    {
     "data": {
      "text/plain": [
       "  col1  col2  col3 col4\n",
       "3  NaN     8     4    D\n",
       "5    C     4     3    F\n",
       "1    A     1     1    a\n",
       "0    A     2     0    b\n",
       "2    B     9     9    c\n",
       "4    D     7     2    e"
      ],
      "text/html": [
       "<div>\n",
       "<style scoped>\n",
       "    .dataframe tbody tr th:only-of-type {\n",
       "        vertical-align: middle;\n",
       "    }\n",
       "\n",
       "    .dataframe tbody tr th {\n",
       "        vertical-align: top;\n",
       "    }\n",
       "\n",
       "    .dataframe thead th {\n",
       "        text-align: right;\n",
       "    }\n",
       "</style>\n",
       "<table border=\"1\" class=\"dataframe\">\n",
       "  <thead>\n",
       "    <tr style=\"text-align: right;\">\n",
       "      <th></th>\n",
       "      <th>col1</th>\n",
       "      <th>col2</th>\n",
       "      <th>col3</th>\n",
       "      <th>col4</th>\n",
       "    </tr>\n",
       "  </thead>\n",
       "  <tbody>\n",
       "    <tr>\n",
       "      <th>3</th>\n",
       "      <td>NaN</td>\n",
       "      <td>8</td>\n",
       "      <td>4</td>\n",
       "      <td>D</td>\n",
       "    </tr>\n",
       "    <tr>\n",
       "      <th>5</th>\n",
       "      <td>C</td>\n",
       "      <td>4</td>\n",
       "      <td>3</td>\n",
       "      <td>F</td>\n",
       "    </tr>\n",
       "    <tr>\n",
       "      <th>1</th>\n",
       "      <td>A</td>\n",
       "      <td>1</td>\n",
       "      <td>1</td>\n",
       "      <td>a</td>\n",
       "    </tr>\n",
       "    <tr>\n",
       "      <th>0</th>\n",
       "      <td>A</td>\n",
       "      <td>2</td>\n",
       "      <td>0</td>\n",
       "      <td>b</td>\n",
       "    </tr>\n",
       "    <tr>\n",
       "      <th>2</th>\n",
       "      <td>B</td>\n",
       "      <td>9</td>\n",
       "      <td>9</td>\n",
       "      <td>c</td>\n",
       "    </tr>\n",
       "    <tr>\n",
       "      <th>4</th>\n",
       "      <td>D</td>\n",
       "      <td>7</td>\n",
       "      <td>2</td>\n",
       "      <td>e</td>\n",
       "    </tr>\n",
       "  </tbody>\n",
       "</table>\n",
       "</div>"
      ]
     },
     "execution_count": 105,
     "metadata": {},
     "output_type": "execute_result"
    }
   ],
   "execution_count": 105
  },
  {
   "cell_type": "markdown",
   "id": "22129140",
   "metadata": {},
   "source": [
    "Sortowanie ramki danych według kilku kolumn"
   ]
  },
  {
   "cell_type": "code",
   "id": "96d79121",
   "metadata": {
    "ExecuteTime": {
     "end_time": "2024-11-25T16:13:33.214657Z",
     "start_time": "2024-11-25T16:13:33.207667Z"
    }
   },
   "source": [
    "df.sort_values(by=['col1', 'col2'])"
   ],
   "outputs": [
    {
     "data": {
      "text/plain": [
       "  col1  col2  col3 col4\n",
       "1    A     1     1    a\n",
       "0    A     2     0    b\n",
       "2    B     9     9    c\n",
       "5    C     4     3    F\n",
       "4    D     7     2    e\n",
       "3  NaN     8     4    D"
      ],
      "text/html": [
       "<div>\n",
       "<style scoped>\n",
       "    .dataframe tbody tr th:only-of-type {\n",
       "        vertical-align: middle;\n",
       "    }\n",
       "\n",
       "    .dataframe tbody tr th {\n",
       "        vertical-align: top;\n",
       "    }\n",
       "\n",
       "    .dataframe thead th {\n",
       "        text-align: right;\n",
       "    }\n",
       "</style>\n",
       "<table border=\"1\" class=\"dataframe\">\n",
       "  <thead>\n",
       "    <tr style=\"text-align: right;\">\n",
       "      <th></th>\n",
       "      <th>col1</th>\n",
       "      <th>col2</th>\n",
       "      <th>col3</th>\n",
       "      <th>col4</th>\n",
       "    </tr>\n",
       "  </thead>\n",
       "  <tbody>\n",
       "    <tr>\n",
       "      <th>1</th>\n",
       "      <td>A</td>\n",
       "      <td>1</td>\n",
       "      <td>1</td>\n",
       "      <td>a</td>\n",
       "    </tr>\n",
       "    <tr>\n",
       "      <th>0</th>\n",
       "      <td>A</td>\n",
       "      <td>2</td>\n",
       "      <td>0</td>\n",
       "      <td>b</td>\n",
       "    </tr>\n",
       "    <tr>\n",
       "      <th>2</th>\n",
       "      <td>B</td>\n",
       "      <td>9</td>\n",
       "      <td>9</td>\n",
       "      <td>c</td>\n",
       "    </tr>\n",
       "    <tr>\n",
       "      <th>5</th>\n",
       "      <td>C</td>\n",
       "      <td>4</td>\n",
       "      <td>3</td>\n",
       "      <td>F</td>\n",
       "    </tr>\n",
       "    <tr>\n",
       "      <th>4</th>\n",
       "      <td>D</td>\n",
       "      <td>7</td>\n",
       "      <td>2</td>\n",
       "      <td>e</td>\n",
       "    </tr>\n",
       "    <tr>\n",
       "      <th>3</th>\n",
       "      <td>NaN</td>\n",
       "      <td>8</td>\n",
       "      <td>4</td>\n",
       "      <td>D</td>\n",
       "    </tr>\n",
       "  </tbody>\n",
       "</table>\n",
       "</div>"
      ]
     },
     "execution_count": 106,
     "metadata": {},
     "output_type": "execute_result"
    }
   ],
   "execution_count": 106
  },
  {
   "cell_type": "markdown",
   "id": "38abdefd",
   "metadata": {},
   "source": [
    "Sortowanie malejąco według określonej kolumny z wartościami NaN na pierwszych pozycjach:"
   ]
  },
  {
   "cell_type": "code",
   "id": "9965d87e",
   "metadata": {
    "ExecuteTime": {
     "end_time": "2024-11-25T16:13:34.671684Z",
     "start_time": "2024-11-25T16:13:34.667042Z"
    }
   },
   "source": [
    "df.sort_values(by='col1', ascending=False, na_position='first')"
   ],
   "outputs": [
    {
     "data": {
      "text/plain": [
       "  col1  col2  col3 col4\n",
       "3  NaN     8     4    D\n",
       "4    D     7     2    e\n",
       "5    C     4     3    F\n",
       "2    B     9     9    c\n",
       "0    A     2     0    b\n",
       "1    A     1     1    a"
      ],
      "text/html": [
       "<div>\n",
       "<style scoped>\n",
       "    .dataframe tbody tr th:only-of-type {\n",
       "        vertical-align: middle;\n",
       "    }\n",
       "\n",
       "    .dataframe tbody tr th {\n",
       "        vertical-align: top;\n",
       "    }\n",
       "\n",
       "    .dataframe thead th {\n",
       "        text-align: right;\n",
       "    }\n",
       "</style>\n",
       "<table border=\"1\" class=\"dataframe\">\n",
       "  <thead>\n",
       "    <tr style=\"text-align: right;\">\n",
       "      <th></th>\n",
       "      <th>col1</th>\n",
       "      <th>col2</th>\n",
       "      <th>col3</th>\n",
       "      <th>col4</th>\n",
       "    </tr>\n",
       "  </thead>\n",
       "  <tbody>\n",
       "    <tr>\n",
       "      <th>3</th>\n",
       "      <td>NaN</td>\n",
       "      <td>8</td>\n",
       "      <td>4</td>\n",
       "      <td>D</td>\n",
       "    </tr>\n",
       "    <tr>\n",
       "      <th>4</th>\n",
       "      <td>D</td>\n",
       "      <td>7</td>\n",
       "      <td>2</td>\n",
       "      <td>e</td>\n",
       "    </tr>\n",
       "    <tr>\n",
       "      <th>5</th>\n",
       "      <td>C</td>\n",
       "      <td>4</td>\n",
       "      <td>3</td>\n",
       "      <td>F</td>\n",
       "    </tr>\n",
       "    <tr>\n",
       "      <th>2</th>\n",
       "      <td>B</td>\n",
       "      <td>9</td>\n",
       "      <td>9</td>\n",
       "      <td>c</td>\n",
       "    </tr>\n",
       "    <tr>\n",
       "      <th>0</th>\n",
       "      <td>A</td>\n",
       "      <td>2</td>\n",
       "      <td>0</td>\n",
       "      <td>b</td>\n",
       "    </tr>\n",
       "    <tr>\n",
       "      <th>1</th>\n",
       "      <td>A</td>\n",
       "      <td>1</td>\n",
       "      <td>1</td>\n",
       "      <td>a</td>\n",
       "    </tr>\n",
       "  </tbody>\n",
       "</table>\n",
       "</div>"
      ]
     },
     "execution_count": 107,
     "metadata": {},
     "output_type": "execute_result"
    }
   ],
   "execution_count": 107
  },
  {
   "cell_type": "markdown",
   "id": "789e3bb4",
   "metadata": {},
   "source": [
    "Sortowanie z wykorzystaniem funkcji zwracającej wartość klucza:"
   ]
  },
  {
   "cell_type": "code",
   "id": "0392bbbf",
   "metadata": {
    "ExecuteTime": {
     "end_time": "2024-11-25T16:14:41.834788Z",
     "start_time": "2024-11-25T16:14:41.819678Z"
    }
   },
   "source": [
    "df.sort_values(by='col4', key=lambda col: col.str.lower())"
   ],
   "outputs": [
    {
     "data": {
      "text/plain": [
       "  col1  col2  col3 col4\n",
       "1    A     1     1    a\n",
       "0    A     2     0    b\n",
       "2    B     9     9    c\n",
       "3  NaN     8     4    D\n",
       "4    D     7     2    e\n",
       "5    C     4     3    F"
      ],
      "text/html": [
       "<div>\n",
       "<style scoped>\n",
       "    .dataframe tbody tr th:only-of-type {\n",
       "        vertical-align: middle;\n",
       "    }\n",
       "\n",
       "    .dataframe tbody tr th {\n",
       "        vertical-align: top;\n",
       "    }\n",
       "\n",
       "    .dataframe thead th {\n",
       "        text-align: right;\n",
       "    }\n",
       "</style>\n",
       "<table border=\"1\" class=\"dataframe\">\n",
       "  <thead>\n",
       "    <tr style=\"text-align: right;\">\n",
       "      <th></th>\n",
       "      <th>col1</th>\n",
       "      <th>col2</th>\n",
       "      <th>col3</th>\n",
       "      <th>col4</th>\n",
       "    </tr>\n",
       "  </thead>\n",
       "  <tbody>\n",
       "    <tr>\n",
       "      <th>1</th>\n",
       "      <td>A</td>\n",
       "      <td>1</td>\n",
       "      <td>1</td>\n",
       "      <td>a</td>\n",
       "    </tr>\n",
       "    <tr>\n",
       "      <th>0</th>\n",
       "      <td>A</td>\n",
       "      <td>2</td>\n",
       "      <td>0</td>\n",
       "      <td>b</td>\n",
       "    </tr>\n",
       "    <tr>\n",
       "      <th>2</th>\n",
       "      <td>B</td>\n",
       "      <td>9</td>\n",
       "      <td>9</td>\n",
       "      <td>c</td>\n",
       "    </tr>\n",
       "    <tr>\n",
       "      <th>3</th>\n",
       "      <td>NaN</td>\n",
       "      <td>8</td>\n",
       "      <td>4</td>\n",
       "      <td>D</td>\n",
       "    </tr>\n",
       "    <tr>\n",
       "      <th>4</th>\n",
       "      <td>D</td>\n",
       "      <td>7</td>\n",
       "      <td>2</td>\n",
       "      <td>e</td>\n",
       "    </tr>\n",
       "    <tr>\n",
       "      <th>5</th>\n",
       "      <td>C</td>\n",
       "      <td>4</td>\n",
       "      <td>3</td>\n",
       "      <td>F</td>\n",
       "    </tr>\n",
       "  </tbody>\n",
       "</table>\n",
       "</div>"
      ]
     },
     "execution_count": 109,
     "metadata": {},
     "output_type": "execute_result"
    }
   ],
   "execution_count": 109
  },
  {
   "cell_type": "code",
   "id": "66e3f3e0",
   "metadata": {
    "ExecuteTime": {
     "end_time": "2024-11-25T16:14:42.311455Z",
     "start_time": "2024-11-25T16:14:42.306948Z"
    }
   },
   "source": [
    "df['col4'].str.lower()"
   ],
   "outputs": [
    {
     "data": {
      "text/plain": [
       "0    b\n",
       "1    a\n",
       "2    c\n",
       "3    d\n",
       "4    e\n",
       "5    f\n",
       "Name: col4, dtype: object"
      ]
     },
     "execution_count": 110,
     "metadata": {},
     "output_type": "execute_result"
    }
   ],
   "execution_count": 110
  },
  {
   "cell_type": "code",
   "id": "87a6a17d",
   "metadata": {
    "ExecuteTime": {
     "end_time": "2024-11-25T16:14:43.823969Z",
     "start_time": "2024-11-25T16:14:43.816804Z"
    }
   },
   "source": [
    "df.sort_values(by=['col1','col4'], key=lambda col: col.str.lower())"
   ],
   "outputs": [
    {
     "data": {
      "text/plain": [
       "  col1  col2  col3 col4\n",
       "1    A     1     1    a\n",
       "0    A     2     0    b\n",
       "2    B     9     9    c\n",
       "5    C     4     3    F\n",
       "4    D     7     2    e\n",
       "3  NaN     8     4    D"
      ],
      "text/html": [
       "<div>\n",
       "<style scoped>\n",
       "    .dataframe tbody tr th:only-of-type {\n",
       "        vertical-align: middle;\n",
       "    }\n",
       "\n",
       "    .dataframe tbody tr th {\n",
       "        vertical-align: top;\n",
       "    }\n",
       "\n",
       "    .dataframe thead th {\n",
       "        text-align: right;\n",
       "    }\n",
       "</style>\n",
       "<table border=\"1\" class=\"dataframe\">\n",
       "  <thead>\n",
       "    <tr style=\"text-align: right;\">\n",
       "      <th></th>\n",
       "      <th>col1</th>\n",
       "      <th>col2</th>\n",
       "      <th>col3</th>\n",
       "      <th>col4</th>\n",
       "    </tr>\n",
       "  </thead>\n",
       "  <tbody>\n",
       "    <tr>\n",
       "      <th>1</th>\n",
       "      <td>A</td>\n",
       "      <td>1</td>\n",
       "      <td>1</td>\n",
       "      <td>a</td>\n",
       "    </tr>\n",
       "    <tr>\n",
       "      <th>0</th>\n",
       "      <td>A</td>\n",
       "      <td>2</td>\n",
       "      <td>0</td>\n",
       "      <td>b</td>\n",
       "    </tr>\n",
       "    <tr>\n",
       "      <th>2</th>\n",
       "      <td>B</td>\n",
       "      <td>9</td>\n",
       "      <td>9</td>\n",
       "      <td>c</td>\n",
       "    </tr>\n",
       "    <tr>\n",
       "      <th>5</th>\n",
       "      <td>C</td>\n",
       "      <td>4</td>\n",
       "      <td>3</td>\n",
       "      <td>F</td>\n",
       "    </tr>\n",
       "    <tr>\n",
       "      <th>4</th>\n",
       "      <td>D</td>\n",
       "      <td>7</td>\n",
       "      <td>2</td>\n",
       "      <td>e</td>\n",
       "    </tr>\n",
       "    <tr>\n",
       "      <th>3</th>\n",
       "      <td>NaN</td>\n",
       "      <td>8</td>\n",
       "      <td>4</td>\n",
       "      <td>D</td>\n",
       "    </tr>\n",
       "  </tbody>\n",
       "</table>\n",
       "</div>"
      ]
     },
     "execution_count": 111,
     "metadata": {},
     "output_type": "execute_result"
    }
   ],
   "execution_count": 111
  },
  {
   "cell_type": "markdown",
   "id": "cc252bc0",
   "metadata": {},
   "source": [
    "**Uwaga:** Argumentami funkcji lambda są całe serie danych odpowiadające poszczególnym kolumnom z listy 'by' a nie poszczególne elementy w kolumnach. Możemy to zaobserwować tutaj:"
   ]
  },
  {
   "cell_type": "code",
   "id": "af759451-4a5b-4e71-be23-2deae2d585bc",
   "metadata": {
    "ExecuteTime": {
     "end_time": "2024-11-25T16:14:52.967531Z",
     "start_time": "2024-11-25T16:14:52.934976Z"
    }
   },
   "source": [
    "df.sort_values(by=['col1','col4'], key=lambda col: (print(col),col.str.lower())[1])"
   ],
   "outputs": [
    {
     "name": "stdout",
     "output_type": "stream",
     "text": [
      "0      A\n",
      "1      A\n",
      "2      B\n",
      "3    NaN\n",
      "4      D\n",
      "5      C\n",
      "Name: col1, dtype: object\n",
      "0    b\n",
      "1    a\n",
      "2    c\n",
      "3    D\n",
      "4    e\n",
      "5    F\n",
      "Name: col4, dtype: object\n"
     ]
    },
    {
     "data": {
      "text/plain": [
       "  col1  col2  col3 col4\n",
       "1    A     1     1    a\n",
       "0    A     2     0    b\n",
       "2    B     9     9    c\n",
       "5    C     4     3    F\n",
       "4    D     7     2    e\n",
       "3  NaN     8     4    D"
      ],
      "text/html": [
       "<div>\n",
       "<style scoped>\n",
       "    .dataframe tbody tr th:only-of-type {\n",
       "        vertical-align: middle;\n",
       "    }\n",
       "\n",
       "    .dataframe tbody tr th {\n",
       "        vertical-align: top;\n",
       "    }\n",
       "\n",
       "    .dataframe thead th {\n",
       "        text-align: right;\n",
       "    }\n",
       "</style>\n",
       "<table border=\"1\" class=\"dataframe\">\n",
       "  <thead>\n",
       "    <tr style=\"text-align: right;\">\n",
       "      <th></th>\n",
       "      <th>col1</th>\n",
       "      <th>col2</th>\n",
       "      <th>col3</th>\n",
       "      <th>col4</th>\n",
       "    </tr>\n",
       "  </thead>\n",
       "  <tbody>\n",
       "    <tr>\n",
       "      <th>1</th>\n",
       "      <td>A</td>\n",
       "      <td>1</td>\n",
       "      <td>1</td>\n",
       "      <td>a</td>\n",
       "    </tr>\n",
       "    <tr>\n",
       "      <th>0</th>\n",
       "      <td>A</td>\n",
       "      <td>2</td>\n",
       "      <td>0</td>\n",
       "      <td>b</td>\n",
       "    </tr>\n",
       "    <tr>\n",
       "      <th>2</th>\n",
       "      <td>B</td>\n",
       "      <td>9</td>\n",
       "      <td>9</td>\n",
       "      <td>c</td>\n",
       "    </tr>\n",
       "    <tr>\n",
       "      <th>5</th>\n",
       "      <td>C</td>\n",
       "      <td>4</td>\n",
       "      <td>3</td>\n",
       "      <td>F</td>\n",
       "    </tr>\n",
       "    <tr>\n",
       "      <th>4</th>\n",
       "      <td>D</td>\n",
       "      <td>7</td>\n",
       "      <td>2</td>\n",
       "      <td>e</td>\n",
       "    </tr>\n",
       "    <tr>\n",
       "      <th>3</th>\n",
       "      <td>NaN</td>\n",
       "      <td>8</td>\n",
       "      <td>4</td>\n",
       "      <td>D</td>\n",
       "    </tr>\n",
       "  </tbody>\n",
       "</table>\n",
       "</div>"
      ]
     },
     "execution_count": 112,
     "metadata": {},
     "output_type": "execute_result"
    }
   ],
   "execution_count": 112
  },
  {
   "cell_type": "markdown",
   "id": "ad9fb246-d045-4a62-bdeb-e60f724c72de",
   "metadata": {},
   "source": [
    "Argument key jest podobny do tego we wbudowanej funkcji [sorted()](https://docs.python.org/3/library/functions.html#sorted). Ale jest pewna istotna różnica. Funkcja podawana jako key w przypadku df.sort_values() powinna być zwektoryzowana. Powinna przyjmować serię danych jako argument i zwracać serię danych o tym samym kształcie co argument. Funkcja ta jest aplikowana niezależnie do każdej kolumny wymienionej w by."
   ]
  },
  {
   "cell_type": "markdown",
   "id": "504630e7",
   "metadata": {},
   "source": [
    "### Ćwiczenie 2\n",
    "\n",
    "Dana jest ramka danych oraz lista zawierająca wszystkie unikatowe wartości jednej z kolumn ramki. Posortuj wiersze ramki tak, aby wartości w tej kolumnie występowały w tym samym porządku co na podanej liście.\n",
    "\n",
    "Przykład:\n",
    "Dla ramki danych\n",
    "\n",
    "<table>\n",
    "  <tr>\n",
    "    <th>colA</th>\n",
    "    <th>colB</th>\n",
    "  </tr>\n",
    "  <tr>\n",
    "    <th>A</th>\n",
    "    <th>1</th>\n",
    "  </tr>\n",
    "  <tr>\n",
    "    <th>B</th>\n",
    "    <th>2</th>\n",
    "  </tr>\n",
    "  <tr>\n",
    "    <th>C</th>\n",
    "    <th>3</th>\n",
    "  </tr>\n",
    "  <tr>\n",
    "    <th>D</th>\n",
    "    <th>4</th>\n",
    "  </tr>\n",
    "</table>\n",
    "\n",
    "i listy ['C','A','D','B'] dla kolumny colA wynikiem powinno być\n",
    "\n",
    "<table>\n",
    "  <tr>\n",
    "    <th>colA</th>\n",
    "    <th>colB</th>\n",
    "  </tr>\n",
    "  <tr>\n",
    "    <th>C</th>\n",
    "    <th>3</th>\n",
    "  </tr>\n",
    "  <tr>\n",
    "    <th>A</th>\n",
    "    <th>1</th>\n",
    "  </tr>\n",
    "  <tr>\n",
    "    <th>D</th>\n",
    "    <th>4</th>\n",
    "  </tr>\n",
    "  <tr>\n",
    "    <th>B</th>\n",
    "    <th>2</th>\n",
    "  </tr>\n",
    "</table>"
   ]
  },
  {
   "cell_type": "code",
   "id": "c33d92f8",
   "metadata": {
    "ExecuteTime": {
     "end_time": "2024-11-25T16:25:49.441985Z",
     "start_time": "2024-11-25T16:25:49.411084Z"
    }
   },
   "source": [
    "df = pd.DataFrame({'colA': ['A', 'B', 'C', 'D'],\n",
    "                   'colB': [1, 2, 3, 4]\n",
    "})\n",
    "order = ['C', 'A', 'D', 'B']\n",
    "\n",
    "df.sort_values(by='colA', key=lambda x: )\n",
    "df"
   ],
   "outputs": [
    {
     "data": {
      "text/plain": [
       "  colA  colB\n",
       "0    A     1\n",
       "1    B     2\n",
       "2    C     3\n",
       "3    D     4"
      ],
      "text/html": [
       "<div>\n",
       "<style scoped>\n",
       "    .dataframe tbody tr th:only-of-type {\n",
       "        vertical-align: middle;\n",
       "    }\n",
       "\n",
       "    .dataframe tbody tr th {\n",
       "        vertical-align: top;\n",
       "    }\n",
       "\n",
       "    .dataframe thead th {\n",
       "        text-align: right;\n",
       "    }\n",
       "</style>\n",
       "<table border=\"1\" class=\"dataframe\">\n",
       "  <thead>\n",
       "    <tr style=\"text-align: right;\">\n",
       "      <th></th>\n",
       "      <th>colA</th>\n",
       "      <th>colB</th>\n",
       "    </tr>\n",
       "  </thead>\n",
       "  <tbody>\n",
       "    <tr>\n",
       "      <th>0</th>\n",
       "      <td>A</td>\n",
       "      <td>1</td>\n",
       "    </tr>\n",
       "    <tr>\n",
       "      <th>1</th>\n",
       "      <td>B</td>\n",
       "      <td>2</td>\n",
       "    </tr>\n",
       "    <tr>\n",
       "      <th>2</th>\n",
       "      <td>C</td>\n",
       "      <td>3</td>\n",
       "    </tr>\n",
       "    <tr>\n",
       "      <th>3</th>\n",
       "      <td>D</td>\n",
       "      <td>4</td>\n",
       "    </tr>\n",
       "  </tbody>\n",
       "</table>\n",
       "</div>"
      ]
     },
     "execution_count": 18,
     "metadata": {},
     "output_type": "execute_result"
    }
   ],
   "execution_count": 18
  },
  {
   "metadata": {
    "ExecuteTime": {
     "end_time": "2024-11-25T16:25:04.633083Z",
     "start_time": "2024-11-25T16:25:04.608049Z"
    }
   },
   "cell_type": "code",
   "source": "df.index[0]",
   "id": "e1e409cdaea2c827",
   "outputs": [
    {
     "data": {
      "text/plain": [
       "0"
      ]
     },
     "execution_count": 15,
     "metadata": {},
     "output_type": "execute_result"
    }
   ],
   "execution_count": 15
  },
  {
   "cell_type": "markdown",
   "id": "6c6bc637",
   "metadata": {},
   "source": [
    "---\n",
    "## 4. Złączenia ramek danych w pandas"
   ]
  },
  {
   "cell_type": "markdown",
   "id": "bb25d27b",
   "metadata": {},
   "source": [
    "Istnieją następujące sposoby złączania ramek danych w pandas:\n",
    "- za pomocą metod [pandas.DataFrame.merge](https://pandas.pydata.org/docs/reference/api/pandas.DataFrame.merge.html) lub [pandas.DataFrame.join](https://pandas.pydata.org/docs/reference/api/pandas.DataFrame.join.html#pandas.DataFrame.join) (bazodanowe SQL join);\n",
    "- za pomocą funkcji [pandas.concat](https://pandas.pydata.org/docs/reference/api/pandas.concat.html) (dołączanie kolumn lub wierszy);\n",
    "- za pomocą metody [pandas.DataFrame.combine_first](https://pandas.pydata.org/docs/reference/api/pandas.DataFrame.combine_first.html)."
   ]
  },
  {
   "cell_type": "code",
   "id": "54b0a553",
   "metadata": {
    "ExecuteTime": {
     "end_time": "2024-11-25T16:27:08.197411Z",
     "start_time": "2024-11-25T16:27:08.190666Z"
    }
   },
   "source": [
    "df1 = pd.DataFrame({'lkey': ['foo', 'bar', 'baz', 'foo'],\n",
    "                    \n",
    "                    'value': [1, 2, 3, 5]})\n",
    "\n",
    "df2 = pd.DataFrame({'rkey': ['foo', 'bar', 'baz', 'foo'],\n",
    "\n",
    "                    'value': [5, 6, 7, 8]})"
   ],
   "outputs": [],
   "execution_count": 19
  },
  {
   "cell_type": "markdown",
   "id": "fda7321c",
   "metadata": {},
   "source": [
    "Bazodanowe złączenie po indeksach (SQL full outer join):"
   ]
  },
  {
   "cell_type": "code",
   "id": "df6effc7",
   "metadata": {
    "ExecuteTime": {
     "end_time": "2024-11-25T16:27:10.308895Z",
     "start_time": "2024-11-25T16:27:10.299086Z"
    }
   },
   "source": [
    "df_merged = pd.merge(left=df1, right=df2, left_index=True, right_index=True)\n",
    "df_merged"
   ],
   "outputs": [
    {
     "data": {
      "text/plain": [
       "  lkey  value_x rkey  value_y\n",
       "0  foo        1  foo        5\n",
       "1  bar        2  bar        6\n",
       "2  baz        3  baz        7\n",
       "3  foo        5  foo        8"
      ],
      "text/html": [
       "<div>\n",
       "<style scoped>\n",
       "    .dataframe tbody tr th:only-of-type {\n",
       "        vertical-align: middle;\n",
       "    }\n",
       "\n",
       "    .dataframe tbody tr th {\n",
       "        vertical-align: top;\n",
       "    }\n",
       "\n",
       "    .dataframe thead th {\n",
       "        text-align: right;\n",
       "    }\n",
       "</style>\n",
       "<table border=\"1\" class=\"dataframe\">\n",
       "  <thead>\n",
       "    <tr style=\"text-align: right;\">\n",
       "      <th></th>\n",
       "      <th>lkey</th>\n",
       "      <th>value_x</th>\n",
       "      <th>rkey</th>\n",
       "      <th>value_y</th>\n",
       "    </tr>\n",
       "  </thead>\n",
       "  <tbody>\n",
       "    <tr>\n",
       "      <th>0</th>\n",
       "      <td>foo</td>\n",
       "      <td>1</td>\n",
       "      <td>foo</td>\n",
       "      <td>5</td>\n",
       "    </tr>\n",
       "    <tr>\n",
       "      <th>1</th>\n",
       "      <td>bar</td>\n",
       "      <td>2</td>\n",
       "      <td>bar</td>\n",
       "      <td>6</td>\n",
       "    </tr>\n",
       "    <tr>\n",
       "      <th>2</th>\n",
       "      <td>baz</td>\n",
       "      <td>3</td>\n",
       "      <td>baz</td>\n",
       "      <td>7</td>\n",
       "    </tr>\n",
       "    <tr>\n",
       "      <th>3</th>\n",
       "      <td>foo</td>\n",
       "      <td>5</td>\n",
       "      <td>foo</td>\n",
       "      <td>8</td>\n",
       "    </tr>\n",
       "  </tbody>\n",
       "</table>\n",
       "</div>"
      ]
     },
     "execution_count": 20,
     "metadata": {},
     "output_type": "execute_result"
    }
   ],
   "execution_count": 20
  },
  {
   "cell_type": "markdown",
   "id": "d9ce900c",
   "metadata": {},
   "source": [
    "Bazodanowe złączenie po określonych kolumnach (kluczach):"
   ]
  },
  {
   "cell_type": "code",
   "execution_count": null,
   "id": "51a676a0",
   "metadata": {},
   "outputs": [],
   "source": [
    "df1.merge(df2, how='left', left_on='lkey', right_on='rkey')"
   ]
  },
  {
   "cell_type": "code",
   "execution_count": null,
   "id": "3715dc17",
   "metadata": {},
   "outputs": [],
   "source": [
    "df1.merge(df2, how='right', left_on='lkey', right_on='rkey')"
   ]
  },
  {
   "cell_type": "markdown",
   "id": "9d13ed88",
   "metadata": {},
   "source": [
    "Zwróćmy uwagę, jak zostały zmienione etykiety 'value' w odpowiednich kolumnach.\n",
    "\n",
    "Przemianowywanie kolumn o takich samych etykietach można dostosować do własnych potrzeb:"
   ]
  },
  {
   "cell_type": "code",
   "execution_count": null,
   "id": "8fb99aba",
   "metadata": {},
   "outputs": [],
   "source": [
    "df1.merge(df2, how='left', left_on='lkey', right_on='rkey', suffixes=('_left', '_right'))"
   ]
  },
  {
   "cell_type": "markdown",
   "id": "114d117a",
   "metadata": {},
   "source": [
    "Przyjrzymy się teraz różnym rodzajom złączeń bazodanowych:"
   ]
  },
  {
   "cell_type": "code",
   "execution_count": null,
   "id": "29cd096b",
   "metadata": {},
   "outputs": [],
   "source": [
    "df1 = pd.DataFrame({'a': ['foo', 'bar'], 'b': [1, 2]})\n",
    "df2 = pd.DataFrame({'a': ['foo', 'baz'], 'c': [3, 4]})\n",
    "print(df1)\n",
    "print(df2)"
   ]
  },
  {
   "cell_type": "markdown",
   "id": "ce913845",
   "metadata": {},
   "source": [
    "Odpowiednik 'SQL full outer join'; używa teoriomnogościowej sumy zbiorów kluczy, która jest sortowana leksykograficznie:"
   ]
  },
  {
   "cell_type": "code",
   "execution_count": null,
   "id": "f80e5b6e",
   "metadata": {},
   "outputs": [],
   "source": [
    "df1.merge(df2, how='outer', on='a')"
   ]
  },
  {
   "cell_type": "markdown",
   "id": "122fee57",
   "metadata": {},
   "source": [
    "Odpowiednik 'SQL inner join'; używa teoriomnogościwego iloczynu (przecięcia) zbiorów kluczy, zachowując kolejność kluczy w lewej ramce:"
   ]
  },
  {
   "cell_type": "code",
   "execution_count": null,
   "id": "6ef1740b",
   "metadata": {},
   "outputs": [],
   "source": [
    "#pd.merge(left=df1, right=df2, how='inner', on='a')\n",
    "df1.merge(df2, how='inner', on='a')"
   ]
  },
  {
   "cell_type": "markdown",
   "id": "1d2ff0d8",
   "metadata": {},
   "source": [
    "Odpowiednik 'SQL left outer join'; używa wyłącznie kluczy z lewej ramki zachowując ich kolejność:"
   ]
  },
  {
   "cell_type": "code",
   "execution_count": null,
   "id": "b31de181",
   "metadata": {},
   "outputs": [],
   "source": [
    "#pd.merge(left=df1, right=df2, how='left', on='a')\n",
    "df1.merge(df2, how='left', on='a')"
   ]
  },
  {
   "cell_type": "markdown",
   "id": "757391fd",
   "metadata": {},
   "source": [
    "Odpowiednik 'SQL right outer join', używa wyłącznie kluczy prawej ramki zachowując ich kolejność:"
   ]
  },
  {
   "cell_type": "code",
   "execution_count": null,
   "id": "2bfbfddb",
   "metadata": {},
   "outputs": [],
   "source": [
    "#pd.merge(left=df1, right=df2, how='right', on='a')\n",
    "df1.merge(df2, how='right', on='a')"
   ]
  },
  {
   "cell_type": "markdown",
   "id": "f214a824",
   "metadata": {},
   "source": [
    "Iloczyn kartezjański obu ramek danych, który zachowuje kolejność kluczy lewej ramki:"
   ]
  },
  {
   "cell_type": "code",
   "execution_count": null,
   "id": "bb063cec",
   "metadata": {},
   "outputs": [],
   "source": [
    "df1.merge(df2, how='cross')"
   ]
  },
  {
   "cell_type": "markdown",
   "id": "a0431de2",
   "metadata": {},
   "source": [
    "Złączenia można realizować także za pomocą metody [pandas.DataFrame.join](https://pandas.pydata.org/docs/reference/api/pandas.DataFrame.join.html#pandas.DataFrame.join), która domyślnie realizuje złączenie po indeksach (w odróżnieniu od merge, która domyślnie dokonuje złączenia po wspólnych kolumnach):"
   ]
  },
  {
   "cell_type": "code",
   "execution_count": null,
   "id": "ff0c6939",
   "metadata": {},
   "outputs": [],
   "source": [
    "df1.join(other=df2, how='outer', lsuffix='_lewa', rsuffix='_prawa')"
   ]
  },
  {
   "cell_type": "markdown",
   "id": "8157e3c0",
   "metadata": {},
   "source": [
    "Następująca próba złączenia nie zadziała, gdyż próbuje dokonać złączenia na kolumnie df1.'a' i indeksie df2, których elementy są różnych typów: "
   ]
  },
  {
   "cell_type": "code",
   "execution_count": null,
   "id": "85cf4e6b",
   "metadata": {},
   "outputs": [],
   "source": [
    "df1.join(other=df2, on=['a'], how='outer', lsuffix='_lewa', rsuffix='_prawa')"
   ]
  },
  {
   "cell_type": "markdown",
   "id": "81515c6d",
   "metadata": {},
   "source": [
    "Za pomocą funkcji [pandas.concat](https://pandas.pydata.org/docs/reference/api/pandas.concat.html) możemy połączyć ramki danych w jedną ramkę kolumnami:"
   ]
  },
  {
   "cell_type": "code",
   "execution_count": null,
   "id": "14d0c2c7",
   "metadata": {},
   "outputs": [],
   "source": [
    "pd.concat([df1,df2],axis=1)"
   ]
  },
  {
   "cell_type": "markdown",
   "id": "72334a00",
   "metadata": {},
   "source": [
    "bądź wierszami:"
   ]
  },
  {
   "cell_type": "code",
   "execution_count": null,
   "id": "1bbc2c74",
   "metadata": {},
   "outputs": [],
   "source": [
    "pd.concat([df1,df2],axis=0)"
   ]
  },
  {
   "cell_type": "markdown",
   "id": "96a236c0",
   "metadata": {},
   "source": [
    "Przy wierszowym łączeniu ramek przydatna może okazać się możliwość ignorowania wartości indeksów łączonych ramek danych. W takim przypadku kolejne wiersze będą inkesowane liczbami od 0 do n-1:"
   ]
  },
  {
   "cell_type": "code",
   "execution_count": null,
   "id": "78bbb674",
   "metadata": {},
   "outputs": [],
   "source": [
    "pd.concat([df1,df2],axis=0,ignore_index=True)"
   ]
  },
  {
   "cell_type": "markdown",
   "id": "3d7fa2af",
   "metadata": {},
   "source": [
    "Domyślną wartością parametru join jest 'outer'. Możemy wywołać funkcję concat z argumentem join o wartości 'inner', co spowoduje uwzględnienie w wyniku naszego wywołania tylko kolumn o wspólnych etykiach w łączonych ramkach danych:"
   ]
  },
  {
   "cell_type": "code",
   "execution_count": null,
   "id": "a547d875",
   "metadata": {},
   "outputs": [],
   "source": [
    "pd.concat([df1,df2],axis=0,join='inner')"
   ]
  },
  {
   "cell_type": "markdown",
   "id": "d7936f08",
   "metadata": {},
   "source": [
    "W przypadku łaczenia wierszy zadziała to tak:"
   ]
  },
  {
   "cell_type": "code",
   "execution_count": null,
   "id": "a0474968",
   "metadata": {},
   "outputs": [],
   "source": [
    "df1 = pd.DataFrame({'a': ['foo', 'bar', 'abc'], 'b': [1, 2, 7]})\n",
    "df2 = pd.DataFrame({'a': ['foo', 'baz'], 'c': [3, 4]})\n",
    "print(df1)\n",
    "print(df2)\n",
    "pd.concat([df1,df2],axis=1,join='inner')"
   ]
  },
  {
   "cell_type": "markdown",
   "id": "f2749eb2",
   "metadata": {},
   "source": [
    "Metoda [pandas.DataFrame.combine_first](https://pandas.pydata.org/docs/reference/api/pandas.DataFrame.combine_first.html) pozwala na uzupełnianie brakujących wartości (NaN) danej ramki danych odpowiednimi wartościami z drugiej ramki danych:"
   ]
  },
  {
   "cell_type": "code",
   "execution_count": null,
   "id": "d90605fc",
   "metadata": {},
   "outputs": [],
   "source": [
    "df1 = pd.DataFrame({'A': [None, 0], 'B': [None, 4]})\n",
    "df2 = pd.DataFrame({'A': [1, 1], 'B': [3, 3]})\n",
    "print(df1)\n",
    "print(df2)\n",
    "df1.combine_first(df2)"
   ]
  },
  {
   "cell_type": "markdown",
   "id": "b4ba85eb",
   "metadata": {},
   "source": [
    "Wywołanie df1.combine_first(df2) łączy dwie ramki danych uzupełniając brakujące wartości w lokacjach ramki df1 istniejącymi wartościami w odpowiadających lokacjach ramki df2. Brakująca wartość pozostanie w df1 jeżeli nie ma określonej wartości w odpowiadającej lokacji w ramce df2.\n",
    "\n",
    "Indeksy kolumn i wierszy wynikowej ramki danych są teoriomnogościową sumą odpowiednich indeksów obu ramek."
   ]
  },
  {
   "cell_type": "code",
   "execution_count": null,
   "id": "40a2f5ba",
   "metadata": {},
   "outputs": [],
   "source": [
    "df1 = pd.DataFrame({'A': [None, 0], 'B': [4, None]})\n",
    "df2 = pd.DataFrame({'B': [3, 3], 'C': [1, 1]}, index=[1, 2])\n",
    "print(df1)\n",
    "print(df2)\n",
    "df1.combine_first(df2)"
   ]
  },
  {
   "cell_type": "markdown",
   "id": "2bdfa428",
   "metadata": {},
   "source": [
    "---\n",
    "## 5. Grupowanie w pandas"
   ]
  },
  {
   "cell_type": "markdown",
   "id": "066a5771",
   "metadata": {},
   "source": [
    "Mechanizm grupowania w pandas pozwala podzielić dane na grupy i zastosować funkcję agregującą do każdej z grup niezależnie.\n",
    "\n",
    "Metoda [pandas.DataFrame.groupby](https://pandas.pydata.org/docs/reference/api/pandas.DataFrame.groupby.html) zwraca obiekt groupby zawierający informacje o utworzonych grupach:"
   ]
  },
  {
   "cell_type": "code",
   "execution_count": null,
   "id": "5d32c60e",
   "metadata": {},
   "outputs": [],
   "source": [
    "df = pd.DataFrame({'Animal': ['Falcon', 'Falcon', 'Parrot', 'Parrot'],\n",
    "                   'Max Speed': [380., 370., 24., 26.]})\n",
    "df"
   ]
  },
  {
   "cell_type": "markdown",
   "id": "ea293174",
   "metadata": {},
   "source": [
    "Grupowanie za pomocą kolumny grupującej:"
   ]
  },
  {
   "cell_type": "code",
   "execution_count": null,
   "id": "dc7baf1a",
   "metadata": {},
   "outputs": [],
   "source": [
    "gb = df.groupby(['Animal'])\n",
    "gb"
   ]
  },
  {
   "cell_type": "markdown",
   "id": "d2b5312a",
   "metadata": {},
   "source": [
    "Wartością atrubytu .groups jest słownik reprezentujący grupy, gdzie klucze to wartości z kiolumny grupującej a wartości to odpowiadające tym wartościom wiersze:"
   ]
  },
  {
   "cell_type": "code",
   "execution_count": null,
   "id": "925faf9f",
   "metadata": {},
   "outputs": [],
   "source": [
    "gb.groups"
   ]
  },
  {
   "cell_type": "markdown",
   "id": "22250947",
   "metadata": {},
   "source": [
    "Iteracja po grupach (zwykle nie jest używana):"
   ]
  },
  {
   "cell_type": "code",
   "execution_count": null,
   "id": "9c0fa6ff",
   "metadata": {},
   "outputs": [],
   "source": [
    "for name, group in gb:\n",
    "    print (name)\n",
    "    print (group)"
   ]
  },
  {
   "cell_type": "code",
   "execution_count": null,
   "id": "0550af94",
   "metadata": {},
   "outputs": [],
   "source": [
    "# gb.get_group('Parrot') # Starsze wersje pandas\n",
    "gb.get_group(('Parrot',)) # W przyszłych wersjach pandas"
   ]
  },
  {
   "cell_type": "markdown",
   "id": "f3173b65",
   "metadata": {},
   "source": [
    "Możemy teraz policzyć średnie prędkości uzyskiwane przez poszczególne zwierzęta stosując funkcję agregującą, w naszym przypadku funkcję mean():"
   ]
  },
  {
   "cell_type": "code",
   "execution_count": null,
   "id": "3775b798",
   "metadata": {},
   "outputs": [],
   "source": [
    "gb.mean()"
   ]
  },
  {
   "cell_type": "markdown",
   "id": "0bf89ef3",
   "metadata": {},
   "source": [
    "Funkcja mean() zostanie zastosowana do każdej kolumny w każdej z grup niezależnie. Zobaczymy to jeszcze poniżej."
   ]
  },
  {
   "cell_type": "markdown",
   "id": "fc0e4fd4",
   "metadata": {},
   "source": [
    "Możemy też zastosować wiele funkcji agregujących do jednej kolumny."
   ]
  },
  {
   "cell_type": "code",
   "execution_count": null,
   "id": "22d1a6ce",
   "metadata": {},
   "outputs": [],
   "source": [
    "#df_result = gb.agg([np.sum, np.mean, np.std])\n",
    "df_result = gb.agg([\"sum\", \"mean\", \"std\"]) # W przyszłych wersjach pandas\n",
    "df_result"
   ]
  },
  {
   "cell_type": "markdown",
   "id": "9f34fc52",
   "metadata": {},
   "source": [
    "Wynikowa ramka danych posiada indeks hierarchiczny ([MultiIndex](https://pandas.pydata.org/docs/user_guide/advanced.html)) dla kolumn:"
   ]
  },
  {
   "cell_type": "code",
   "execution_count": null,
   "id": "4e03054b",
   "metadata": {},
   "outputs": [],
   "source": [
    "df_result.columns"
   ]
  },
  {
   "cell_type": "markdown",
   "id": "95e52798",
   "metadata": {},
   "source": [
    "Możemy też zastosować wiele (różnych) funkcji agregujących do wielu kolumn: "
   ]
  },
  {
   "cell_type": "code",
   "execution_count": null,
   "id": "dc69a735",
   "metadata": {},
   "outputs": [],
   "source": [
    "l = [[1, 2, 3], [1, 5, 4], [2, 0, 3], [1, 2, 2]]\n",
    "df_abc = pd.DataFrame(l, columns=[\"a\", \"b\", \"c\"])\n",
    "df_abc"
   ]
  },
  {
   "cell_type": "code",
   "execution_count": null,
   "id": "1cc7120d",
   "metadata": {},
   "outputs": [],
   "source": [
    "#df_abc.groupby('a').agg({'b': np.count_nonzero, 'c': [np.mean, np.sum]})\n",
    "df_abc.groupby('a').agg({'b': np.count_nonzero, 'c': [\"mean\", \"sum\"]}) # W przyszłości"
   ]
  },
  {
   "cell_type": "markdown",
   "id": "766830c3",
   "metadata": {},
   "source": [
    "Jeżeli kluczem grupy jest NA, wiersze/kolumny odpowiadające takiej grupie domyślnie zostaną pominięte. Aby to zmienić, należy wartość argumentu dropna ustawić na False. Przeanalizujemy to na przykładzie:"
   ]
  },
  {
   "cell_type": "code",
   "execution_count": null,
   "id": "72b23212",
   "metadata": {},
   "outputs": [],
   "source": [
    "l = [[1, 2, 3], [1, None, 4], [2, 1, 3], [1, 2, 2]]\n",
    "df = pd.DataFrame(l, columns=[\"a\", \"b\", \"c\"])\n",
    "df"
   ]
  },
  {
   "cell_type": "markdown",
   "id": "75d9c571",
   "metadata": {},
   "source": [
    "Pogrupujemy po kolumnie 'b' z domyślną wartością argumentu dropna:"
   ]
  },
  {
   "cell_type": "code",
   "execution_count": null,
   "id": "2456c7e6",
   "metadata": {},
   "outputs": [],
   "source": [
    "df.groupby(by=[\"b\"]).sum()"
   ]
  },
  {
   "cell_type": "markdown",
   "id": "fc26deff",
   "metadata": {},
   "source": [
    "W powyższym przykładzie funkcja agregującą sum() została zastosowana do wszystkich kolumn, tj. a i c, dla każdej z grup niezależnie. Możemy to zmienić wybierając kolumny, do których chcemy zastosować funkcję agregującą:"
   ]
  },
  {
   "cell_type": "code",
   "execution_count": null,
   "id": "8f10ffd8",
   "metadata": {},
   "outputs": [],
   "source": [
    "df.groupby(by=[\"b\"])[['c']].sum()"
   ]
  },
  {
   "cell_type": "markdown",
   "id": "dcdc31bb",
   "metadata": {},
   "source": [
    "Teraz zmienimy wartość dropna na False:"
   ]
  },
  {
   "cell_type": "code",
   "execution_count": null,
   "id": "f7ceb1b6",
   "metadata": {},
   "outputs": [],
   "source": [
    "df.groupby(by=[\"b\"], dropna=False).sum()"
   ]
  },
  {
   "cell_type": "markdown",
   "id": "1fd02d54",
   "metadata": {},
   "source": [
    "Możemy również grupować za pomocą poszczególnych poziomów indeksu hierarchicznego.\n",
    "\n",
    "Najpierw utworzymy indeks hierarchiczny z tablicy:"
   ]
  },
  {
   "cell_type": "code",
   "execution_count": null,
   "id": "477d7df5",
   "metadata": {},
   "outputs": [],
   "source": [
    "arrays = [['Falcon', 'Falcon', 'Parrot', 'Parrot'],\n",
    "          ['Captive', 'Wild', 'Captive', 'Wild']]\n",
    "index = pd.MultiIndex.from_arrays(arrays, names=('Animal', 'Type'))\n",
    "index"
   ]
  },
  {
   "cell_type": "markdown",
   "id": "67f75605",
   "metadata": {},
   "source": [
    "Następnie utworzymy ramkę danych z naszymi danymi indeksowaną indeksem hierarchicznym:"
   ]
  },
  {
   "cell_type": "code",
   "execution_count": null,
   "id": "999c8a65",
   "metadata": {},
   "outputs": [],
   "source": [
    "df = pd.DataFrame({'Max Speed': [390., 350., 30., 20.]}, index=index)\n",
    "df"
   ]
  },
  {
   "cell_type": "markdown",
   "id": "534b0a28",
   "metadata": {},
   "source": [
    "Pogrupujemy dane na podstawie pierwszego poziomu indeksu hierarchicznego:"
   ]
  },
  {
   "cell_type": "code",
   "execution_count": null,
   "id": "357d95ad",
   "metadata": {},
   "outputs": [],
   "source": [
    "df.groupby(level=0).groups"
   ]
  },
  {
   "cell_type": "markdown",
   "id": "93ba973d",
   "metadata": {},
   "source": [
    "a teraz na podstawie poziomu drugiego:"
   ]
  },
  {
   "cell_type": "code",
   "execution_count": null,
   "id": "9d1cff71",
   "metadata": {},
   "outputs": [],
   "source": [
    "df.groupby(level='Type').groups"
   ]
  },
  {
   "cell_type": "markdown",
   "id": "15ede97e",
   "metadata": {},
   "source": [
    "---\n",
    "## 6. Czas w pandas\n",
    "\n",
    "Tak jak było zapowiedziane wcześniej, na koniec wrócimy jeszcze do zagadnień związanych z czasem w pandas."
   ]
  },
  {
   "cell_type": "markdown",
   "id": "0d8fbec7",
   "metadata": {},
   "source": [
    "Pandas wprowadza trzy główne pojęcia związane z czasem:\n",
    "- Datetimes - konkretne daty i czasy wraz z informacją o strefie czasowej;\n",
    "- Timedeltas - bezwględne czasy trwania;\n",
    "- Timespans - przedziały czasowe określone poprzez czasy początkowy i końcowy oraz krok czasowy.\n",
    "- \n",
    "Podstawową klasą jest klasa [pandas.Timestamp](https://pandas.pydata.org/docs/reference/api/pandas.Timestamp.html#pandas.Timestamp), będąca podklasą klasy [datetime.datetime](https://docs.python.org/3/library/datetime.html#datetime.datetime) z biblioteki standardowej. Pozwala na tworzenie obiektów reprezentujących konkretną datę i czas wraz z informacją o strefie czasowej."
   ]
  },
  {
   "cell_type": "code",
   "id": "bcb61a3b",
   "metadata": {
    "ExecuteTime": {
     "end_time": "2024-11-25T16:39:18.774906Z",
     "start_time": "2024-11-25T16:39:18.764586Z"
    }
   },
   "source": [
    "pd.Timestamp(year=2023, month=12, day=17, hour=11)"
   ],
   "outputs": [
    {
     "data": {
      "text/plain": [
       "Timestamp('2023-12-17 11:00:00')"
      ]
     },
     "execution_count": 21,
     "metadata": {},
     "output_type": "execute_result"
    }
   ],
   "execution_count": 21
  },
  {
   "cell_type": "markdown",
   "id": "d6144a0a",
   "metadata": {},
   "source": [
    "Czas może być bardzo dokładny, tzn. określony z dokładnością co do nanosekundy:"
   ]
  },
  {
   "cell_type": "code",
   "id": "d199e6f2",
   "metadata": {
    "ExecuteTime": {
     "end_time": "2024-11-25T16:39:20.517250Z",
     "start_time": "2024-11-25T16:39:20.509602Z"
    }
   },
   "source": [
    "pd.Timestamp('2020-03-14T15:32:52.192548651', tz='UTC')"
   ],
   "outputs": [
    {
     "data": {
      "text/plain": [
       "Timestamp('2020-03-14 15:32:52.192548651+0000', tz='UTC')"
      ]
     },
     "execution_count": 22,
     "metadata": {},
     "output_type": "execute_result"
    }
   ],
   "execution_count": 22
  },
  {
   "cell_type": "markdown",
   "id": "bc18fb2f",
   "metadata": {},
   "source": [
    "Zobaczmy jak można konwertować czas z uwzględnieniem informacji o strefie czasowej:"
   ]
  },
  {
   "cell_type": "code",
   "id": "05b7a0a4",
   "metadata": {
    "ExecuteTime": {
     "end_time": "2024-11-25T16:39:23.541363Z",
     "start_time": "2024-11-25T16:39:23.435759Z"
    }
   },
   "source": [
    "ts = pd.Timestamp(year=2023, month=10, day=17, hour=11, tz=\"Europe/Warsaw\")\n",
    "ts"
   ],
   "outputs": [
    {
     "data": {
      "text/plain": [
       "Timestamp('2023-10-17 11:00:00+0200', tz='Europe/Warsaw')"
      ]
     },
     "execution_count": 23,
     "metadata": {},
     "output_type": "execute_result"
    }
   ],
   "execution_count": 23
  },
  {
   "cell_type": "markdown",
   "id": "ca242437",
   "metadata": {},
   "source": [
    "Konwersji można dokonać za pomocą metody [Timestamp.tz_convert()](https://pandas.pydata.org/docs/reference/api/pandas.Timestamp.tz_convert.html#pandas.Timestamp.tz_convert):"
   ]
  },
  {
   "cell_type": "code",
   "id": "88c5b600",
   "metadata": {
    "ExecuteTime": {
     "end_time": "2024-11-25T16:39:25.608188Z",
     "start_time": "2024-11-25T16:39:25.601182Z"
    }
   },
   "source": [
    "ts.tz_convert(\"US/Eastern\")"
   ],
   "outputs": [
    {
     "data": {
      "text/plain": [
       "Timestamp('2023-10-17 05:00:00-0400', tz='US/Eastern')"
      ]
     },
     "execution_count": 24,
     "metadata": {},
     "output_type": "execute_result"
    }
   ],
   "execution_count": 24
  },
  {
   "cell_type": "markdown",
   "id": "427a76e6",
   "metadata": {},
   "source": [
    "albo [Timestamp.astimezone()](https://pandas.pydata.org/docs/reference/api/pandas.Timestamp.astimezone.html#pandas.Timestamp.astimezone):"
   ]
  },
  {
   "cell_type": "code",
   "id": "2724af8d",
   "metadata": {
    "ExecuteTime": {
     "end_time": "2024-11-25T16:39:27.587479Z",
     "start_time": "2024-11-25T16:39:27.584206Z"
    }
   },
   "source": [
    "ts.astimezone(\"US/Eastern\")"
   ],
   "outputs": [
    {
     "data": {
      "text/plain": [
       "Timestamp('2023-10-17 05:00:00-0400', tz='US/Eastern')"
      ]
     },
     "execution_count": 25,
     "metadata": {},
     "output_type": "execute_result"
    }
   ],
   "execution_count": 25
  },
  {
   "cell_type": "markdown",
   "id": "d562fbb3",
   "metadata": {},
   "source": [
    "Możemy też wypisać datę i czas obiektu Timestamp w formacie POSIX, tj. w postaci czasu uniksowego, czyli liczbę sekund od początku 1970 roku [UTC](https://en.wikipedia.org/wiki/Coordinated_Universal_Time), tj. od chwili zwanej początkiem epoki Uniksa (ang. *Unix Epoch*), ale bez uwzględnienia [sekund przestępnych](https://pl.wikipedia.org/wiki/Sekunda_przest%C4%99pna):"
   ]
  },
  {
   "cell_type": "code",
   "id": "f72beba9",
   "metadata": {
    "ExecuteTime": {
     "end_time": "2024-11-25T16:39:28.799657Z",
     "start_time": "2024-11-25T16:39:28.796029Z"
    }
   },
   "source": [
    "ts.timestamp()"
   ],
   "outputs": [
    {
     "data": {
      "text/plain": [
       "1697533200.0"
      ]
     },
     "execution_count": 26,
     "metadata": {},
     "output_type": "execute_result"
    }
   ],
   "execution_count": 26
  },
  {
   "cell_type": "markdown",
   "id": "64a0dfe8",
   "metadata": {},
   "source": [
    "Ciekawostka: możemy nawet wypisać datę i czas w postaci [dni juliańskich](https://pl.wikipedia.org/wiki/Data_julia%C5%84ska), czyli liczby dni, która upłynęła od godziny 12:00 czasu uniwersalnego (czasu południka zerowego) w dniu 1 stycznia roku 4713 p.n.e. według kalendarza juliańskiego (przedłużonego odpowiednio wstecz):"
   ]
  },
  {
   "cell_type": "code",
   "id": "815c200a",
   "metadata": {
    "ExecuteTime": {
     "end_time": "2024-11-25T16:39:35.413536Z",
     "start_time": "2024-11-25T16:39:35.410262Z"
    }
   },
   "source": [
    "ts.to_julian_date()"
   ],
   "outputs": [
    {
     "data": {
      "text/plain": [
       "np.float64(2460234.9583333335)"
      ]
     },
     "execution_count": 27,
     "metadata": {},
     "output_type": "execute_result"
    }
   ],
   "execution_count": 27
  },
  {
   "cell_type": "markdown",
   "id": "9b31d4ee",
   "metadata": {},
   "source": [
    "Możemy odejmować obiekty klasy Timestamp jeżeli strefy czasowe obu obiektów są określone:"
   ]
  },
  {
   "cell_type": "code",
   "id": "96d5216f",
   "metadata": {
    "ExecuteTime": {
     "end_time": "2024-11-25T16:40:03.062735Z",
     "start_time": "2024-11-25T16:40:03.051288Z"
    }
   },
   "source": [
    "teraz = ts.today()\n",
    "print(teraz)"
   ],
   "outputs": [
    {
     "name": "stdout",
     "output_type": "stream",
     "text": [
      "2024-11-25 17:40:03.055896\n"
     ]
    }
   ],
   "execution_count": 33
  },
  {
   "cell_type": "markdown",
   "id": "5c761ce2",
   "metadata": {},
   "source": [
    "To nie zadziała:"
   ]
  },
  {
   "cell_type": "code",
   "id": "0b9f03c7",
   "metadata": {
    "ExecuteTime": {
     "end_time": "2024-11-25T16:40:03.926346Z",
     "start_time": "2024-11-25T16:40:03.897367Z"
    }
   },
   "source": [
    "teraz - ts"
   ],
   "outputs": [
    {
     "ename": "TypeError",
     "evalue": "Cannot subtract tz-naive and tz-aware datetime-like objects.",
     "output_type": "error",
     "traceback": [
      "\u001B[0;31m---------------------------------------------------------------------------\u001B[0m",
      "\u001B[0;31mTypeError\u001B[0m                                 Traceback (most recent call last)",
      "Cell \u001B[0;32mIn[34], line 1\u001B[0m\n\u001B[0;32m----> 1\u001B[0m teraz \u001B[38;5;241m-\u001B[39m ts\n",
      "File \u001B[0;32mtimestamps.pyx:514\u001B[0m, in \u001B[0;36mpandas._libs.tslibs.timestamps._Timestamp.__sub__\u001B[0;34m()\u001B[0m\n",
      "\u001B[0;31mTypeError\u001B[0m: Cannot subtract tz-naive and tz-aware datetime-like objects."
     ]
    }
   ],
   "execution_count": 34
  },
  {
   "cell_type": "markdown",
   "id": "3b711c94",
   "metadata": {},
   "source": [
    "ale po dookreśleniu strefy czasowej dla teraz już tak:"
   ]
  },
  {
   "cell_type": "code",
   "id": "140e9a59",
   "metadata": {
    "ExecuteTime": {
     "end_time": "2024-11-25T16:40:08.667858Z",
     "start_time": "2024-11-25T16:40:08.652924Z"
    }
   },
   "source": [
    "teraz = teraz.tz_localize(tz=\"Europe/Warsaw\")\n",
    "\n",
    "dt = teraz - ts\n",
    "dt"
   ],
   "outputs": [
    {
     "ename": "TypeError",
     "evalue": "Cannot localize tz-aware Timestamp, use tz_convert for conversions",
     "output_type": "error",
     "traceback": [
      "\u001B[0;31m---------------------------------------------------------------------------\u001B[0m",
      "\u001B[0;31mTypeError\u001B[0m                                 Traceback (most recent call last)",
      "Cell \u001B[0;32mIn[37], line 1\u001B[0m\n\u001B[0;32m----> 1\u001B[0m teraz \u001B[38;5;241m=\u001B[39m teraz\u001B[38;5;241m.\u001B[39mtz_localize(tz\u001B[38;5;241m=\u001B[39m\u001B[38;5;124m\"\u001B[39m\u001B[38;5;124mEurope/Warsaw\u001B[39m\u001B[38;5;124m\"\u001B[39m)\n\u001B[1;32m      3\u001B[0m dt \u001B[38;5;241m=\u001B[39m teraz \u001B[38;5;241m-\u001B[39m ts\n\u001B[1;32m      4\u001B[0m dt\n",
      "File \u001B[0;32mtimestamps.pyx:2299\u001B[0m, in \u001B[0;36mpandas._libs.tslibs.timestamps.Timestamp.tz_localize\u001B[0;34m()\u001B[0m\n",
      "\u001B[0;31mTypeError\u001B[0m: Cannot localize tz-aware Timestamp, use tz_convert for conversions"
     ]
    }
   ],
   "execution_count": 37
  },
  {
   "cell_type": "markdown",
   "id": "b0128c4f",
   "metadata": {},
   "source": [
    "W rezultacie dostajemy obiekt klasy [Timedelta](https://pandas.pydata.org/docs/reference/api/pandas.Timedelta.html). I możemy go wykorzystać np. w taki oto sposób:"
   ]
  },
  {
   "cell_type": "code",
   "id": "c51f5c3d",
   "metadata": {
    "ExecuteTime": {
     "end_time": "2024-11-25T16:40:06.350803Z",
     "start_time": "2024-11-25T16:40:06.343574Z"
    }
   },
   "source": [
    "pd.Timestamp('2020-03-14T15:32:52.192548651', tz='UTC') + dt"
   ],
   "outputs": [
    {
     "data": {
      "text/plain": [
       "Timestamp('2021-04-23 23:12:55.248444651+0000', tz='UTC')"
      ]
     },
     "execution_count": 36,
     "metadata": {},
     "output_type": "execute_result"
    }
   ],
   "execution_count": 36
  },
  {
   "metadata": {},
   "cell_type": "code",
   "outputs": [],
   "execution_count": null,
   "source": "",
   "id": "80327031e44fdd3b"
  }
 ],
 "metadata": {
  "kernelspec": {
   "display_name": "Python 3",
   "language": "python",
   "name": "python3"
  },
  "language_info": {
   "codemirror_mode": {
    "name": "ipython",
    "version": 3
   },
   "file_extension": ".py",
   "mimetype": "text/x-python",
   "name": "python",
   "nbconvert_exporter": "python",
   "pygments_lexer": "ipython3",
   "version": "3.6.9"
  }
 },
 "nbformat": 4,
 "nbformat_minor": 5
}
