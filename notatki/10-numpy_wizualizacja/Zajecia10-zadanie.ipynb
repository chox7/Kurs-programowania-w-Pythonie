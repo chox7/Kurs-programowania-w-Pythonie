{
 "cells": [
  {
   "cell_type": "markdown",
   "id": "cef6d53e-93d7-42e0-995e-65a590bb3d08",
   "metadata": {},
   "source": [
    "# Zadanie domowe 10\n",
    "\n",
    "Zrobić animację w formacie GIF pokazującą działanie Centralnego Twierdzenia Granicznego dla niezależnych zmiennych losowych pochodzących z rozkładu wykładniczego bądź wybranego przez siebie innego rozkładu prawdopodobieństwa. Pomocny może być następujący przykład: [https://matplotlib.org/stable/gallery/animation/animated_histogram.html](https://matplotlib.org/stable/gallery/animation/animated_histogram.html). Rozwiązaniem powinien być kod w Pythonie tworzący plik GIF."
   ]
  },
  {
   "cell_type": "code",
   "execution_count": null,
   "id": "extraordinary-advice",
   "metadata": {},
   "outputs": [],
   "source": []
  }
 ],
 "metadata": {
  "kernelspec": {
   "display_name": "Python 3",
   "language": "python",
   "name": "python3"
  },
  "language_info": {
   "codemirror_mode": {
    "name": "ipython",
    "version": 3
   },
   "file_extension": ".py",
   "mimetype": "text/x-python",
   "name": "python",
   "nbconvert_exporter": "python",
   "pygments_lexer": "ipython3",
   "version": "3.6.9"
  }
 },
 "nbformat": 4,
 "nbformat_minor": 5
}
