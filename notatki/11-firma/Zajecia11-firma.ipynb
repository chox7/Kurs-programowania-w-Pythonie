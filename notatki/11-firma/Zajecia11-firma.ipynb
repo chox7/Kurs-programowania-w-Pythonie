{
 "cells": [
  {
   "cell_type": "markdown",
   "metadata": {},
   "source": [
    "# Python w firmie\n",
    "\n",
    "Na dzisiejszych zajęciach omówimy kilka zagadnień i użytecznych bibliotek \n",
    "\n",
    "- tworzenie środowisk wirtualnych służąych do odseparowania niezależnych projektów programistycznych,\n",
    "- narzędzia do zwiększania czytelności kodu (*type hinting*),\n",
    "- narzędzia do tworzenia modeli danych i walidacji danych (pydantic),\n",
    "- tworzenie testów do aplikacji w Pythonie (pytest).\n",
    "\n",
    "Na końcu znajduje się krótki przegląd innych przydatnych narzędzi i zagadnień takich jak statyczna analiza typów, jakość kodu, formatowanie kodu, generowanie dokumentacji, profiler, debugger oraz przygotowywanie własnych pakietów.\n"
   ]
  },
  {
   "cell_type": "markdown",
   "metadata": {},
   "source": [
    "## 1. Środowisko wirtualne\n",
    "\n",
    "Środowisko wirtualne (virtual environment) w Pythonie to narzędzie, które umożliwia tworzenie izolowanych przestrzeni dla projektów Pythonowych. Każde środowisko wirtualne ma własne miejsce do przechowywania interpretera języka Python oraz zestawu bibliotek. Dzięki temu można mieć różne wersje bibliotek dla różnych projektów, co zapobiega konfliktom między zależnościami.\n",
    "\n",
    "Oto główne cechy i korzyści środowiska wirtualnego:\n",
    "- Izolacja zależności: Każdy projekt może mieć własne, niezależne od innych, zależności, co jest szczególnie przydatne, gdy różne projekty wymagają różnych wersji tej samej biblioteki.\n",
    "- Ułatwienie współpracy: Środowiska wirtualne umożliwiają tworzenie plików requirements.txt, które zawierają listę wszystkich bibliotek potrzebnych do danego projektu. Dzięki temu inni programiści mogą łatwo zainstalować te same zależności i pracować nad tym samym kodem.\n",
    "- Prostota zarządzania: Używając narzędzi takich jak `venv` (wbudowanego w Pythona od wersji 3.3) lub `virtualenv` (narzędzie zewnętrzne), można łatwo tworzyć i zarządzać wieloma środowiskami wirtualnymi.\n",
    "- Ochrona systemu: Ponieważ środowiska wirtualne są odizolowane od głównego systemu, instalacja i testowanie różnych pakietów nie wpływa na resztę systemu.\n",
    "- Elastyczność: Środowiska wirtualne pozwalają na eksperymentowanie z różnymi konfiguracjami i wersjami pakietów, co jest przydatne w procesie nauki, eksperymentowania lub rozwiązywania specyficznych problemów projektowych.\n",
    "\n",
    "Aby utworzyć środowisko wirtualne w Pythonie, można użyć polecenia `python -m venv nazwa_srodowiska`, a następnie aktywować je za pomocą `source nazwa_srodowiska/bin/activate` na systemach Unixowych lub `nazwa_srodowiska\\Scripts\\activate` na Windows. Po aktywacji środowiska można instalować pakiety za pomocą `pip` (narzędzie do zarządzania pakietami), które będą dostępne tylko w tym środowisku."
   ]
  },
  {
   "cell_type": "code",
   "execution_count": null,
   "metadata": {},
   "outputs": [],
   "source": [
    "%python -m venv myenv #tworzenie środowiska wirtualnego\n",
    "%source myenv/bin/activate #aktywacja środowiska wirtualnego\n",
    "#instalacja pakietów\n",
    "%pip install numpy\n",
    "%pip install -r requirements.txt #instalacja wymaganych pakietów\n",
    "%pip install git+url_of_git_repository.git #instalacja z GitHub (ewnetualnie dodać @branch_name)\n",
    "%pip install path/to/package #instalacja własnego pakietu\n",
    "#deaktywacja środowiska wirtualnego\n",
    "%deactivate\n",
    "#usunięcie środowiska wirtualnego\n",
    "%rm -rf myenv"
   ]
  },
  {
   "cell_type": "markdown",
   "metadata": {},
   "source": [
    "Składnia pliku requirements.txt jest dość prosta  i istenieje kilka sposobów podania wersji pakietu:"
   ]
  },
  {
   "cell_type": "raw",
   "metadata": {
    "vscode": {
     "languageId": "raw"
    }
   },
   "source": [
    "requests\n",
    "matplotlib == 3.9.2\n",
    "numpy >= 2.0,<2.1\n",
    "pandas ~= 2.2"
   ]
  },
  {
   "cell_type": "markdown",
   "metadata": {},
   "source": [
    "Przydatne jest też zrzucenie wszystkich aktualnie zainstalowanych bibliotek w aktywnym środowisku do pliku requirements.txt aby je np. odtworzyć w innym miejscu."
   ]
  },
  {
   "cell_type": "raw",
   "metadata": {
    "vscode": {
     "languageId": "raw"
    }
   },
   "source": [
    "pip freeze > requirements.txt"
   ]
  },
  {
   "cell_type": "markdown",
   "metadata": {
    "collapsed": false
   },
   "source": [
    "## 2. Typing - wskazówki typu\n",
    "\n",
    "Mimo, że Python jest dynamicznie typowanym językiem to istnieje możliwość deklarowania typu poprzez *type hinting*. Funkcjonalność ta została wprowadzona oficjalnie od wersji Pythona 3.5 poprzez wbudowany moduł `typing`. Mechanizm ten pozwalaja na pisanie bardziej precyzyjnego i bezpiecznego kodu, który jest czytelniejszy, lepiej dokumentowany i łatwiejszy w utrzymaniu.\n",
    "\n",
    "*Uwaga*: Należy pamiętać, że *type hinting* to tylko wskazówki i nie wpływają one na wykonywanie programu. Mogą one być jednak wykorzystywane przez środowiska programistyczne (IDE), linter, narzędzia do statycznej analizy kodu (*type checker*, np. pakiet mypy), itd.\n",
    "\n",
    "Dla standardowych typów i kolekcji możemy korzystać w wprost z wbudowanych typów Pythona (od wersji 3.9). Wtedy przykładowo:\n",
    "- `int` - Reprezentuje dowolną liczbę całkowitą.\n",
    "- `str` - Reprezentuje dowolny napis.\n",
    "- `list[T]` - Oznacza listę, której wszystkie elementy są tego samego typu. Na przykład `list[int]` oznacza listę liczb całkowitych.\n",
    "- `dict[K, V]` - Słownik, gdzie K oznacza typ klucza, a V typ wartości. Na przykład `dict[str, int]` oznacza słownik z kluczami typu `string` i wartościami typu `int`.\n",
    "- `tuple[T1, T2, ...]` - Krotka, w której każdy element ma zdefiniowany typ. Na przykład `tuple[int, str, float]` oznacza krotkę składającą się z liczby całkowitej, łańcucha znaków i liczby zmiennoprzecinkowej."
   ]
  },
  {
   "cell_type": "code",
   "execution_count": null,
   "metadata": {},
   "outputs": [],
   "source": [
    "# Standardowe typy\n",
    "count: int = 1024\n",
    "text: str = 'Lorem ipsum dolor sit amet'\n",
    "status: bool = True\n",
    "# Kolekcje\n",
    "numbers: list[int] = [1, 2, 3]\n",
    "ages: dict[str, int] = {\"Alice\": 30, \"Bob\": 25}\n",
    "person: tuple[int, str, float] = (1, \"Alice\", 4.5)\n",
    "# Funkcje\n",
    "def add_num(a: int, b: int) -> int:\n",
    "    return(a + b)"
   ]
  },
  {
   "cell_type": "markdown",
   "metadata": {},
   "source": [
    "Gdy ktoś korzysta z wcześniejszych wersji Pythona (od 3.5 do 3.8) to należy skorzystać z biblioteki `typing` aby oznaczyć typ kolekcji. Wtedy dla powyższych przykładów dla kolekcji należy użyć:"
   ]
  },
  {
   "cell_type": "code",
   "execution_count": null,
   "metadata": {
    "ExecuteTime": {
     "end_time": "2023-12-11T12:32:13.030520900Z",
     "start_time": "2023-12-11T12:32:13.019517900Z"
    },
    "collapsed": false
   },
   "outputs": [],
   "source": [
    "from typing import List, Dict, Tuple\n",
    "\n",
    "numbers: List[int] = [1, 2, 3]\n",
    "ages: Dict[str, int] = {\"Alice\": 30, \"Bob\": 25}\n",
    "person: Tuple[int, str, float] = (1, \"Alice\", 4.5)"
   ]
  },
  {
   "cell_type": "markdown",
   "metadata": {
    "collapsed": false
   },
   "source": [
    "Biblioteka `typing` udostępnia bardziej zaawansowanych wskazówek typów (https://docs.python.org/3/library/typing.html#special-types). Przykładowo:\n",
    "\n",
    "- `Any` - Oznacza dowolny typ. \n",
    "- `Union[T1, T2, ...]` - Reprezentuje typ, który może być jednym z typów `T1`,`T2`, `...`; można też używać notacji `|`. Na przykład `Union[str, int]` oznacza typ `string` lub `int`. Równoważna reprezentacj dla tego przykładu a to `str | int`.\n",
    "Special type indicating an unconstrained type.\n",
    "- `Optional[T]` - Typ, który może być albo typem T albo None. Jest to przydatne w przypadku funkcji, które mogą zwracać None jako wartość. Ten sam efekt moża uzzyskać za pomocą `Union[T,None]` lub `T | None`. Porównaj też z **optional** z Programowania Obiektowego: (https://docs.oracle.com/javase/8/docs/api/java/util/Optional.html).\n",
    "- `ClassVar` - Specjalna konstrukcja do reprezentowania atrubutów klasowych.\n",
    "\n",
    "Poniżej są przykłady ich użycia:"
   ]
  },
  {
   "cell_type": "code",
   "execution_count": null,
   "metadata": {
    "ExecuteTime": {
     "end_time": "2023-12-11T12:36:59.348405Z",
     "start_time": "2023-12-11T12:36:59.318581300Z"
    },
    "collapsed": false
   },
   "outputs": [],
   "source": [
    "from typing import Optional, ClassVar, Union\n",
    "\n",
    "def get_age(name: str) -> Optional[int]:\n",
    "    if name == \"Alice\":\n",
    "        return 30\n",
    "    else:\n",
    "        return None\n",
    "    \n",
    "class Starship:\n",
    "    stats: ClassVar[dict[str, int]] = {'count': 0} # class variable\n",
    "    damage: Union[int, str] = 10                   # instance variable\n",
    "\n",
    "# Przykład użycia\n",
    "print(type(get_age(\"Alice\")))\n",
    "print(type(get_age(\"John\")))"
   ]
  },
  {
   "cell_type": "markdown",
   "metadata": {
    "collapsed": false
   },
   "source": [
    "**Typ generyczny** (ang. *generic type*) w Pythonie to mechanizm pozwalający na pisanie kodu, który może być stosowany do różnych typów danych bez utraty informacji o tych typach. Typy generyczne pozwalają na opóźnienie w dostarczeniu specyfikacji typu danych w elementach takich jak klasy czy metody do momentu użycia ich w trakcie wykonywania programu. Innymi słowy, typy generyczne pozwalają na napisanie klasy lub metody, która może działać z każdym typem danych. Jest to przydatne w sytuacjach, gdzie chcielibyśmy uniknąć tworzenia wielu funkcji lub klas dla różnych typów danych. Przykłado, możemy spojrzeć na listę w Pythonie jak na generyczny typ danych gdyż może ona przechowywać elementy dowolnego typu.\n",
    "\n",
    "`TypeVar` - Umożliwia tworzenie typu generycznego, który może dowolnym typem i jest określony dopiero w trakcie użycia. "
   ]
  },
  {
   "cell_type": "code",
   "execution_count": null,
   "metadata": {
    "ExecuteTime": {
     "end_time": "2023-12-11T12:38:20.841229800Z",
     "start_time": "2023-12-11T12:38:20.796090600Z"
    },
    "collapsed": false
   },
   "outputs": [],
   "source": [
    "from typing import TypeVar\n",
    "\n",
    "T = TypeVar('T')\n",
    "\n",
    "def first(lst: list[T]) -> T:\n",
    "    return lst[0]\n",
    "\n",
    "print(type(first([1, 2, 3])))\n",
    "print(type(first(['a', 'b', 'c'])))\n",
    "print(type(first([['a', 'b'], [3]])))"
   ]
  },
  {
   "cell_type": "markdown",
   "metadata": {
    "collapsed": false
   },
   "source": [
    "`Generic[T]` - Używane do tworzenia klas generycznych. Pozwala na definiowanie klas, które mogą działać z różnymi typami."
   ]
  },
  {
   "cell_type": "code",
   "execution_count": null,
   "metadata": {
    "ExecuteTime": {
     "end_time": "2023-12-11T12:39:03.718193800Z",
     "start_time": "2023-12-11T12:39:03.690195700Z"
    },
    "collapsed": false
   },
   "outputs": [],
   "source": [
    "from typing import Generic, TypeVar\n",
    "\n",
    "T = TypeVar('T')\n",
    "\n",
    "class Box(Generic[T]):\n",
    "    def __init__(self, item: T):\n",
    "        self.item = item\n",
    "\n",
    "    def get(self) -> T:\n",
    "        return self.item\n",
    "\n",
    "print(type(Box[int](1024).get()))\n",
    "print(type(Box[str]('foo').get()))\n",
    "print(type(Box[list[int]]([1,2,3]).get()))\n",
    "\n",
    "# Od Pythona 3.12 nie ma potrzeby definiowania TypeVars  i importowania Generic, TypeVar.\n",
    "# Można po prostu to samo zapisac tak:\n",
    "# class Box[T]:\n",
    "#     def __init__(self, item: T):\n",
    "#         self.item = item\n",
    "\n",
    "#     def get(self) -> T:\n",
    "#         return self.item"
   ]
  },
  {
   "cell_type": "markdown",
   "metadata": {
    "collapsed": false
   },
   "source": [
    "### Ćwiczenie 1: Implementacja dekoratora do buforowania typowo-świadomego\n",
    "Cel: Stworzyć uniwersalny dekorator do buforowania w Pythonie, który można zastosować do dowolnej funkcji, niezależnie od jej sygnatury, i który buforuje jej wyniki na podstawie argumentów, z którymi jest wywoływana. Bufor powinien być świadomy typów, co oznacza, że powinien przechowywać różne wpisy dla argumentów różnych typów, nawet jeśli mają tę samą wartość.\n",
    "\n",
    "Wymagania:\n",
    "- Użyj typów generycznych, tak aby dekorator był jak najbardziej elastyczny.\n",
    "- Zapewnij bezpieczeństwo typów, tak aby bufor nie mieszał wartości między różnymi typami.\n",
    "- Zaimplementuj mechanizm ograniczający rozmiar bufora, tak aby zapobiec problemom z pamięcią."
   ]
  },
  {
   "cell_type": "code",
   "execution_count": null,
   "metadata": {
    "ExecuteTime": {
     "end_time": "2023-12-11T12:43:37.616163700Z",
     "start_time": "2023-12-11T12:43:37.570282600Z"
    },
    "collapsed": false
   },
   "outputs": [],
   "source": [
    "# Rozwiązanie\n"
   ]
  },
  {
   "cell_type": "markdown",
   "metadata": {},
   "source": [
    "## 3. Pydantic - tworzenie modeli danych i walidacja danych\n",
    "\n",
    "Biblioteka pydantic w języku Python służy do obsługi i walidacji danych przy użyciu modeli danych opartych na standardowych typach."
   ]
  },
  {
   "cell_type": "code",
   "execution_count": null,
   "metadata": {
    "ExecuteTime": {
     "end_time": "2023-12-11T12:15:43.749625700Z",
     "start_time": "2023-12-11T12:15:37.980422600Z"
    }
   },
   "outputs": [],
   "source": [
    "# install pydantic\n",
    "%pip install pydantic\n",
    "# pip install pydantic==2.10"
   ]
  },
  {
   "cell_type": "markdown",
   "metadata": {},
   "source": [
    "Model to klasa dziedzicząca po klasie `BaseModel` z biblioteki pydantic. Kiedy tworzysz nowy obiekt z tej klasy, pydantic gwarantuje, że pola wynikowej instancji modelu będą zgodne z typami pól zdefiniowanymi w modelu. Pydantic używa wbudowanych typów do określenia typu danych dla każdego atrybutu."
   ]
  },
  {
   "cell_type": "code",
   "metadata": {
    "ExecuteTime": {
     "end_time": "2025-02-16T14:16:56.689279Z",
     "start_time": "2025-02-16T14:16:56.512649Z"
    }
   },
   "source": [
    "from pydantic import BaseModel\n",
    "\n",
    "class User(BaseModel):\n",
    "    id: int\n",
    "    name: str\n",
    "    age: int\n",
    "    is_active: bool\n",
    "\n",
    "user = User(id=123, name=\"Jan Kowalski\", age=30, is_active=True)\n",
    "print(str(user))\n",
    "print(repr(user))\n",
    "print(user.name)"
   ],
   "outputs": [
    {
     "name": "stdout",
     "output_type": "stream",
     "text": [
      "id=123 name='Jan Kowalski' age=30 is_active=True\n",
      "User(id=123, name='Jan Kowalski', age=30, is_active=True)\n",
      "Jan Kowalski\n"
     ]
    }
   ],
   "execution_count": 1
  },
  {
   "cell_type": "markdown",
   "metadata": {},
   "source": [
    "W przypadku podania niepoprawnych danych (tu wartość rzeczywista dla wieku) pydantic zweryfikuje to i zwróci błąd. Aby uzyskać więcej szczegółów na temat błędu, zaleca się owinięcie go wewnątrz bloku try-catch."
   ]
  },
  {
   "cell_type": "code",
   "metadata": {
    "ExecuteTime": {
     "end_time": "2025-02-16T14:16:57.712229Z",
     "start_time": "2025-02-16T14:16:57.708243Z"
    }
   },
   "source": [
    "from pydantic import ValidationError\n",
    "# inny sposób przekazywania danych\n",
    "data = {'id': 123, 'name': \"Jan Kowalski\", 'age': 30.3, 'is_active': True}\n",
    "try:\n",
    "    user = User(**data)\n",
    "except ValidationError as e:\n",
    "    print(e)"
   ],
   "outputs": [
    {
     "name": "stdout",
     "output_type": "stream",
     "text": [
      "1 validation error for User\n",
      "age\n",
      "  Input should be a valid integer, got a number with a fractional part [type=int_from_float, input_value=30.3, input_type=float]\n",
      "    For further information visit https://errors.pydantic.dev/2.10/v/int_from_float\n"
     ]
    }
   ],
   "execution_count": 2
  },
  {
   "cell_type": "markdown",
   "metadata": {},
   "source": [
    "A co zrobić w przypadku bardziej złożonej walidacji? Wtedy należy stworzyć własne walidatory używając dekoratora *field_validator*  dla pola modelu (atrybutu) lub *model_validator* dla wszystkich danych modelu wewnątrz dziedziczonej klasy. Przykład walidacji pola danych przy użyciu modelu, np. sprawdzanie czy wiek jest nieujemny:"
   ]
  },
  {
   "cell_type": "code",
   "metadata": {
    "ExecuteTime": {
     "end_time": "2025-02-16T14:17:53.956620Z",
     "start_time": "2025-02-16T14:17:53.950099Z"
    }
   },
   "source": [
    "from pydantic import field_validator\n",
    "\n",
    "class User(BaseModel):\n",
    "    id: int\n",
    "    name: str\n",
    "    age: int\n",
    "    is_active: bool = True\n",
    "    \n",
    "    @field_validator('age')\n",
    "    def age_must_be_positive(cls, value):\n",
    "        if value < 0:\n",
    "            raise ValueError('age must be positive')\n",
    "        return value\n",
    "\n",
    "# Przykład użycia\n",
    "try:\n",
    "    user = User(id=123, name=\"Jan Kowalski\", age=-30, is_active=True)\n",
    "except Exception as e:\n",
    "    print(e)"
   ],
   "outputs": [
    {
     "name": "stdout",
     "output_type": "stream",
     "text": [
      "1 validation error for User\n",
      "age\n",
      "  Value error, age must be positive [type=value_error, input_value=-30, input_type=int]\n",
      "    For further information visit https://errors.pydantic.dev/2.10/v/value_error\n"
     ]
    }
   ],
   "execution_count": 3
  },
  {
   "cell_type": "markdown",
   "metadata": {},
   "source": [
    "W tym przypadku można było też użyć typu `NonNegativeInt` (`from pydantic import NonNegativeInt`), ale w przypadkach bardziej złożonych trzeba użyć walidatora (np. PESEL).\n",
    "\n",
    "Pydantic zapewnia wsparcie dla:\n",
    "- popularnych typów z biblioteki standardowej Pythona (np. `bool`, `int`, `float`, `str`, `list`, `tuple`, `dict`, `set`), \n",
    "- własnych typów specjalnych (np. `NonNegativeInt`, `PositiveInt`, `StrictInt`, `StrictBool`)\n",
    "- oraz typów *constrained* (np. `conint(ge=0, lt=200)`, `constr(min_length=1, max_length=10)`, `conlist(float, min_items=5, max_items=10)`), które zostaną usunięte z kolejnej wersji pydantic. W zamian jest funkcja Field, która umożliwia dodawanie różnych ograniczeń i metadanych do pól modelu. Jest używana w definicjach pól w klasach dziedziczących po BaseModel. Dzięki Field można ustawić takie właściwości jak: minimalna i maksymalna długość, wartości domyślne, regex, limity liczbowe, oraz inne opcje walidacyjne. Spójrz na przykład 3.2."
   ]
  },
  {
   "cell_type": "markdown",
   "metadata": {
    "pycharm": {
     "name": "#%% md\n"
    }
   },
   "source": [
    "Dodatkowym atutem pydantic jest **serializacja** gdyż biblioteka ta dostarcza wbudowanych metod do serializaji i deserializacji danych. \n",
    "\n",
    "Obiekty utworzone przy użyciu Pydantic BaseModel można serializować do słownika lub formatu JSON odpowiednio za pomocą `model_dump()` i `model_dump_json()`. Po więcej szczegółów, zobacz dokumentację [https://docs.pydantic.dev/latest/concepts/serialization/](https://docs.pydantic.dev/latest/concepts/serialization/)."
   ]
  },
  {
   "cell_type": "code",
   "execution_count": null,
   "metadata": {
    "ExecuteTime": {
     "end_time": "2023-12-11T12:22:46.735837700Z",
     "start_time": "2023-12-11T12:22:46.712871500Z"
    }
   },
   "outputs": [],
   "source": [
    "# Serializacja do słownika\n",
    "user_dict = user.model_dump()\n",
    "print(user_dict)\n",
    "# Serializacja do JSON\n",
    "user_json = user.model_dump_json(indent=2)\n",
    "print(user_json)"
   ]
  },
  {
   "cell_type": "markdown",
   "metadata": {},
   "source": [
    "Następnie można dokonać deserializacji, czyli ponownego utworzenia obiektów ze słownika lub JSON za pomocą `model_validate()` i `model_validate_json()`."
   ]
  },
  {
   "cell_type": "code",
   "execution_count": null,
   "metadata": {},
   "outputs": [],
   "source": [
    "# Deserializacja ze słownika\n",
    "user_from_dict = User.model_validate(user_dict)\n",
    "print(user_from_dict)\n",
    "# Deserializacja z JSON\n",
    "user_from_json = User.model_validate_json(user_json)\n",
    "print(user_from_json)"
   ]
  },
  {
   "cell_type": "markdown",
   "metadata": {},
   "source": [
    "### Przykład 1. (wartości opcjonalne i domyślne)\n",
    "\n",
    "Model *DynamicVehicle* ma pola make, model, is_electric, battery_capacity i fuel_capacity. Pola battery_capacity i fuel_capacity są opcjonalne, ale ich wymagania są dynamicznie walidowane w zależności od wartości pola is_electric. Walidatory sprawdzają, czy odpowiednie pola są uzupełnione w zależności od tego, czy pojazd jest elektryczny, czy nie.\n",
    "\n",
    "Dodatkowo, zachowanie pydantic można kontrolować za pomocą `BaseModel.model_config`. Tu, konfiguracja modelu zakazuje dodatkowych pól, co zwiększa ścisłość modelu, oraz ogranicza długość napisów do 20 znaków.\n",
    "\n",
    "*Uwaga*: Walidatory nie działają kiedy używane są wartości domyślne atrybutów. Możne je do tego zmusić korzystając z `Field(validate_default=True)`. W Pydantic V1, wystarczyło użyć parametru always=True w dekoratorze @validator."
   ]
  },
  {
   "cell_type": "code",
   "execution_count": null,
   "metadata": {
    "ExecuteTime": {
     "end_time": "2023-12-11T12:58:07.291014300Z",
     "start_time": "2023-12-11T12:58:07.217800900Z"
    }
   },
   "outputs": [],
   "source": [
    "from pydantic import BaseModel, ConfigDict, Field, field_validator, ValidationInfo\n",
    "from typing import Optional, Annotated\n",
    "\n",
    "class DynamicVehicle(BaseModel):\n",
    "    model_config = ConfigDict(extra='forbid', str_max_length=20)\n",
    "\n",
    "    make: str\n",
    "    model: str\n",
    "    is_electric: bool\n",
    "    battery_capacity: Annotated[Optional[int], Field(validate_default=True)] = None  # None to domyślna wartość tego pola\n",
    "    fuel_capacity: Annotated[Optional[int], Field(default=None, validate_default=True)]  # Ewentualnie można użyć opcji 'default'\n",
    " \n",
    "    # Walidacja pól za pomocą dekoratorów validator\n",
    "    @field_validator('battery_capacity')\n",
    "    def validate_battery_capacity(cls, v: int, info: ValidationInfo) -> int:\n",
    "        if info.data.get('is_electric') and v is None:\n",
    "            raise ValueError('Battery capacity is required for electric vehicles')\n",
    "        return v\n",
    "\n",
    "    @field_validator('fuel_capacity')\n",
    "    def validate_fuel_capacity(cls, v: int, info: ValidationInfo) -> int:\n",
    "        if not info.data.get('is_electric') and v is None:\n",
    "            raise ValueError('Fuel capacity is required for non-electric vehicles')\n",
    "        return v\n",
    "\n",
    "# Test the model with different configurations\n",
    "electric_car = DynamicVehicle(make='Tesla', model='Model S', is_electric=True, battery_capacity=100)\n",
    "gas_car = DynamicVehicle(make='Ford', model='Fiesta', is_electric=False, fuel_capacity=45)"
   ]
  },
  {
   "cell_type": "markdown",
   "metadata": {},
   "source": [
    "Poniższy kod powinien zwrócić błąd walidacyjny z powodu niepelnych danych i zadziałania jednego z walidatorów."
   ]
  },
  {
   "cell_type": "code",
   "execution_count": null,
   "metadata": {},
   "outputs": [],
   "source": [
    "DynamicVehicle(make='Ford', model='Fiesta', is_electric=False)"
   ]
  },
  {
   "cell_type": "markdown",
   "metadata": {},
   "source": [
    "### Przykład 2. (dziedziczenie)\n",
    "\n",
    "W poniższym przykładzie mamy trzy klasy: Vehicle, Car i Bicycle, które dziedziczą po sobie. Klasa Vehicle ma dwa wymagane pola: make i model, które muszą być łańcuchami znaków o minimalnej długości 2 znaków, a dodatkowo pole make jest walidowane, aby zawierało tylko litery. Klasa Car dziedziczy po Vehicle i dodaje pole engine_type, które musi pasować do jednej z dozwolonych wartości: \"diesel\", \"petrol\", \"electric\" lub \"hybrid\". Klasa Bicycle również dziedziczy po Vehicle, ale dodaje pole number_of_gears, które musi być liczbą większą niż 0, co zapewnia, że rower będzie miał co najmniej jeden bieg.\n",
    "\n",
    "*Uwaga*: W pydantic V1 były typy constrained, których można było używać do ograniczania wartości typu int, flost, str, itd. Od wersji V3 już nie będą dostępne, a teraz już nie są zalecane. Obecnie do tego celu służy `Field`. "
   ]
  },
  {
   "cell_type": "code",
   "execution_count": null,
   "metadata": {},
   "outputs": [],
   "source": [
    "from pydantic import BaseModel, field_validator\n",
    "\n",
    "class Vehicle(BaseModel):\n",
    "    \n",
    "    make: str = Field(min_length=2)  # W V1: constr(min_length=2)\n",
    "    model: str = Field(min_length=2) \n",
    "\n",
    "    @field_validator('make')\n",
    "    def check_names(cls, v):\n",
    "        if not v.isalpha():\n",
    "            raise ValueError('Must contain only letters')  # W V1: constr(regex='^(diesel|petrol|electric|hybrid)$')\n",
    "        return v.title()\n",
    "\n",
    "class Car(Vehicle):\n",
    "    engine_type: str = Field(pattern='^(diesel|petrol|electric|hybrid)$')\n",
    "\n",
    "\n",
    "class Bicycle(Vehicle):\n",
    "    number_of_gears: int = Field(gt=0)  # W V1: conint(gt=0)\n",
    "\n",
    "# Test the models\n",
    "car = Car(make='Toyota', model='Corolla', engine_type='petrol')\n",
    "bicycle = Bicycle(make='Giant', model='Escape', number_of_gears=21)"
   ]
  },
  {
   "cell_type": "code",
   "execution_count": null,
   "metadata": {},
   "outputs": [],
   "source": [
    "# Błąd: za krótka nazwa marki samochodu\n",
    "car = Car(make='N', model='Corolla', engine_type='petrol')"
   ]
  },
  {
   "cell_type": "markdown",
   "metadata": {
    "collapsed": false
   },
   "source": [
    "## 4. Testy z pytest\n",
    "\n",
    "W Pythonie mamy do wyboru dwie najpopularniejsze biblioteki do testowania kodu: wbudowaną bibliotekę *unittest* i\n",
    "oraz bardzo popularną bibliotekę *pytest*, na której się tu skupimy. Zacznijmy od jej zainstalowania:"
   ]
  },
  {
   "cell_type": "code",
   "execution_count": null,
   "metadata": {},
   "outputs": [],
   "source": [
    "%pip install pytest"
   ]
  },
  {
   "cell_type": "markdown",
   "metadata": {},
   "source": [
    "Teraz stwórz plik o nazwie *test_first.py* oraz umieść w nim następujący kod:"
   ]
  },
  {
   "cell_type": "code",
   "execution_count": null,
   "metadata": {},
   "outputs": [],
   "source": [
    "# plik test_first.py\n",
    "\n",
    "def int_div(a, b):\n",
    "    # błędnie wpisane dzielenie zmiennoprzecinkowe zamiast całkowitoliczbowego (//)\n",
    "    return a / b\n",
    "\n",
    "def test_int_div():\n",
    "    assert int_div(4, 2) == 2\n",
    "\n",
    "def test_int_div_fail():\n",
    "    assert int_div(4, 3) == 1"
   ]
  },
  {
   "cell_type": "markdown",
   "metadata": {},
   "source": [
    "A następnie w terminalu uruchom testy za pomocą komendy:"
   ]
  },
  {
   "cell_type": "raw",
   "metadata": {
    "vscode": {
     "languageId": "raw"
    }
   },
   "source": [
    "pytest test_first.py"
   ]
  },
  {
   "cell_type": "markdown",
   "metadata": {},
   "source": [
    "W wyniku powinniśmy otrzymać informację, że jeden test przeszedł pomyślnie a drugi nie, czyli tak jak oczekiwaliśmy.\n",
    "\n",
    "Generalnie, pytest sam rozpoznaje wszystkie pliki z testami (ich nazwy muszą zaczynać się od 'test_' lub kończyć na '_test'), w których wywołuje funkcje, których nazwy zaczynają się od 'test\\_'. \n",
    "\n",
    "Ponadto, jeżeli korzystasz z IDE możesz uruchamiać testy z jego poziomu, gdyż można go skonfigurować, tak aby korzystał z pytest. "
   ]
  },
  {
   "cell_type": "markdown",
   "metadata": {},
   "source": [
    "### Przykład 3.\n",
    "\n",
    "W poniższym przykładzie mamy klasę Stack, która implementuje podstawowe operacje na stosie: dodawanie elementów (push), usuwanie elementów (pop), sprawdzanie, czy stos jest pusty (is_empty), podgląd elementu na wierzchu stosu (peek), oraz zwracanie rozmiaru stosu (size). Funkcja testująca test_stack sprawdza wszystkie te operacje.\n",
    "\n",
    "Przykład ten możemy skopiować do pliku .py i przetestowac z pomocą pytest lub skorzystać jedo integracji z IDE (pycharm lub vscode). "
   ]
  },
  {
   "cell_type": "code",
   "metadata": {
    "ExecuteTime": {
     "end_time": "2025-02-16T14:20:03.298416Z",
     "start_time": "2025-02-16T14:20:03.249816Z"
    }
   },
   "source": [
    "import pytest\n",
    "\n",
    "# Definiuje klasę Stack do reprezentowania stosu\n",
    "class Stack:\n",
    "    # Inicjalizuje stos jako pustą listę (poniższe operacje są więc wykonywane na liście)\n",
    "    def __init__(self):\n",
    "        self._items: list[int] = []\n",
    "\n",
    "    def push(self, item: int):\n",
    "        self._items.append(item)\n",
    "\n",
    "    def pop(self) -> int:\n",
    "        return self._items.pop()\n",
    "\n",
    "    def is_empty(self) -> bool:\n",
    "        return len(self._items) == 0\n",
    "\n",
    "    # Zwraca element na wierzchu stosu, ale nie usuwa go\n",
    "    def peek(self) -> int:\n",
    "        return self._items[-1]\n",
    "\n",
    "    def size(self) -> int:\n",
    "        return len(self._items)\n",
    "\n",
    "# Definiuje zestaw testów dla klasy Stack\n",
    "def test_stack():\n",
    "    stack = Stack()\n",
    "    assert stack.is_empty()\n",
    "    stack.push(1)\n",
    "    stack.push(2)\n",
    "    stack.push(3)\n",
    "    assert stack.size() == 3\n",
    "    assert stack.peek() == 3\n",
    "    assert stack.pop() == 3\n",
    "    assert stack.pop() == 2\n",
    "    assert stack.pop() == 1\n",
    "    assert stack.is_empty()\n",
    "    # Sprawdza wyjątek przy próbie usuwania z pustego stosu\n",
    "    with pytest.raises(IndexError):\n",
    "        stack.pop()"
   ],
   "outputs": [],
   "execution_count": 4
  },
  {
   "cell_type": "markdown",
   "metadata": {},
   "source": [
    "### Testy parametryzowane\n",
    "\n",
    "Testy parametryzowane to testy, które są uruchamiane wielokrotnie z różnymi zestawami danych. W tym przypadku testy parametryzowane są używane do przetestowania różnych kombinacji danych wejściowych i oczekiwanych wyników. Co ważne, w przypadku błędnego zestawu danych proces testowy nie zostanie przerwany.\n",
    "\n",
    "Parametryzację rozpoczyna dekorator `@pytest.mark.parametrize`, a następnie w cudzysłowie umieszczamy parametry `a, b, expected` oraz listę krotek zawierających konkretne zestawy testów. Funkcja *test_dodaj* zostanie wywołana dla każdego kolejnego zestawu testów."
   ]
  },
  {
   "cell_type": "code",
   "execution_count": null,
   "metadata": {},
   "outputs": [],
   "source": [
    "import pytest\n",
    "\n",
    "def dodaj(a, b):\n",
    "    return a + b\n",
    "\n",
    "@pytest.mark.parametrize(\"a, b, expected\", [(12, 13, 25), (1, 2, 3), (1, 1, 2)])\n",
    "def test_dodaj(a, b, expected):\n",
    "    assert dodaj(a, b) == expected"
   ]
  },
  {
   "cell_type": "markdown",
   "metadata": {},
   "source": [
    "### Fixture\n",
    "\n",
    "Fixture to funkcja, która jest wywoływana przez pytest przed uruchomieniem każdego testu. Fixture może być używana do przygotowania zasobów dla naszych testów, które są współdzielone przez wiele testów. Fixture może również być używana do uruchamiania kodu po zakończeniu testu, np. do czyszczenia danych testowych.\n",
    "\n",
    "Fixture możemy stworzyć przy pomocy dekoratora `@pytest.fixture`. Jej nazwę możemy później przekazać jako argument funkcji, która jest testem."
   ]
  },
  {
   "cell_type": "code",
   "execution_count": null,
   "metadata": {},
   "outputs": [],
   "source": [
    "import pytest\n",
    "\n",
    "@pytest.fixture\n",
    "def numbers():\n",
    "    return [1, 2, 3]\n",
    "\n",
    "def test_sum_numbers(numbers):\n",
    "    assert sum(numbers) == 6\n",
    "\n",
    "def test_min_numbers(numbers):\n",
    "    assert sum(numbers) == 1"
   ]
  },
  {
   "cell_type": "markdown",
   "metadata": {},
   "source": [
    "### Mockowanie\n",
    "\n",
    "Mockowanie to technika, która pozwala na tworzenie obiektów, które zachowują się jak prawdziwe obiekty, ale w rzeczywistości tylko imitują ich działanie. Mocki są bardzo przydatne w testowaniu jednostkowym (wybiórczym), ponieważ pozwalają na symulowanie zależności, które są trudne do kontrolowania. Przykładowo, jeśli chcemy przetestować działanie funkcji, która pobiera dane z jakiegoś serwera lub bardzo dużego pliku i je przetwarza, to możemy przetestować tylko fragment odpowiedzialny za przetwarzanie danych korzystając z mockowania bez konieczności wczytywania orginalnych danych.\n",
    "\n",
    "Z modułu Mock możemy skorzystać importując go z biblioteki unittest.mock. W przykładzie poniżej, Klasa FileReader reprezentuje prostą klasę do odczytu zawartości pliku. W testach chcemy sprawdzić działanie klasy FileReader, ale bez otwierania i czytania pliku. Test test_read_file sprawdza czy klasa FileReader zachowuje się poprawnie w przypadku braku pliku i poprawnego odczytu. `unittest.mock.mock_open` symuluje działanie funkcji open, a`MonkeyPatch` pozwala tymczasowo podmienić obiekty w trakcie testów."
   ]
  },
  {
   "cell_type": "code",
   "execution_count": null,
   "metadata": {},
   "outputs": [],
   "source": [
    "import pytest\n",
    "from unittest.mock import mock_open\n",
    "\n",
    "# Klasa do czytania plików, którą chcemy mockować\n",
    "class FileReader: \n",
    "    def __init__(self, filename):\n",
    "        self.filename = filename\n",
    "\n",
    "    def read(self):\n",
    "        with open(self.filename, 'r') as file:\n",
    "            return file.read()\n",
    "\n",
    "# Test 1\n",
    "def test_read_file():\n",
    "    # Symuluje plik z danymi 'testowe dane'\n",
    "    mock_data = 'testowe dane'\n",
    "    m = mock_open(read_data=mock_data)\n",
    "\n",
    "    # Sprawdza, czy FileNotFoundError jest zgłaszany, gdy plik nie istnieje\n",
    "    with pytest.raises(FileNotFoundError):\n",
    "        FileReader(\"nieistniejacy_plik.txt\").read()\n",
    "\n",
    "    # Symuluje otwieranie pliku przy użyciu mocka\n",
    "    with pytest.MonkeyPatch.context() as mpatch:\n",
    "        mpatch.setattr(\"builtins.open\", m)  # podmienia wbudowaną funkcję open w Pythonie na mock m\n",
    "        reader = FileReader(\"dummy.txt\")    # nazwa pliku nie ma to znaczenia\n",
    "        result = reader.read()\n",
    "\n",
    "    # Sprawdza, czy otwarcie pliku zostało wykonane poprawnie\n",
    "    m.assert_called_once_with(\"dummy.txt\", 'r')\n",
    "    # Sprawdza, czy zwrócone dane są zgodne z oczekiwanymi danymi\n",
    "    assert result == mock_data\n"
   ]
  },
  {
   "cell_type": "markdown",
   "metadata": {},
   "source": [
    "### Przykład 4. Fixture i mockowanie\n",
    "\n",
    "Poniższy przykład przedstawia  implementację klasy WeatherService, która pobiera dane pogodowe z API oraz jej testowanie za pomocą frameworku pytest i technik fixture i mockowania. Pokazuje, jak izolować kod od zewnętrznych zależności (API). Poniższy test skutecznie symuluje wywołanie zewnętrznego API i pozwala nam przetestować klasę WeatherService bez polegania na dostępności zewnętrznej usługi czy sieci poprzez\n",
    "- Mockowanie requests.get: Używamy patch, aby zastąpić requests.get obiektem MagicMock. Oznacza to, że podczas testu nie będą wykonywane żadne prawdziwe żądania HTTP.\n",
    "- Ustawianie zwracanych wartości: Obiekt mock jest skonfigurowany do zwracania MagicMock jako odpowiedzi, a metoda json tej odpowiedzi mock jest ustawiona na zwracanie naszych wcześniej zdefiniowanych danych JSON (fixture).\n",
    "- Asercje: Sprawdzamy, czy zwrócone dane pogodowe pasują do naszych danych mock i czy requests.get zostało wywołane z poprawnym adresem URL."
   ]
  },
  {
   "cell_type": "code",
   "execution_count": null,
   "metadata": {},
   "outputs": [],
   "source": [
    "# Kod przykładowej klasy obsługującej zapytania do API pogodowego\n",
    "# Załóżmy, że znajduje się w pliku weather.py\n",
    "import requests\n",
    "\n",
    "class WeatherService:\n",
    "    def __init__(self, api_key):\n",
    "        self.api_key = api_key\n",
    "\n",
    "    def get_current_weather(self, city):\n",
    "        url = f\"http://example.com/weather?city={city}&key={self.api_key}\"\n",
    "        response = requests.get(url)\n",
    "        print(\"\\nPobrano informacje.\")\n",
    "        return response.json()\n"
   ]
  },
  {
   "cell_type": "code",
   "execution_count": null,
   "metadata": {},
   "outputs": [],
   "source": [
    "import pytest\n",
    "from unittest.mock import MagicMock, patch\n",
    "from weather import WeatherService # ładujemy WeatherService z odpowiedniego modułu\n",
    "\n",
    "# Fixture, który zwraca przykładową odpowiedź API pogodowego\n",
    "# Pozwala to na wielokrotne użycie tych samych danych w różnych testach.\n",
    "@pytest.fixture\n",
    "def mock_weather_api_response():\n",
    "    return {\n",
    "        \"city\": \"London\",\n",
    "        \"temperature\": \"15°C\",\n",
    "        \"condition\": \"Cloudy\"\n",
    "    }\n",
    "\n",
    "# Test poprawnego działania metody `get_current_weather`\n",
    "def test_get_current_weather(mock_weather_api_response):\n",
    "    # patch('requests.get') zastępuje rzeczywistą funkcję requests.get jej mockowaną wersją.\n",
    "    with patch('requests.get') as mock_get:\n",
    "        # Konfiguruje zachowanie obiektu MagicMock\n",
    "        # Użycie mock_get.return_value pozwala symulować zwrot danych JSON w odpowiedzi API\n",
    "        mock_get.return_value = MagicMock(status_code=200)\n",
    "        mock_get.return_value.json.return_value = mock_weather_api_response\n",
    "\n",
    "        # Tworzy obiekt WeatherService i wywołuje metodę get_current_weather\n",
    "        service = WeatherService(api_key=\"dummy_key\")\n",
    "        weather = service.get_current_weather(\"London\")\n",
    "\n",
    "        # Sprawdza, czy dane pogodowe są zgodne z oczekiwanymi danymi\n",
    "        assert weather == mock_weather_api_response\n",
    "\n",
    "        # Sprawdza, czy requests.get zostało wywołane z odpowiednim adresem URL\n",
    "        mock_get.assert_called_once_with(\"http://example.com/weather?city=London&key=dummy_key\")"
   ]
  },
  {
   "cell_type": "markdown",
   "metadata": {},
   "source": [
    "## 5\\*. Przegląd innych użytecznych narzędzi i zagadnień\n",
    "\n",
    "Python oferuje szeroką gamę narzędzi, które mogą znacząco usprawnić pracę programistów, zarówno początkujących, jak i zaawansowanych. Wybór odpowiednich narzędzi jest często subiektywny i zależy od indywidualnych potrzeb czy specyfiki projektu. Poniżej przedstawiamy pewien przekrój dostępnych możliwości wraz z krótkim opisem i czasem przykładem. Każde z tych narzędzi ma swoje unikalne zastosowania i może stać się nieocenionym wsparciem w codziennej pracy z kodem. Zachęcam do własnej eksploracji tych i innych rozwiązań, by odkryć, które najlepiej odpowiadają waszym potrzebom i stylowi pracy.\n",
    "\n",
    "### Statyczna analiza typów (mypy)\n",
    "\n",
    "**Mypy** to narzędzie do statycznej analizy typów w Pythonie, które pomaga weryfikować poprawność typów w kodzie, bazując na adnotacjach typów wprowadzonych od Pythona 3.5. Dzięki Mypy można wcześnie wykrywać błędy typów, takie jak niezgodność typów w funkcjach czy zmiennych, jeszcze przed uruchomieniem programu. Narzędzie wspiera zarówno adnotacje wbudowane (np. int, str) jak i zaawansowane typy z modułu typing, takie jak Union, Optional czy TypedDict. Jest szczególnie przydatne w dużych projektach, gdzie ręczne śledzenie typów jest trudne i podatne na błędy. Chociaż Mypy wykonuje statyczną analizę, nie wpływa na wydajność programu w trakcie działania, ponieważ typy są sprawdzane wyłącznie podczas analizy kodu.\n",
    "\n",
    "Mypy pozwala sprawdzić, czy adnotacje typów w kodzie są zgodne z faktycznym użyciem. Uruchomienie Mypy na tym kodzie (np. `mypy file.py`) wykryje niezgodność typów w drugim wywołaniu poniższej funkcji:"
   ]
  },
  {
   "cell_type": "code",
   "execution_count": null,
   "metadata": {},
   "outputs": [],
   "source": [
    "from typing import List\n",
    "\n",
    "def average(numbers: List[int]) -> float:\n",
    "    return sum(numbers) / len(numbers)\n",
    "\n",
    "print(average([1, 2, 3, 4]))  # Poprawne\n",
    "print(average([\"a\", \"b\", \"c\"]))  # Mypy zgłosi błąd: \"List[str]\" is not compatible with \"List[int]\""
   ]
  },
  {
   "cell_type": "markdown",
   "metadata": {},
   "source": [
    "### Poprawa jakości kodu (flake8)\n",
    "\n",
    "*Linter* lub *code linter* to narzędzie programistyczne analizujące kod źródłowy w celu wykrycia błędów, luk w zabezpieczeniach i problemów stylistycznych w celu poprawy jakości kodu. Pozwala też zidentyfikować i poprawić subtelne błędy programistyczne lub niekonwencjonalne praktyki kodowania, które mogą prowadzić do błędów. Jako przykład omówimy krótko **flake8** oraz wspomnimy inne narzędzia.\n",
    "\n",
    "**Flake8** to narzędzie do sprawdzania jakości kodu Pythona. Sprawdza ono kod pod kątem zgodności z wybranym zestawem reguł, takich jak PEP 8, a także wykrywa błędy logiczne, takie jak nieużywane zmienne czy nieużywane importy. Narzędzie to jest szczególnie przydatne w dużych projektach, w których trudno jest ręcznie sprawdzać kod pod kątem zgodności z wybranymi regułami. Flake8 można zainstalować za pomocą `pip install flake8`. Aby uruchomić flake8, należy przejść do katalogu z kodem i wykonać polecenie `flake8 .`, gdzie `.` oznacza bieżący katalog. Po uruchomieniu flake8 wyświetli on listę ostrzeżeń i błędów, które znalazł w kodzie. Plik `.flake8` zawiera konfigurację flake8. Można w nim określić, które reguły mają być sprawdzane, a które nie. Można również określić, które reguły mają być uznawane za błędy, a które za ostrzeżenia. Więcej informacji na temat konfiguracji flake8 można znaleźć w dokumentacji na stronie https://flake8.pycqa.org/en/latest/user/configuration.html.\n",
    "\n",
    "Instnieje wiele narzędzi do sprawdzania i poprawiania jakości kodu Pythona, np. pylint, który posiada możliwość aprawdzania typów (w przeciwieństwie fo flake8). Zalecamy zapoznanie się różnymi narzędziami w wolnym czasie i wybrania najlepszego. Narzędzia te często można również zintegrować z waszym IDE (jak np. PyCharm, VSCode), co bardzo usprawnia korzystanie z nich. Więcej informacji na temat tych narzędzi można znaleźć w dokumentacji oraz w artykułach:\n",
    "- https://www.pylint.org/\n",
    "- https://medium.com/@huzaifazahoor654/improving-code-quality-with-flake8-and-black-a-guide-for-python-developers-c374168d5884\n",
    "- https://pythonspeed.com/articles/pylint-flake8-ruff/."
   ]
  },
  {
   "cell_type": "markdown",
   "metadata": {},
   "source": [
    "### Narzędzie do formatowania kodu Pythona (black)\n",
    "\n",
    "\n",
    "**Black** to nowoczesne narzędzie do automatycznego formatowania kodu Python, które zapewnia spójny styl programowania. Black minimalizuje możliwość dostosowywania ustawień, co sprawia, że kod sformatowany przez to narzędzie wygląda zawsze tak samo, niezależnie od autora. Jego głównym celem jest poprawa czytelności i zgodność ze standardami PEP8, choć wprowadza pewne odstępstwa, np. pozwalając na dłuższe linie kodu. Narzędzie działa deterministycznie, co oznacza, że wielokrotne jego zastosowanie na tym samym pliku zawsze prowadzi do identycznego wyniku. Dzięki temu eliminuje niepotrzebne dyskusje o stylu kodu w zespołach programistycznych. Black pomaga utrzymać czytelny kod i zautomatyzowane przestrzeganie standardów. Więcej o black można znaleźć w dokumentacji: https://black.readthedocs.io/en/stable/."
   ]
  },
  {
   "cell_type": "markdown",
   "metadata": {},
   "source": [
    "### Generowanie dokumentacji (docstring, pydoc, doxygen)\n",
    "\n",
    "**Docstring** to specjalny rodzaj komentarza w Pythonie, używany do dokumentowania modułów, klas, funkcji i metod. Umieszczany jest bezpośrednio na początku elementu, który opisuje, i otaczany potrójnymi cudzysłowami (\"\"\"). Docstringi są kluczowe dla utrzymania czytelności i zrozumiałości kodu, ponieważ dostarczają informacji o tym, co dana część kodu robi, jakie parametry przyjmuje i co zwraca. Pythonowe narzędzia takie jak pydoc lub IDE mogą automatycznie generować dokumentację na podstawie docstringów. Możesz także używać standardów takich jak Google Style czy reStructuredText do ujednolicenia dokumentacji.\n",
    "\n",
    "**Pydoc** to wbudowane narzędzie w Pythonie, które służy do generowania dokumentacji na podstawie docstringów znajdujących się w kodzie (t.j. \\_\\_doc\\_\\_ lub komentarzy). Umożliwia przeglądanie dokumentacji dla modułów, klas, funkcji i metod w terminalu, a także może uruchomić serwer HTTP do wyświetlania dokumentacji w przeglądarce. Pydoc pozwala na szybki podgląd informacji za pomocą funkcji `help()` w interpreterze lub polecenia `python -m pydoc <prompt>` w wierszu poleceń. Narzędzie to jest szczególnie przydatne podczas eksplorowania istniejących modułów lub sprawdzania składni funkcji bez konieczności korzystania z zewnętrznych źródeł. Można także użyć Pydoc do wygenerowania plików HTML z pełną dokumentacją projektu.\n",
    "\n",
    "**Doxygen** to narzędzie do generowania dokumentacji dla wielu języków programowania, w tym Python, więc wiele osób może je już znać. W Pythonie wykorzystuje komentarze i docstringi w kodzie, aby automatycznie tworzyć dokumentację w formatach takich jak HTML, PDF czy LaTeX. Jest szczególnie przydatne w projektach wielojęzycznych lub takich, które wymagają dokumentacji technicznej z diagramami klas i relacji między nimi. Doxygen wspiera komentarze w specyficznym formacie (np. /// lub /** */) oraz integruje się z narzędziami takimi jak Graphviz, aby generować wizualne diagramy kodu. Chociaż nie jest specyficznie zaprojektowane dla Pythona, może być używane do wygenerowania spójnej dokumentacji w większych projektach, które korzystają z wielu technologii."
   ]
  },
  {
   "cell_type": "code",
   "execution_count": null,
   "metadata": {},
   "outputs": [],
   "source": [
    "# Przykład (z wykorzystaniem stylu Doxygen)\n",
    "\n",
    "class Calculator:\n",
    "    \"\"\"\n",
    "    Calculator class performs basic arithmetic operations.\n",
    "    \"\"\"\n",
    "\n",
    "    def add(self, a: int, b: int) -> int:\n",
    "        \"\"\"\n",
    "        Adds two numbers together.\n",
    "\n",
    "        Args:\n",
    "            a (int): The first number.\n",
    "            b (int): The second number.\n",
    "\n",
    "        Returns:\n",
    "            int: The sum of the two numbers.\n",
    "\n",
    "        Example:\n",
    "            >>> add_numbers(2, 3)\n",
    "            5\n",
    "        \"\"\"\n",
    "        return a + b\n",
    "\n",
    "### Narzędzia takie jak help() z pydoc wyświetlą dokumentację w terminalu\n",
    "#help(Calculator)\n",
    "help(Calculator.add)\n",
    "\n",
    "# Można też skonfigurować plik Doxyfile, a następnie uruchomić doxygen w terminalu, \n",
    "# aby wygenerować dokumentację w HTML lub PDF."
   ]
  },
  {
   "cell_type": "markdown",
   "metadata": {},
   "source": [
    "###  Analiza wydajności - Profiler\n",
    "\n",
    "**Profiler** to narzędzie służące do analizy wydajności kodu Python, pomagające identyfikować fragmenty programu, które są najbardziej zasobożerne. Wbudowany moduł cProfile umożliwia zbieranie danych o czasie wykonania funkcji, liczbie ich wywołań oraz innych aspektach wpływających na wydajność. Narzędzia do profilowania mogą być używane do optymalizacji kodu, np. poprzez identyfikację wąskich gardeł w programie. Wyniki profilowania można przeglądać w formie tabeli, sortować według czasu wykonania czy liczby wywołań, co ułatwia analizę. Istnieją także graficzne narzędzia, takie jak SnakeViz lub py-spy, które wizualizują dane zebrane przez profiler, co czyni analizę bardziej intuicyjną."
   ]
  },
  {
   "cell_type": "code",
   "execution_count": null,
   "metadata": {},
   "outputs": [],
   "source": [
    "# Przykład użycia cProfile\n",
    "\n",
    "import cProfile\n",
    "\n",
    "def cum_sum(N):\n",
    "    cal = Calculator()\n",
    "    total = 0\n",
    "    for i in range(1, N):\n",
    "        total = cal.add(total, i)\n",
    "    return total\n",
    "\n",
    "def run_twice():\n",
    "    cum_sum(10000)\n",
    "    cum_sum(50)\n",
    "\n",
    "cProfile.run('run_twice()')\n",
    "\n",
    "# Po uruchomieniu programu otrzymasz szczegółowy raport, \n",
    "# np. ile razy każda funkcja została wywołana i ile czasu zajęło jej wykonanie."
   ]
  },
  {
   "cell_type": "markdown",
   "metadata": {},
   "source": [
    "### Debugger\n",
    "\n",
    "**Debugger** to narzędzie służące do analizy i naprawiania błędów w kodzie Python poprzez umożliwienie śledzenia jego wykonania krok po kroku. W Pythonie wbudowany moduł pdb pozwala na zatrzymanie działania programu w dowolnym miejscu, podgląd zmiennych, ustawianie punktów przerwania (breakpoints) i wykonywanie kodu linia po linii. Debugger pozwala również na modyfikowanie wartości zmiennych podczas działania programu, co ułatwia diagnozowanie problemów. Zintegrowane środowiska programistyczne (IDE), takie jak PyCharm czy Visual Studio Code, oferują zaawansowane debugowanie z interfejsem graficznym, pozwalając na łatwiejsze śledzenie stosu wywołań i punktów przerwania. Debugger jest nieoceniony podczas pracy nad złożonymi aplikacjami, gdzie błędy mogą być trudne do wykrycia jedynie za pomocą logowania."
   ]
  },
  {
   "cell_type": "code",
   "execution_count": null,
   "metadata": {},
   "outputs": [],
   "source": [
    "# Przykład z użyciem pdb\n",
    "\n",
    "import pdb\n",
    "\n",
    "def divide(a, b):\n",
    "    pdb.set_trace()  # Uruchamia debugger w tej linii\n",
    "    return a / b\n",
    "\n",
    "print(divide(10, 2))  # Poprawne\n",
    "print(divide(10, 0))  # W debuggerze możesz sprawdzić problem, zanim pojawi się błąd"
   ]
  },
  {
   "cell_type": "markdown",
   "metadata": {},
   "source": [
    "Uruchamiając ten kod, debugger pozwoli na zatrzymanie programu, podgląd zmiennych (komenda: a(rgs)) oraz wykonanie kodu krok po kroku (n(ext)), co ułatwia analizę błędu dzielenia przez zero; wyjście (q(uit)). Jednak zdecydowanie polecamy korzystanie ze środowisk programistycznych (IDE)."
   ]
  },
  {
   "cell_type": "markdown",
   "metadata": {},
   "source": [
    "### Własny pakiet Pythona\n",
    "\n",
    "Pakiet Python to kolekcja modułów umieszczonych w strukturze katalogów zawierających plik \\_\\_init\\_\\_.py. Tworzenie pakietów pozwala na lepszą organizację kodu i możliwość ponownego użycia funkcji oraz klas w różnych projektach. Pakiety mogą być publikowane w repozytorium PyPI (https://pypi.org/), aby umożliwić ich instalację za pomocą pip. Podstawowy pakiet składa się z folderów, modułów oraz pliku konfiguracyjnego setup.py; warto też pamiętać o wszelkiej dokumentacji pakietu i funkcji.\n",
    "\n",
    "Struktura katalogów pakietu powinna zawierać:\n",
    "- **my_package/** zawiera moduły pakietu oraz plik inicjalizacyjny pakietu (oczywiście pod własną nazwą pakietu), \n",
    "- **tests/** zawiera testy,\n",
    "- **setup.py** to skrypt do budowania i dystrybucji pakietu,\n",
    "- **README.md** to czytelne i praktyczne wprowadzenie dla użytkowników pakietu napisane w markdown,\n",
    "- **LICENSE** określa licencję, na podstawie której pakiet jest dystrybuowany, więc nie należy o nim zapominać.\n",
    "\n",
    "A poniżej znajduje się przykładowa struktura katalogów:"
   ]
  },
  {
   "cell_type": "raw",
   "metadata": {
    "vscode": {
     "languageId": "raw"
    }
   },
   "source": [
    "my_package/\n",
    "├── my_package/\n",
    "│   ├── __init__.py\n",
    "│   ├── math_utils.py\n",
    "│   └── string_utils.py\n",
    "├── tests/\n",
    "│   ├── __init__.py\n",
    "│   ├── test_modules.py\n",
    "├── setup.py\n",
    "├── LICENSE\n",
    "└── README.md"
   ]
  },
  {
   "cell_type": "markdown",
   "metadata": {},
   "source": [
    "A teraz przyjrzyjmy się poszczególnym elementom trochę dokładniej:\n",
    "1. Przykładowy moduł: my_package/math_utils.py"
   ]
  },
  {
   "cell_type": "code",
   "execution_count": null,
   "metadata": {},
   "outputs": [],
   "source": [
    "\"\"\"\n",
    "math_utils.py\n",
    "--------------\n",
    "Moduł oferuje funkcje do podstawowych operacji matematycznych.\n",
    "\n",
    "Funkcje:\n",
    "- add: Dodaje dwie liczby.\n",
    "- subtract: Odejmuje drugą liczbę od pierwszej.\n",
    "\"\"\"\n",
    "\n",
    "def add(a: int, b: int) -> int:\n",
    "    \"\"\"\n",
    "    Dodaje dwie liczby całkowite.\n",
    "\n",
    "    Args:\n",
    "        a (int): Pierwsza liczba.\n",
    "        b (int): Druga liczba.\n",
    "\n",
    "    Returns:\n",
    "        int: Suma dwóch liczb.\n",
    "\n",
    "    Example:\n",
    "        >>> add(2, 3)\n",
    "        5\n",
    "    \"\"\"\n",
    "    return a + b\n",
    "\n",
    "def subtract(a: int, b: int) -> int:\n",
    "    \"\"\"\n",
    "    Odejmuje drugą liczbę od pierwszej.\n",
    "\n",
    "    Args:\n",
    "        a (int): Pierwsza liczba.\n",
    "        b (int): Druga liczba.\n",
    "\n",
    "    Returns:\n",
    "        int: Różnica dwóch liczb.\n",
    "\n",
    "    Example:\n",
    "        >>> subtract(5, 3)\n",
    "        2\n",
    "    \"\"\"\n",
    "    return a - b\n"
   ]
  },
  {
   "cell_type": "markdown",
   "metadata": {},
   "source": [
    "2. Przykładowy moduł: my_package/string_utils.py"
   ]
  },
  {
   "cell_type": "code",
   "execution_count": null,
   "metadata": {},
   "outputs": [],
   "source": [
    "\"\"\"\n",
    "string_utils.py\n",
    "----------------\n",
    "Moduł oferuje funkcje do pracy z ciągami znaków.\n",
    "\n",
    "Funkcje:\n",
    "- reverse_string: Odwraca podany ciąg znaków.\n",
    "\"\"\"\n",
    "\n",
    "def reverse_string(s: str) -> str:\n",
    "    \"\"\"\n",
    "    Odwraca podany ciąg znaków.\n",
    "\n",
    "    Args:\n",
    "        s (str): Ciąg znaków do odwrócenia.\n",
    "\n",
    "    Returns:\n",
    "        str: Odwrócony ciąg znaków.\n",
    "\n",
    "    Example:\n",
    "        >>> reverse_string(\"Python\")\n",
    "        'nohtyP'\n",
    "    \"\"\"\n",
    "    return s[::-1]"
   ]
  },
  {
   "cell_type": "markdown",
   "metadata": {},
   "source": [
    "3. Plik my_package/\\_\\_init\\_\\_.py jest potrzebny aby Python wiedział, że ten katalog to pakiet."
   ]
  },
  {
   "cell_type": "code",
   "execution_count": null,
   "metadata": {},
   "outputs": [],
   "source": [
    "\"\"\"\n",
    "my_package\n",
    "----------\n",
    "Pakiet `my_package` zawiera funkcje do operacji matematycznych i manipulacji ciągami znaków.\n",
    "\n",
    "Moduły:\n",
    "- math_utils: Operacje matematyczne.\n",
    "- string_utils: Operacje na ciągach znaków.\n",
    "\n",
    "Funkcje eksportowane:\n",
    "- add: Dodaje dwie liczby.\n",
    "- subtract: Odejmuje jedną liczbę od drugiej.\n",
    "- reverse_string: Odwraca podany ciąg znaków.\n",
    "\"\"\"\n",
    "\n",
    "# Użycie \"from .math_utils import add\" pozwala korzystać z funkcji \"add\" bezpośrednio, \n",
    "# importując ją z pakietu (\"from my_package import add\"), zamiast odwoływać się do \n",
    "# modułu wewnątrz pakietu (\"from my_package.math_utils import add\").\n",
    "# '.' oznacza tu bieżący katalog\n",
    "from .math_utils import add, subtract\n",
    "from .string_utils import reverse_string\n",
    "\n",
    "# Lista nazw funkcji, klas, czy zmiennych, które będą eksportowane podczas importowania \n",
    "# modułu lub pakietu przy użyciu składni \"from my_package import *\"\n",
    "# Czyli __all__ pozwala kontrolować to co jest publiczne w pakiecie.\n",
    "__all__ = [\"add\", \"subtract\", \"reverse_string\"]"
   ]
  },
  {
   "cell_type": "markdown",
   "metadata": {},
   "source": [
    "4. Plik setup.py składa się ze skryptu Pythona, w którym można ustawić deklaratywnie wiele właściwości, które są rozpoznawane przez menedżery pakietów, takie jak pip oraz IDE, jak PyCharm, co oznacza, że jest to obowiązkowy element każdego pakietu.\n"
   ]
  },
  {
   "cell_type": "code",
   "execution_count": null,
   "metadata": {},
   "outputs": [],
   "source": [
    "\"\"\"\n",
    "setup.py\n",
    "--------\n",
    "Skrypt instalacyjny dla pakietu `my_package`.\n",
    "\"\"\"\n",
    "\n",
    "# Setuptools to pakiet, który udostępnia narzędzia do budowania i dystrybucji pakietów Python\n",
    "from setuptools import setup, find_packages \n",
    "\n",
    "setup(\n",
    "    name=\"my_package\",\n",
    "    version=\"0.1.0\",\n",
    "    author=\"Your Name\",\n",
    "    description=\"A sample Python package for math and string utilities\",\n",
    "    long_description=open(\"README.md\").read(),\n",
    "    long_description_content_type=\"text/markdown\",\n",
    "    packages=find_packages(),\n",
    "    python_requires='>=3.6',\n",
    "    install_requires=[],  # Add dependencies here\n",
    ")\n"
   ]
  },
  {
   "cell_type": "markdown",
   "metadata": {},
   "source": [
    "5. Przykładowy test: tests/test_modules.py. Plik tests/\\_\\_init\\_\\_.py może być pusty."
   ]
  },
  {
   "cell_type": "code",
   "execution_count": null,
   "metadata": {},
   "outputs": [],
   "source": [
    "\"\"\"\n",
    "Testy dla modułów math_utils.py i string_utils.py.\n",
    "\"\"\"\n",
    "\n",
    "import pytest\n",
    "from my_package import add, subtract, reverse_string\n",
    "\n",
    "def test_add():\n",
    "    \"\"\"Testuje funkcję add().\"\"\"\n",
    "    assert add(2, 3) == 5\n",
    "    assert add(-1, 1) == 0\n",
    "    assert add(0, 0) == 0\n",
    "\n",
    "\n",
    "def test_subtract():\n",
    "    \"\"\"Testuje funkcję subtract().\"\"\"\n",
    "    assert subtract(10, 5) == 5\n",
    "    assert subtract(0, 0) == 0\n",
    "    assert subtract(-5, -2) == -3\n",
    "\n",
    "def test_reverse_string():\n",
    "    \"\"\"Testuje funkcję reverse_string().\"\"\"\n",
    "    assert reverse_string(\"Python\") == \"nohtyP\"\n",
    "    assert reverse_string(\"12345\") == \"54321\"\n",
    "    assert reverse_string(\"\") == \"\"\n"
   ]
  },
  {
   "cell_type": "markdown",
   "metadata": {},
   "source": [
    "6. Instalacja pakietu lokalnie"
   ]
  },
  {
   "cell_type": "code",
   "execution_count": null,
   "metadata": {},
   "outputs": [],
   "source": [
    "# W katalogu głównym pakietu uruchom\n",
    "%pip install ."
   ]
  },
  {
   "cell_type": "markdown",
   "metadata": {},
   "source": [
    "Po zainstalowaniu pakietu możesz go importować i używać w innych projektach:"
   ]
  },
  {
   "cell_type": "code",
   "execution_count": null,
   "metadata": {},
   "outputs": [],
   "source": [
    "from my_package import add, subtract, reverse_string\n",
    "\n",
    "# Przykład użycia funkcji add\n",
    "print(add(4, 5))  # Wynik: 9\n",
    "\n",
    "# Przykład użycia funkcji reverse_string\n",
    "print(reverse_string(\"hello\"))  # Wynik: 'olleh'\n",
    "\n",
    "# Sprawdzenie dokumentacji funkcji w terminalu\n",
    "help(add)"
   ]
  }
 ],
 "metadata": {
  "kernelspec": {
   "display_name": ".venv",
   "language": "python",
   "name": "python3"
  },
  "language_info": {
   "codemirror_mode": {
    "name": "ipython",
    "version": 3
   },
   "file_extension": ".py",
   "mimetype": "text/x-python",
   "name": "python",
   "nbconvert_exporter": "python",
   "pygments_lexer": "ipython3",
   "version": "3.13.0"
  }
 },
 "nbformat": 4,
 "nbformat_minor": 2
}
