{
 "cells": [
  {
   "cell_type": "markdown",
   "metadata": {},
   "source": [
    "# Zadanie domowe: Klasa *Ułamek* - ciąg dalszy\n",
    "\n",
    "Rozszerz klasę *Ułamek* z zajęć programowania obiektowego o możliwość zapisywania i odczytywania ułamka z pliku tekstowego.\n",
    "Dopisz do niej testy parametryzowane, testy zapisywania i wczytywania ułamka z pliku tekstowego. Zrealizuj zadanie za pomocą mockowania i wykorzystując fixture. \n",
    "\n",
    "Ponadto, popraw wcześniejsze błędy lub niedociągnięcia oraz przepisz poprzednie testy (i ewentualnie uzupełniej), tak aby korzytały z pytest.\n",
    "\n",
    "Zachęcamy do przygotowania i przesłania rozwiązania jako pakiet Pythona.\n"
   ]
  }
 ],
 "metadata": {
  "kernelspec": {
   "display_name": ".venv",
   "language": "python",
   "name": "python3"
  },
  "language_info": {
   "codemirror_mode": {
    "name": "ipython",
    "version": 3
   },
   "file_extension": ".py",
   "mimetype": "text/x-python",
   "name": "python",
   "nbconvert_exporter": "python",
   "pygments_lexer": "ipython3",
   "version": "3.13.0"
  }
 },
 "nbformat": 4,
 "nbformat_minor": 2
}
