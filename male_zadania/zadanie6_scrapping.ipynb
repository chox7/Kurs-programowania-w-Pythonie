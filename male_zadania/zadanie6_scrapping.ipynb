{
 "cells": [
  {
   "metadata": {
    "ExecuteTime": {
     "end_time": "2024-11-23T14:21:25.503997Z",
     "start_time": "2024-11-23T14:21:22.553709Z"
    }
   },
   "cell_type": "code",
   "source": [
    "import requests\n",
    "from bs4 import BeautifulSoup\n",
    "def get_stock_data(ticker_symbol):\n",
    "    url = f'https://finance.yahoo.com/quote/{ticker_symbol}'\n",
    "    r = requests.get(url)\n",
    "    soup = BeautifulSoup(r.text, 'html.parser')\n",
    "    div = soup.find('div', {'class': 'container yf-1tejb6'})\n",
    "    price = div.find_all('fin-streamer', {'class' : 'livePrice yf-1tejb6'})[0].get('data-value')\n",
    "    price_change = div.find_all('fin-streamer', {'class' : 'priceChange yf-1tejb6'})[0].get('data-value')\n",
    "    price_change_percent = div.find_all('fin-streamer', {'class' : 'priceChange yf-1tejb6'})[1].get('data-value')\n",
    "    \n",
    "    stock = {\n",
    "    'name' : ticker_symbol,\n",
    "    'price' : price,\n",
    "    'change' : price_change,\n",
    "    'change_percent' : price_change_percent\n",
    "    }\n",
    "    \n",
    "    return stock\n",
    "\n",
    "stock_symbols = [\"AMZN\", \"TSLA\", \"BTC-USD\", \"META\", \"AAPL\", \"NFLX\", \"UEC\"]\n",
    "stock_data = []\n",
    "for stock in stock_symbols:\n",
    "    stock_data.append(get_stock_data(stock))\n",
    "\n",
    "print(stock_data)"
   ],
   "id": "79be47c8a562bc89",
   "outputs": [
    {
     "name": "stdout",
     "output_type": "stream",
     "text": [
      "[{'name': 'AMZN', 'price': '197.12', 'change': '-1.2600098', 'change_percent': '-0.63514954'}, {'name': 'TSLA', 'price': '352.56', 'change': '12.919983', 'change_percent': '3.8040226'}, {'name': 'BTC-USD', 'price': '99001.37', 'change': '1952.8516', 'change_percent': '2.0122356'}, {'name': 'META', 'price': '559.14', 'change': '-3.9500122', 'change_percent': '-0.70148855'}, {'name': 'AAPL', 'price': '229.87', 'change': '1.3499908', 'change_percent': '0.59075385'}, {'name': 'NFLX', 'price': '897.79', 'change': '0.30999756', 'change_percent': '0.034540888'}, {'name': 'UEC', 'price': '8.46', 'change': '0.0600004', 'change_percent': '0.714291'}]\n"
     ]
    }
   ],
   "execution_count": 3
  }
 ],
 "metadata": {
  "kernelspec": {
   "display_name": "Python 3",
   "language": "python",
   "name": "python3"
  },
  "language_info": {
   "codemirror_mode": {
    "name": "ipython",
    "version": 2
   },
   "file_extension": ".py",
   "mimetype": "text/x-python",
   "name": "python",
   "nbconvert_exporter": "python",
   "pygments_lexer": "ipython2",
   "version": "2.7.6"
  }
 },
 "nbformat": 4,
 "nbformat_minor": 5
}
