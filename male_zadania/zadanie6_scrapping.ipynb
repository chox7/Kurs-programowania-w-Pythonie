{
 "cells": [
  {
   "metadata": {
    "ExecuteTime": {
     "end_time": "2024-12-02T16:31:50.241255Z",
     "start_time": "2024-12-02T16:31:43.627119Z"
    }
   },
   "cell_type": "code",
   "source": [
    "import requests\n",
    "from bs4 import BeautifulSoup\n",
    "def get_stock_data(ticker_symbol):\n",
    "    url = f'https://finance.yahoo.com/quote/{ticker_symbol}'\n",
    "    r = requests.get(url)\n",
    "    soup = BeautifulSoup(r.text, 'html.parser')\n",
    "    div = soup.find('div', {'class': 'container yf-1tejb6'})\n",
    "    price = div.find_all('fin-streamer', {'class' : 'livePrice yf-1tejb6'})[0].get('data-value')\n",
    "    price_change = div.find_all('fin-streamer', {'class' : 'priceChange yf-1tejb6'})[0].get('data-value')\n",
    "    price_change_percent = div.find_all('fin-streamer', {'class' : 'priceChange yf-1tejb6'})[1].get('data-value')\n",
    "    \n",
    "    stock = {\n",
    "    'name' : ticker_symbol,\n",
    "    'price' : price,\n",
    "    'change' : price_change,\n",
    "    'change_percent' : price_change_percent\n",
    "    }\n",
    "    \n",
    "    return stock\n",
    "\n",
    "stock_symbols = [\"AMZN\", \"TSLA\", \"BTC-USD\", \"META\", \"AAPL\", \"NFLX\", \"UEC\"]\n",
    "stock_data = []\n",
    "for stock in stock_symbols:\n",
    "    stock_data.append(get_stock_data(stock))\n",
    "\n",
    "print(stock_data)"
   ],
   "id": "79be47c8a562bc89",
   "outputs": [
    {
     "name": "stdout",
     "output_type": "stream",
     "text": [
      "[{'name': 'AMZN', 'price': '211.4099', 'change': '3.5198975', 'change_percent': '1.6932344'}, {'name': 'TSLA', 'price': '353.195', 'change': '8.035004', 'change_percent': '2.3279068'}, {'name': 'BTC-USD', 'price': '96803.414', 'change': '-410.16406', 'change_percent': '-0.42192152'}, {'name': 'META', 'price': '587.5', 'change': '13.179993', 'change_percent': '2.2948866'}, {'name': 'AAPL', 'price': '240', 'change': '2.6699982', 'change_percent': '1.125015'}, {'name': 'NFLX', 'price': '897.55', 'change': '10.73999', 'change_percent': '1.2110813'}, {'name': 'UEC', 'price': '8.005', 'change': '-0.3050003', 'change_percent': '-3.6702802'}]\n"
     ]
    }
   ],
   "execution_count": 2
  },
  {
   "metadata": {},
   "cell_type": "code",
   "outputs": [],
   "execution_count": null,
   "source": "",
   "id": "8d7005cbd8e48eed"
  }
 ],
 "metadata": {
  "kernelspec": {
   "display_name": "Python 3",
   "language": "python",
   "name": "python3"
  },
  "language_info": {
   "codemirror_mode": {
    "name": "ipython",
    "version": 2
   },
   "file_extension": ".py",
   "mimetype": "text/x-python",
   "name": "python",
   "nbconvert_exporter": "python",
   "pygments_lexer": "ipython2",
   "version": "2.7.6"
  }
 },
 "nbformat": 4,
 "nbformat_minor": 5
}
