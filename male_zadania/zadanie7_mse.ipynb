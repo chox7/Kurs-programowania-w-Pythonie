{
 "cells": [
  {
   "cell_type": "markdown",
   "id": "057779a4-e0ad-48e2-81a2-ba935abe0af5",
   "metadata": {},
   "source": [
    "# Małe zadanie domowe 7\n",
    "\n",
    "W tym zadaniu zajmiemy się przykładowym problemem klasyfikacji binarnej. Będziemy rozpatrywać obiekty, które są opisywane przez dwie cechy (zwane też zmiennymi niezależnymi) A i B. Dowolny obiekt określony przez wartości cech A i B należy do dokładnie jednej z dwóch możliwych klas, które będziemy oznaczać $C_I$ i $C_{II}$; inaczej rzecz ujmując, zakładamy, że na przestrzeni cech obiektów zdefiniowany jest pewien podział na dwie rozłączne klasy $C_I$ i $C_{II}$. \n",
    "\n",
    "Rozważmy następujący model predykcyjny, który na podstawie danych wartości cechy A ($x^A$) i cechy B ($x^B$) zwraca wartość $M_\\mathbf{w}(x^A,x^B)$ interpretowaną jako prawdopodobieństwo przynależności obiektu do klasy $C_{II}$:  \n",
    "\n",
    "$$M_\\mathbf{w}(x^A,x^B) = \\frac{1}{1+e^{-(w_Ax^A+w_Bx^B)}},$$\n",
    "\n",
    "gdzie $\\mathbf{w} = (w_A, w_B)$ to odpowiednio wagi dla wartości cech $A$ i $B$. Zwykle wartości wag zapewniające dobre własności predykcyjne modelu znajdowane są w procesie określanym terminem \"uczenie pod nadzorem\". W tym zadaniu nie będziemy jednak przeprowadzać takiego uczenia. Zamiast tego zbadamy jak nasz model zachowuje się dla pewnych wartości tych wag, tj. dla każdej kombinacji wartości dla $w_A$ i $w_B$, gdzie $w_A \\in [0, 0.1, 0.2, ..., 1]$ oraz $w_B \\in [2, 2.1, 2.2, ..., 3]$. \n",
    "\n",
    "Zachowanie modelu zbadamy na danych $D = \\{(x^A_i, x^B_i, \\Pr(C_{II})_i)\\}_{i=1}^5$ dotyczących pięciu obiektów o wartościach cech i prawdopodobieństwie przynależności do klasy $C_{II}$ przedstawionych w poniższej tabeli:\n",
    "\n",
    "\\begin{array}{|c|c|c|c|}\n",
    "\\hline\n",
    "\\mathbf{i} & \\mathbf{x^A_i} & \\mathbf{x^B_i} & \\mathbf{\\Pr(C_{II})_i}\\\\\n",
    "\\hline\n",
    "1 & 1.0 & 1.3 & 0\\\\\n",
    "\\hline\n",
    "2 & 2.2 & 1.1 & 1\\\\\n",
    "\\hline\n",
    "3 & 2.0 & 2.4 & 1\\\\\n",
    "\\hline\n",
    "4 & 1.5 & 3.2 & 0\\\\\n",
    "\\hline\n",
    "5 & 3.2 & 1.2 & 1\\\\\n",
    "\\hline\n",
    "\\end{array}\n",
    "\n",
    "[Tabelka w HTML. Do odkomentowania należy usunąć tę linijkę i znaki \\]: # na końcu kodu HTML.\n",
    "<table>\n",
    "  <tr>\n",
    "    <th>A</th>\n",
    "    <th>B</th>\n",
    "    <th>$C_{II}</th>\n",
    "  </tr>\n",
    "  <tr>\n",
    "    <th>1.0</th>\n",
    "    <th>1.3</th>\n",
    "    <th>0</th>\n",
    "  </tr>\n",
    "  <tr>\n",
    "    <th>2.2</th>\n",
    "    <th>1.1</th>\n",
    "    <th>1</th>\n",
    "  </tr>\n",
    "  <tr>\n",
    "    <th>2.0</th>\n",
    "    <th>2.4</th>\n",
    "    <th>1</th>\n",
    "  </tr>\n",
    "  <tr>\n",
    "    <th>1.5</th>\n",
    "    <th>3.2</th>\n",
    "    <th>0</th>\n",
    "  </tr>\n",
    "  <tr>\n",
    "    <th>3.2</th>\n",
    "    <th>1.2</th>\n",
    "    <th>1</th>\n",
    "  </tr>\n",
    "</table>]: #\n",
    "    \n",
    "Zakładamy, że wiemy do jakiej klasy dany obiekt należy, dlatego w tabeli są tylko dwie wartości prawdopodobieństwa przynależności do klasy $C_{II}$: 1 jeżeli obiekt należy do klasy $C_{II}$ i 0 w przeciwnym przypadku (tzn. obiekt należy do klasy $C_I$). \n",
    "\n",
    "Własności predykcyjne naszego modelu dla danej pary wartości wag $w_A$ i $w_B$ ocenimy wyliczając błąd średniokwadratowy (ang. *Mean Squared Error*) dla danych $D$ zadany wzorem\n",
    "\n",
    "$$MSE_\\mathbf{w}(D) = \\frac{1}{n}\\sum_{i=1}^{n}\\left(\\Pr(C_{II})_i - M_\\mathbf{w}(x^A_i,x^B_i)\\right)^2.$$\n",
    "\n",
    "Proszę napisać program w Pythonie w miarę możliwości wykorzystujący wektoryzację NumPy (tzn. starajmy się jak najmniej korzystać z instrukcji pętli w Pythonie), który oblicza wartości błędu średniokwadratowego dla wszystkich kombinacji wartości wag podanych powyżej.\n",
    "\n",
    "Wynikiem działania programu powinna być tablica 2D z wartościami błędów dla poszczególnych kombinacji wag."
   ]
  },
  {
   "metadata": {
    "ExecuteTime": {
     "end_time": "2024-11-25T20:43:21.454099Z",
     "start_time": "2024-11-25T20:43:21.369667Z"
    }
   },
   "cell_type": "code",
   "source": "import numpy as np",
   "id": "db8bba9dbe486adf",
   "outputs": [],
   "execution_count": 2
  },
  {
   "cell_type": "code",
   "id": "b1b7df78-4c1f-4a2a-9ec3-26466506ca50",
   "metadata": {
    "ExecuteTime": {
     "end_time": "2024-11-25T21:03:45.289086Z",
     "start_time": "2024-11-25T21:03:45.280032Z"
    }
   },
   "source": [
    "w_a = np.arange(0, 1.1, 0.1)\n",
    "w_b = np.arange(2, 3.1, 0.1)\n",
    "\n",
    "x_a = np.array([1.0, 2.2, 2.0, 1.5, 3.2])\n",
    "x_b = np.array([1.3, 1.1, 2.4, 3.2, 1.2])\n",
    "\n",
    "Pr = np.array([0, 1, 1, 0, 1])\n",
    "\n",
    "M = 1 / (1 + np.exp(-(w_a[:, None, None] * x_a + w_b[None, :, None] * x_b)))\n",
    "MSE = np.sum(np.power(Pr[None, None, :] - M, 2), axis=-1) / M.shape[-1]"
   ],
   "outputs": [],
   "execution_count": 39
  },
  {
   "metadata": {
    "ExecuteTime": {
     "end_time": "2024-11-25T21:03:45.659306Z",
     "start_time": "2024-11-25T21:03:45.652760Z"
    }
   },
   "cell_type": "code",
   "source": "MSE",
   "id": "ec06770a8ecc5228",
   "outputs": [
    {
     "data": {
      "text/plain": [
       "array([[0.37602458, 0.37852564, 0.38079628, 0.38285294, 0.38471142,\n",
       "        0.38638693, 0.38789412, 0.38924701, 0.390459  , 0.39154275,\n",
       "        0.39251017],\n",
       "       [0.37713954, 0.37962026, 0.38185393, 0.38386168, 0.38566319,\n",
       "        0.38727685, 0.38871983, 0.39000813, 0.3911566 , 0.39217899,\n",
       "        0.39308797],\n",
       "       [0.37854624, 0.38093782, 0.38307887, 0.38499316, 0.38670242,\n",
       "        0.3882266 , 0.389584  , 0.39079138, 0.39186408, 0.3928161 ,\n",
       "        0.39366016],\n",
       "       [0.38007569, 0.38233936, 0.38435757, 0.38615516, 0.38775462,\n",
       "        0.38917633, 0.39043878, 0.39155874, 0.39255137, 0.39343041,\n",
       "        0.39420823],\n",
       "       [0.38162515, 0.38374184, 0.38562327, 0.38729436, 0.38877745,\n",
       "        0.39009263, 0.39125799, 0.3922898 , 0.3932027 , 0.39400984,\n",
       "        0.39472301],\n",
       "       [0.38313475, 0.38509775, 0.38683859, 0.38838154, 0.38974825,\n",
       "        0.39095808, 0.39202836, 0.39297461, 0.3938107 , 0.39454903,\n",
       "        0.3952007 ],\n",
       "       [0.38457153, 0.38638165, 0.38798407, 0.38940202, 0.39065612,\n",
       "        0.39176475, 0.39274428, 0.39360931, 0.39437285, 0.3950465 ,\n",
       "        0.39564058],\n",
       "       [0.38591901, 0.38758144, 0.38905105, 0.3903498 , 0.39149711,\n",
       "        0.39251023, 0.3934045 , 0.39419352, 0.39488941, 0.39550292,\n",
       "        0.39604361],\n",
       "       [0.38717062, 0.38869297, 0.39003721, 0.39122392, 0.39227125,\n",
       "        0.39319528, 0.39401025, 0.39472879, 0.3953621 , 0.3959201 ,\n",
       "        0.39641161],\n",
       "       [0.38832568, 0.38971673, 0.3909439 , 0.39202631, 0.39298084,\n",
       "        0.39382239, 0.39456412, 0.39521769, 0.39579343, 0.39630046,\n",
       "        0.39674688],\n",
       "       [0.38938685, 0.39065585, 0.39177447, 0.39276043, 0.39362933,\n",
       "        0.39439491, 0.39506931, 0.39566327, 0.39618625, 0.39664663,\n",
       "        0.39705183]])"
      ]
     },
     "execution_count": 40,
     "metadata": {},
     "output_type": "execute_result"
    }
   ],
   "execution_count": 40
  }
 ],
 "metadata": {
  "kernelspec": {
   "display_name": "Python 3 (ipykernel)",
   "language": "python",
   "name": "python3"
  },
  "language_info": {
   "codemirror_mode": {
    "name": "ipython",
    "version": 3
   },
   "file_extension": ".py",
   "mimetype": "text/x-python",
   "name": "python",
   "nbconvert_exporter": "python",
   "pygments_lexer": "ipython3",
   "version": "3.9.16"
  }
 },
 "nbformat": 4,
 "nbformat_minor": 5
}
