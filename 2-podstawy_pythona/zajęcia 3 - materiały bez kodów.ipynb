{
 "cells": [
  {
   "cell_type": "markdown",
   "metadata": {},
   "source": [
    "# Zajęcia 3"
   ]
  },
  {
   "cell_type": "markdown",
   "metadata": {},
   "source": [
    "Słowa kluczowe: <em> zmienne w Pythonie, slicing, copy, deepcopy, struktury danych: zbiory, słowniki</em>"
   ]
  },
  {
   "cell_type": "markdown",
   "metadata": {},
   "source": [
    "## Slicing"
   ]
  },
  {
   "cell_type": "markdown",
   "metadata": {},
   "source": [
    "Natrafiliśmy na ciekawe wykorzystanie wycinania (ang. slicing)."
   ]
  },
  {
   "cell_type": "markdown",
   "metadata": {},
   "source": [
    "Składnia: \n",
    "* ciąg[skąd : dokąd]  \n",
    "    lub \n",
    "* ciąg[skąd : dokąd : krok]"
   ]
  },
  {
   "cell_type": "code",
   "execution_count": null,
   "metadata": {},
   "outputs": [],
   "source": [
    "s = \"Ala ma kota.\""
   ]
  },
  {
   "cell_type": "code",
   "execution_count": null,
   "metadata": {},
   "outputs": [],
   "source": [
    "# Od znaku o indeksie 2 do znaku o indeksie 4"
   ]
  },
  {
   "cell_type": "code",
   "execution_count": null,
   "metadata": {},
   "outputs": [],
   "source": []
  },
  {
   "cell_type": "markdown",
   "metadata": {},
   "source": [
    "Dlaczego wycinki i zakresy wykluczają ostatni element? Związane jest to z indeksowaniem od 0. `range(3)` oraz `my_list[:3]` wytworzą `3` elementy."
   ]
  },
  {
   "cell_type": "code",
   "execution_count": null,
   "metadata": {},
   "outputs": [],
   "source": []
  },
  {
   "cell_type": "markdown",
   "metadata": {},
   "source": [
    "Gdy krok jest ujemny, idziemy od tyłu."
   ]
  },
  {
   "cell_type": "code",
   "execution_count": null,
   "metadata": {},
   "outputs": [],
   "source": []
  },
  {
   "cell_type": "code",
   "execution_count": null,
   "metadata": {},
   "outputs": [],
   "source": []
  },
  {
   "cell_type": "markdown",
   "metadata": {},
   "source": [
    "Stwórz odwróconą kopię napisu 'Ala' znajdującego się w s."
   ]
  },
  {
   "cell_type": "code",
   "execution_count": null,
   "metadata": {},
   "outputs": [],
   "source": []
  },
  {
   "cell_type": "markdown",
   "metadata": {},
   "source": [
    "Cały napis?"
   ]
  },
  {
   "cell_type": "code",
   "execution_count": null,
   "metadata": {},
   "outputs": [],
   "source": []
  },
  {
   "cell_type": "code",
   "execution_count": null,
   "metadata": {},
   "outputs": [],
   "source": [
    "# Co oznacza s[skąd:dokąd], gdy pominiemy `skąd` lub `dokąd`?\n",
    "# Odpowiedź:\n",
    "# Pominięcie `skąd` oznacza że wskazujemy wycinek zaczynający się na początku napisu s\n",
    "# (innymi słowy domyślną wartością `skąd` jest 0), zaś pominięcie `dokąd` oznacza wycinek\n",
    "# rozciągający się do samego końca napisu (innymi słowy domyślną wartością `dokąd` jest len(s)).\n",
    "# Oznacza to na przykład, że s[:] daje kopię całego napisu s."
   ]
  },
  {
   "cell_type": "markdown",
   "metadata": {},
   "source": [
    "Slicing działa też na listach."
   ]
  },
  {
   "cell_type": "code",
   "execution_count": null,
   "metadata": {},
   "outputs": [],
   "source": [
    "l = [1,2,3,4]\n",
    "l[::-1]"
   ]
  },
  {
   "cell_type": "markdown",
   "metadata": {},
   "source": [
    "Wrócimy do jego możliwości i ograniczeń przy funkcyjnym Pythonie."
   ]
  },
  {
   "cell_type": "markdown",
   "metadata": {},
   "source": [
    "## Zmienne w Pythonie"
   ]
  },
  {
   "cell_type": "markdown",
   "metadata": {},
   "source": [
    "Funkcja `id(object)` - jest liczbą identyfikującą obiekt (wartość, nie: zmienną) w pamięci. Python gwarantuje, że ta liczba jest unikatowa i nie zmieni się w trakcie życia tej wartości (obiektu).\n",
    "\n",
    "Czy `id(obiect)` to adres zmiennej? Hmm...\n",
    "\n",
    "**nie**, to nie jest adres wartości (obiektu)\n",
    "\n",
    "**tak**, w CPythonie to jest adres\n",
    "\n",
    "https://docs.python.org/2/library/functions.html#id"
   ]
  },
  {
   "cell_type": "code",
   "execution_count": null,
   "metadata": {
    "scrolled": true
   },
   "outputs": [],
   "source": [
    "x = 7\n",
    "id(x)"
   ]
  },
  {
   "cell_type": "markdown",
   "metadata": {},
   "source": [
    "Możemy, zrobić tak, że `y` i `x` wskazują na ten sam obiekt."
   ]
  },
  {
   "cell_type": "code",
   "execution_count": null,
   "metadata": {},
   "outputs": [],
   "source": [
    "y = x\n",
    "id(x), id(y) "
   ]
  },
  {
   "cell_type": "markdown",
   "metadata": {},
   "source": [
    "Możemy wprowadzić tutaj słowo kluczowe `is` - jest ono używane do porównywania tożsamości obiektów. \n",
    "Oznacza to, że `is` sprawdza, czy dwie zmienne wskazują na ten sam obiekt w pamięci, a nie czy mają takie same wartości."
   ]
  },
  {
   "cell_type": "code",
   "execution_count": null,
   "metadata": {},
   "outputs": [],
   "source": [
    "x is y"
   ]
  },
  {
   "cell_type": "markdown",
   "metadata": {},
   "source": [
    "**Porównanie** `is` i `==`"
   ]
  },
  {
   "cell_type": "code",
   "execution_count": null,
   "metadata": {},
   "outputs": [],
   "source": [
    "a = [7]\n",
    "b = a\n",
    "b is a, b == a"
   ]
  },
  {
   "cell_type": "code",
   "execution_count": null,
   "metadata": {},
   "outputs": [],
   "source": [
    "a = [7]\n",
    "b = a[:] # tu tworzona jest nowa kopia listy a\n",
    "b is a, b == a"
   ]
  },
  {
   "cell_type": "markdown",
   "metadata": {},
   "source": [
    "Sprawdźmy po zmianie `y` czy zmieni się `x`. "
   ]
  },
  {
   "cell_type": "code",
   "execution_count": null,
   "metadata": {},
   "outputs": [],
   "source": [
    "y = y + 1\n",
    "x, y"
   ]
  },
  {
   "cell_type": "markdown",
   "metadata": {},
   "source": [
    "Nie. Jak widzimy zmienne teraz wskazują na inne miejsca w pamięci."
   ]
  },
  {
   "cell_type": "code",
   "execution_count": null,
   "metadata": {},
   "outputs": [],
   "source": [
    "id(x), id(y)"
   ]
  },
  {
   "cell_type": "code",
   "execution_count": null,
   "metadata": {},
   "outputs": [],
   "source": [
    "# Sprawdźmy is\n",
    "x is y"
   ]
  },
  {
   "cell_type": "markdown",
   "metadata": {},
   "source": [
    "Jeszcze raz analogicznie"
   ]
  },
  {
   "cell_type": "code",
   "execution_count": null,
   "metadata": {},
   "outputs": [],
   "source": [
    "x = 7\n",
    "y = x\n",
    "x = x + 1\n",
    "x, y, id(x), id(y)"
   ]
  },
  {
   "cell_type": "markdown",
   "metadata": {},
   "source": [
    "Tworzony jest nowy obiekt `8` i na niego wskazuje `x`."
   ]
  },
  {
   "cell_type": "markdown",
   "metadata": {},
   "source": [
    "Może też zmienić się typ zmiennej."
   ]
  },
  {
   "cell_type": "code",
   "execution_count": null,
   "metadata": {},
   "outputs": [],
   "source": [
    "x = 7\n",
    "x, type(x), id(x)"
   ]
  },
  {
   "cell_type": "code",
   "execution_count": null,
   "metadata": {},
   "outputs": [],
   "source": [
    "x = x / 2\n",
    "x, type(x), id(x)"
   ]
  },
  {
   "cell_type": "markdown",
   "metadata": {},
   "source": [
    "### A co z przekazywaniem do funkcji?\n",
    "\n",
    "Warto przeczytać https://docs.python.org/3/tutorial/controlflow.html#defining-functions\n",
    "\n",
    "Wywołanie funkcji wprowadza nową tablicę symboli dla zmiennych lokalnych funkcji. Odwołania najpierw przeszukują tą właśnie tablicę lokalną, potem tablice lokalne otaczających funkcji, tablicę poziomu *global* i na końcu tablicę built-in names.\n",
    "\n",
    "**Podsumowując, przekazywanie argumentów jest przez wartość, gdzie tą wartością jest zawsze referencja do obiektu, a nie wartość tego obiektu.**"
   ]
  },
  {
   "cell_type": "code",
   "execution_count": null,
   "metadata": {},
   "outputs": [],
   "source": [
    "def lucky(n):\n",
    "    n = n + '7' # interesująca linia\n",
    "    print(\"Wartość w funkcji \" + n)\n",
    "    return n"
   ]
  },
  {
   "cell_type": "code",
   "execution_count": null,
   "metadata": {},
   "outputs": [],
   "source": [
    "n = '7'\n",
    "print(\"Przed \" + n)\n",
    "lucky(n)\n",
    "print(\"Po \" + n)\n",
    "type(n)"
   ]
  },
  {
   "cell_type": "markdown",
   "metadata": {},
   "source": [
    "Przypomnijmy. Zaznaczona w komentarzu interesująca linia, nie zmienia wartości obiektu `n`, a tworzy nowy obiekt o wartości `77` i następnie przypisuje mu etykietę `n`."
   ]
  },
  {
   "cell_type": "markdown",
   "metadata": {},
   "source": [
    "**W praktyce oznacza to, że w przypadku niezmiennych typów danych (ang. immutable; np. str) funkcje w\n",
    "Pythonie działają tak, jakby ich argumenty przekazywane były przez wartość.**"
   ]
  },
  {
   "cell_type": "code",
   "execution_count": null,
   "metadata": {},
   "outputs": [],
   "source": [
    "def lucky_list(l):\n",
    "    if len(l) > 0: # if l: jak chcemy jeszcze krótszy kod\n",
    "        l[0] = 7"
   ]
  },
  {
   "cell_type": "code",
   "execution_count": null,
   "metadata": {},
   "outputs": [],
   "source": [
    "l = [1,2,3]\n",
    "lucky_list(l)\n",
    "l, type(l)"
   ]
  },
  {
   "cell_type": "markdown",
   "metadata": {},
   "source": [
    "**Tymczasem, w przypadku typów zmiennych (ang. mutable; np list) na ogół jak przez referencję.**"
   ]
  },
  {
   "cell_type": "code",
   "execution_count": null,
   "metadata": {},
   "outputs": [],
   "source": [
    "def lucky_list(l):\n",
    "    if len(l) > 0:\n",
    "        l = l[:] # interesująca linia\n",
    "        l[0] = 7"
   ]
  },
  {
   "cell_type": "code",
   "execution_count": null,
   "metadata": {},
   "outputs": [],
   "source": [
    "l = [1,2,3]\n",
    "lucky_list(l)\n",
    "l"
   ]
  },
  {
   "cell_type": "markdown",
   "metadata": {},
   "source": [
    "Poprzez interesującą linię stworzyliśmy nowy, lokalny obiekt w pamięci. I po wywołaniu metody lista `l` pozostaje bez zmian."
   ]
  },
  {
   "cell_type": "markdown",
   "metadata": {},
   "source": [
    "### Zmienne globalne"
   ]
  },
  {
   "cell_type": "markdown",
   "metadata": {},
   "source": [
    "Zmienne zdefiniowane poza ciałem funkcji są globalne. W funkcji można je modyfikować dzięki `global`. "
   ]
  },
  {
   "cell_type": "code",
   "execution_count": null,
   "metadata": {},
   "outputs": [],
   "source": [
    "n = '7'\n",
    "def lucky():\n",
    "    global n\n",
    "    n = n + '7'\n",
    "lucky()\n",
    "n   "
   ]
  },
  {
   "cell_type": "markdown",
   "metadata": {},
   "source": [
    "Tym razem funkcja `lucky` zmodyfikowała zmienną globalną `n`. Zauważ, że ten sam identyfikator nie może być jednocześnie użyty jako nazwa parametru i zmiennej na liście zmiennych globalnych (global)."
   ]
  },
  {
   "cell_type": "code",
   "execution_count": null,
   "metadata": {},
   "outputs": [],
   "source": [
    "n = '7'\n",
    "def lucky(n):\n",
    "    global n\n",
    "    n = n + '7'\n",
    "lucky()\n",
    "n   "
   ]
  },
  {
   "cell_type": "markdown",
   "metadata": {},
   "source": [
    "### Instrukcja nonlocal"
   ]
  },
  {
   "cell_type": "markdown",
   "metadata": {},
   "source": [
    "Pozwala na powiązanie zmiennych z zakresu \"wyżej\", z wyłączeniem zakresu globalnego."
   ]
  },
  {
   "cell_type": "code",
   "execution_count": null,
   "metadata": {},
   "outputs": [],
   "source": [
    "n = 1\n",
    "def lucky():\n",
    "    n = 2\n",
    "    def luke():\n",
    "        nonlocal n\n",
    "        n = 3\n",
    "    luke()    # zmieni wartość n w tym zakresie na 3\n",
    "    print(n)\n",
    "lucky()\n",
    "n "
   ]
  },
  {
   "cell_type": "markdown",
   "metadata": {},
   "source": [
    "## Jeszcze o listach - copy i deepcopy"
   ]
  },
  {
   "cell_type": "code",
   "execution_count": null,
   "metadata": {},
   "outputs": [],
   "source": [
    "# Omawiając semantykę typów danych warto pokazać:\n",
    "# https://pythontutor.com/"
   ]
  },
  {
   "cell_type": "code",
   "execution_count": null,
   "metadata": {},
   "outputs": [],
   "source": [
    "# Zadanie: proszę utworzyć listę zawierającą liczby parzyste z zakresu 1 do 10 włącznie."
   ]
  },
  {
   "cell_type": "code",
   "execution_count": null,
   "metadata": {},
   "outputs": [],
   "source": [
    "# List comprehension - elegancki sposób tworzenia list. \n",
    "# Składnia podstawowa: lista = [wyrażenie for element in stuktura_danych if warunek] # if warunek jest tu opcjonalne\n",
    "# Przykład:\n",
    "list_x = [x for x in range(1, 6)]"
   ]
  },
  {
   "cell_type": "code",
   "execution_count": null,
   "metadata": {
    "scrolled": true
   },
   "outputs": [],
   "source": [
    "list_x"
   ]
  },
  {
   "cell_type": "code",
   "execution_count": null,
   "metadata": {},
   "outputs": [],
   "source": [
    "# Oczywiście mogą istnieć bardziej złożone "
   ]
  },
  {
   "cell_type": "code",
   "execution_count": null,
   "metadata": {},
   "outputs": [],
   "source": [
    "# Proszę wybrać liczby parzyste od 1 do 10"
   ]
  },
  {
   "cell_type": "code",
   "execution_count": null,
   "metadata": {
    "scrolled": true
   },
   "outputs": [],
   "source": [
    "list_x2"
   ]
  },
  {
   "cell_type": "code",
   "execution_count": null,
   "metadata": {
    "scrolled": true
   },
   "outputs": [],
   "source": [
    "s[:]"
   ]
  },
  {
   "cell_type": "code",
   "execution_count": null,
   "metadata": {},
   "outputs": [],
   "source": [
    "# a teraz podobnie z warunkiem if"
   ]
  },
  {
   "cell_type": "code",
   "execution_count": null,
   "metadata": {},
   "outputs": [],
   "source": [
    "# Oczywiście mogą istnieć bardziej złożone "
   ]
  },
  {
   "cell_type": "code",
   "execution_count": null,
   "metadata": {},
   "outputs": [],
   "source": [
    "even_numbers"
   ]
  },
  {
   "cell_type": "markdown",
   "metadata": {},
   "source": [
    "copy i deepcopy są funkcjami z modułu copy, które służą do tworzenia kopii obiektów. Różnią się głównie tym, jak obsługują zagnieżdżone struktury danych."
   ]
  },
  {
   "cell_type": "markdown",
   "metadata": {},
   "source": [
    "* copy"
   ]
  },
  {
   "cell_type": "markdown",
   "metadata": {},
   "source": [
    "- copy tworzy płytką kopię obiektu. Oznacza to, że kopiowane są same obiekty, ale nie ich wnętrze.\n",
    "- w przypadku list, tuple, czy słowników, tworzona jest nowa struktura danych, ale jeśli te struktury zawierają obiekty (np. listy wewnątrz list), to te obiekty nie są kopiowane, a jedynie referencje do nich są kopiowane.\n",
    "- Jeśli zmienisz zagnieżdżony obiekt w kopii, to zmiany będą widoczne w oryginalnym obiekcie, ponieważ obiekt ten jest współdzielony między kopią a oryginałem."
   ]
  },
  {
   "cell_type": "code",
   "execution_count": null,
   "metadata": {},
   "outputs": [],
   "source": [
    "import copy\n",
    "\n",
    "original_list = [1, 2, [3, 4]]\n",
    "shallow_copy = copy.copy(original_list)\n",
    "\n",
    "shallow_copy[2][0] = 99\n",
    "print(original_list)  # Output: [1, 2, [99, 4]]"
   ]
  },
  {
   "cell_type": "markdown",
   "metadata": {},
   "source": [
    "* deepcopy"
   ]
  },
  {
   "cell_type": "markdown",
   "metadata": {},
   "source": [
    "- deepcopy tworzy głęboką kopię obiektu. Oznacza to, że kopiowane są zarówno obiekty, jak i ich zagnieżdżone obiekty.\n",
    "- Wszystkie obiekty w strukturze danych są rekurencyjnie kopiowane, co oznacza, że zmiany wprowadzone w jednej kopii nie wpływają na oryginalną strukturę danych ani na inne kopie."
   ]
  },
  {
   "cell_type": "code",
   "execution_count": null,
   "metadata": {},
   "outputs": [],
   "source": [
    "import copy\n",
    "\n",
    "original_list = [1, 2, [3, 4]]\n",
    "deep_copy = copy.deepcopy(original_list)\n",
    "\n",
    "deep_copy[2][0] = 99\n",
    "print(original_list)  # Output: [1, 2, [3, 4]]"
   ]
  },
  {
   "cell_type": "markdown",
   "metadata": {},
   "source": [
    "Podsumowując, użyj copy, jeśli chcesz tylko kopii struktury danych, ale nie zależy ci na niezmienności wewnętrznych obiektów. Natomiast jeśli potrzebujesz zupełnie niezależnych kopii, które nie zmieniają oryginalnych danych, użyj deepcopy."
   ]
  },
  {
   "cell_type": "markdown",
   "metadata": {},
   "source": [
    "## Struktury danych - ciąg dalszy"
   ]
  },
  {
   "cell_type": "markdown",
   "metadata": {},
   "source": [
    "Struktury danych są kluczowym elementem każdego języka programowania. Na poprzednich zajęciach poznaliśmy listy. Dla przypomnienia - listy są modyfikowalne, mają zachowaną kolejność elementów, podlegają indeksowaniu oraz \"slicingowi\" elementów i pozwalają na przechowywanie duplikatów. To jednak nie jedyne z dostępnych w Pythonie struktur danych. Na dzisiejszych zajęciach poznamy kolejne struktury, które wyróżniają się swoją wszechstronnością i użytecznością: słowniki i zbiory."
   ]
  },
  {
   "cell_type": "markdown",
   "metadata": {},
   "source": [
    "Ale najpierw przypomnijmy sobie krotki."
   ]
  },
  {
   "cell_type": "code",
   "execution_count": null,
   "metadata": {},
   "outputs": [],
   "source": [
    "# Krotki (tuples)\n",
    "# Nie są modyfikowalne! "
   ]
  },
  {
   "cell_type": "code",
   "execution_count": null,
   "metadata": {},
   "outputs": [],
   "source": [
    "first_tuple = (0, 1, 222, 3)"
   ]
  },
  {
   "cell_type": "code",
   "execution_count": null,
   "metadata": {},
   "outputs": [],
   "source": [
    "print(first_tuple[2])"
   ]
  },
  {
   "cell_type": "code",
   "execution_count": null,
   "metadata": {},
   "outputs": [],
   "source": [
    "# Dostęp do elementów\n",
    "print(first_tuple[0:2])"
   ]
  },
  {
   "cell_type": "code",
   "execution_count": null,
   "metadata": {
    "scrolled": true
   },
   "outputs": [],
   "source": [
    "# Błąd ! Krotki nie są modyfikowalne\n",
    "first_tuple[2] = 220"
   ]
  },
  {
   "cell_type": "code",
   "execution_count": null,
   "metadata": {},
   "outputs": [],
   "source": [
    "# Ale zobaczmy\n",
    "tup = (1,2,[3,4])"
   ]
  },
  {
   "cell_type": "code",
   "execution_count": null,
   "metadata": {},
   "outputs": [],
   "source": [
    "tup[2][0]=42"
   ]
  },
  {
   "cell_type": "code",
   "execution_count": null,
   "metadata": {},
   "outputs": [],
   "source": [
    "tup"
   ]
  },
  {
   "cell_type": "code",
   "execution_count": null,
   "metadata": {},
   "outputs": [],
   "source": [
    "# Jeśli element kroki jest modyfikowalny - możemy go modyfikować. W naszym przykładzie sama\n",
    "# krotka się nie zmieniła, dalej zawiera te same trzy elementy, tylko ostatni z nich zmienił swój stan."
   ]
  },
  {
   "cell_type": "code",
   "execution_count": null,
   "metadata": {},
   "outputs": [],
   "source": [
    "tup2 = (1,2,(3,4))"
   ]
  },
  {
   "cell_type": "code",
   "execution_count": null,
   "metadata": {},
   "outputs": [],
   "source": [
    "tup2[2]"
   ]
  },
  {
   "cell_type": "code",
   "execution_count": null,
   "metadata": {
    "scrolled": false
   },
   "outputs": [],
   "source": [
    "tup2[2][0]=42"
   ]
  },
  {
   "cell_type": "code",
   "execution_count": null,
   "metadata": {},
   "outputs": [],
   "source": [
    "# Tak nie zmodyfikujemy"
   ]
  },
  {
   "cell_type": "markdown",
   "metadata": {},
   "source": [
    "**Zaleta krotek: niezmienność**"
   ]
  },
  {
   "cell_type": "code",
   "execution_count": null,
   "metadata": {
    "scrolled": true
   },
   "outputs": [],
   "source": [
    "# Długosc krotki - analogia do list\n",
    "print(len(tup2))"
   ]
  },
  {
   "cell_type": "code",
   "execution_count": null,
   "metadata": {},
   "outputs": [],
   "source": [
    "# Krotki nie są modyfikowalne, ale... "
   ]
  },
  {
   "cell_type": "code",
   "execution_count": null,
   "metadata": {},
   "outputs": [],
   "source": [
    "# Konwersja między listą a krotką\n",
    "simple_list = [2, 3, 10]\n",
    "sec_tuple = tuple(simple_list)"
   ]
  },
  {
   "cell_type": "code",
   "execution_count": null,
   "metadata": {},
   "outputs": [],
   "source": [
    "sec_tuple"
   ]
  },
  {
   "cell_type": "code",
   "execution_count": null,
   "metadata": {},
   "outputs": [],
   "source": [
    "# Konwersja między krotką a listą\n",
    "list_from_tuple = list(sec_tuple)\n",
    "list_from_tuple[2] = 123 # Możemy teraz zamienić wartość pod indeksem 2"
   ]
  },
  {
   "cell_type": "code",
   "execution_count": null,
   "metadata": {},
   "outputs": [],
   "source": [
    "# Wygenerowanie krotki o innej wartości wybranego elementu: konwersja na listę, zmiana elementu, konwersja na krotkę.\n",
    "mod_tuple = tuple(list_from_tuple)\n",
    "mod_tuple"
   ]
  },
  {
   "cell_type": "code",
   "execution_count": null,
   "metadata": {},
   "outputs": [],
   "source": [
    "# Łączenie krotek\n",
    "third_tuple = first_tuple + sec_tuple\n",
    "third_tuple"
   ]
  },
  {
   "cell_type": "code",
   "execution_count": null,
   "metadata": {},
   "outputs": [],
   "source": [
    "# Zliczanie wystąpień elementu\n",
    "print(third_tuple.count(3))"
   ]
  },
  {
   "cell_type": "code",
   "execution_count": null,
   "metadata": {
    "scrolled": true
   },
   "outputs": [],
   "source": [
    "# Indeks szukanej wartosci\n",
    "print(third_tuple.index(3))"
   ]
  },
  {
   "cell_type": "code",
   "execution_count": null,
   "metadata": {},
   "outputs": [],
   "source": [
    "# Przypisania"
   ]
  },
  {
   "cell_type": "code",
   "execution_count": null,
   "metadata": {},
   "outputs": [],
   "source": [
    "krotka = ((1,2), (3,4))"
   ]
  },
  {
   "cell_type": "code",
   "execution_count": null,
   "metadata": {},
   "outputs": [],
   "source": [
    "kro, (t,k) = krotka"
   ]
  },
  {
   "cell_type": "code",
   "execution_count": null,
   "metadata": {},
   "outputs": [],
   "source": [
    "kro, t, k"
   ]
  },
  {
   "cell_type": "code",
   "execution_count": null,
   "metadata": {},
   "outputs": [],
   "source": [
    "# Podobnie w przypadku list"
   ]
  },
  {
   "cell_type": "code",
   "execution_count": null,
   "metadata": {},
   "outputs": [],
   "source": [
    "# Działa zarówno to:\n",
    "l1 = [[1,2],[3,4]]"
   ]
  },
  {
   "cell_type": "code",
   "execution_count": null,
   "metadata": {},
   "outputs": [],
   "source": [
    "kro, (t,k) = l1 "
   ]
  },
  {
   "cell_type": "code",
   "execution_count": null,
   "metadata": {},
   "outputs": [],
   "source": [
    "kro, t, k"
   ]
  },
  {
   "cell_type": "code",
   "execution_count": null,
   "metadata": {},
   "outputs": [],
   "source": [
    "# Jak również to:"
   ]
  },
  {
   "cell_type": "code",
   "execution_count": null,
   "metadata": {},
   "outputs": [],
   "source": [
    "kro, [t,k] = l1 "
   ]
  },
  {
   "cell_type": "code",
   "execution_count": null,
   "metadata": {},
   "outputs": [],
   "source": [
    "kro, t, k "
   ]
  },
  {
   "cell_type": "markdown",
   "metadata": {},
   "source": [
    "Zbiory natomiast są idealne, gdy potrzebujemy przechować unikalne elementy bez duplikatów. Zbiory eliminują powtarzające się wartości i pozwalają na szybkie operacje matematyczne, takie jak przecięcia, różnice i sumy zbiorów."
   ]
  },
  {
   "cell_type": "code",
   "execution_count": null,
   "metadata": {},
   "outputs": [],
   "source": [
    "# Kolejnosc moze nie byc zachowana (unordered), nie są indeksowane (unindexed), \n",
    "# nie możemy mieć duplikatów (no duplicate memebers), możemy usuwać i dodawać elementy."
   ]
  },
  {
   "cell_type": "code",
   "execution_count": null,
   "metadata": {},
   "outputs": [],
   "source": [
    "# Tworzenie zbioru (set)"
   ]
  },
  {
   "cell_type": "code",
   "execution_count": null,
   "metadata": {},
   "outputs": [],
   "source": [
    "# Podejście 1\n",
    "first_set = set([1, 2, 3])"
   ]
  },
  {
   "cell_type": "code",
   "execution_count": null,
   "metadata": {},
   "outputs": [],
   "source": [
    "# Podejście 2\n",
    "first_set = {1, 2, 3, 23, 54, 2131}"
   ]
  },
  {
   "cell_type": "code",
   "execution_count": null,
   "metadata": {},
   "outputs": [],
   "source": [
    "# Spróbujmy utworzyć zbiór, którego elementem jest lista"
   ]
  },
  {
   "cell_type": "code",
   "execution_count": null,
   "metadata": {},
   "outputs": [],
   "source": [
    "third_set = {'a', 'b', 'abab', 12, 7.34, 98, [1, 2]}"
   ]
  },
  {
   "cell_type": "markdown",
   "metadata": {},
   "source": [
    "Nie możemy przechowywac elementow typu lista itd. Tylko elementy \"hashowalne\" int, float.\n",
    "Nie możemy przechowywac list: unhashable type: 'list'\n",
    "\n",
    "Więcej o hashowaniu będzie na Algorytmach i Strukturach Danych, ale teraz krótki wstęp:\n",
    "Haszowanie to technika, która umożliwia efektywne tworzenie zbiorów i słowników. Używa funkcji hashującej (po polsku powinno być \"mieszającej\", ale trudno...) która oblicza się w miarę szybko, deterministycznie (czyli bez żadnej losowości czy patrzenia na zegarek) i przypisuje danym (np. napisom) liczby (np. 64 bitowe) w taki sposób aby możliwie rzadko się zdarzało, żeby dwa różne zestawy danych (np. dwa napisy) miały ten sam hash. I potem wstawiamy napisy do tablicy o rozmiarze np. 100 do komórki hash(napisu) % 100. Oczywiście może się zdarzyć, że dwa napisy będą miały ten sam hash%100, więc te tzw kolizje trzeba jakoś rozwiązywać (są na to sposoby), ale jeśli w strukturze jest niezbyt dużo napisów, to prawdopodobieństwo takiej kolizji jest małe, więc zdarza się rzadko i dlatego sprawdzanie czy dany napis jest w tej tablicy działa szybko, praktycznie w czasie stałym. "
   ]
  },
  {
   "cell_type": "markdown",
   "metadata": {},
   "source": [
    "W Pythonie, elementy hashowalne (hashable objects) to obiekty, dla których zdefiniowano równość i operację hash. Wartość operacji hash nie może się zmieniać podczas życia obiektu, zaś obiekty równe muszą mieć tę\n",
    "samą wartość operacji hash. Większość niemodyfikowalnych standardowych typów w Pythonie spełnia te warunki."
   ]
  },
  {
   "cell_type": "markdown",
   "metadata": {},
   "source": [
    "### Zadanie\n",
    "Porównaj hash(\"ala\"), hash(\"al\"+\"a\"), hash(\"alb\"), hash(\"alc\"). Skorzystaj z funkcji hash()"
   ]
  },
  {
   "cell_type": "code",
   "execution_count": null,
   "metadata": {},
   "outputs": [],
   "source": []
  },
  {
   "cell_type": "code",
   "execution_count": null,
   "metadata": {},
   "outputs": [],
   "source": []
  },
  {
   "cell_type": "code",
   "execution_count": null,
   "metadata": {},
   "outputs": [],
   "source": []
  },
  {
   "cell_type": "code",
   "execution_count": null,
   "metadata": {},
   "outputs": [],
   "source": []
  },
  {
   "cell_type": "code",
   "execution_count": null,
   "metadata": {},
   "outputs": [],
   "source": []
  },
  {
   "cell_type": "code",
   "execution_count": null,
   "metadata": {},
   "outputs": [],
   "source": [
    "# Wyniki są znacząco różne dla nieznacznie różnych danych!"
   ]
  },
  {
   "cell_type": "code",
   "execution_count": null,
   "metadata": {},
   "outputs": [],
   "source": []
  },
  {
   "cell_type": "code",
   "execution_count": null,
   "metadata": {},
   "outputs": [],
   "source": []
  },
  {
   "cell_type": "code",
   "execution_count": null,
   "metadata": {},
   "outputs": [],
   "source": [
    "x = 5  # liczba całkowita (niemutowalna)\n",
    "hash(x)"
   ]
  },
  {
   "cell_type": "code",
   "execution_count": null,
   "metadata": {},
   "outputs": [],
   "source": [
    "# Obiekt mutowalny (lista) - nie jest hashowalny\n",
    "hash([1, 2, 3]) # Spowoduje błąd TypeError: unhashable type: 'list'"
   ]
  },
  {
   "cell_type": "markdown",
   "metadata": {},
   "source": [
    "Python za hashowalne uznaje te obiekty, które mają zdefiniowane równość i hash."
   ]
  },
  {
   "cell_type": "code",
   "execution_count": null,
   "metadata": {},
   "outputs": [],
   "source": [
    "# Utwórzmy zbiór\n",
    "third_set = {'a', 'b', 'abab', 12, 7.34, 98} # , [1, 2]}"
   ]
  },
  {
   "cell_type": "code",
   "execution_count": null,
   "metadata": {},
   "outputs": [],
   "source": [
    "# Brak indeksacji\n",
    "third_set[0:2]"
   ]
  },
  {
   "cell_type": "code",
   "execution_count": null,
   "metadata": {},
   "outputs": [],
   "source": [
    "# Brak duplikatów\n",
    "simple_list = [1, 1, 1, 99, 87, 99, 43, 23, 100, 4, 3, 3, 3]"
   ]
  },
  {
   "cell_type": "code",
   "execution_count": null,
   "metadata": {},
   "outputs": [],
   "source": [
    "# Szukamy unikalnych\n",
    "# Podejście 1\n"
   ]
  },
  {
   "cell_type": "code",
   "execution_count": null,
   "metadata": {},
   "outputs": [],
   "source": [
    "l"
   ]
  },
  {
   "cell_type": "code",
   "execution_count": null,
   "metadata": {},
   "outputs": [],
   "source": [
    "# Podjeście 2\n"
   ]
  },
  {
   "cell_type": "code",
   "execution_count": null,
   "metadata": {},
   "outputs": [],
   "source": [
    "l"
   ]
  },
  {
   "cell_type": "code",
   "execution_count": null,
   "metadata": {},
   "outputs": [],
   "source": [
    "# Dodawanie elementu do zbioru:\n",
    "add_set = {2, 4, 1, 77}"
   ]
  },
  {
   "cell_type": "code",
   "execution_count": null,
   "metadata": {},
   "outputs": [],
   "source": [
    "add_set.add(123)"
   ]
  },
  {
   "cell_type": "code",
   "execution_count": null,
   "metadata": {},
   "outputs": [],
   "source": [
    "add_set"
   ]
  },
  {
   "cell_type": "code",
   "execution_count": null,
   "metadata": {},
   "outputs": [],
   "source": [
    "# Dodawanie elementów do zbioru:\n",
    "add_set.update([1, 2, 3, 4])"
   ]
  },
  {
   "cell_type": "code",
   "execution_count": null,
   "metadata": {},
   "outputs": [],
   "source": [
    "add_set"
   ]
  },
  {
   "cell_type": "code",
   "execution_count": null,
   "metadata": {},
   "outputs": [],
   "source": [
    "# Usuwanie elementów zbioru - posługujemy się nie indeksami, tylko wskazujemy konkretnie jaką wartosc \n",
    "# chcemy usunąć"
   ]
  },
  {
   "cell_type": "code",
   "execution_count": null,
   "metadata": {},
   "outputs": [],
   "source": [
    "add_set.remove(123) # Metoda \"in place\""
   ]
  },
  {
   "cell_type": "code",
   "execution_count": null,
   "metadata": {},
   "outputs": [],
   "source": [
    "add_set"
   ]
  },
  {
   "cell_type": "code",
   "execution_count": null,
   "metadata": {},
   "outputs": [],
   "source": [
    "add_set.remove(1234)"
   ]
  },
  {
   "cell_type": "markdown",
   "metadata": {},
   "source": [
    "Uwaga: alternatywna metoda"
   ]
  },
  {
   "cell_type": "code",
   "execution_count": null,
   "metadata": {},
   "outputs": [],
   "source": [
    "# Metoda do usuwania - jezeli brak elementu, to nie zwraca błędu\n",
    "add_set.discard(2)"
   ]
  },
  {
   "cell_type": "code",
   "execution_count": null,
   "metadata": {},
   "outputs": [],
   "source": [
    "add_set"
   ]
  },
  {
   "cell_type": "code",
   "execution_count": null,
   "metadata": {},
   "outputs": [],
   "source": [
    "add_set.discard(2)"
   ]
  },
  {
   "cell_type": "code",
   "execution_count": null,
   "metadata": {},
   "outputs": [],
   "source": [
    "add_set"
   ]
  },
  {
   "cell_type": "code",
   "execution_count": null,
   "metadata": {},
   "outputs": [],
   "source": [
    "# Usuwanie któregoś elementu\n",
    "rnd_elemet = add_set.pop()\n",
    "print(rnd_elemet)"
   ]
  },
  {
   "cell_type": "code",
   "execution_count": null,
   "metadata": {},
   "outputs": [],
   "source": [
    "add_set"
   ]
  },
  {
   "cell_type": "code",
   "execution_count": null,
   "metadata": {},
   "outputs": [],
   "source": [
    "# Czyszczenie zbioru\n",
    "add_set.clear()"
   ]
  },
  {
   "cell_type": "code",
   "execution_count": null,
   "metadata": {},
   "outputs": [],
   "source": [
    "add_set"
   ]
  },
  {
   "cell_type": "code",
   "execution_count": null,
   "metadata": {},
   "outputs": [],
   "source": [
    "# Suma zbiorów (unia)\n",
    "first_set = {1, 2, 3, 4}\n",
    "second_set = {3, 4, 5, 6, 7}"
   ]
  },
  {
   "cell_type": "code",
   "execution_count": null,
   "metadata": {},
   "outputs": [],
   "source": [
    "union = first_set | second_set\n",
    "#union = first_set.union(second_set)"
   ]
  },
  {
   "cell_type": "code",
   "execution_count": null,
   "metadata": {},
   "outputs": [],
   "source": [
    "union"
   ]
  },
  {
   "cell_type": "code",
   "execution_count": null,
   "metadata": {},
   "outputs": [],
   "source": [
    "# Intersection (częsc wspolna)\n",
    "first_set = {1, 2, 3, 4}\n",
    "second_set = {3, 4, 5, 6, 7}\n",
    "third_set = {4, 5, 9, 1}"
   ]
  },
  {
   "cell_type": "code",
   "execution_count": null,
   "metadata": {},
   "outputs": [],
   "source": [
    "# Dwa zbiory\n",
    "inter = first_set.intersection(second_set)\n",
    "# Inny zapis:\n",
    "# inter = first_set & second_set "
   ]
  },
  {
   "cell_type": "code",
   "execution_count": null,
   "metadata": {},
   "outputs": [],
   "source": [
    "inter"
   ]
  },
  {
   "cell_type": "code",
   "execution_count": null,
   "metadata": {},
   "outputs": [],
   "source": [
    "# Więcej niz dwa\n",
    "inter = first_set & second_set & third_set"
   ]
  },
  {
   "cell_type": "code",
   "execution_count": null,
   "metadata": {},
   "outputs": [],
   "source": [
    "inter"
   ]
  },
  {
   "cell_type": "code",
   "execution_count": null,
   "metadata": {},
   "outputs": [],
   "source": [
    "# Różnica zbiorow (difference)\n",
    "diff = first_set - second_set\n",
    "# diff = first_set.difference(second_set)"
   ]
  },
  {
   "cell_type": "code",
   "execution_count": null,
   "metadata": {},
   "outputs": [],
   "source": [
    "diff"
   ]
  },
  {
   "cell_type": "code",
   "execution_count": null,
   "metadata": {},
   "outputs": [],
   "source": [
    "# Różnica symetryczna (symmetric_difference) - wszystko poza częscia wspólną\n",
    "sym_diff = first_set ^ second_set\n",
    "# sym_diff = first_set.symmetric_difference(second_set)"
   ]
  },
  {
   "cell_type": "code",
   "execution_count": null,
   "metadata": {
    "scrolled": true
   },
   "outputs": [],
   "source": [
    "sym_diff"
   ]
  },
  {
   "cell_type": "markdown",
   "metadata": {},
   "source": [
    "Jeśli chcesz mieć zbiór zbiorów, to - ponieważ elementy zbiorów mają być niezmienialne - musisz użyć specjalnego niezmienialnego typu frozenset, np:"
   ]
  },
  {
   "cell_type": "code",
   "execution_count": null,
   "metadata": {},
   "outputs": [],
   "source": [
    "zbzb = { {1,2,3}, {1,2,4} }  # błąd"
   ]
  },
  {
   "cell_type": "code",
   "execution_count": null,
   "metadata": {},
   "outputs": [],
   "source": [
    "zbzb = { frozenset((1,2,3)), frozenset((1,2,4)) } # OK\n",
    "zbzb"
   ]
  },
  {
   "cell_type": "code",
   "execution_count": null,
   "metadata": {},
   "outputs": [],
   "source": [
    "# Poza tym, że nie można ich zmieniać:\n",
    "x = frozenset({1,2,3})\n",
    "x.add(5) # błąd"
   ]
  },
  {
   "cell_type": "code",
   "execution_count": null,
   "metadata": {},
   "outputs": [],
   "source": [
    "# Zachowują się tak jak zbiory:\n",
    "zbzb.pop() & zbzb.pop()"
   ]
  },
  {
   "cell_type": "code",
   "execution_count": null,
   "metadata": {},
   "outputs": [],
   "source": [
    "zbzb"
   ]
  },
  {
   "cell_type": "code",
   "execution_count": null,
   "metadata": {},
   "outputs": [],
   "source": [
    "# Ciekawostka. Skoro frozenset-y są niezmienialne, to to powinno nie działać, a działa:\n",
    "x = frozenset({1,2,3})\n",
    "x |= {1,4}\n",
    "x"
   ]
  },
  {
   "cell_type": "code",
   "execution_count": null,
   "metadata": {},
   "outputs": [],
   "source": [
    "# Co się stało??? Czy frozenset jednak się zmienił? "
   ]
  },
  {
   "cell_type": "code",
   "execution_count": null,
   "metadata": {},
   "outputs": [],
   "source": [
    "x = y = frozenset({1,2,3})"
   ]
  },
  {
   "cell_type": "code",
   "execution_count": null,
   "metadata": {},
   "outputs": [],
   "source": [
    "x, y, x is y"
   ]
  },
  {
   "cell_type": "code",
   "execution_count": null,
   "metadata": {},
   "outputs": [],
   "source": [
    "x |= {1,4}"
   ]
  },
  {
   "cell_type": "code",
   "execution_count": null,
   "metadata": {
    "scrolled": true
   },
   "outputs": [],
   "source": [
    "# NIE! To zmienna się zmieniła :)\n",
    "x, y, x is y"
   ]
  },
  {
   "cell_type": "code",
   "execution_count": null,
   "metadata": {},
   "outputs": [],
   "source": [
    "# Dla standardowych zbiorów"
   ]
  },
  {
   "cell_type": "code",
   "execution_count": null,
   "metadata": {},
   "outputs": [],
   "source": [
    "x = y = {1,2,3}\n",
    "x, y, x is y"
   ]
  },
  {
   "cell_type": "code",
   "execution_count": null,
   "metadata": {},
   "outputs": [],
   "source": [
    "x |= {1,4}\n",
    "# Tutaj widoczna jest różnica - x is y zwróciło True\n",
    "x, y, x is y"
   ]
  },
  {
   "cell_type": "markdown",
   "metadata": {},
   "source": [
    "Analogiczne sytuacje są też pomiędzy innymi podobnymi typami, np krotka i lista. \"Przypisanie zmieniające\" zmienia obiekt - w przypadku obiektów zmienialnych - albo wartość zmiennej - w przypadku obiektów niezmienialnych (tu również są stringi czy liczby)."
   ]
  },
  {
   "cell_type": "markdown",
   "metadata": {},
   "source": [
    "## SŁOWNIKI"
   ]
  },
  {
   "cell_type": "markdown",
   "metadata": {},
   "source": [
    "Słowniki to dynamiczne kolekcje, które pozwalają na przechowywanie danych w formie par klucz-wartość. Klucze są unikalne i pozwalają na efektywne indeksowanie i dostęp do wartości. Słowniki są używane do organizowania i zarządzania danymi w sposób elastyczny i czytelny."
   ]
  },
  {
   "cell_type": "code",
   "execution_count": null,
   "metadata": {},
   "outputs": [],
   "source": [
    "# Kolenjnosc zachowana (3.7 - wczesniej nie), można zmieniać (changeable), nie ma duplikatów (w kluczach)"
   ]
  },
  {
   "cell_type": "code",
   "execution_count": null,
   "metadata": {},
   "outputs": [],
   "source": [
    "# Pusty słownik\n",
    "empty_dict= {} "
   ]
  },
  {
   "cell_type": "code",
   "execution_count": null,
   "metadata": {},
   "outputs": [],
   "source": [
    "# To pusty słownik, a nie pusty zbiór!\n",
    "type(empty_dict) "
   ]
  },
  {
   "cell_type": "code",
   "execution_count": null,
   "metadata": {},
   "outputs": [],
   "source": [
    "# A jak w takim razie zdefiniować pusty zbiór?"
   ]
  },
  {
   "cell_type": "code",
   "execution_count": null,
   "metadata": {},
   "outputs": [],
   "source": [
    "# Pusty zbiór:\n",
    "empty_set = set()\n",
    "type(empty_set)"
   ]
  },
  {
   "cell_type": "code",
   "execution_count": null,
   "metadata": {},
   "outputs": [],
   "source": [
    "# Dla przyponienia - pusta krotka\n",
    "s = ()\n",
    "type(s)"
   ]
  },
  {
   "cell_type": "code",
   "execution_count": null,
   "metadata": {},
   "outputs": [],
   "source": [
    "# Uwaga! Klucze w słowniku muszą być hashowalne - tak jak elementy zbiorów."
   ]
  },
  {
   "cell_type": "code",
   "execution_count": null,
   "metadata": {},
   "outputs": [],
   "source": [
    "# Tworzenie słownika - pary klucz: wartość\n",
    "first_dict = {\n",
    "    \"marka\": \"Samsung\",\n",
    "    \"aparat\": 21,\n",
    "    \"rok\": 2021\n",
    "    }"
   ]
  },
  {
   "cell_type": "code",
   "execution_count": null,
   "metadata": {},
   "outputs": [],
   "source": [
    "first_dict"
   ]
  },
  {
   "cell_type": "code",
   "execution_count": null,
   "metadata": {},
   "outputs": [],
   "source": [
    "# Można tez tak\n",
    "first_dict = dict(marka=\"Samsung\", aparat=21, rok=2021)"
   ]
  },
  {
   "cell_type": "code",
   "execution_count": null,
   "metadata": {},
   "outputs": [],
   "source": [
    "first_dict"
   ]
  },
  {
   "cell_type": "code",
   "execution_count": null,
   "metadata": {},
   "outputs": [],
   "source": [
    "# Wypisanie wartosci znajdujacej sie pod okreslonym kluczem\n",
    "print(first_dict['marka'])"
   ]
  },
  {
   "cell_type": "code",
   "execution_count": null,
   "metadata": {},
   "outputs": [],
   "source": [
    "# Przeglądanie wartosci:\n",
    "for value in first_dict.values():\n",
    "     print(value)   "
   ]
  },
  {
   "cell_type": "code",
   "execution_count": null,
   "metadata": {},
   "outputs": [],
   "source": [
    "# Przeglądanie kluczy:\n",
    "for key in first_dict.keys():\n",
    "     print(key) "
   ]
  },
  {
   "cell_type": "code",
   "execution_count": null,
   "metadata": {},
   "outputs": [],
   "source": [
    "# Przegladanie zawartosci slownika: wartosci i klucze:"
   ]
  },
  {
   "cell_type": "code",
   "execution_count": null,
   "metadata": {},
   "outputs": [],
   "source": [
    "# Podejście 1\n",
    "for key in first_dict.keys():\n",
    "    print(key, first_dict[key])"
   ]
  },
  {
   "cell_type": "code",
   "execution_count": null,
   "metadata": {},
   "outputs": [],
   "source": [
    "# Podejście 2\n",
    "for key, value in zip(first_dict.keys(), first_dict.values()):\n",
    "    print(key, value)"
   ]
  },
  {
   "cell_type": "code",
   "execution_count": null,
   "metadata": {},
   "outputs": [],
   "source": [
    "# Podejście 3\n",
    "for key, value in first_dict.items():\n",
    "    print(key, value)"
   ]
  },
  {
   "cell_type": "code",
   "execution_count": null,
   "metadata": {},
   "outputs": [],
   "source": [
    "# Metoda get"
   ]
  },
  {
   "cell_type": "code",
   "execution_count": null,
   "metadata": {},
   "outputs": [],
   "source": [
    "print(first_dict.get('marka'))"
   ]
  },
  {
   "cell_type": "code",
   "execution_count": null,
   "metadata": {},
   "outputs": [],
   "source": [
    "# Dodawanie elementów do słownika\n",
    "first_dict['kolor'] = \"Czarny\""
   ]
  },
  {
   "cell_type": "code",
   "execution_count": null,
   "metadata": {},
   "outputs": [],
   "source": [
    "first_dict"
   ]
  },
  {
   "cell_type": "code",
   "execution_count": null,
   "metadata": {},
   "outputs": [],
   "source": [
    "# Bezpiecznie dodawanie (jeżeli klucz jeszcze nie istnieje w słowniku):"
   ]
  },
  {
   "cell_type": "code",
   "execution_count": null,
   "metadata": {},
   "outputs": [],
   "source": [
    "# Podejście 1\n",
    "if 'kolor' not in first_dict:\n",
    "    first_dict['kolor'] = \"Niebieski\"\n",
    "else:\n",
    "    print('kolor in dict')"
   ]
  },
  {
   "cell_type": "code",
   "execution_count": null,
   "metadata": {},
   "outputs": [],
   "source": [
    "# Podejście 2\n",
    "first_dict.setdefault('kolor', \"Niebieski\")"
   ]
  },
  {
   "cell_type": "code",
   "execution_count": null,
   "metadata": {},
   "outputs": [],
   "source": [
    "first_dict"
   ]
  },
  {
   "cell_type": "code",
   "execution_count": null,
   "metadata": {},
   "outputs": [],
   "source": [
    "# Usuwanie elementu dla konkretnego klucza\n",
    "first_dict.pop('kolor') # Zwraca wartosc dla klucza i wyrzuca parę klucz: wartosc\n",
    "print(first_dict)"
   ]
  },
  {
   "cell_type": "code",
   "execution_count": null,
   "metadata": {},
   "outputs": [],
   "source": [
    "# Usuwanie elementu dla konkretnego klucza\n",
    "del first_dict['aparat'] # Nic nie zwraca - tylko usuwanie (to nie metoda słownika)"
   ]
  },
  {
   "cell_type": "code",
   "execution_count": null,
   "metadata": {},
   "outputs": [],
   "source": [
    "first_dict"
   ]
  },
  {
   "cell_type": "code",
   "execution_count": null,
   "metadata": {},
   "outputs": [],
   "source": [
    "# Usuwanie ostatniego elementu z słownika\n",
    "first_dict.popitem() # Zwraca wyrzucany item (patrz wyżej .items())"
   ]
  },
  {
   "cell_type": "code",
   "execution_count": null,
   "metadata": {},
   "outputs": [],
   "source": [
    "first_dict"
   ]
  },
  {
   "cell_type": "code",
   "execution_count": null,
   "metadata": {},
   "outputs": [],
   "source": [
    "# Czyszczenie słownika\n",
    "first_dict.clear()\n",
    "print(first_dict)"
   ]
  },
  {
   "cell_type": "code",
   "execution_count": null,
   "metadata": {},
   "outputs": [],
   "source": [
    "# Łączenie słowników:\n",
    "first_dict = {\n",
    "    \"marka\": \"Samsung\",\n",
    "    \"aparat\": 21,\n",
    "    \"rok\": 2021,\n",
    "    \"kolor\": \"Czarny\"\n",
    "    }\n",
    "\n",
    "second_dict = {\n",
    "    \"marka\": \"Samsung\",\n",
    "    \"aparat\": 30,\n",
    "    \"rok\": 2022\n",
    "    }"
   ]
  },
  {
   "cell_type": "code",
   "execution_count": null,
   "metadata": {},
   "outputs": [],
   "source": [
    "# Podejście 1\n",
    "first_dict.update(second_dict)"
   ]
  },
  {
   "cell_type": "code",
   "execution_count": null,
   "metadata": {},
   "outputs": [],
   "source": [
    "first_dict"
   ]
  },
  {
   "cell_type": "code",
   "execution_count": null,
   "metadata": {},
   "outputs": [],
   "source": []
  },
  {
   "cell_type": "code",
   "execution_count": null,
   "metadata": {},
   "outputs": [],
   "source": [
    "newest_dict"
   ]
  },
  {
   "cell_type": "code",
   "execution_count": null,
   "metadata": {},
   "outputs": [],
   "source": [
    "# Różne typy jako wartosci\n",
    "second_dict = {\n",
    "    \"marka\": {'2021': 'Samsung',\n",
    "              '2022': 'Sam'\n",
    "        },\n",
    "    \"aparat\": [12, 20, 30],\n",
    "    \"rok\": [2021, 2022],\n",
    "    \"kolor\": ['Czarny', 'Czerwony']\n",
    "    }"
   ]
  },
  {
   "cell_type": "code",
   "execution_count": null,
   "metadata": {},
   "outputs": [],
   "source": [
    "second_dict"
   ]
  },
  {
   "cell_type": "code",
   "execution_count": null,
   "metadata": {},
   "outputs": [],
   "source": [
    "# Odczyt elementów\n",
    "second_dict['aparat'][2]"
   ]
  },
  {
   "cell_type": "code",
   "execution_count": null,
   "metadata": {},
   "outputs": [],
   "source": [
    "second_dict['marka']['2021']"
   ]
  },
  {
   "cell_type": "code",
   "execution_count": null,
   "metadata": {},
   "outputs": [],
   "source": [
    "# Dictionary comprehension\n",
    "odds = {i: i*2 for i in range(5)} # klucz: wartosc"
   ]
  },
  {
   "cell_type": "code",
   "execution_count": null,
   "metadata": {},
   "outputs": [],
   "source": [
    "odds"
   ]
  }
 ],
 "metadata": {
  "kernelspec": {
   "display_name": "Python 3",
   "language": "python",
   "name": "python3"
  },
  "language_info": {
   "codemirror_mode": {
    "name": "ipython",
    "version": 3
   },
   "file_extension": ".py",
   "mimetype": "text/x-python",
   "name": "python",
   "nbconvert_exporter": "python",
   "pygments_lexer": "ipython3",
   "version": "3.7.7"
  }
 },
 "nbformat": 4,
 "nbformat_minor": 5
}
